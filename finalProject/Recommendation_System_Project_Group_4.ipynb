{
  "nbformat": 4,
  "nbformat_minor": 0,
  "metadata": {
    "colab": {
      "provenance": [],
      "toc_visible": true,
      "include_colab_link": true
    },
    "kernelspec": {
      "name": "python3",
      "display_name": "Python 3"
    },
    "language_info": {
      "name": "python"
    }
  },
  "cells": [
    {
      "cell_type": "markdown",
      "metadata": {
        "id": "view-in-github",
        "colab_type": "text"
      },
      "source": [
        "<a href=\"https://colab.research.google.com/github/ariel-hedvat/AdvancedMLDLCourseAssignments/blob/Ariel-Modeling/finalProject/Recommendation_System_Project_Group_4.ipynb\" target=\"_parent\"><img src=\"https://colab.research.google.com/assets/colab-badge.svg\" alt=\"Open In Colab\"/></a>"
      ]
    },
    {
      "cell_type": "markdown",
      "metadata": {
        "id": "f0v2mOU5X6Ls"
      },
      "source": [
        "<div class=\"markdown-google-sans\">\n",
        "  <h1><font size=6> Music Recommendation System - Final Project</font></h1>\n",
        "\n",
        "  <u>Group members:</u><br>\n",
        "  - Ariel Hedvat<br>\n",
        "  - Shiraz Israeli<br>\n",
        "  - Yuval Bakirov<br>\n",
        "  - Eitan Bakirov\n",
        "\n",
        "<br>\n",
        "\n",
        "</div>"
      ]
    },
    {
      "cell_type": "markdown",
      "source": [
        "# Background/Introduction\n",
        "\n",
        "Finding the perfect song to listen to can feel like a challenging quest.<br> This is where recommendation systems come in, using data science to help us discover new music that aligns with our tastes and preferences.\n",
        "\n",
        "A recommendation system is a tool, that utilizes Big Data to understand user preferences and behaviors. <br> By analyzing factors like listening history and genre preferences, these systems suggest songs and artists that match an individual's tastes. And enhances the music discovery process, saving users time and effort while introducing them to new music they're likely to enjoy.\n"
      ],
      "metadata": {
        "id": "2PTur39mv9rt"
      }
    },
    {
      "cell_type": "markdown",
      "source": [
        "# Main Objective<br>\n",
        "\n",
        "The objective of our project is to build a recommendation system that can suggest the top 10 songs to a user, <br> based on the likelihood that the user will enjoy those songs, having the users' musical preferences, we will use and test a few models, <br> and finally after evaluating and comparing between the models, we aim to create a system that enriches their music listening experience.\n"
      ],
      "metadata": {
        "id": "kaFLNJh5gnu7"
      }
    },
    {
      "cell_type": "markdown",
      "metadata": {
        "id": "6KQAH9j-qoZw"
      },
      "source": [
        "# Data"
      ]
    },
    {
      "cell_type": "markdown",
      "source": [
        "The Taste Profile Subset, provided by the Echo Nest as a component of the Million Song Dataset, comprises two files. <br> The 1st file includes song details such as song ID, title, release information, artist name, and release year.  <br> The 2nd file contains user IDs, song IDs, and the corresponding play counts by users."
      ],
      "metadata": {
        "id": "RxJO_nnhmP3t"
      }
    },
    {
      "cell_type": "markdown",
      "metadata": {
        "id": "YeDU9j_8rAD1"
      },
      "source": [
        "`song_data.rar` - <br>\n",
        "\n",
        "**song_id** - A unique id given to every song\n",
        "\n",
        "**title** - Title of the song\n",
        "\n",
        "**Release** - Name of the released album\n",
        "\n",
        "**Artist_name** - Name of the artist\n",
        "\n",
        "**year** - Year of release\n",
        "\n",
        "<br>\n",
        "\n",
        "`triplets_file.rar` - <br>\n",
        "\n",
        "**user_id** - A unique id given to the user\n",
        "\n",
        "**song_id** - A unique id given to the song\n",
        "\n",
        "**listen_count** - Number of times the song was played"
      ]
    },
    {
      "cell_type": "markdown",
      "metadata": {
        "id": "DfFFUOOZo51l"
      },
      "source": [
        "<div class=\"markdown-google-sans\">\n",
        "  <h1><font size=5>Table of Contents</font></h1>"
      ]
    },
    {
      "cell_type": "markdown",
      "metadata": {
        "colab_type": "toc",
        "id": "9HArAhUdavbe"
      },
      "source": [
        ">[Background/Introduction](#scrollTo=2PTur39mv9rt)\n",
        "\n",
        ">[Main Objective](#scrollTo=kaFLNJh5gnu7)\n",
        "\n",
        ">[Data](#scrollTo=6KQAH9j-qoZw)\n",
        "\n",
        ">[Import Libraries](#scrollTo=-_VBJ0JlYLKI)\n",
        "\n",
        ">[Loading the data](#scrollTo=kXwOL606ZfUN)\n",
        "\n",
        ">[Handling the data](#scrollTo=10dFieGliGFn)\n",
        "\n",
        ">>[Data cleaning](#scrollTo=i1NGznkkiL5J)\n",
        "\n",
        ">>[Merging the data](#scrollTo=HGCZ7ah8iOMa)\n",
        "\n",
        ">[Exploratory Data Analysis](#scrollTo=Wm5QD4lUigH8)\n",
        "\n",
        ">[TODO](#scrollTo=bgN_BPiptmiE)\n",
        "\n",
        ">[Preprocessing](#scrollTo=8iVqCeAMimBE)\n",
        "\n",
        ">[Full function section](#scrollTo=y_4W_frl0COw)\n",
        "\n",
        ">>[Splitting the data](#scrollTo=m5SPLS-Ujixp)\n",
        "\n",
        ">[Recommendation system workflow](#scrollTo=ZkALY4u6kidY)\n",
        "\n",
        ">[Algorithms and Models analysis](#scrollTo=zHwULddKlZkf)\n",
        "\n",
        ">>[Rank-based (Popularity)](#scrollTo=T2_JBRavnciT)\n",
        "\n",
        ">[Importing RecSys algos](#scrollTo=s7fshDnT5DId)\n",
        "\n",
        ">>[Collaborative-filtering](#scrollTo=uZX1s5honcYg)\n",
        "\n",
        ">>[Preparing the data](#scrollTo=TMGhhINR5oO9)\n",
        "\n",
        ">>>[Similarity/Neighborhood-based](#scrollTo=C-AdyyD6ncFC)\n",
        "\n",
        ">>>>[Tune the baseline user-user-similarity model, and try improving its performance](#scrollTo=vcsUSUBOAMHJ)\n",
        "\n",
        ">>>[Build a baseline item-item-similarity model](#scrollTo=sQlfGaUoBDt8)\n",
        "\n",
        ">>>>[Tune the baseline item-item-similarity model, and try improving its performance](#scrollTo=5tNUZHsABolW)\n",
        "\n",
        ">>>[Model-Based Collaborative Filtering - Matrix Factorization](#scrollTo=hH_v8DqpB5r9)\n",
        "\n",
        ">>>>[Tune the baseline SVD model, and try improving its performance](#scrollTo=aSgBRcL1xnVC)\n",
        "\n",
        ">>[Cluster-based](#scrollTo=ABABIeyTn0F5)\n",
        "\n",
        ">>>[Build a baseline Cluster-Based model](#scrollTo=fe-VMWmeCnOp)\n",
        "\n",
        ">>>>[Tune the baseline Cluster-Based model, and try improving its performance](#scrollTo=c2fd66f5)\n",
        "\n",
        ">>[Content-based](#scrollTo=VrodWBIBn197)\n",
        "\n",
        ">>>>[Making recommendations based on the title of a song](#scrollTo=3Jjo3UHKhoEh)\n",
        "\n",
        ">[Evaluation metrics](#scrollTo=5lX4C4NzlmOK)\n",
        "\n",
        ">[Showing predictions](#scrollTo=taheIRbMoCLN)\n",
        "\n",
        ">[Comparing the models](#scrollTo=HJLFpdHpoRGe)\n",
        "\n",
        ">[Final thoughts](#scrollTo=rzu6n94-onDL)\n",
        "\n"
      ]
    },
    {
      "cell_type": "markdown",
      "metadata": {
        "id": "-_VBJ0JlYLKI"
      },
      "source": [
        "#  Import Libraries"
      ]
    },
    {
      "cell_type": "code",
      "source": [
        "!pip install rarfile"
      ],
      "metadata": {
        "colab": {
          "base_uri": "https://localhost:8080/"
        },
        "id": "3MoF3OsbqWrM",
        "outputId": "3529705f-cc44-4932-cbf0-3ffba3d3a0b0"
      },
      "execution_count": 1,
      "outputs": [
        {
          "output_type": "stream",
          "name": "stdout",
          "text": [
            "Collecting rarfile\n",
            "  Downloading rarfile-4.1-py3-none-any.whl (28 kB)\n",
            "Installing collected packages: rarfile\n",
            "Successfully installed rarfile-4.1\n"
          ]
        }
      ]
    },
    {
      "cell_type": "code",
      "execution_count": 2,
      "metadata": {
        "id": "XRyEMuKdYN_8"
      },
      "outputs": [],
      "source": [
        "# Basic libraries of python for numeric and dataframe computations\n",
        "import pandas as pd\n",
        "import numpy as np\n",
        "\n",
        "# Import Matplotlib the Basic library for data visualization\n",
        "import matplotlib.pyplot as plt\n",
        "\n",
        "# Import seaborn - Slightly advanced library for data visualization\n",
        "import seaborn as sns\n",
        "\n",
        "# Import the required library to compute the cosine similarity between two vectors\n",
        "from sklearn.metrics.pairwise import cosine_similarity\n",
        "\n",
        "# Import defaultdict from collections A dictionary output that does not raise a key error\n",
        "from collections import defaultdict\n",
        "\n",
        "# Import mean_squared_error : a performance metrics in sklearn\n",
        "from sklearn.metrics import mean_squared_error\n",
        "\n",
        "import rarfile\n",
        "from io import BytesIO\n",
        "import requests\n",
        "import random\n",
        "\n",
        "import warnings\n",
        "warnings.filterwarnings('ignore')"
      ]
    },
    {
      "cell_type": "code",
      "source": [
        "# Custom colors #TODO TO CHANGING THAT\n",
        "class clr:\n",
        "    S = '\\033[1m' + '\\033[92m'\n",
        "    E = '\\033[0m'"
      ],
      "metadata": {
        "id": "cOHgLROn3i-U"
      },
      "execution_count": 3,
      "outputs": []
    },
    {
      "cell_type": "markdown",
      "metadata": {
        "id": "kXwOL606ZfUN"
      },
      "source": [
        "# Loading the data"
      ]
    },
    {
      "cell_type": "code",
      "source": [
        "song_data_rar_url = 'https://raw.githubusercontent.com/ariel-hedvat/AdvancedMLDLCourseAssignments/main/finalProject/Data/song_data.rar'\n",
        "count_data_rar_url = 'https://raw.githubusercontent.com/ariel-hedvat/AdvancedMLDLCourseAssignments/main/finalProject/Data/triplets_file.rar'"
      ],
      "metadata": {
        "id": "jFkFIg29pMlf"
      },
      "execution_count": 4,
      "outputs": []
    },
    {
      "cell_type": "code",
      "source": [
        "# Download the RAR files\n",
        "song_data_rar_response = requests.get(song_data_rar_url)\n",
        "count_data_rar_response = requests.get(count_data_rar_url)"
      ],
      "metadata": {
        "id": "6V808Oz8pkil"
      },
      "execution_count": 5,
      "outputs": []
    },
    {
      "cell_type": "code",
      "source": [
        "def extract_csv_from_rar(rar_content):\n",
        "    # Create a RarFile object from the content\n",
        "    with rarfile.RarFile(BytesIO(rar_content), 'r') as rar_file:\n",
        "        # Get list of files in the RAR archive\n",
        "        file_list = rar_file.namelist()\n",
        "\n",
        "        # Initialize empty DataFrames\n",
        "        df = pd.DataFrame()\n",
        "\n",
        "        # Iterate through each file in the archive\n",
        "        for file_name in file_list:\n",
        "            # Check if the file is a CSV file\n",
        "            if file_name.endswith('.csv'):\n",
        "                print(file_name)\n",
        "                # Extract the CSV file and read it into a DataFrame\n",
        "                with rar_file.open(file_name) as csv_file:\n",
        "                    df = pd.read_csv(csv_file)\n",
        "\n",
        "    return df"
      ],
      "metadata": {
        "id": "qltB4J3npopW"
      },
      "execution_count": 6,
      "outputs": []
    },
    {
      "cell_type": "code",
      "source": [
        "if song_data_rar_response.ok and count_data_rar_response.ok:\n",
        "    # Extract content from the responses\n",
        "    song_data_rar_content = song_data_rar_response.content\n",
        "    count_data_rar_content = count_data_rar_response.content\n",
        "\n",
        "    # Extract CSV files from RAR archives and convert to DataFrames\n",
        "    song_df = extract_csv_from_rar(song_data_rar_content)\n",
        "    count_df = extract_csv_from_rar(count_data_rar_content)\n",
        "else:\n",
        "  print(\"Error accessing the rar files, Try Again!\")"
      ],
      "metadata": {
        "colab": {
          "base_uri": "https://localhost:8080/"
        },
        "id": "lXdPst6epqhe",
        "outputId": "aac76c22-7783-4ed5-d9be-907b9853818f"
      },
      "execution_count": 7,
      "outputs": [
        {
          "output_type": "stream",
          "name": "stdout",
          "text": [
            "song_data.csv\n",
            "triplets_file.csv\n"
          ]
        }
      ]
    },
    {
      "cell_type": "markdown",
      "source": [
        "# Initial preprocessing"
      ],
      "metadata": {
        "id": "10dFieGliGFn"
      }
    },
    {
      "cell_type": "markdown",
      "source": [
        "Before exploring the data in depth we will fix and merge some of the dataframes:"
      ],
      "metadata": {
        "id": "8aIzGTsY7AMD"
      }
    },
    {
      "cell_type": "markdown",
      "source": [
        "As described before, we have 2 datasets that we will be working with:\n",
        "- song_df - songs and their metadata.\n",
        "- count_df - User-Song interactions - each song a user has listened to is a seperate row in the dataframe."
      ],
      "metadata": {
        "id": "dSrTzAk17vRi"
      }
    },
    {
      "cell_type": "code",
      "source": [
        "song_df"
      ],
      "metadata": {
        "colab": {
          "base_uri": "https://localhost:8080/",
          "height": 424
        },
        "id": "ENGhHf5YpuVB",
        "outputId": "8e17ba84-db1d-43a9-9d6f-94a6324d2590"
      },
      "execution_count": 8,
      "outputs": [
        {
          "output_type": "execute_result",
          "data": {
            "text/plain": [
              "                   song_id                                title  \\\n",
              "0       SOQMMHC12AB0180CB8                         Silent Night   \n",
              "1       SOVFVAK12A8C1350D9                          Tanssi vaan   \n",
              "2       SOGTUKN12AB017F4F1                    No One Could Ever   \n",
              "3       SOBNYVR12A8C13558C                        Si Vos Querés   \n",
              "4       SOHSBXH12A8C13B0DF                     Tangle Of Aspens   \n",
              "...                    ...                                  ...   \n",
              "999995  SOTXAME12AB018F136                      O Samba Da Vida   \n",
              "999996  SOXQYIQ12A8C137FBB                         Jago Chhadeo   \n",
              "999997  SOHODZI12A8C137BB3                              Novemba   \n",
              "999998  SOLXGOR12A81C21EB7                              Faraday   \n",
              "999999  SOWXJXQ12AB0189F43  Fernweh feat. Sektion Kuchikäschtli   \n",
              "\n",
              "                                     release       artist_name  year  \n",
              "0                      Monster Ballads X-Mas  Faster Pussy cat  2003  \n",
              "1                                Karkuteillä  Karkkiautomaatti  1995  \n",
              "2                                     Butter    Hudson Mohawke  2006  \n",
              "3                                    De Culo       Yerba Brava  2003  \n",
              "4       Rene Ablaze Presents Winter Sessions        Der Mystic     0  \n",
              "...                                      ...               ...   ...  \n",
              "999995                          Pacha V.I.P.      Kiko Navarro     0  \n",
              "999996              Naale Baba Lassi Pee Gya     Kuldeep Manak     0  \n",
              "999997       Dub_Connected: electronic music    Gabriel Le Mar     0  \n",
              "999998          The Trance Collection Vol. 2             Elude     0  \n",
              "999999                            So Oder So             Texta  2004  \n",
              "\n",
              "[1000000 rows x 5 columns]"
            ],
            "text/html": [
              "\n",
              "  <div id=\"df-4b26167f-bc66-4926-b863-5a09c0e082f7\" class=\"colab-df-container\">\n",
              "    <div>\n",
              "<style scoped>\n",
              "    .dataframe tbody tr th:only-of-type {\n",
              "        vertical-align: middle;\n",
              "    }\n",
              "\n",
              "    .dataframe tbody tr th {\n",
              "        vertical-align: top;\n",
              "    }\n",
              "\n",
              "    .dataframe thead th {\n",
              "        text-align: right;\n",
              "    }\n",
              "</style>\n",
              "<table border=\"1\" class=\"dataframe\">\n",
              "  <thead>\n",
              "    <tr style=\"text-align: right;\">\n",
              "      <th></th>\n",
              "      <th>song_id</th>\n",
              "      <th>title</th>\n",
              "      <th>release</th>\n",
              "      <th>artist_name</th>\n",
              "      <th>year</th>\n",
              "    </tr>\n",
              "  </thead>\n",
              "  <tbody>\n",
              "    <tr>\n",
              "      <th>0</th>\n",
              "      <td>SOQMMHC12AB0180CB8</td>\n",
              "      <td>Silent Night</td>\n",
              "      <td>Monster Ballads X-Mas</td>\n",
              "      <td>Faster Pussy cat</td>\n",
              "      <td>2003</td>\n",
              "    </tr>\n",
              "    <tr>\n",
              "      <th>1</th>\n",
              "      <td>SOVFVAK12A8C1350D9</td>\n",
              "      <td>Tanssi vaan</td>\n",
              "      <td>Karkuteillä</td>\n",
              "      <td>Karkkiautomaatti</td>\n",
              "      <td>1995</td>\n",
              "    </tr>\n",
              "    <tr>\n",
              "      <th>2</th>\n",
              "      <td>SOGTUKN12AB017F4F1</td>\n",
              "      <td>No One Could Ever</td>\n",
              "      <td>Butter</td>\n",
              "      <td>Hudson Mohawke</td>\n",
              "      <td>2006</td>\n",
              "    </tr>\n",
              "    <tr>\n",
              "      <th>3</th>\n",
              "      <td>SOBNYVR12A8C13558C</td>\n",
              "      <td>Si Vos Querés</td>\n",
              "      <td>De Culo</td>\n",
              "      <td>Yerba Brava</td>\n",
              "      <td>2003</td>\n",
              "    </tr>\n",
              "    <tr>\n",
              "      <th>4</th>\n",
              "      <td>SOHSBXH12A8C13B0DF</td>\n",
              "      <td>Tangle Of Aspens</td>\n",
              "      <td>Rene Ablaze Presents Winter Sessions</td>\n",
              "      <td>Der Mystic</td>\n",
              "      <td>0</td>\n",
              "    </tr>\n",
              "    <tr>\n",
              "      <th>...</th>\n",
              "      <td>...</td>\n",
              "      <td>...</td>\n",
              "      <td>...</td>\n",
              "      <td>...</td>\n",
              "      <td>...</td>\n",
              "    </tr>\n",
              "    <tr>\n",
              "      <th>999995</th>\n",
              "      <td>SOTXAME12AB018F136</td>\n",
              "      <td>O Samba Da Vida</td>\n",
              "      <td>Pacha V.I.P.</td>\n",
              "      <td>Kiko Navarro</td>\n",
              "      <td>0</td>\n",
              "    </tr>\n",
              "    <tr>\n",
              "      <th>999996</th>\n",
              "      <td>SOXQYIQ12A8C137FBB</td>\n",
              "      <td>Jago Chhadeo</td>\n",
              "      <td>Naale Baba Lassi Pee Gya</td>\n",
              "      <td>Kuldeep Manak</td>\n",
              "      <td>0</td>\n",
              "    </tr>\n",
              "    <tr>\n",
              "      <th>999997</th>\n",
              "      <td>SOHODZI12A8C137BB3</td>\n",
              "      <td>Novemba</td>\n",
              "      <td>Dub_Connected: electronic music</td>\n",
              "      <td>Gabriel Le Mar</td>\n",
              "      <td>0</td>\n",
              "    </tr>\n",
              "    <tr>\n",
              "      <th>999998</th>\n",
              "      <td>SOLXGOR12A81C21EB7</td>\n",
              "      <td>Faraday</td>\n",
              "      <td>The Trance Collection Vol. 2</td>\n",
              "      <td>Elude</td>\n",
              "      <td>0</td>\n",
              "    </tr>\n",
              "    <tr>\n",
              "      <th>999999</th>\n",
              "      <td>SOWXJXQ12AB0189F43</td>\n",
              "      <td>Fernweh feat. Sektion Kuchikäschtli</td>\n",
              "      <td>So Oder So</td>\n",
              "      <td>Texta</td>\n",
              "      <td>2004</td>\n",
              "    </tr>\n",
              "  </tbody>\n",
              "</table>\n",
              "<p>1000000 rows × 5 columns</p>\n",
              "</div>\n",
              "    <div class=\"colab-df-buttons\">\n",
              "\n",
              "  <div class=\"colab-df-container\">\n",
              "    <button class=\"colab-df-convert\" onclick=\"convertToInteractive('df-4b26167f-bc66-4926-b863-5a09c0e082f7')\"\n",
              "            title=\"Convert this dataframe to an interactive table.\"\n",
              "            style=\"display:none;\">\n",
              "\n",
              "  <svg xmlns=\"http://www.w3.org/2000/svg\" height=\"24px\" viewBox=\"0 -960 960 960\">\n",
              "    <path d=\"M120-120v-720h720v720H120Zm60-500h600v-160H180v160Zm220 220h160v-160H400v160Zm0 220h160v-160H400v160ZM180-400h160v-160H180v160Zm440 0h160v-160H620v160ZM180-180h160v-160H180v160Zm440 0h160v-160H620v160Z\"/>\n",
              "  </svg>\n",
              "    </button>\n",
              "\n",
              "  <style>\n",
              "    .colab-df-container {\n",
              "      display:flex;\n",
              "      gap: 12px;\n",
              "    }\n",
              "\n",
              "    .colab-df-convert {\n",
              "      background-color: #E8F0FE;\n",
              "      border: none;\n",
              "      border-radius: 50%;\n",
              "      cursor: pointer;\n",
              "      display: none;\n",
              "      fill: #1967D2;\n",
              "      height: 32px;\n",
              "      padding: 0 0 0 0;\n",
              "      width: 32px;\n",
              "    }\n",
              "\n",
              "    .colab-df-convert:hover {\n",
              "      background-color: #E2EBFA;\n",
              "      box-shadow: 0px 1px 2px rgba(60, 64, 67, 0.3), 0px 1px 3px 1px rgba(60, 64, 67, 0.15);\n",
              "      fill: #174EA6;\n",
              "    }\n",
              "\n",
              "    .colab-df-buttons div {\n",
              "      margin-bottom: 4px;\n",
              "    }\n",
              "\n",
              "    [theme=dark] .colab-df-convert {\n",
              "      background-color: #3B4455;\n",
              "      fill: #D2E3FC;\n",
              "    }\n",
              "\n",
              "    [theme=dark] .colab-df-convert:hover {\n",
              "      background-color: #434B5C;\n",
              "      box-shadow: 0px 1px 3px 1px rgba(0, 0, 0, 0.15);\n",
              "      filter: drop-shadow(0px 1px 2px rgba(0, 0, 0, 0.3));\n",
              "      fill: #FFFFFF;\n",
              "    }\n",
              "  </style>\n",
              "\n",
              "    <script>\n",
              "      const buttonEl =\n",
              "        document.querySelector('#df-4b26167f-bc66-4926-b863-5a09c0e082f7 button.colab-df-convert');\n",
              "      buttonEl.style.display =\n",
              "        google.colab.kernel.accessAllowed ? 'block' : 'none';\n",
              "\n",
              "      async function convertToInteractive(key) {\n",
              "        const element = document.querySelector('#df-4b26167f-bc66-4926-b863-5a09c0e082f7');\n",
              "        const dataTable =\n",
              "          await google.colab.kernel.invokeFunction('convertToInteractive',\n",
              "                                                    [key], {});\n",
              "        if (!dataTable) return;\n",
              "\n",
              "        const docLinkHtml = 'Like what you see? Visit the ' +\n",
              "          '<a target=\"_blank\" href=https://colab.research.google.com/notebooks/data_table.ipynb>data table notebook</a>'\n",
              "          + ' to learn more about interactive tables.';\n",
              "        element.innerHTML = '';\n",
              "        dataTable['output_type'] = 'display_data';\n",
              "        await google.colab.output.renderOutput(dataTable, element);\n",
              "        const docLink = document.createElement('div');\n",
              "        docLink.innerHTML = docLinkHtml;\n",
              "        element.appendChild(docLink);\n",
              "      }\n",
              "    </script>\n",
              "  </div>\n",
              "\n",
              "\n",
              "<div id=\"df-31120228-2957-4557-9b4f-d5534f6a24cc\">\n",
              "  <button class=\"colab-df-quickchart\" onclick=\"quickchart('df-31120228-2957-4557-9b4f-d5534f6a24cc')\"\n",
              "            title=\"Suggest charts\"\n",
              "            style=\"display:none;\">\n",
              "\n",
              "<svg xmlns=\"http://www.w3.org/2000/svg\" height=\"24px\"viewBox=\"0 0 24 24\"\n",
              "     width=\"24px\">\n",
              "    <g>\n",
              "        <path d=\"M19 3H5c-1.1 0-2 .9-2 2v14c0 1.1.9 2 2 2h14c1.1 0 2-.9 2-2V5c0-1.1-.9-2-2-2zM9 17H7v-7h2v7zm4 0h-2V7h2v10zm4 0h-2v-4h2v4z\"/>\n",
              "    </g>\n",
              "</svg>\n",
              "  </button>\n",
              "\n",
              "<style>\n",
              "  .colab-df-quickchart {\n",
              "      --bg-color: #E8F0FE;\n",
              "      --fill-color: #1967D2;\n",
              "      --hover-bg-color: #E2EBFA;\n",
              "      --hover-fill-color: #174EA6;\n",
              "      --disabled-fill-color: #AAA;\n",
              "      --disabled-bg-color: #DDD;\n",
              "  }\n",
              "\n",
              "  [theme=dark] .colab-df-quickchart {\n",
              "      --bg-color: #3B4455;\n",
              "      --fill-color: #D2E3FC;\n",
              "      --hover-bg-color: #434B5C;\n",
              "      --hover-fill-color: #FFFFFF;\n",
              "      --disabled-bg-color: #3B4455;\n",
              "      --disabled-fill-color: #666;\n",
              "  }\n",
              "\n",
              "  .colab-df-quickchart {\n",
              "    background-color: var(--bg-color);\n",
              "    border: none;\n",
              "    border-radius: 50%;\n",
              "    cursor: pointer;\n",
              "    display: none;\n",
              "    fill: var(--fill-color);\n",
              "    height: 32px;\n",
              "    padding: 0;\n",
              "    width: 32px;\n",
              "  }\n",
              "\n",
              "  .colab-df-quickchart:hover {\n",
              "    background-color: var(--hover-bg-color);\n",
              "    box-shadow: 0 1px 2px rgba(60, 64, 67, 0.3), 0 1px 3px 1px rgba(60, 64, 67, 0.15);\n",
              "    fill: var(--button-hover-fill-color);\n",
              "  }\n",
              "\n",
              "  .colab-df-quickchart-complete:disabled,\n",
              "  .colab-df-quickchart-complete:disabled:hover {\n",
              "    background-color: var(--disabled-bg-color);\n",
              "    fill: var(--disabled-fill-color);\n",
              "    box-shadow: none;\n",
              "  }\n",
              "\n",
              "  .colab-df-spinner {\n",
              "    border: 2px solid var(--fill-color);\n",
              "    border-color: transparent;\n",
              "    border-bottom-color: var(--fill-color);\n",
              "    animation:\n",
              "      spin 1s steps(1) infinite;\n",
              "  }\n",
              "\n",
              "  @keyframes spin {\n",
              "    0% {\n",
              "      border-color: transparent;\n",
              "      border-bottom-color: var(--fill-color);\n",
              "      border-left-color: var(--fill-color);\n",
              "    }\n",
              "    20% {\n",
              "      border-color: transparent;\n",
              "      border-left-color: var(--fill-color);\n",
              "      border-top-color: var(--fill-color);\n",
              "    }\n",
              "    30% {\n",
              "      border-color: transparent;\n",
              "      border-left-color: var(--fill-color);\n",
              "      border-top-color: var(--fill-color);\n",
              "      border-right-color: var(--fill-color);\n",
              "    }\n",
              "    40% {\n",
              "      border-color: transparent;\n",
              "      border-right-color: var(--fill-color);\n",
              "      border-top-color: var(--fill-color);\n",
              "    }\n",
              "    60% {\n",
              "      border-color: transparent;\n",
              "      border-right-color: var(--fill-color);\n",
              "    }\n",
              "    80% {\n",
              "      border-color: transparent;\n",
              "      border-right-color: var(--fill-color);\n",
              "      border-bottom-color: var(--fill-color);\n",
              "    }\n",
              "    90% {\n",
              "      border-color: transparent;\n",
              "      border-bottom-color: var(--fill-color);\n",
              "    }\n",
              "  }\n",
              "</style>\n",
              "\n",
              "  <script>\n",
              "    async function quickchart(key) {\n",
              "      const quickchartButtonEl =\n",
              "        document.querySelector('#' + key + ' button');\n",
              "      quickchartButtonEl.disabled = true;  // To prevent multiple clicks.\n",
              "      quickchartButtonEl.classList.add('colab-df-spinner');\n",
              "      try {\n",
              "        const charts = await google.colab.kernel.invokeFunction(\n",
              "            'suggestCharts', [key], {});\n",
              "      } catch (error) {\n",
              "        console.error('Error during call to suggestCharts:', error);\n",
              "      }\n",
              "      quickchartButtonEl.classList.remove('colab-df-spinner');\n",
              "      quickchartButtonEl.classList.add('colab-df-quickchart-complete');\n",
              "    }\n",
              "    (() => {\n",
              "      let quickchartButtonEl =\n",
              "        document.querySelector('#df-31120228-2957-4557-9b4f-d5534f6a24cc button');\n",
              "      quickchartButtonEl.style.display =\n",
              "        google.colab.kernel.accessAllowed ? 'block' : 'none';\n",
              "    })();\n",
              "  </script>\n",
              "</div>\n",
              "    </div>\n",
              "  </div>\n"
            ],
            "application/vnd.google.colaboratory.intrinsic+json": {
              "type": "dataframe",
              "variable_name": "song_df"
            }
          },
          "metadata": {},
          "execution_count": 8
        }
      ]
    },
    {
      "cell_type": "code",
      "source": [
        "count_df"
      ],
      "metadata": {
        "colab": {
          "base_uri": "https://localhost:8080/",
          "height": 424
        },
        "id": "VtTwn5mdqGZM",
        "outputId": "96916b59-365b-43e9-8126-c3434770c420"
      },
      "execution_count": 9,
      "outputs": [
        {
          "output_type": "execute_result",
          "data": {
            "text/plain": [
              "                                          user_id             song_id  \\\n",
              "0        b80344d063b5ccb3212f76538f3d9e43d87dca9e  SOAKIMP12A8C130995   \n",
              "1        b80344d063b5ccb3212f76538f3d9e43d87dca9e  SOBBMDR12A8C13253B   \n",
              "2        b80344d063b5ccb3212f76538f3d9e43d87dca9e  SOBXHDL12A81C204C0   \n",
              "3        b80344d063b5ccb3212f76538f3d9e43d87dca9e  SOBYHAJ12A6701BF1D   \n",
              "4        b80344d063b5ccb3212f76538f3d9e43d87dca9e  SODACBL12A8C13C273   \n",
              "...                                           ...                 ...   \n",
              "1999995  d8bfd4ec88f0f3773a9e022e3c1a0f1d3b7b6a92  SOJEYPO12AAA8C6B0E   \n",
              "1999996  d8bfd4ec88f0f3773a9e022e3c1a0f1d3b7b6a92  SOJJYDE12AF729FC16   \n",
              "1999997  d8bfd4ec88f0f3773a9e022e3c1a0f1d3b7b6a92  SOJKQSF12A6D4F5EE9   \n",
              "1999998  d8bfd4ec88f0f3773a9e022e3c1a0f1d3b7b6a92  SOJUXGA12AC961885C   \n",
              "1999999  d8bfd4ec88f0f3773a9e022e3c1a0f1d3b7b6a92  SOJYOLS12A8C13C06F   \n",
              "\n",
              "         listen_count  \n",
              "0                   1  \n",
              "1                   2  \n",
              "2                   1  \n",
              "3                   1  \n",
              "4                   1  \n",
              "...               ...  \n",
              "1999995             2  \n",
              "1999996             4  \n",
              "1999997             3  \n",
              "1999998             1  \n",
              "1999999             1  \n",
              "\n",
              "[2000000 rows x 3 columns]"
            ],
            "text/html": [
              "\n",
              "  <div id=\"df-65d295e5-0be7-4e59-a265-fad2a54db035\" class=\"colab-df-container\">\n",
              "    <div>\n",
              "<style scoped>\n",
              "    .dataframe tbody tr th:only-of-type {\n",
              "        vertical-align: middle;\n",
              "    }\n",
              "\n",
              "    .dataframe tbody tr th {\n",
              "        vertical-align: top;\n",
              "    }\n",
              "\n",
              "    .dataframe thead th {\n",
              "        text-align: right;\n",
              "    }\n",
              "</style>\n",
              "<table border=\"1\" class=\"dataframe\">\n",
              "  <thead>\n",
              "    <tr style=\"text-align: right;\">\n",
              "      <th></th>\n",
              "      <th>user_id</th>\n",
              "      <th>song_id</th>\n",
              "      <th>listen_count</th>\n",
              "    </tr>\n",
              "  </thead>\n",
              "  <tbody>\n",
              "    <tr>\n",
              "      <th>0</th>\n",
              "      <td>b80344d063b5ccb3212f76538f3d9e43d87dca9e</td>\n",
              "      <td>SOAKIMP12A8C130995</td>\n",
              "      <td>1</td>\n",
              "    </tr>\n",
              "    <tr>\n",
              "      <th>1</th>\n",
              "      <td>b80344d063b5ccb3212f76538f3d9e43d87dca9e</td>\n",
              "      <td>SOBBMDR12A8C13253B</td>\n",
              "      <td>2</td>\n",
              "    </tr>\n",
              "    <tr>\n",
              "      <th>2</th>\n",
              "      <td>b80344d063b5ccb3212f76538f3d9e43d87dca9e</td>\n",
              "      <td>SOBXHDL12A81C204C0</td>\n",
              "      <td>1</td>\n",
              "    </tr>\n",
              "    <tr>\n",
              "      <th>3</th>\n",
              "      <td>b80344d063b5ccb3212f76538f3d9e43d87dca9e</td>\n",
              "      <td>SOBYHAJ12A6701BF1D</td>\n",
              "      <td>1</td>\n",
              "    </tr>\n",
              "    <tr>\n",
              "      <th>4</th>\n",
              "      <td>b80344d063b5ccb3212f76538f3d9e43d87dca9e</td>\n",
              "      <td>SODACBL12A8C13C273</td>\n",
              "      <td>1</td>\n",
              "    </tr>\n",
              "    <tr>\n",
              "      <th>...</th>\n",
              "      <td>...</td>\n",
              "      <td>...</td>\n",
              "      <td>...</td>\n",
              "    </tr>\n",
              "    <tr>\n",
              "      <th>1999995</th>\n",
              "      <td>d8bfd4ec88f0f3773a9e022e3c1a0f1d3b7b6a92</td>\n",
              "      <td>SOJEYPO12AAA8C6B0E</td>\n",
              "      <td>2</td>\n",
              "    </tr>\n",
              "    <tr>\n",
              "      <th>1999996</th>\n",
              "      <td>d8bfd4ec88f0f3773a9e022e3c1a0f1d3b7b6a92</td>\n",
              "      <td>SOJJYDE12AF729FC16</td>\n",
              "      <td>4</td>\n",
              "    </tr>\n",
              "    <tr>\n",
              "      <th>1999997</th>\n",
              "      <td>d8bfd4ec88f0f3773a9e022e3c1a0f1d3b7b6a92</td>\n",
              "      <td>SOJKQSF12A6D4F5EE9</td>\n",
              "      <td>3</td>\n",
              "    </tr>\n",
              "    <tr>\n",
              "      <th>1999998</th>\n",
              "      <td>d8bfd4ec88f0f3773a9e022e3c1a0f1d3b7b6a92</td>\n",
              "      <td>SOJUXGA12AC961885C</td>\n",
              "      <td>1</td>\n",
              "    </tr>\n",
              "    <tr>\n",
              "      <th>1999999</th>\n",
              "      <td>d8bfd4ec88f0f3773a9e022e3c1a0f1d3b7b6a92</td>\n",
              "      <td>SOJYOLS12A8C13C06F</td>\n",
              "      <td>1</td>\n",
              "    </tr>\n",
              "  </tbody>\n",
              "</table>\n",
              "<p>2000000 rows × 3 columns</p>\n",
              "</div>\n",
              "    <div class=\"colab-df-buttons\">\n",
              "\n",
              "  <div class=\"colab-df-container\">\n",
              "    <button class=\"colab-df-convert\" onclick=\"convertToInteractive('df-65d295e5-0be7-4e59-a265-fad2a54db035')\"\n",
              "            title=\"Convert this dataframe to an interactive table.\"\n",
              "            style=\"display:none;\">\n",
              "\n",
              "  <svg xmlns=\"http://www.w3.org/2000/svg\" height=\"24px\" viewBox=\"0 -960 960 960\">\n",
              "    <path d=\"M120-120v-720h720v720H120Zm60-500h600v-160H180v160Zm220 220h160v-160H400v160Zm0 220h160v-160H400v160ZM180-400h160v-160H180v160Zm440 0h160v-160H620v160ZM180-180h160v-160H180v160Zm440 0h160v-160H620v160Z\"/>\n",
              "  </svg>\n",
              "    </button>\n",
              "\n",
              "  <style>\n",
              "    .colab-df-container {\n",
              "      display:flex;\n",
              "      gap: 12px;\n",
              "    }\n",
              "\n",
              "    .colab-df-convert {\n",
              "      background-color: #E8F0FE;\n",
              "      border: none;\n",
              "      border-radius: 50%;\n",
              "      cursor: pointer;\n",
              "      display: none;\n",
              "      fill: #1967D2;\n",
              "      height: 32px;\n",
              "      padding: 0 0 0 0;\n",
              "      width: 32px;\n",
              "    }\n",
              "\n",
              "    .colab-df-convert:hover {\n",
              "      background-color: #E2EBFA;\n",
              "      box-shadow: 0px 1px 2px rgba(60, 64, 67, 0.3), 0px 1px 3px 1px rgba(60, 64, 67, 0.15);\n",
              "      fill: #174EA6;\n",
              "    }\n",
              "\n",
              "    .colab-df-buttons div {\n",
              "      margin-bottom: 4px;\n",
              "    }\n",
              "\n",
              "    [theme=dark] .colab-df-convert {\n",
              "      background-color: #3B4455;\n",
              "      fill: #D2E3FC;\n",
              "    }\n",
              "\n",
              "    [theme=dark] .colab-df-convert:hover {\n",
              "      background-color: #434B5C;\n",
              "      box-shadow: 0px 1px 3px 1px rgba(0, 0, 0, 0.15);\n",
              "      filter: drop-shadow(0px 1px 2px rgba(0, 0, 0, 0.3));\n",
              "      fill: #FFFFFF;\n",
              "    }\n",
              "  </style>\n",
              "\n",
              "    <script>\n",
              "      const buttonEl =\n",
              "        document.querySelector('#df-65d295e5-0be7-4e59-a265-fad2a54db035 button.colab-df-convert');\n",
              "      buttonEl.style.display =\n",
              "        google.colab.kernel.accessAllowed ? 'block' : 'none';\n",
              "\n",
              "      async function convertToInteractive(key) {\n",
              "        const element = document.querySelector('#df-65d295e5-0be7-4e59-a265-fad2a54db035');\n",
              "        const dataTable =\n",
              "          await google.colab.kernel.invokeFunction('convertToInteractive',\n",
              "                                                    [key], {});\n",
              "        if (!dataTable) return;\n",
              "\n",
              "        const docLinkHtml = 'Like what you see? Visit the ' +\n",
              "          '<a target=\"_blank\" href=https://colab.research.google.com/notebooks/data_table.ipynb>data table notebook</a>'\n",
              "          + ' to learn more about interactive tables.';\n",
              "        element.innerHTML = '';\n",
              "        dataTable['output_type'] = 'display_data';\n",
              "        await google.colab.output.renderOutput(dataTable, element);\n",
              "        const docLink = document.createElement('div');\n",
              "        docLink.innerHTML = docLinkHtml;\n",
              "        element.appendChild(docLink);\n",
              "      }\n",
              "    </script>\n",
              "  </div>\n",
              "\n",
              "\n",
              "<div id=\"df-a58695cb-2e98-46c4-9736-12ea01d7da70\">\n",
              "  <button class=\"colab-df-quickchart\" onclick=\"quickchart('df-a58695cb-2e98-46c4-9736-12ea01d7da70')\"\n",
              "            title=\"Suggest charts\"\n",
              "            style=\"display:none;\">\n",
              "\n",
              "<svg xmlns=\"http://www.w3.org/2000/svg\" height=\"24px\"viewBox=\"0 0 24 24\"\n",
              "     width=\"24px\">\n",
              "    <g>\n",
              "        <path d=\"M19 3H5c-1.1 0-2 .9-2 2v14c0 1.1.9 2 2 2h14c1.1 0 2-.9 2-2V5c0-1.1-.9-2-2-2zM9 17H7v-7h2v7zm4 0h-2V7h2v10zm4 0h-2v-4h2v4z\"/>\n",
              "    </g>\n",
              "</svg>\n",
              "  </button>\n",
              "\n",
              "<style>\n",
              "  .colab-df-quickchart {\n",
              "      --bg-color: #E8F0FE;\n",
              "      --fill-color: #1967D2;\n",
              "      --hover-bg-color: #E2EBFA;\n",
              "      --hover-fill-color: #174EA6;\n",
              "      --disabled-fill-color: #AAA;\n",
              "      --disabled-bg-color: #DDD;\n",
              "  }\n",
              "\n",
              "  [theme=dark] .colab-df-quickchart {\n",
              "      --bg-color: #3B4455;\n",
              "      --fill-color: #D2E3FC;\n",
              "      --hover-bg-color: #434B5C;\n",
              "      --hover-fill-color: #FFFFFF;\n",
              "      --disabled-bg-color: #3B4455;\n",
              "      --disabled-fill-color: #666;\n",
              "  }\n",
              "\n",
              "  .colab-df-quickchart {\n",
              "    background-color: var(--bg-color);\n",
              "    border: none;\n",
              "    border-radius: 50%;\n",
              "    cursor: pointer;\n",
              "    display: none;\n",
              "    fill: var(--fill-color);\n",
              "    height: 32px;\n",
              "    padding: 0;\n",
              "    width: 32px;\n",
              "  }\n",
              "\n",
              "  .colab-df-quickchart:hover {\n",
              "    background-color: var(--hover-bg-color);\n",
              "    box-shadow: 0 1px 2px rgba(60, 64, 67, 0.3), 0 1px 3px 1px rgba(60, 64, 67, 0.15);\n",
              "    fill: var(--button-hover-fill-color);\n",
              "  }\n",
              "\n",
              "  .colab-df-quickchart-complete:disabled,\n",
              "  .colab-df-quickchart-complete:disabled:hover {\n",
              "    background-color: var(--disabled-bg-color);\n",
              "    fill: var(--disabled-fill-color);\n",
              "    box-shadow: none;\n",
              "  }\n",
              "\n",
              "  .colab-df-spinner {\n",
              "    border: 2px solid var(--fill-color);\n",
              "    border-color: transparent;\n",
              "    border-bottom-color: var(--fill-color);\n",
              "    animation:\n",
              "      spin 1s steps(1) infinite;\n",
              "  }\n",
              "\n",
              "  @keyframes spin {\n",
              "    0% {\n",
              "      border-color: transparent;\n",
              "      border-bottom-color: var(--fill-color);\n",
              "      border-left-color: var(--fill-color);\n",
              "    }\n",
              "    20% {\n",
              "      border-color: transparent;\n",
              "      border-left-color: var(--fill-color);\n",
              "      border-top-color: var(--fill-color);\n",
              "    }\n",
              "    30% {\n",
              "      border-color: transparent;\n",
              "      border-left-color: var(--fill-color);\n",
              "      border-top-color: var(--fill-color);\n",
              "      border-right-color: var(--fill-color);\n",
              "    }\n",
              "    40% {\n",
              "      border-color: transparent;\n",
              "      border-right-color: var(--fill-color);\n",
              "      border-top-color: var(--fill-color);\n",
              "    }\n",
              "    60% {\n",
              "      border-color: transparent;\n",
              "      border-right-color: var(--fill-color);\n",
              "    }\n",
              "    80% {\n",
              "      border-color: transparent;\n",
              "      border-right-color: var(--fill-color);\n",
              "      border-bottom-color: var(--fill-color);\n",
              "    }\n",
              "    90% {\n",
              "      border-color: transparent;\n",
              "      border-bottom-color: var(--fill-color);\n",
              "    }\n",
              "  }\n",
              "</style>\n",
              "\n",
              "  <script>\n",
              "    async function quickchart(key) {\n",
              "      const quickchartButtonEl =\n",
              "        document.querySelector('#' + key + ' button');\n",
              "      quickchartButtonEl.disabled = true;  // To prevent multiple clicks.\n",
              "      quickchartButtonEl.classList.add('colab-df-spinner');\n",
              "      try {\n",
              "        const charts = await google.colab.kernel.invokeFunction(\n",
              "            'suggestCharts', [key], {});\n",
              "      } catch (error) {\n",
              "        console.error('Error during call to suggestCharts:', error);\n",
              "      }\n",
              "      quickchartButtonEl.classList.remove('colab-df-spinner');\n",
              "      quickchartButtonEl.classList.add('colab-df-quickchart-complete');\n",
              "    }\n",
              "    (() => {\n",
              "      let quickchartButtonEl =\n",
              "        document.querySelector('#df-a58695cb-2e98-46c4-9736-12ea01d7da70 button');\n",
              "      quickchartButtonEl.style.display =\n",
              "        google.colab.kernel.accessAllowed ? 'block' : 'none';\n",
              "    })();\n",
              "  </script>\n",
              "</div>\n",
              "    </div>\n",
              "  </div>\n"
            ],
            "application/vnd.google.colaboratory.intrinsic+json": {
              "type": "dataframe",
              "variable_name": "count_df"
            }
          },
          "metadata": {},
          "execution_count": 9
        }
      ]
    },
    {
      "cell_type": "markdown",
      "source": [
        "## Song_df dataframe"
      ],
      "metadata": {
        "id": "IJA-XGJ6HV68"
      }
    },
    {
      "cell_type": "markdown",
      "source": [
        "Song dataframe exploration:"
      ],
      "metadata": {
        "id": "-veAsjez8u0t"
      }
    },
    {
      "cell_type": "code",
      "source": [
        "# Song_df info\n",
        "song_df.info()"
      ],
      "metadata": {
        "colab": {
          "base_uri": "https://localhost:8080/"
        },
        "id": "_5WJRvMF_Z0r",
        "outputId": "4cbfc9a4-17ca-41b9-a896-0bab89a9bb4d"
      },
      "execution_count": 10,
      "outputs": [
        {
          "output_type": "stream",
          "name": "stdout",
          "text": [
            "<class 'pandas.core.frame.DataFrame'>\n",
            "RangeIndex: 1000000 entries, 0 to 999999\n",
            "Data columns (total 5 columns):\n",
            " #   Column       Non-Null Count    Dtype \n",
            "---  ------       --------------    ----- \n",
            " 0   song_id      1000000 non-null  object\n",
            " 1   title        999985 non-null   object\n",
            " 2   release      999995 non-null   object\n",
            " 3   artist_name  1000000 non-null  object\n",
            " 4   year         1000000 non-null  int64 \n",
            "dtypes: int64(1), object(4)\n",
            "memory usage: 38.1+ MB\n"
          ]
        }
      ]
    },
    {
      "cell_type": "code",
      "source": [
        "# Shape of song_df\n",
        "song_df.shape"
      ],
      "metadata": {
        "colab": {
          "base_uri": "https://localhost:8080/"
        },
        "id": "y8I1moC9_lVL",
        "outputId": "57785fe9-a53f-4e58-de43-7a540d4adcb9"
      },
      "execution_count": 11,
      "outputs": [
        {
          "output_type": "execute_result",
          "data": {
            "text/plain": [
              "(1000000, 5)"
            ]
          },
          "metadata": {},
          "execution_count": 11
        }
      ]
    },
    {
      "cell_type": "code",
      "source": [
        "# Checking for missing values in song_df\n",
        "song_df.isna().sum()"
      ],
      "metadata": {
        "colab": {
          "base_uri": "https://localhost:8080/"
        },
        "id": "TNNnVWQLADEK",
        "outputId": "fc8ae898-cf28-437c-8c55-7035010a6236"
      },
      "execution_count": 12,
      "outputs": [
        {
          "output_type": "execute_result",
          "data": {
            "text/plain": [
              "song_id         0\n",
              "title          15\n",
              "release         5\n",
              "artist_name     0\n",
              "year            0\n",
              "dtype: int64"
            ]
          },
          "metadata": {},
          "execution_count": 12
        }
      ]
    },
    {
      "cell_type": "code",
      "source": [
        "#Number of unique values in each column of song_df\n",
        "song_df.nunique()"
      ],
      "metadata": {
        "colab": {
          "base_uri": "https://localhost:8080/"
        },
        "id": "PD8P1pI__1yn",
        "outputId": "fc488977-4432-4922-c94d-c912e9397d35"
      },
      "execution_count": 13,
      "outputs": [
        {
          "output_type": "execute_result",
          "data": {
            "text/plain": [
              "song_id        999056\n",
              "title          702428\n",
              "release        149288\n",
              "artist_name     72665\n",
              "year               90\n",
              "dtype: int64"
            ]
          },
          "metadata": {},
          "execution_count": 13
        }
      ]
    },
    {
      "cell_type": "markdown",
      "source": [
        "Initial insights:\n",
        "- The df has 1000000 songs but only 999056 unique ones - meaning there are almost 1000 duplicates.\n",
        "- There are a small number of missing titles to songs.\n",
        "- There are 5 album missing names.\n",
        "- There are simillar song titles.\n",
        "- The data contains songs from 90 different years."
      ],
      "metadata": {
        "id": "A6xASENE9a-H"
      }
    },
    {
      "cell_type": "markdown",
      "source": [
        "## Count_df dataframe"
      ],
      "metadata": {
        "id": "htOexCjuHQ0M"
      }
    },
    {
      "cell_type": "markdown",
      "source": [
        "Count_df dataset exploration :"
      ],
      "metadata": {
        "id": "Sjm8a3EV-V0m"
      }
    },
    {
      "cell_type": "code",
      "source": [
        "# Count_df info\n",
        "count_df.info()"
      ],
      "metadata": {
        "colab": {
          "base_uri": "https://localhost:8080/"
        },
        "id": "3MB4aNM4-t70",
        "outputId": "bad1ad64-17dd-4936-978a-b34d24ae520f"
      },
      "execution_count": 14,
      "outputs": [
        {
          "output_type": "stream",
          "name": "stdout",
          "text": [
            "<class 'pandas.core.frame.DataFrame'>\n",
            "RangeIndex: 2000000 entries, 0 to 1999999\n",
            "Data columns (total 3 columns):\n",
            " #   Column        Dtype \n",
            "---  ------        ----- \n",
            " 0   user_id       object\n",
            " 1   song_id       object\n",
            " 2   listen_count  int64 \n",
            "dtypes: int64(1), object(2)\n",
            "memory usage: 45.8+ MB\n"
          ]
        }
      ]
    },
    {
      "cell_type": "code",
      "source": [
        "# Shape of count_df\n",
        "count_df.shape"
      ],
      "metadata": {
        "id": "na3kTLHbiLcJ",
        "colab": {
          "base_uri": "https://localhost:8080/"
        },
        "outputId": "2683268e-efcb-4999-898b-d869066c2d4a"
      },
      "execution_count": 15,
      "outputs": [
        {
          "output_type": "execute_result",
          "data": {
            "text/plain": [
              "(2000000, 3)"
            ]
          },
          "metadata": {},
          "execution_count": 15
        }
      ]
    },
    {
      "cell_type": "code",
      "source": [
        "# Checking for missing values in count_df\n",
        "count_df.isna().sum()"
      ],
      "metadata": {
        "colab": {
          "base_uri": "https://localhost:8080/"
        },
        "id": "HiYQCl-c-2Oc",
        "outputId": "2debc4ba-1763-41d9-ab59-b5039dd9ce52"
      },
      "execution_count": 16,
      "outputs": [
        {
          "output_type": "execute_result",
          "data": {
            "text/plain": [
              "user_id         0\n",
              "song_id         0\n",
              "listen_count    0\n",
              "dtype: int64"
            ]
          },
          "metadata": {},
          "execution_count": 16
        }
      ]
    },
    {
      "cell_type": "code",
      "source": [
        "#Number of unique values in each column of count_df\n",
        "count_df.nunique()"
      ],
      "metadata": {
        "colab": {
          "base_uri": "https://localhost:8080/"
        },
        "id": "zY97MJoWxRqv",
        "outputId": "953ed27b-e228-4e7d-fc8f-70095d68622b"
      },
      "execution_count": 17,
      "outputs": [
        {
          "output_type": "execute_result",
          "data": {
            "text/plain": [
              "user_id         76353\n",
              "song_id         10000\n",
              "listen_count      295\n",
              "dtype: int64"
            ]
          },
          "metadata": {},
          "execution_count": 17
        }
      ]
    },
    {
      "cell_type": "markdown",
      "source": [
        "Initial insights:\n",
        "- The df has 2000000 user-song interactions.\n",
        "- There are no missing values.\n",
        "- There are 76353 unique users.\n",
        "- There are 10000 songs played by the users - meaning that we have a lot of \"unused\" songs in the songs_df dataset."
      ],
      "metadata": {
        "id": "ypCifRHf_H9E"
      }
    },
    {
      "cell_type": "markdown",
      "source": [
        "## Merging the data"
      ],
      "metadata": {
        "id": "HGCZ7ah8iOMa"
      }
    },
    {
      "cell_type": "markdown",
      "source": [
        "Now we will create a merged dataframe of the two dfs, and at the same time, to get rid of the repeating songs in the song table.<br>\n",
        "From the resulting combination we will get rid of duplicates according to the identification key of a user with a song."
      ],
      "metadata": {
        "id": "nWApBbrqGpMs"
      }
    },
    {
      "cell_type": "code",
      "source": [
        "# Merge count_df and song_df by song_id\n",
        "combined_df = count_df.merge(song_df.drop_duplicates('song_id'), how='left', on='song_id').drop_duplicates()"
      ],
      "metadata": {
        "id": "TGLop-oJif8v"
      },
      "execution_count": 18,
      "outputs": []
    },
    {
      "cell_type": "code",
      "source": [
        "combined_df"
      ],
      "metadata": {
        "colab": {
          "base_uri": "https://localhost:8080/",
          "height": 424
        },
        "id": "-OyqI6dNsYkr",
        "outputId": "0f9b52f1-02c8-4737-8eee-f529279c9d14"
      },
      "execution_count": 19,
      "outputs": [
        {
          "output_type": "execute_result",
          "data": {
            "text/plain": [
              "                                          user_id             song_id  \\\n",
              "0        b80344d063b5ccb3212f76538f3d9e43d87dca9e  SOAKIMP12A8C130995   \n",
              "1        b80344d063b5ccb3212f76538f3d9e43d87dca9e  SOBBMDR12A8C13253B   \n",
              "2        b80344d063b5ccb3212f76538f3d9e43d87dca9e  SOBXHDL12A81C204C0   \n",
              "3        b80344d063b5ccb3212f76538f3d9e43d87dca9e  SOBYHAJ12A6701BF1D   \n",
              "4        b80344d063b5ccb3212f76538f3d9e43d87dca9e  SODACBL12A8C13C273   \n",
              "...                                           ...                 ...   \n",
              "1999995  d8bfd4ec88f0f3773a9e022e3c1a0f1d3b7b6a92  SOJEYPO12AAA8C6B0E   \n",
              "1999996  d8bfd4ec88f0f3773a9e022e3c1a0f1d3b7b6a92  SOJJYDE12AF729FC16   \n",
              "1999997  d8bfd4ec88f0f3773a9e022e3c1a0f1d3b7b6a92  SOJKQSF12A6D4F5EE9   \n",
              "1999998  d8bfd4ec88f0f3773a9e022e3c1a0f1d3b7b6a92  SOJUXGA12AC961885C   \n",
              "1999999  d8bfd4ec88f0f3773a9e022e3c1a0f1d3b7b6a92  SOJYOLS12A8C13C06F   \n",
              "\n",
              "         listen_count                           title  \\\n",
              "0                   1                        The Cove   \n",
              "1                   2                 Entre Dos Aguas   \n",
              "2                   1                        Stronger   \n",
              "3                   1                  Constellations   \n",
              "4                   1                    Learn To Fly   \n",
              "...               ...                             ...   \n",
              "1999995             2       Ignorance (Album Version)   \n",
              "1999996             4          Two Is Better Than One   \n",
              "1999997             3  What I've Done (Album Version)   \n",
              "1999998             1                              Up   \n",
              "1999999             1      Soil_ Soil (Album Version)   \n",
              "\n",
              "                               release  \\\n",
              "0                   Thicker Than Water   \n",
              "1                  Flamenco Para Niños   \n",
              "2                           Graduation   \n",
              "3                    In Between Dreams   \n",
              "4        There Is Nothing Left To Lose   \n",
              "...                                ...   \n",
              "1999995                      Ignorance   \n",
              "1999996                     Love Drunk   \n",
              "1999997                 What I've Done   \n",
              "1999998                      My Worlds   \n",
              "1999999                        The Con   \n",
              "\n",
              "                                    artist_name  year  \n",
              "0                                  Jack Johnson     0  \n",
              "1                                 Paco De Lucia  1976  \n",
              "2                                    Kanye West  2007  \n",
              "3                                  Jack Johnson  2005  \n",
              "4                                  Foo Fighters  1999  \n",
              "...                                         ...   ...  \n",
              "1999995                                Paramore     0  \n",
              "1999996  Boys Like Girls featuring Taylor Swift  2009  \n",
              "1999997                             Linkin Park  2007  \n",
              "1999998                           Justin Bieber  2010  \n",
              "1999999                          Tegan And Sara  2007  \n",
              "\n",
              "[2000000 rows x 7 columns]"
            ],
            "text/html": [
              "\n",
              "  <div id=\"df-709b11ab-776c-490b-9bf9-1ea34a2ed93b\" class=\"colab-df-container\">\n",
              "    <div>\n",
              "<style scoped>\n",
              "    .dataframe tbody tr th:only-of-type {\n",
              "        vertical-align: middle;\n",
              "    }\n",
              "\n",
              "    .dataframe tbody tr th {\n",
              "        vertical-align: top;\n",
              "    }\n",
              "\n",
              "    .dataframe thead th {\n",
              "        text-align: right;\n",
              "    }\n",
              "</style>\n",
              "<table border=\"1\" class=\"dataframe\">\n",
              "  <thead>\n",
              "    <tr style=\"text-align: right;\">\n",
              "      <th></th>\n",
              "      <th>user_id</th>\n",
              "      <th>song_id</th>\n",
              "      <th>listen_count</th>\n",
              "      <th>title</th>\n",
              "      <th>release</th>\n",
              "      <th>artist_name</th>\n",
              "      <th>year</th>\n",
              "    </tr>\n",
              "  </thead>\n",
              "  <tbody>\n",
              "    <tr>\n",
              "      <th>0</th>\n",
              "      <td>b80344d063b5ccb3212f76538f3d9e43d87dca9e</td>\n",
              "      <td>SOAKIMP12A8C130995</td>\n",
              "      <td>1</td>\n",
              "      <td>The Cove</td>\n",
              "      <td>Thicker Than Water</td>\n",
              "      <td>Jack Johnson</td>\n",
              "      <td>0</td>\n",
              "    </tr>\n",
              "    <tr>\n",
              "      <th>1</th>\n",
              "      <td>b80344d063b5ccb3212f76538f3d9e43d87dca9e</td>\n",
              "      <td>SOBBMDR12A8C13253B</td>\n",
              "      <td>2</td>\n",
              "      <td>Entre Dos Aguas</td>\n",
              "      <td>Flamenco Para Niños</td>\n",
              "      <td>Paco De Lucia</td>\n",
              "      <td>1976</td>\n",
              "    </tr>\n",
              "    <tr>\n",
              "      <th>2</th>\n",
              "      <td>b80344d063b5ccb3212f76538f3d9e43d87dca9e</td>\n",
              "      <td>SOBXHDL12A81C204C0</td>\n",
              "      <td>1</td>\n",
              "      <td>Stronger</td>\n",
              "      <td>Graduation</td>\n",
              "      <td>Kanye West</td>\n",
              "      <td>2007</td>\n",
              "    </tr>\n",
              "    <tr>\n",
              "      <th>3</th>\n",
              "      <td>b80344d063b5ccb3212f76538f3d9e43d87dca9e</td>\n",
              "      <td>SOBYHAJ12A6701BF1D</td>\n",
              "      <td>1</td>\n",
              "      <td>Constellations</td>\n",
              "      <td>In Between Dreams</td>\n",
              "      <td>Jack Johnson</td>\n",
              "      <td>2005</td>\n",
              "    </tr>\n",
              "    <tr>\n",
              "      <th>4</th>\n",
              "      <td>b80344d063b5ccb3212f76538f3d9e43d87dca9e</td>\n",
              "      <td>SODACBL12A8C13C273</td>\n",
              "      <td>1</td>\n",
              "      <td>Learn To Fly</td>\n",
              "      <td>There Is Nothing Left To Lose</td>\n",
              "      <td>Foo Fighters</td>\n",
              "      <td>1999</td>\n",
              "    </tr>\n",
              "    <tr>\n",
              "      <th>...</th>\n",
              "      <td>...</td>\n",
              "      <td>...</td>\n",
              "      <td>...</td>\n",
              "      <td>...</td>\n",
              "      <td>...</td>\n",
              "      <td>...</td>\n",
              "      <td>...</td>\n",
              "    </tr>\n",
              "    <tr>\n",
              "      <th>1999995</th>\n",
              "      <td>d8bfd4ec88f0f3773a9e022e3c1a0f1d3b7b6a92</td>\n",
              "      <td>SOJEYPO12AAA8C6B0E</td>\n",
              "      <td>2</td>\n",
              "      <td>Ignorance (Album Version)</td>\n",
              "      <td>Ignorance</td>\n",
              "      <td>Paramore</td>\n",
              "      <td>0</td>\n",
              "    </tr>\n",
              "    <tr>\n",
              "      <th>1999996</th>\n",
              "      <td>d8bfd4ec88f0f3773a9e022e3c1a0f1d3b7b6a92</td>\n",
              "      <td>SOJJYDE12AF729FC16</td>\n",
              "      <td>4</td>\n",
              "      <td>Two Is Better Than One</td>\n",
              "      <td>Love Drunk</td>\n",
              "      <td>Boys Like Girls featuring Taylor Swift</td>\n",
              "      <td>2009</td>\n",
              "    </tr>\n",
              "    <tr>\n",
              "      <th>1999997</th>\n",
              "      <td>d8bfd4ec88f0f3773a9e022e3c1a0f1d3b7b6a92</td>\n",
              "      <td>SOJKQSF12A6D4F5EE9</td>\n",
              "      <td>3</td>\n",
              "      <td>What I've Done (Album Version)</td>\n",
              "      <td>What I've Done</td>\n",
              "      <td>Linkin Park</td>\n",
              "      <td>2007</td>\n",
              "    </tr>\n",
              "    <tr>\n",
              "      <th>1999998</th>\n",
              "      <td>d8bfd4ec88f0f3773a9e022e3c1a0f1d3b7b6a92</td>\n",
              "      <td>SOJUXGA12AC961885C</td>\n",
              "      <td>1</td>\n",
              "      <td>Up</td>\n",
              "      <td>My Worlds</td>\n",
              "      <td>Justin Bieber</td>\n",
              "      <td>2010</td>\n",
              "    </tr>\n",
              "    <tr>\n",
              "      <th>1999999</th>\n",
              "      <td>d8bfd4ec88f0f3773a9e022e3c1a0f1d3b7b6a92</td>\n",
              "      <td>SOJYOLS12A8C13C06F</td>\n",
              "      <td>1</td>\n",
              "      <td>Soil_ Soil (Album Version)</td>\n",
              "      <td>The Con</td>\n",
              "      <td>Tegan And Sara</td>\n",
              "      <td>2007</td>\n",
              "    </tr>\n",
              "  </tbody>\n",
              "</table>\n",
              "<p>2000000 rows × 7 columns</p>\n",
              "</div>\n",
              "    <div class=\"colab-df-buttons\">\n",
              "\n",
              "  <div class=\"colab-df-container\">\n",
              "    <button class=\"colab-df-convert\" onclick=\"convertToInteractive('df-709b11ab-776c-490b-9bf9-1ea34a2ed93b')\"\n",
              "            title=\"Convert this dataframe to an interactive table.\"\n",
              "            style=\"display:none;\">\n",
              "\n",
              "  <svg xmlns=\"http://www.w3.org/2000/svg\" height=\"24px\" viewBox=\"0 -960 960 960\">\n",
              "    <path d=\"M120-120v-720h720v720H120Zm60-500h600v-160H180v160Zm220 220h160v-160H400v160Zm0 220h160v-160H400v160ZM180-400h160v-160H180v160Zm440 0h160v-160H620v160ZM180-180h160v-160H180v160Zm440 0h160v-160H620v160Z\"/>\n",
              "  </svg>\n",
              "    </button>\n",
              "\n",
              "  <style>\n",
              "    .colab-df-container {\n",
              "      display:flex;\n",
              "      gap: 12px;\n",
              "    }\n",
              "\n",
              "    .colab-df-convert {\n",
              "      background-color: #E8F0FE;\n",
              "      border: none;\n",
              "      border-radius: 50%;\n",
              "      cursor: pointer;\n",
              "      display: none;\n",
              "      fill: #1967D2;\n",
              "      height: 32px;\n",
              "      padding: 0 0 0 0;\n",
              "      width: 32px;\n",
              "    }\n",
              "\n",
              "    .colab-df-convert:hover {\n",
              "      background-color: #E2EBFA;\n",
              "      box-shadow: 0px 1px 2px rgba(60, 64, 67, 0.3), 0px 1px 3px 1px rgba(60, 64, 67, 0.15);\n",
              "      fill: #174EA6;\n",
              "    }\n",
              "\n",
              "    .colab-df-buttons div {\n",
              "      margin-bottom: 4px;\n",
              "    }\n",
              "\n",
              "    [theme=dark] .colab-df-convert {\n",
              "      background-color: #3B4455;\n",
              "      fill: #D2E3FC;\n",
              "    }\n",
              "\n",
              "    [theme=dark] .colab-df-convert:hover {\n",
              "      background-color: #434B5C;\n",
              "      box-shadow: 0px 1px 3px 1px rgba(0, 0, 0, 0.15);\n",
              "      filter: drop-shadow(0px 1px 2px rgba(0, 0, 0, 0.3));\n",
              "      fill: #FFFFFF;\n",
              "    }\n",
              "  </style>\n",
              "\n",
              "    <script>\n",
              "      const buttonEl =\n",
              "        document.querySelector('#df-709b11ab-776c-490b-9bf9-1ea34a2ed93b button.colab-df-convert');\n",
              "      buttonEl.style.display =\n",
              "        google.colab.kernel.accessAllowed ? 'block' : 'none';\n",
              "\n",
              "      async function convertToInteractive(key) {\n",
              "        const element = document.querySelector('#df-709b11ab-776c-490b-9bf9-1ea34a2ed93b');\n",
              "        const dataTable =\n",
              "          await google.colab.kernel.invokeFunction('convertToInteractive',\n",
              "                                                    [key], {});\n",
              "        if (!dataTable) return;\n",
              "\n",
              "        const docLinkHtml = 'Like what you see? Visit the ' +\n",
              "          '<a target=\"_blank\" href=https://colab.research.google.com/notebooks/data_table.ipynb>data table notebook</a>'\n",
              "          + ' to learn more about interactive tables.';\n",
              "        element.innerHTML = '';\n",
              "        dataTable['output_type'] = 'display_data';\n",
              "        await google.colab.output.renderOutput(dataTable, element);\n",
              "        const docLink = document.createElement('div');\n",
              "        docLink.innerHTML = docLinkHtml;\n",
              "        element.appendChild(docLink);\n",
              "      }\n",
              "    </script>\n",
              "  </div>\n",
              "\n",
              "\n",
              "<div id=\"df-d51821a2-a468-4c5b-a359-915ab62ef506\">\n",
              "  <button class=\"colab-df-quickchart\" onclick=\"quickchart('df-d51821a2-a468-4c5b-a359-915ab62ef506')\"\n",
              "            title=\"Suggest charts\"\n",
              "            style=\"display:none;\">\n",
              "\n",
              "<svg xmlns=\"http://www.w3.org/2000/svg\" height=\"24px\"viewBox=\"0 0 24 24\"\n",
              "     width=\"24px\">\n",
              "    <g>\n",
              "        <path d=\"M19 3H5c-1.1 0-2 .9-2 2v14c0 1.1.9 2 2 2h14c1.1 0 2-.9 2-2V5c0-1.1-.9-2-2-2zM9 17H7v-7h2v7zm4 0h-2V7h2v10zm4 0h-2v-4h2v4z\"/>\n",
              "    </g>\n",
              "</svg>\n",
              "  </button>\n",
              "\n",
              "<style>\n",
              "  .colab-df-quickchart {\n",
              "      --bg-color: #E8F0FE;\n",
              "      --fill-color: #1967D2;\n",
              "      --hover-bg-color: #E2EBFA;\n",
              "      --hover-fill-color: #174EA6;\n",
              "      --disabled-fill-color: #AAA;\n",
              "      --disabled-bg-color: #DDD;\n",
              "  }\n",
              "\n",
              "  [theme=dark] .colab-df-quickchart {\n",
              "      --bg-color: #3B4455;\n",
              "      --fill-color: #D2E3FC;\n",
              "      --hover-bg-color: #434B5C;\n",
              "      --hover-fill-color: #FFFFFF;\n",
              "      --disabled-bg-color: #3B4455;\n",
              "      --disabled-fill-color: #666;\n",
              "  }\n",
              "\n",
              "  .colab-df-quickchart {\n",
              "    background-color: var(--bg-color);\n",
              "    border: none;\n",
              "    border-radius: 50%;\n",
              "    cursor: pointer;\n",
              "    display: none;\n",
              "    fill: var(--fill-color);\n",
              "    height: 32px;\n",
              "    padding: 0;\n",
              "    width: 32px;\n",
              "  }\n",
              "\n",
              "  .colab-df-quickchart:hover {\n",
              "    background-color: var(--hover-bg-color);\n",
              "    box-shadow: 0 1px 2px rgba(60, 64, 67, 0.3), 0 1px 3px 1px rgba(60, 64, 67, 0.15);\n",
              "    fill: var(--button-hover-fill-color);\n",
              "  }\n",
              "\n",
              "  .colab-df-quickchart-complete:disabled,\n",
              "  .colab-df-quickchart-complete:disabled:hover {\n",
              "    background-color: var(--disabled-bg-color);\n",
              "    fill: var(--disabled-fill-color);\n",
              "    box-shadow: none;\n",
              "  }\n",
              "\n",
              "  .colab-df-spinner {\n",
              "    border: 2px solid var(--fill-color);\n",
              "    border-color: transparent;\n",
              "    border-bottom-color: var(--fill-color);\n",
              "    animation:\n",
              "      spin 1s steps(1) infinite;\n",
              "  }\n",
              "\n",
              "  @keyframes spin {\n",
              "    0% {\n",
              "      border-color: transparent;\n",
              "      border-bottom-color: var(--fill-color);\n",
              "      border-left-color: var(--fill-color);\n",
              "    }\n",
              "    20% {\n",
              "      border-color: transparent;\n",
              "      border-left-color: var(--fill-color);\n",
              "      border-top-color: var(--fill-color);\n",
              "    }\n",
              "    30% {\n",
              "      border-color: transparent;\n",
              "      border-left-color: var(--fill-color);\n",
              "      border-top-color: var(--fill-color);\n",
              "      border-right-color: var(--fill-color);\n",
              "    }\n",
              "    40% {\n",
              "      border-color: transparent;\n",
              "      border-right-color: var(--fill-color);\n",
              "      border-top-color: var(--fill-color);\n",
              "    }\n",
              "    60% {\n",
              "      border-color: transparent;\n",
              "      border-right-color: var(--fill-color);\n",
              "    }\n",
              "    80% {\n",
              "      border-color: transparent;\n",
              "      border-right-color: var(--fill-color);\n",
              "      border-bottom-color: var(--fill-color);\n",
              "    }\n",
              "    90% {\n",
              "      border-color: transparent;\n",
              "      border-bottom-color: var(--fill-color);\n",
              "    }\n",
              "  }\n",
              "</style>\n",
              "\n",
              "  <script>\n",
              "    async function quickchart(key) {\n",
              "      const quickchartButtonEl =\n",
              "        document.querySelector('#' + key + ' button');\n",
              "      quickchartButtonEl.disabled = true;  // To prevent multiple clicks.\n",
              "      quickchartButtonEl.classList.add('colab-df-spinner');\n",
              "      try {\n",
              "        const charts = await google.colab.kernel.invokeFunction(\n",
              "            'suggestCharts', [key], {});\n",
              "      } catch (error) {\n",
              "        console.error('Error during call to suggestCharts:', error);\n",
              "      }\n",
              "      quickchartButtonEl.classList.remove('colab-df-spinner');\n",
              "      quickchartButtonEl.classList.add('colab-df-quickchart-complete');\n",
              "    }\n",
              "    (() => {\n",
              "      let quickchartButtonEl =\n",
              "        document.querySelector('#df-d51821a2-a468-4c5b-a359-915ab62ef506 button');\n",
              "      quickchartButtonEl.style.display =\n",
              "        google.colab.kernel.accessAllowed ? 'block' : 'none';\n",
              "    })();\n",
              "  </script>\n",
              "</div>\n",
              "    </div>\n",
              "  </div>\n"
            ],
            "application/vnd.google.colaboratory.intrinsic+json": {
              "type": "dataframe",
              "variable_name": "combined_df"
            }
          },
          "metadata": {},
          "execution_count": 19
        }
      ]
    },
    {
      "cell_type": "markdown",
      "source": [
        "# Exploratory Data Analysis"
      ],
      "metadata": {
        "id": "Wm5QD4lUigH8"
      }
    },
    {
      "cell_type": "markdown",
      "source": [
        "## Basic Analysis"
      ],
      "metadata": {
        "id": "qkJFCKRIjnuW"
      }
    },
    {
      "cell_type": "code",
      "source": [
        "df = combined_df.copy()"
      ],
      "metadata": {
        "id": "mpHFFcRFVhSi"
      },
      "execution_count": 20,
      "outputs": []
    },
    {
      "cell_type": "code",
      "source": [
        "# Shape of the data\n",
        "df.shape"
      ],
      "metadata": {
        "colab": {
          "base_uri": "https://localhost:8080/"
        },
        "id": "Q6NM4TXd9jy1",
        "outputId": "114a8747-16cc-4c9f-fa29-8ca87d4e043d"
      },
      "execution_count": 21,
      "outputs": [
        {
          "output_type": "execute_result",
          "data": {
            "text/plain": [
              "(2000000, 7)"
            ]
          },
          "metadata": {},
          "execution_count": 21
        }
      ]
    },
    {
      "cell_type": "markdown",
      "source": [
        "Looking at the types of the df:"
      ],
      "metadata": {
        "id": "UoocNtNWHxcv"
      }
    },
    {
      "cell_type": "code",
      "source": [
        "#Checking Data Types\n",
        "df.dtypes"
      ],
      "metadata": {
        "colab": {
          "base_uri": "https://localhost:8080/"
        },
        "id": "7zYNr9jGVs0c",
        "outputId": "832de05d-887c-41e5-874c-39cd88dd5ec0"
      },
      "execution_count": 22,
      "outputs": [
        {
          "output_type": "execute_result",
          "data": {
            "text/plain": [
              "user_id         object\n",
              "song_id         object\n",
              "listen_count     int64\n",
              "title           object\n",
              "release         object\n",
              "artist_name     object\n",
              "year             int64\n",
              "dtype: object"
            ]
          },
          "metadata": {},
          "execution_count": 22
        }
      ]
    },
    {
      "cell_type": "markdown",
      "metadata": {
        "id": "DUVv1jCKPHHW"
      },
      "source": [
        "Based on our knowledge of the features and the data displayed above we can conclude that: <br>\n",
        "\n",
        "Our dataset consists 7 features and 2000000 observations.\n",
        "The features types :\n",
        "\n",
        "`user_id`, `song_id` - are unique variables, thus we leave them as <u><b>String (Object)</b></u> data types.\n",
        "\n",
        "`listen_count` is a <u><b>Numeric</b></u> data type.\n",
        "\n",
        "`title`, `release` and `artist_name` - are <u><b>String (Object)</b></u> data types.\n",
        "\n",
        "`year` is a <u><b>Categorial</b></u> data type.\n"
      ]
    },
    {
      "cell_type": "code",
      "source": [
        "def change_data_types(df):\n",
        "\n",
        "  df['user_id'] = df['user_id'].astype('object')\n",
        "  df['song_id'] = df['song_id'].astype('object')\n",
        "  df['listen_count'] = df['listen_count'].astype('int64')\n",
        "  df['title'] = df['title'].astype('object')\n",
        "  df['release'] = df['release'].astype('object')\n",
        "  df['artist_name'] = df['artist_name'].astype('object')\n",
        "  df['year'] = df['year'].astype('int64')\n",
        "\n",
        "  return df"
      ],
      "metadata": {
        "id": "vozvK_D8greF"
      },
      "execution_count": 23,
      "outputs": []
    },
    {
      "cell_type": "code",
      "source": [
        "df = change_data_types(df)"
      ],
      "metadata": {
        "id": "OjS2Ie6Sg285"
      },
      "execution_count": 24,
      "outputs": []
    },
    {
      "cell_type": "code",
      "source": [
        "df.dtypes"
      ],
      "metadata": {
        "id": "BrnQidwahVvB",
        "outputId": "8c56753b-04ae-4e63-f213-c502a8505bff",
        "colab": {
          "base_uri": "https://localhost:8080/"
        }
      },
      "execution_count": 25,
      "outputs": [
        {
          "output_type": "execute_result",
          "data": {
            "text/plain": [
              "user_id         object\n",
              "song_id         object\n",
              "listen_count     int64\n",
              "title           object\n",
              "release         object\n",
              "artist_name     object\n",
              "year             int64\n",
              "dtype: object"
            ]
          },
          "metadata": {},
          "execution_count": 25
        }
      ]
    },
    {
      "cell_type": "markdown",
      "source": [
        "Describe function will not discribe the \"year\" feature well. We dont want it to make an average of the years or its std and etc.. It has no meaning for us."
      ],
      "metadata": {
        "id": "zbhwPDlMbgnA"
      }
    },
    {
      "cell_type": "code",
      "source": [
        "#Summary Statistics (of Numeric features)\n",
        "# Excluding the 'year' column from df.describe()\n",
        "describe_without_year = df.drop(columns=['year']).describe()\n",
        "\n",
        "# Displaying the descriptive statistics\n",
        "print(describe_without_year)\n"
      ],
      "metadata": {
        "colab": {
          "base_uri": "https://localhost:8080/"
        },
        "id": "XkVHHEccVyC4",
        "outputId": "81a0d58c-3159-4dad-bc38-a5a63e813269"
      },
      "execution_count": 26,
      "outputs": [
        {
          "output_type": "stream",
          "name": "stdout",
          "text": [
            "       listen_count\n",
            "count  2.000000e+06\n",
            "mean   3.045485e+00\n",
            "std    6.579720e+00\n",
            "min    1.000000e+00\n",
            "25%    1.000000e+00\n",
            "50%    1.000000e+00\n",
            "75%    3.000000e+00\n",
            "max    2.213000e+03\n"
          ]
        }
      ]
    },
    {
      "cell_type": "code",
      "source": [
        "#Missing Values\n",
        "df.isnull().sum()"
      ],
      "metadata": {
        "colab": {
          "base_uri": "https://localhost:8080/"
        },
        "id": "cmJ2o7U_V1Qg",
        "outputId": "7e28ab3c-f0b8-4624-b709-af2e95509e33"
      },
      "execution_count": 27,
      "outputs": [
        {
          "output_type": "execute_result",
          "data": {
            "text/plain": [
              "user_id         0\n",
              "song_id         0\n",
              "listen_count    0\n",
              "title           0\n",
              "release         0\n",
              "artist_name     0\n",
              "year            0\n",
              "dtype: int64"
            ]
          },
          "metadata": {},
          "execution_count": 27
        }
      ]
    },
    {
      "cell_type": "markdown",
      "source": [
        "As we can see, in the meantime, we solved the problem of the missing values we have obsered before in the df.songs. <br>\n",
        "All the songs that were played by the users are without missing values in their metadata."
      ],
      "metadata": {
        "id": "zDbISUgHG-ge"
      }
    },
    {
      "cell_type": "code",
      "source": [
        "#Unique Values\n",
        "df.nunique()"
      ],
      "metadata": {
        "colab": {
          "base_uri": "https://localhost:8080/"
        },
        "id": "RQ90w1QuV83O",
        "outputId": "0b655c0b-f406-4423-834a-cafdeb07a1b1"
      },
      "execution_count": 28,
      "outputs": [
        {
          "output_type": "execute_result",
          "data": {
            "text/plain": [
              "user_id         76353\n",
              "song_id         10000\n",
              "listen_count      295\n",
              "title            9567\n",
              "release          5388\n",
              "artist_name      3375\n",
              "year               58\n",
              "dtype: int64"
            ]
          },
          "metadata": {},
          "execution_count": 28
        }
      ]
    },
    {
      "cell_type": "markdown",
      "source": [
        "Finally, we have a total of 76000 different users listening to 10000 different songs."
      ],
      "metadata": {
        "id": "qqsajEUmHYiH"
      }
    },
    {
      "cell_type": "markdown",
      "source": [
        "## Advanced Analysis and Visualizations"
      ],
      "metadata": {
        "id": "SEA7knfAh4za"
      }
    },
    {
      "cell_type": "markdown",
      "source": [
        "After dealing with the regular EDA of the features, now we would try and find some outliers or sparse data that is hidden in the dimensions of the data:"
      ],
      "metadata": {
        "id": "GQcinQqxjHH9"
      }
    },
    {
      "cell_type": "markdown",
      "source": [
        "We can devide this section into sub-sections based on each feature in the following way:\n",
        "- Song analysis\n",
        "- Album analysis\n",
        "- Artist analysis\n",
        "- User anaysis\n",
        "\n",
        "We will try to find key components that may lead to a deeper understanding of the data and maybe draw some important conclusions for the following sections of our project."
      ],
      "metadata": {
        "id": "-i9CHomrj4OI"
      }
    },
    {
      "cell_type": "markdown",
      "source": [
        "### Song analysis"
      ],
      "metadata": {
        "id": "BY6acd5PkqbD"
      }
    },
    {
      "cell_type": "markdown",
      "source": [
        "Let's take a look at the top listened songs:"
      ],
      "metadata": {
        "id": "5bMIxmE4XP18"
      }
    },
    {
      "cell_type": "code",
      "source": [
        "def plot_top_songs(df, n=10):\n",
        "    # Calculate the total listen counts for each song\n",
        "    listen_counts = df.groupby('title')['listen_count'].sum()\n",
        "\n",
        "    # Sort the songs by listen counts in descending order\n",
        "    listen_counts = listen_counts.sort_values(ascending=False)\n",
        "\n",
        "    # Select the top n songs\n",
        "    top_songs = listen_counts.head(n)\n",
        "\n",
        "    # Printing the top songs\n",
        "    print(\"Top\", n, \"Songs:\")\n",
        "    print(top_songs)\n",
        "\n",
        "    # Plotting the top songs\n",
        "    plt.figure(figsize=(10, 6))\n",
        "    top_songs.plot(kind='bar', color='skyblue')\n",
        "    plt.title('Top {} Most Played Songs'.format(n))\n",
        "    plt.xlabel('Song Title')\n",
        "    plt.ylabel('Listen Count')\n",
        "    plt.xticks(rotation=45, ha='right')  # Rotate x-axis labels for better readability\n",
        "    plt.tight_layout()  # Adjust layout to prevent clipping of labels\n",
        "    plt.show()"
      ],
      "metadata": {
        "id": "nNlxyOSoguWQ"
      },
      "execution_count": 29,
      "outputs": []
    },
    {
      "cell_type": "code",
      "source": [
        "# Plot the top 10 songs\n",
        "plot_top_songs(df)"
      ],
      "metadata": {
        "colab": {
          "base_uri": "https://localhost:8080/",
          "height": 833
        },
        "id": "tVHSCFE29SX3",
        "outputId": "2391200d-cdd9-4592-a484-0f3d90cd5cf3"
      },
      "execution_count": 30,
      "outputs": [
        {
          "output_type": "stream",
          "name": "stdout",
          "text": [
            "Top 10 Songs:\n",
            "title\n",
            "You're The One                                                         54915\n",
            "Undo                                                                   49253\n",
            "Revelry                                                                41418\n",
            "Horn Concerto No. 4 in E flat K495: II. Romance (Andante cantabile)    31153\n",
            "Sehr kosmisch                                                          31036\n",
            "Dog Days Are Over (Radio Edit)                                         26663\n",
            "Secrets                                                                22100\n",
            "Canada                                                                 21019\n",
            "Invalid                                                                19645\n",
            "Ain't Misbehavin                                                       18309\n",
            "Name: listen_count, dtype: int64\n"
          ]
        },
        {
          "output_type": "display_data",
          "data": {
            "text/plain": [
              "<Figure size 1000x600 with 1 Axes>"
            ],
            "image/png": "[encoded data removed]"
          },
          "metadata": {}
        }
      ]
    },
    {
      "cell_type": "code",
      "source": [
        "def count_users_per_song(df):\n",
        "    \"\"\"\n",
        "    Count the number of different users who listened to each song and sort the result by the number of users.\n",
        "\n",
        "    Parameters:\n",
        "        df (DataFrame): The DataFrame containing the song data.\n",
        "\n",
        "    Returns:\n",
        "        DataFrame: A DataFrame containing the song_id and the number of different users who listened to each song,\n",
        "                   sorted by the number of users in descending order.\n",
        "    \"\"\"\n",
        "    # Group the DataFrame by 'song_id' and count the number of unique 'user_id' for each song\n",
        "    users_per_song = df.groupby('song_id')['user_id'].nunique().reset_index(name='num_users')\n",
        "\n",
        "    # Sort the DataFrame by 'num_users' in descending order\n",
        "    users_per_song_sorted = users_per_song.sort_values(by='num_users', ascending=False)\n",
        "\n",
        "    return users_per_song_sorted"
      ],
      "metadata": {
        "id": "NNAcvWscsHCe"
      },
      "execution_count": 31,
      "outputs": []
    },
    {
      "cell_type": "code",
      "source": [
        "users_per_song_df = count_users_per_song(df)\n",
        "print(users_per_song_df)"
      ],
      "metadata": {
        "colab": {
          "base_uri": "https://localhost:8080/"
        },
        "id": "rXKHq69nsJMw",
        "outputId": "85c454c4-3cdc-4e00-bc1e-ed327f765efc"
      },
      "execution_count": 32,
      "outputs": [
        {
          "output_type": "stream",
          "name": "stdout",
          "text": [
            "                 song_id  num_users\n",
            "2220  SOFRQTD12A81C233C0       8277\n",
            "317   SOAUWYT12A81C206F1       7032\n",
            "352   SOAXGDH12A8C13F8A1       6949\n",
            "614   SOBONKR12A58A7A7E0       6412\n",
            "7416  SOSXLTC12AF72A7F54       6145\n",
            "...                  ...        ...\n",
            "8747  SOWNLZF12A58A79811         51\n",
            "4492  SOLIGVL12AB017DBAE         51\n",
            "622   SOBPGWB12A6D4F7EF3         50\n",
            "9638  SOYYBJJ12AB017E9FD         48\n",
            "2666  SOGSPGJ12A8C134FAA         48\n",
            "\n",
            "[10000 rows x 2 columns]\n"
          ]
        }
      ]
    },
    {
      "cell_type": "markdown",
      "source": [
        "We can learn that 8277 different users is the highest number of different users listened to a specific song.<br>\n",
        "We can learn that 48 different users is the lowest number of different users listened to a specific song."
      ],
      "metadata": {
        "id": "q3R_vdKCsZYM"
      }
    },
    {
      "cell_type": "markdown",
      "source": [
        "### Artist analysis"
      ],
      "metadata": {
        "id": "rF2YPkwDkuiz"
      }
    },
    {
      "cell_type": "code",
      "source": [
        "def plot_top_artists(df, n=10):\n",
        "    # Calculate the total listen counts for each artist\n",
        "    listen_counts = df.groupby('artist_name')['listen_count'].sum()\n",
        "\n",
        "    # Sort the artists by listen counts in descending order\n",
        "    listen_counts = listen_counts.sort_values(ascending=False)\n",
        "\n",
        "    # Select the top n artists\n",
        "    top_artists = listen_counts.head(n)\n",
        "\n",
        "    # Printing the top artists\n",
        "    print(\"Top\", n, \"Most Listened Artists:\")\n",
        "    print(top_artists)\n",
        "\n",
        "    # Plotting the top artists with a horizontal bar plot\n",
        "    plt.figure(figsize=(12, 6))\n",
        "    sns.barplot(x=top_artists.values, y=top_artists.index, palette='viridis')\n",
        "    plt.title('Top {} Most Listened Artists'.format(n))\n",
        "    plt.xlabel('Total Listen Count')\n",
        "    plt.ylabel('Artist')\n",
        "    plt.tight_layout()  # Adjust layout to prevent clipping of labels\n",
        "\n",
        "     # Adding count values next to each bar\n",
        "    for i, count in enumerate(top_artists.values):\n",
        "      plt.text(count, i, str(count), va='center', fontsize=10, color='black', ha='left')\n",
        "\n",
        "    plt.show()\n"
      ],
      "metadata": {
        "id": "htUl7NEc-uyR"
      },
      "execution_count": 33,
      "outputs": []
    },
    {
      "cell_type": "code",
      "source": [
        "# Display the top 10 artists using a horizontal bar plot\n",
        "plot_top_artists(df)"
      ],
      "metadata": {
        "colab": {
          "base_uri": "https://localhost:8080/",
          "height": 833
        },
        "id": "x30Nyn7e-9d9",
        "outputId": "c3501e7d-349d-4852-97e0-50d05bdef1f9"
      },
      "execution_count": 34,
      "outputs": [
        {
          "output_type": "stream",
          "name": "stdout",
          "text": [
            "Top 10 Most Listened Artists:\n",
            "artist_name\n",
            "Coldplay                  70138\n",
            "Kings Of Leon             68570\n",
            "Florence + The Machine    60066\n",
            "Dwight Yoakam             54136\n",
            "Björk                     53814\n",
            "The Black Keys            52220\n",
            "Jack Johnson              44083\n",
            "Justin Bieber             41645\n",
            "OneRepublic               40981\n",
            "Train                     39279\n",
            "Name: listen_count, dtype: int64\n"
          ]
        },
        {
          "output_type": "display_data",
          "data": {
            "text/plain": [
              "<Figure size 1200x600 with 1 Axes>"
            ],
            "image/png": "[encoded data removed]"
          },
          "metadata": {}
        }
      ]
    },
    {
      "cell_type": "markdown",
      "source": [
        "### User analysis"
      ],
      "metadata": {
        "id": "q7SIPB7nk06k"
      }
    },
    {
      "cell_type": "markdown",
      "source": [
        "Now, the top 10 users listened to the most songs:"
      ],
      "metadata": {
        "id": "DM5iEF6Uc5XD"
      }
    },
    {
      "cell_type": "code",
      "source": [
        "def get_top_active_users(df, n=10):\n",
        "    return df.groupby('user_id')['listen_count'].sum().sort_values(ascending=False).head(n)"
      ],
      "metadata": {
        "id": "xxboMiusX1I2"
      },
      "execution_count": 35,
      "outputs": []
    },
    {
      "cell_type": "code",
      "source": [
        "get_top_active_users(df)"
      ],
      "metadata": {
        "id": "QRce3251BmSk",
        "outputId": "ff5e9d53-68a6-4a43-acc4-207d7157519d",
        "colab": {
          "base_uri": "https://localhost:8080/"
        }
      },
      "execution_count": 36,
      "outputs": [
        {
          "output_type": "execute_result",
          "data": {
            "text/plain": [
              "user_id\n",
              "4be305e02f4e72dad1b8ac78e630403543bab994    4426\n",
              "6d625c6557df84b60d90426c0116138b617b9449    3482\n",
              "d13609d62db6df876d3cc388225478618bb7b912    2686\n",
              "0b19fe0fad7ca85693846f7dad047c449784647e    2679\n",
              "283882c3d18ff2ad0e17124002ec02b847d06e9a    2306\n",
              "083a2a59603a605275107c00812a811526c2a0af    2142\n",
              "6a944bfe30ae8d6b873139e8305ae131f1607d5f    2062\n",
              "5ea608df0357ec4fda191cb9316fe8e6e65e3777    2032\n",
              "9c859962257112ad523f1d3c121d35191daa6d2b    2032\n",
              "2231cb435771a1a621ec44e95cdd28b81fad3288    2019\n",
              "Name: listen_count, dtype: int64"
            ]
          },
          "metadata": {},
          "execution_count": 36
        }
      ]
    },
    {
      "cell_type": "code",
      "source": [
        "active_users = get_top_active_users(df, df['user_id'].nunique())"
      ],
      "metadata": {
        "id": "9pRjeLNM0gxk"
      },
      "execution_count": 37,
      "outputs": []
    },
    {
      "cell_type": "code",
      "source": [
        "print(active_users.tail(10))\n",
        "# top_users = active_users.sort_values(ascending=True)\n",
        "# print(active_users.head(10))"
      ],
      "metadata": {
        "id": "lLJaYfYq3i5r",
        "outputId": "c5f1b3d2-71e0-4df1-b869-8262ebef4e8f",
        "colab": {
          "base_uri": "https://localhost:8080/"
        }
      },
      "execution_count": 38,
      "outputs": [
        {
          "output_type": "stream",
          "name": "stdout",
          "text": [
            "user_id\n",
            "61852978edc728c089d76305b091f7dba267906f    1\n",
            "fe71b720774e9b7d61a440ba733435ce74c1e758    1\n",
            "66c75cd7a58ca33e891f3fe337f5b01ca8d551b2    1\n",
            "89fbc18cbd68c3c2ecf9fa4785bcc718e283bf3a    1\n",
            "38043f5b8555cf4ca12b1bd9e7ffa9cb20219273    1\n",
            "a2ccedb6c8cab158555dc46e4cf175d841bf9f76    1\n",
            "0d36fd1b02deb79387e41b33178b8dc6abdec809    1\n",
            "bfd6cfaf4a0e517336cda1fe1a7bdd61231b8b7e    1\n",
            "1562638492e568bb20f2d3df4efb81ae267566c3    1\n",
            "8ca982d9b955055e6b24ba5e6fad49b848919400    1\n",
            "Name: listen_count, dtype: int64\n"
          ]
        }
      ]
    },
    {
      "cell_type": "code",
      "source": [
        "def plot_user_listen_count_distribution(active_users):\n",
        "\n",
        "    plt.figure(figsize=(10, 6))\n",
        "    plt.hist(active_users, bins=20, color='skyblue', edgecolor='black')\n",
        "    plt.title('Distribution of Listen Count for Active Users')\n",
        "    plt.xlabel('Total Listen Count')\n",
        "    plt.ylabel('Frequency')\n",
        "    plt.grid(True)\n",
        "    plt.show()"
      ],
      "metadata": {
        "id": "U3_LJ4JwwyYq"
      },
      "execution_count": 39,
      "outputs": []
    },
    {
      "cell_type": "code",
      "source": [
        "plot_user_listen_count_distribution(active_users)"
      ],
      "metadata": {
        "id": "8V96613y0tnA",
        "outputId": "882a6cfb-4a72-4820-f96f-59fb209ea24e",
        "colab": {
          "base_uri": "https://localhost:8080/",
          "height": 564
        }
      },
      "execution_count": 40,
      "outputs": [
        {
          "output_type": "display_data",
          "data": {
            "text/plain": [
              "<Figure size 1000x600 with 1 Axes>"
            ],
            "image/png": "[encoded data removed]"
          },
          "metadata": {}
        }
      ]
    },
    {
      "cell_type": "markdown",
      "source": [
        "We can see that there are a lot of users that have listened to only few songs."
      ],
      "metadata": {
        "id": "JOp4y765znUR"
      }
    },
    {
      "cell_type": "code",
      "source": [
        "filtered_users = active_users[active_users > 200]\n",
        "filtered_users"
      ],
      "metadata": {
        "id": "IS8_K8SM0ZFw",
        "outputId": "29cc038f-3587-4dee-b089-8f79a9308d6c",
        "colab": {
          "base_uri": "https://localhost:8080/"
        }
      },
      "execution_count": 41,
      "outputs": [
        {
          "output_type": "execute_result",
          "data": {
            "text/plain": [
              "user_id\n",
              "4be305e02f4e72dad1b8ac78e630403543bab994    4426\n",
              "6d625c6557df84b60d90426c0116138b617b9449    3482\n",
              "d13609d62db6df876d3cc388225478618bb7b912    2686\n",
              "0b19fe0fad7ca85693846f7dad047c449784647e    2679\n",
              "283882c3d18ff2ad0e17124002ec02b847d06e9a    2306\n",
              "                                            ... \n",
              "af399100a4309a29452afbe4a9f5adf2dfd73a67     201\n",
              "5509cb33496db81c861128ffadecec61eaa282c4     201\n",
              "e66b8411936d04dd477b0218b3d9178e6999c001     201\n",
              "f5d1809812524991f107d871319cc9ef171c4a28     201\n",
              "e68da5870e946b3f736ad356daa7d3eee38731a4     201\n",
              "Name: listen_count, Length: 7209, dtype: int64"
            ]
          },
          "metadata": {},
          "execution_count": 41
        }
      ]
    },
    {
      "cell_type": "code",
      "source": [
        "# Count the number of users who their listen count is more than 200 songs\n",
        "num_users_above_200 = len(active_users[active_users > 200])\n",
        "print(\"Number of users who their listen count is more than 200:\", num_users_above_200)\n",
        "num_users_below_or_equal_200 = df['user_id'].nunique() - num_users_above_200\n",
        "print(\"Number of users who their listen count is less than or equal to 200 songs:\", num_users_below_or_equal_200)"
      ],
      "metadata": {
        "colab": {
          "base_uri": "https://localhost:8080/"
        },
        "id": "H7Zg_s9yvmF1",
        "outputId": "bb593fa2-1129-4603-9207-7b2311c84379"
      },
      "execution_count": 42,
      "outputs": [
        {
          "output_type": "stream",
          "name": "stdout",
          "text": [
            "Number of users who their listen count is more than 200: 7209\n",
            "Number of users who their listen count is less than or equal to 200 songs: 69144\n"
          ]
        }
      ]
    },
    {
      "cell_type": "markdown",
      "source": [
        "The results we see here are not good enough. <br>\n",
        "There are only 7209 users with more than 200 listens to songs.<br>\n",
        "Maybe all the listen counts of a user are on only one song? Or to a very small number of songs?? Do we want to include such users in our recommendation model?"
      ],
      "metadata": {
        "id": "o7v3SqeczXE4"
      }
    },
    {
      "cell_type": "code",
      "source": [
        "plot_user_listen_count_distribution(filtered_users)"
      ],
      "metadata": {
        "id": "MmJENGnI3U60",
        "outputId": "7872d100-7fe7-444f-f16b-2cceaacf413a",
        "colab": {
          "base_uri": "https://localhost:8080/",
          "height": 564
        }
      },
      "execution_count": 43,
      "outputs": [
        {
          "output_type": "display_data",
          "data": {
            "text/plain": [
              "<Figure size 1000x600 with 1 Axes>"
            ],
            "image/png": "[encoded data removed]"
          },
          "metadata": {}
        }
      ]
    },
    {
      "cell_type": "markdown",
      "source": [
        "TODO : check how many low listen_counts are there and maybe remove them...\n",
        "Explain what we see better"
      ],
      "metadata": {
        "id": "2y7lO2Y7iO_Q"
      }
    },
    {
      "cell_type": "markdown",
      "source": [
        "Let's look at the number of listens for a deeper understanding:"
      ],
      "metadata": {
        "id": "j_Q1fNU63Ruu"
      }
    },
    {
      "cell_type": "code",
      "source": [
        "listen_count_df = df.groupby('listen_count')['listen_count'].count()\n",
        "\n",
        "sorted_listen_count_df = listen_count_df.sort_values(ascending=False)\n",
        "\n",
        "sorted_listen_count_df.head(20)"
      ],
      "metadata": {
        "id": "7PgUs4qLkpFc",
        "outputId": "477f24e9-347f-4ef2-cfeb-c15cf0d06e7e",
        "colab": {
          "base_uri": "https://localhost:8080/"
        }
      },
      "execution_count": 44,
      "outputs": [
        {
          "output_type": "execute_result",
          "data": {
            "text/plain": [
              "listen_count\n",
              "1     1138433\n",
              "2      313043\n",
              "3      142933\n",
              "5       93136\n",
              "4       82569\n",
              "6       45632\n",
              "7       30920\n",
              "8       22544\n",
              "10      18921\n",
              "9       16753\n",
              "11      12531\n",
              "12       9881\n",
              "13       8025\n",
              "15       6958\n",
              "14       6476\n",
              "16       5357\n",
              "17       4470\n",
              "18       3743\n",
              "20       3309\n",
              "19       3225\n",
              "Name: listen_count, dtype: int64"
            ]
          },
          "metadata": {},
          "execution_count": 44
        }
      ]
    },
    {
      "cell_type": "markdown",
      "source": [
        "We can see that there are 1.13 million out of 2 million plays of songs that the user has heard only once.<br>\n",
        "Can we conclude that he didn't like the song and therefore never heard it again?"
      ],
      "metadata": {
        "id": "kWhZ3Zcn4iJd"
      }
    },
    {
      "cell_type": "code",
      "source": [
        "sorted_listen_count_df.tail(100)"
      ],
      "metadata": {
        "colab": {
          "base_uri": "https://localhost:8080/"
        },
        "id": "Yq97up5S5IKh",
        "outputId": "4b1520a8-0b97-41e3-9e03-7b8221807f16"
      },
      "execution_count": 45,
      "outputs": [
        {
          "output_type": "execute_result",
          "data": {
            "text/plain": [
              "listen_count\n",
              "221     2\n",
              "162     2\n",
              "232     2\n",
              "181     2\n",
              "215     2\n",
              "       ..\n",
              "270     1\n",
              "260     1\n",
              "259     1\n",
              "255     1\n",
              "2213    1\n",
              "Name: listen_count, Length: 100, dtype: int64"
            ]
          },
          "metadata": {},
          "execution_count": 45
        }
      ]
    },
    {
      "cell_type": "markdown",
      "source": [
        "It can be concluded that there is one special user who heard the same song 2213 times.<br>\n",
        "Of course, this greatly favors this particular song."
      ],
      "metadata": {
        "id": "GVfNRM9D8b0i"
      }
    },
    {
      "cell_type": "code",
      "source": [
        "# Get the index label corresponding to the maximum listen_count\n",
        "max_listen_count_index = df['listen_count'].idxmax()\n",
        "\n",
        "# Retrieve the entire row from df using the index label\n",
        "row_with_max_listen_count = df.loc[max_listen_count_index]\n",
        "\n",
        "print(\"Row with the largest listen count:\")\n",
        "print(row_with_max_listen_count)\n"
      ],
      "metadata": {
        "colab": {
          "base_uri": "https://localhost:8080/"
        },
        "id": "qYYFTTm9-dly",
        "outputId": "a383a88f-e0cc-4413-d2d1-38d1410e3213"
      },
      "execution_count": 46,
      "outputs": [
        {
          "output_type": "stream",
          "name": "stdout",
          "text": [
            "Row with the largest listen count:\n",
            "user_id         d13609d62db6df876d3cc388225478618bb7b912\n",
            "song_id                               SOFCGSE12AF72A674F\n",
            "listen_count                                        2213\n",
            "title                                          Starshine\n",
            "release                                         Gorillaz\n",
            "artist_name                                     Gorillaz\n",
            "year                                                2000\n",
            "Name: 1228366, dtype: object\n"
          ]
        }
      ]
    },
    {
      "cell_type": "code",
      "source": [
        "sorted_listen_count_df.sum()"
      ],
      "metadata": {
        "colab": {
          "base_uri": "https://localhost:8080/"
        },
        "id": "Te191-hHM2Hx",
        "outputId": "184c89fe-3a4f-4bf0-e7dc-eb77a7a18848"
      },
      "execution_count": 47,
      "outputs": [
        {
          "output_type": "execute_result",
          "data": {
            "text/plain": [
              "2000000"
            ]
          },
          "metadata": {},
          "execution_count": 47
        }
      ]
    },
    {
      "cell_type": "code",
      "source": [
        "# sorted_listen_count_df.shape"
      ],
      "metadata": {
        "id": "bR3JgWdZk_g0"
      },
      "execution_count": null,
      "outputs": []
    },
    {
      "cell_type": "code",
      "source": [
        "# arr = df['listen_count'].unique()\n",
        "# len(arr)"
      ],
      "metadata": {
        "id": "ngqIfW3ZlNwL"
      },
      "execution_count": null,
      "outputs": []
    },
    {
      "cell_type": "code",
      "source": [
        "# sorted_listen_count_df.sum()"
      ],
      "metadata": {
        "id": "IpViG6eIiJC9"
      },
      "execution_count": null,
      "outputs": []
    },
    {
      "cell_type": "code",
      "source": [
        "# # Plotting the distribution of listen_count\n",
        "# def plot_listen_count_distribution(df):\n",
        "#     plt.figure(figsize=(10, 6))\n",
        "#     plt.hist(df['listen_count'], bins=20, color='skyblue', edgecolor='black')\n",
        "#     plt.title('Distribution of Listen Count')\n",
        "#     plt.xlabel('Listen Count')\n",
        "#     plt.ylabel('Frequency')\n",
        "#     plt.grid(True)\n",
        "#     plt.show()\n",
        "\n",
        "# # Example usage\n",
        "# # Assuming df is your DataFrame\n",
        "# plot_listen_count_distribution(df)"
      ],
      "metadata": {
        "id": "MKdw3BgPWQPK"
      },
      "execution_count": null,
      "outputs": []
    },
    {
      "cell_type": "markdown",
      "source": [
        "We can see that there"
      ],
      "metadata": {
        "id": "wuHs4QoTe0t0"
      }
    },
    {
      "cell_type": "code",
      "source": [
        "# # Define function to plot listen_count distribution\n",
        "# def plot_listen_count_distribution(df):\n",
        "#     plt.figure(figsize=(10, 6))\n",
        "#     plt.hist(df[df['listen_count'] > 0]['listen_count'], bins=20, color='skyblue', edgecolor='black')\n",
        "#     plt.title('Distribution of Listen Count')\n",
        "#     plt.xlabel('Listen Count')\n",
        "#     plt.ylabel('Frequency')\n",
        "#     plt.grid(True)\n",
        "#     plt.show()\n",
        "\n",
        "# # Example usage\n",
        "# # Assuming df is your DataFrame\n",
        "# filtered_df = df[df['listen_count'] >= 12]  # Filter the DataFrame before passing to the function\n",
        "# plot_listen_count_distribution(filtered_df)"
      ],
      "metadata": {
        "id": "3bVr2x5feAQJ"
      },
      "execution_count": null,
      "outputs": []
    },
    {
      "cell_type": "code",
      "source": [
        "# plot_listen_count_distribution(df)\n",
        "# #TODO - DIFFERENT WE RUNNING IT BEFORE AND AFTER THE PRE-PROCCESSING"
      ],
      "metadata": {
        "id": "wMTMoVVzBrpb"
      },
      "execution_count": null,
      "outputs": []
    },
    {
      "cell_type": "code",
      "source": [
        "# #Bar Plot of Listen Counts by Year\n",
        "# def plot_listen_counts_by_year(df):\n",
        "#     plt.figure(figsize=(12, 6))\n",
        "#     sns.barplot(x='year', y='listen_count', data=df, estimator=sum, ci=None)\n",
        "#     plt.xticks(rotation=45)\n",
        "#     plt.title('Total Listen Counts by Year', weight=\"bold\", size=14)\n",
        "#     plt.xlabel('Year')\n",
        "#     plt.ylabel('Total Listen Count')\n",
        "#     plt.show()"
      ],
      "metadata": {
        "id": "OmYUUnqwakjT"
      },
      "execution_count": null,
      "outputs": []
    },
    {
      "cell_type": "code",
      "source": [
        "# plot_listen_counts_by_year(df)"
      ],
      "metadata": {
        "id": "_eBD0cWqBtZn"
      },
      "execution_count": null,
      "outputs": []
    },
    {
      "cell_type": "code",
      "source": [
        "# # Bar Plot of Number of Rows by Year\n",
        "# def plot_rows_by_year(df):\n",
        "#     # Group the DataFrame by 'year' and count the number of rows in each group\n",
        "#     rows_by_year = df.groupby(['year']).size().reset_index(name='num_rows')\n",
        "\n",
        "#     # Plotting the bar plot\n",
        "#     plt.figure(figsize=(12, 6))\n",
        "#     sns.barplot(x='year', y='num_rows', data=rows_by_year, color='skyblue')\n",
        "#     plt.xticks(rotation=45)\n",
        "#     plt.title('Number of Rows by Year', weight=\"bold\", size=14)\n",
        "#     plt.xlabel('Year')\n",
        "#     plt.ylabel('Number of Rows')\n",
        "#     plt.show()"
      ],
      "metadata": {
        "id": "HZQ0RrUOGOsC"
      },
      "execution_count": null,
      "outputs": []
    },
    {
      "cell_type": "code",
      "source": [
        "# # Call the function to plot the number of rows by year\n",
        "# plot_rows_by_year(df)"
      ],
      "metadata": {
        "id": "xeROIBrpL3Kl"
      },
      "execution_count": null,
      "outputs": []
    },
    {
      "cell_type": "markdown",
      "source": [
        "TODO The same but by unique songs, to check again if it works because plots the same."
      ],
      "metadata": {
        "id": "Hf7lb9DmQtMk"
      }
    },
    {
      "cell_type": "code",
      "source": [
        "# Bar Plot of Number of Unique Songs Released by Year\n",
        "def plot_unique_songs_by_year(df):\n",
        "    # Group the DataFrame by 'year' and count the number of unique 'song_id' for each year\n",
        "    unique_songs_by_year = df.groupby('year')['song_id'].nunique().reset_index(name='num_unique_songs')\n",
        "\n",
        "    # Print the number of unique songs released in each year\n",
        "    print(\"Number of Unique Songs Released by Year:\")\n",
        "    print(unique_songs_by_year)\n",
        "\n",
        "    # Plotting the bar plot\n",
        "    plt.figure(figsize=(12, 6))\n",
        "    sns.barplot(x='year', y='num_unique_songs', data=unique_songs_by_year, color='skyblue')\n",
        "    plt.xticks(rotation=45)\n",
        "    plt.title('Number of Unique Songs Released by Year', weight=\"bold\", size=14)\n",
        "    plt.xlabel('Year')\n",
        "    plt.ylabel('Number of Unique Songs Released')\n",
        "    plt.show()\n"
      ],
      "metadata": {
        "id": "wdEag3HA-jde"
      },
      "execution_count": 48,
      "outputs": []
    },
    {
      "cell_type": "code",
      "source": [
        "# Call the function to plot the number of unique songs released by year\n",
        "plot_unique_songs_by_year(df)"
      ],
      "metadata": {
        "colab": {
          "base_uri": "https://localhost:8080/",
          "height": 1000
        },
        "id": "1pWU6nNr_kcX",
        "outputId": "deade833-592f-43d8-9284-78295bdd1dc6"
      },
      "execution_count": 49,
      "outputs": [
        {
          "output_type": "stream",
          "name": "stdout",
          "text": [
            "Number of Unique Songs Released by Year:\n",
            "    year  num_unique_songs\n",
            "0      0              1773\n",
            "1   1954                 1\n",
            "2   1955                 1\n",
            "3   1956                 2\n",
            "4   1957                 1\n",
            "5   1958                 6\n",
            "6   1959                 6\n",
            "7   1960                 5\n",
            "8   1961                 3\n",
            "9   1962                 7\n",
            "10  1963                 6\n",
            "11  1964                14\n",
            "12  1965                16\n",
            "13  1966                15\n",
            "14  1967                23\n",
            "15  1968                29\n",
            "16  1969                29\n",
            "17  1970                47\n",
            "18  1971                22\n",
            "19  1972                36\n",
            "20  1973                25\n",
            "21  1974                31\n",
            "22  1975                22\n",
            "23  1976                25\n",
            "24  1977                35\n",
            "25  1978                46\n",
            "26  1979                37\n",
            "27  1980                35\n",
            "28  1981                42\n",
            "29  1982                57\n",
            "30  1983                51\n",
            "31  1984                65\n",
            "32  1985                49\n",
            "33  1986                67\n",
            "34  1987                71\n",
            "35  1988                56\n",
            "36  1989                68\n",
            "37  1990                69\n",
            "38  1991                88\n",
            "39  1992               131\n",
            "40  1993                89\n",
            "41  1994               156\n",
            "42  1995               135\n",
            "43  1996               160\n",
            "44  1997               176\n",
            "45  1998               154\n",
            "46  1999               198\n",
            "47  2000               273\n",
            "48  2001               324\n",
            "49  2002               333\n",
            "50  2003               525\n",
            "51  2004               441\n",
            "52  2005               674\n",
            "53  2006               688\n",
            "54  2007               842\n",
            "55  2008               729\n",
            "56  2009               705\n",
            "57  2010               286\n"
          ]
        },
        {
          "output_type": "display_data",
          "data": {
            "text/plain": [
              "<Figure size 1200x600 with 1 Axes>"
            ],
            "image/png": "[encoded data removed]"
          },
          "metadata": {}
        }
      ]
    },
    {
      "cell_type": "markdown",
      "source": [
        "TODO To check which timeframe the data is from?\n",
        "\n",
        "It can be concluded that the users we have in the data listen to more contemporary songs, or alternatively, it can be concluded that as the years passed, more songs were released in each year. <br>\n",
        "There is a little indent about songs released in 2004. We can think that either few songs were released this year, or our users less liked songs released this year."
      ],
      "metadata": {
        "id": "pUg0MyTxosMt"
      }
    },
    {
      "cell_type": "code",
      "source": [
        "# Filter the DataFrame for songs with a release year of 0 and count the occurrences\n",
        "num_songs_year_0 = df[df['year'] == 0]['song_id'].nunique()\n",
        "\n",
        "# Print the result\n",
        "print(\"Number of songs with a release year of 0:\", num_songs_year_0)\n"
      ],
      "metadata": {
        "colab": {
          "base_uri": "https://localhost:8080/"
        },
        "id": "RYGQB4lt7c3c",
        "outputId": "7e8eaee6-9991-4eb9-9075-de11b0451e11"
      },
      "execution_count": 50,
      "outputs": [
        {
          "output_type": "stream",
          "name": "stdout",
          "text": [
            "Number of songs with a release year of 0: 1773\n"
          ]
        }
      ]
    },
    {
      "cell_type": "markdown",
      "source": [
        "We can see that there are a lot of year = 0 songs, we will deal with it later.\n"
      ],
      "metadata": {
        "id": "xrvf2eBwmPxF"
      }
    },
    {
      "cell_type": "markdown",
      "source": [
        "TODO\n",
        "NEED TO HANGLE YEAR = 0"
      ],
      "metadata": {
        "id": "qUb4HfinaxPc"
      }
    },
    {
      "cell_type": "markdown",
      "source": [
        "### Album analysis"
      ],
      "metadata": {
        "id": "YYNgk9wUlB-e"
      }
    },
    {
      "cell_type": "code",
      "source": [
        "def release_insights(df):\n",
        "    # Calculate total listen counts per release\n",
        "    total_listen_counts = df.groupby('release')['listen_count'].sum()\n",
        "    # # Calculate average listen counts per release\n",
        "    # avg_listen_counts = df.groupby('release')['listen_count'].mean()\n",
        "\n",
        "    # Sort releases by total listen counts in descending order\n",
        "    total_listen_counts = total_listen_counts.sort_values(ascending=False)\n",
        "\n",
        "    # Print top releases with total listen counts\n",
        "    print(\"Top Releases by Total Listen Counts:\")\n",
        "    print(total_listen_counts.head(10))\n",
        "\n",
        "    # Plotting total listen counts\n",
        "    plt.figure(figsize=(12, 6))\n",
        "    sns.barplot(x=total_listen_counts.head(10).index, y=total_listen_counts.head(10).values, palette='viridis')\n",
        "    plt.xticks(rotation=45, ha='right')\n",
        "    plt.xlabel('Release')\n",
        "    plt.ylabel('Total Listen Counts')\n",
        "    plt.title('Top Releases by Total Listen Counts')\n",
        "    plt.tight_layout()\n",
        "    plt.show()\n",
        "\n",
        "    # # Print top releases with average listen counts\n",
        "    # print(\"\\nTop Releases by Average Listen Counts:\")\n",
        "    # print(avg_listen_counts.nlargest(10))\n",
        "\n",
        "    # # Plotting average listen counts\n",
        "    # plt.figure(figsize=(12, 6))\n",
        "    # sns.barplot(x=avg_listen_counts.nlargest(10).index, y=avg_listen_counts.nlargest(10).values, palette='viridis')\n",
        "    # plt.xticks(rotation=45, ha='right')\n",
        "    # plt.xlabel('Release')\n",
        "    # plt.ylabel('Average Listen Counts')\n",
        "    # plt.title('Top Releases by Average Listen Counts')\n",
        "    # plt.tight_layout()\n",
        "    # plt.show()"
      ],
      "metadata": {
        "id": "bz-oEw8qOCSe"
      },
      "execution_count": 51,
      "outputs": []
    },
    {
      "cell_type": "markdown",
      "source": [
        "TODO To calculate how many listen counts there are in total."
      ],
      "metadata": {
        "id": "5RnRmCLJ3io7"
      }
    },
    {
      "cell_type": "code",
      "source": [
        "release_insights(df)"
      ],
      "metadata": {
        "id": "woHIxr-gBwC8",
        "colab": {
          "base_uri": "https://localhost:8080/",
          "height": 833
        },
        "outputId": "16c9605a-2254-4886-9860-01b766964591"
      },
      "execution_count": 52,
      "outputs": [
        {
          "output_type": "stream",
          "name": "stdout",
          "text": [
            "Top Releases by Total Listen Counts:\n",
            "release\n",
            "If There Was A Way                  54136\n",
            "Vespertine Live                     49652\n",
            "Only By The Night                   46811\n",
            "Greatest Hits                       45360\n",
            "My Worlds                           38094\n",
            "Waking Up                           33902\n",
            "Now That's What I Call Music! 75    32380\n",
            "Save Me_ San Francisco              31865\n",
            "Mozart - Eine kleine Nachtmusik     31153\n",
            "Musik von Harmonia                  31036\n",
            "Name: listen_count, dtype: int64\n"
          ]
        },
        {
          "output_type": "display_data",
          "data": {
            "text/plain": [
              "<Figure size 1200x600 with 1 Axes>"
            ],
            "image/png": "[encoded data removed]"
          },
          "metadata": {}
        }
      ]
    },
    {
      "cell_type": "markdown",
      "source": [
        "TODO Has no meaning. To delete /בלקבץ את מספר ההאזנות לפי שנה."
      ],
      "metadata": {
        "id": "RNxm7d1b38s5"
      }
    },
    {
      "cell_type": "code",
      "source": [
        "def plot_correlation_matrix(df):\n",
        "    # Convert 'year' column to numeric data type if possible\n",
        "    # df['year'] = pd.to_numeric(df['year'], errors='coerce')\n",
        "\n",
        "    # # Exclude non-numeric columns\n",
        "    # numerical_columns = df.select_dtypes(include=['int64', 'float64'])\n",
        "\n",
        "    # Create the correlation matrix\n",
        "    correlation_matrix = df.corr()\n",
        "\n",
        "    # Plotting the correlation matrix\n",
        "    plt.figure(figsize=(10, 8))\n",
        "    sns.heatmap(correlation_matrix, annot=True, cmap='coolwarm', fmt=\".2f\")\n",
        "    plt.title('Correlation Matrix')\n",
        "    plt.show()"
      ],
      "metadata": {
        "id": "18-vY7-S_7LE"
      },
      "execution_count": 53,
      "outputs": []
    },
    {
      "cell_type": "code",
      "source": [
        "# Call the function to plot the correlation matrix\n",
        "plot_correlation_matrix(df)"
      ],
      "metadata": {
        "colab": {
          "base_uri": "https://localhost:8080/",
          "height": 699
        },
        "id": "iHuNNCb4cayG",
        "outputId": "40404428-460b-4110-c43f-b8de20413f02"
      },
      "execution_count": 54,
      "outputs": [
        {
          "output_type": "display_data",
          "data": {
            "text/plain": [
              "<Figure size 1000x800 with 2 Axes>"
            ],
            "image/png": "[encoded data removed]"
          },
          "metadata": {}
        }
      ]
    },
    {
      "cell_type": "markdown",
      "source": [
        "Looks like there is no coreelation between the numerical features."
      ],
      "metadata": {
        "id": "wUNvij7nt-a_"
      }
    },
    {
      "cell_type": "markdown",
      "source": [
        "-------------------------------------------------"
      ],
      "metadata": {
        "id": "rBJSLvwtrpR1"
      }
    },
    {
      "cell_type": "markdown",
      "source": [
        "Another look on the user's:"
      ],
      "metadata": {
        "id": "hxMALbitX6p-"
      }
    },
    {
      "cell_type": "code",
      "source": [
        "# Group the DataFrame by 'user_id' and count the number of songs each user listened to\n",
        "user_listen_counts = df.groupby('user_id').size()\n",
        "\n",
        "# Sort the user listen counts in descending order\n",
        "sorted_user_listen_counts = user_listen_counts.sort_values(ascending=False)\n",
        "\n",
        "# Print the sorted number of songs each user listened to\n",
        "print(\"Number of songs each user listened to (sorted):\")\n",
        "print(sorted_user_listen_counts)\n"
      ],
      "metadata": {
        "colab": {
          "base_uri": "https://localhost:8080/"
        },
        "id": "9vg2Fi2LuhwQ",
        "outputId": "2c1559ec-7149-4e2e-d961-77b3f740377f"
      },
      "execution_count": 55,
      "outputs": [
        {
          "output_type": "stream",
          "name": "stdout",
          "text": [
            "Number of songs each user listened to (sorted):\n",
            "user_id\n",
            "6d625c6557df84b60d90426c0116138b617b9449    711\n",
            "fbee1c8ce1a346fa07d2ef648cec81117438b91f    643\n",
            "4e11f45d732f4861772b2906f81a7d384552ad12    556\n",
            "24b98f8ab023f6e7a1c37c7729c623f7b821eb95    540\n",
            "1aa4fd215aadb160965110ed8a829745cde319eb    533\n",
            "                                           ... \n",
            "10d3b027f494805b9223551e3db03f903953e2cf      1\n",
            "87c22fcd7f5f833a8e33ba8bc5c7f4863dab5aa8      1\n",
            "421be8356c6464ae9da340754c1b0b9510ae50b5      1\n",
            "87a2826a059570052283d542fc03651c3a570afb      1\n",
            "bec79e2e90bf0fe7238385b2ae6af711dd6c6d1d      1\n",
            "Length: 76353, dtype: int64\n"
          ]
        }
      ]
    },
    {
      "cell_type": "markdown",
      "source": [
        "We can learn that the user who listened to the most different songs listened to 711 songs."
      ],
      "metadata": {
        "id": "vIeZpJjju4Em"
      }
    },
    {
      "cell_type": "code",
      "source": [
        "# def filter_users(df, min_listen_count=90):\n",
        "#     # Group by 'user_id' and count the number of rows for each user\n",
        "#     user_listen_counts = df.groupby('user_id').size()\n",
        "\n",
        "#     # Filter users based on the minimum listen count\n",
        "#     filtered_users = user_listen_counts[user_listen_counts >= min_listen_count]\n",
        "\n",
        "#     # Get the DataFrame containing only the observations for the filtered users\n",
        "#     filtered_df = df[df['user_id'].isin(filtered_users.index)]\n",
        "\n",
        "#     # Get the user IDs of the filtered users\n",
        "#     filtered_user_ids = filtered_users.index\n",
        "\n",
        "#     # Count the number of users who meet the criterion\n",
        "#     num_filtered_users = len(filtered_user_ids)\n",
        "#     print(\"Number of users who have listened to more than\", min_listen_count, \"songs:\", num_filtered_users)\n",
        "\n",
        "#     # Count the number of users who did not meet the criterion\n",
        "#     num_non_filtered_users = len(user_listen_counts) - num_filtered_users\n",
        "#     print(\"Number of users who have listened to more than\", min_listen_count, \"songs:\", num_non_filtered_users)\n",
        "\n",
        "#     return filtered_df, num_filtered_users, num_non_filtered_users\n",
        "\n",
        "\n",
        "def filter_users(df, min_listen_counts=[30, 60, 90, 120, 150]):\n",
        "    results = {}\n",
        "    for min_listen_count in min_listen_counts:\n",
        "        # Group by 'user_id' and count the number of rows for each user\n",
        "        user_listen_counts = df.groupby('user_id').size()\n",
        "\n",
        "        # Filter users based on the minimum listen count\n",
        "        filtered_users = user_listen_counts[user_listen_counts >= min_listen_count]\n",
        "\n",
        "        # Get the DataFrame containing only the observations for the filtered users\n",
        "        filtered_df = df[df['user_id'].isin(filtered_users.index)]\n",
        "\n",
        "        # Get the user IDs of the filtered users\n",
        "        filtered_user_ids = filtered_users.index\n",
        "\n",
        "        # Count the number of users who meet the criterion\n",
        "        num_filtered_users = len(filtered_user_ids)\n",
        "\n",
        "        # Count the number of users who did not meet the criterion\n",
        "        num_non_filtered_users = len(user_listen_counts) - num_filtered_users\n",
        "\n",
        "        # Store the results\n",
        "        results[min_listen_count] = {'filtered_df': filtered_df, 'num_filtered_users': num_filtered_users, 'num_non_filtered_users': num_non_filtered_users}\n",
        "\n",
        "    return results"
      ],
      "metadata": {
        "id": "jCyTULF_rsCa"
      },
      "execution_count": 56,
      "outputs": []
    },
    {
      "cell_type": "code",
      "source": [
        "# # Filter out users who have listened to more than 90 songs and get the counts\n",
        "# filtered_df, num_filtered_users, num_non_filtered_users = filter_users(df, min_listen_count=90)\n",
        "\n",
        "# # Print the first few rows of the filtered DataFrame\n",
        "# filtered_df\n",
        "\n",
        "\n",
        "# Filter out users who have listened to more than 30, 60, 90, 120, and 150 songs respectively and get the counts\n",
        "filtered_results = filter_users(df, min_listen_counts=[30, 60, 90, 120, 150])\n",
        "\n",
        "# Print the results for each minimum listen count\n",
        "for min_listen_count, result in filtered_results.items():\n",
        "    print(f\"\\nResults for minimum song count of {min_listen_count}:\")\n",
        "    print(\"Filtered DataFrame:\")\n",
        "    result['filtered_df']\n",
        "    print(\"Number of users who have listened to more than\", min_listen_count, \"songs:\", result['num_filtered_users'])\n",
        "    print(\"Number of users who have listened to less than or equal to\", min_listen_count, \"songs:\", result['num_non_filtered_users'])\n"
      ],
      "metadata": {
        "colab": {
          "base_uri": "https://localhost:8080/"
        },
        "id": "DbEJl1Jy0Sxm",
        "outputId": "1b17742c-aa5c-4a4a-babc-727aa54ceb3f"
      },
      "execution_count": 57,
      "outputs": [
        {
          "output_type": "stream",
          "name": "stdout",
          "text": [
            "\n",
            "Results for minimum song count of 30:\n",
            "Filtered DataFrame:\n",
            "Number of users who have listened to more than 30 songs: 20391\n",
            "Number of users who have listened to less than or equal to 30 songs: 55962\n",
            "\n",
            "Results for minimum song count of 60:\n",
            "Filtered DataFrame:\n",
            "Number of users who have listened to more than 60 songs: 7298\n",
            "Number of users who have listened to less than or equal to 60 songs: 69055\n",
            "\n",
            "Results for minimum song count of 90:\n",
            "Filtered DataFrame:\n",
            "Number of users who have listened to more than 90 songs: 3156\n",
            "Number of users who have listened to less than or equal to 90 songs: 73197\n",
            "\n",
            "Results for minimum song count of 120:\n",
            "Filtered DataFrame:\n",
            "Number of users who have listened to more than 120 songs: 1583\n",
            "Number of users who have listened to less than or equal to 120 songs: 74770\n",
            "\n",
            "Results for minimum song count of 150:\n",
            "Filtered DataFrame:\n",
            "Number of users who have listened to more than 150 songs: 875\n",
            "Number of users who have listened to less than or equal to 150 songs: 75478\n"
          ]
        }
      ]
    },
    {
      "cell_type": "code",
      "source": [
        "def plot_filtered_results(filtered_results):\n",
        "    min_listen_counts = sorted(filtered_results.keys())\n",
        "    num_filtered_users_list = []\n",
        "    num_non_filtered_users_list = []\n",
        "\n",
        "    for min_listen_count in min_listen_counts:\n",
        "        result = filtered_results[min_listen_count]\n",
        "        num_filtered_users_list.append(result['num_filtered_users'])\n",
        "        num_non_filtered_users_list.append(result['num_non_filtered_users'])\n",
        "\n",
        "    # Plotting the results\n",
        "    bar_width = 0.35\n",
        "    index = range(len(min_listen_counts))\n",
        "\n",
        "    plt.figure(figsize=(12, 6))\n",
        "    plt.bar([i + bar_width for i in index], num_filtered_users_list, bar_width, label='More than', color=\"blue\")\n",
        "    plt.bar(index, num_non_filtered_users_list, bar_width, label='Less than or equal to', color=\"lightgrey\")\n",
        "\n",
        "    plt.xlabel('Minimum Different Songs Count Per User')\n",
        "    plt.ylabel('Number of Users')\n",
        "    plt.title('Number of Users by Minimum Different Songs Count')\n",
        "    plt.xticks([i + bar_width / 2 for i in index], min_listen_counts)\n",
        "    plt.legend()\n",
        "    plt.tight_layout()\n",
        "    plt.show()"
      ],
      "metadata": {
        "id": "CjNHkzXbeqbh"
      },
      "execution_count": 58,
      "outputs": []
    },
    {
      "cell_type": "code",
      "source": [
        "# Plot the filtered results\n",
        "plot_filtered_results(filtered_results)"
      ],
      "metadata": {
        "colab": {
          "base_uri": "https://localhost:8080/",
          "height": 607
        },
        "id": "pUXLCKIaetXC",
        "outputId": "2d5c01e3-5c42-4200-8e52-e1cd4ba6af9d"
      },
      "execution_count": 59,
      "outputs": [
        {
          "output_type": "display_data",
          "data": {
            "text/plain": [
              "<Figure size 1200x600 with 1 Axes>"
            ],
            "image/png": "[encoded data removed]"
          },
          "metadata": {}
        }
      ]
    },
    {
      "cell_type": "code",
      "source": [
        "def filter_songs_by_user_count(df, max_users_list):\n",
        "    \"\"\"\n",
        "    Filter the DataFrame to include only songs listened to by less than a specified number of users.\n",
        "\n",
        "    Parameters:\n",
        "        df (DataFrame): The DataFrame containing the song data.\n",
        "        max_users_list (list): A list of maximum number of users allowed for a song.\n",
        "\n",
        "    Returns:\n",
        "        dict: A dictionary containing filtered DataFrames for each specified maximum number of users.\n",
        "    \"\"\"\n",
        "    filtered_results = {}\n",
        "\n",
        "    # Lists to store results for plotting\n",
        "    num_less_users_list = []\n",
        "    num_more_users_list = []\n",
        "\n",
        "    for max_users in max_users_list:\n",
        "        # Group the DataFrame by 'song_id' and count the number of unique users for each song\n",
        "        song_listen_counts = df.groupby('song_id')['user_id'].nunique()\n",
        "\n",
        "        # Filter out the songs with a user count greater than or equal to the specified maximum\n",
        "        filtered_songs = song_listen_counts[song_listen_counts < max_users]\n",
        "\n",
        "        # Filter the original DataFrame to include only the songs with less than the specified maximum users\n",
        "        filtered_df = df[df['song_id'].isin(filtered_songs.index)]\n",
        "\n",
        "        # Count songs with less and more than the specified maximum users\n",
        "        num_less_users = len(filtered_songs)\n",
        "        num_more_users = len(song_listen_counts) - num_less_users\n",
        "        print(f\"There are {num_less_users} songs listened to by less than {max_users} users.\")\n",
        "        print(f\"There are {num_more_users} songs listened to by more than {max_users} users.\")\n",
        "\n",
        "        # Store the filtered DataFrame and results in the dictionary\n",
        "        filtered_results[max_users] = {'filtered_df': filtered_df, 'num_less_users': num_less_users, 'num_more_users': num_more_users}\n",
        "\n",
        "        # Append to lists for plotting\n",
        "        num_less_users_list.append(num_less_users)\n",
        "        num_more_users_list.append(num_more_users)\n",
        "\n",
        "    # Plot the results\n",
        "    plot_song_counts_by_max_users(max_users_list, num_less_users_list, num_more_users_list)\n",
        "\n",
        "    return filtered_results"
      ],
      "metadata": {
        "id": "xqgZH_iGklIO"
      },
      "execution_count": 60,
      "outputs": []
    },
    {
      "cell_type": "code",
      "source": [
        "def plot_song_counts_by_max_users(max_users_list, num_less_users_list, num_more_users_list):\n",
        "    \"\"\"\n",
        "    Plot the number of songs listened to by less and more than the specified maximum users.\n",
        "\n",
        "    Parameters:\n",
        "        max_users_list (list): List of maximum number of users.\n",
        "        num_less_users_list (list): List of counts of songs listened to by less than the maximum users.\n",
        "        num_more_users_list (list): List of counts of songs listened to by more than the maximum users.\n",
        "    \"\"\"\n",
        "    # Plotting\n",
        "    plt.figure(figsize=(10, 6))\n",
        "    plt.bar([str(max_users) for max_users in max_users_list], num_less_users_list, label='Less than')\n",
        "    plt.bar([str(max_users) for max_users in max_users_list], num_more_users_list, bottom=num_less_users_list, label='More than')\n",
        "\n",
        "    # Adding labels and title\n",
        "    plt.xlabel('Number of Users')\n",
        "    plt.ylabel('Number of Songs')\n",
        "    plt.title('Number of Songs Listened to by Less and More than the Specified Maximum Users')\n",
        "    plt.legend()\n",
        "\n",
        "    # Display the plot\n",
        "    plt.show()"
      ],
      "metadata": {
        "id": "q3sYZGSclF2h"
      },
      "execution_count": 61,
      "outputs": []
    },
    {
      "cell_type": "code",
      "source": [
        "max_users_list = [30, 60, 90, 120, 150, 200]\n",
        "filtered_results = filter_songs_by_user_count(df, max_users_list)"
      ],
      "metadata": {
        "colab": {
          "base_uri": "https://localhost:8080/",
          "height": 772
        },
        "id": "gf9vn10JkqvX",
        "outputId": "74cf1029-988e-4b2f-ca49-211c8e28439b"
      },
      "execution_count": 62,
      "outputs": [
        {
          "output_type": "stream",
          "name": "stdout",
          "text": [
            "There are 0 songs listened to by less than 30 users.\n",
            "There are 10000 songs listened to by more than 30 users.\n",
            "There are 85 songs listened to by less than 60 users.\n",
            "There are 9915 songs listened to by more than 60 users.\n",
            "There are 2561 songs listened to by less than 90 users.\n",
            "There are 7439 songs listened to by more than 90 users.\n",
            "There are 4771 songs listened to by less than 120 users.\n",
            "There are 5229 songs listened to by more than 120 users.\n",
            "There are 6108 songs listened to by less than 150 users.\n",
            "There are 3892 songs listened to by more than 150 users.\n",
            "There are 7464 songs listened to by less than 200 users.\n",
            "There are 2536 songs listened to by more than 200 users.\n"
          ]
        },
        {
          "output_type": "display_data",
          "data": {
            "text/plain": [
              "<Figure size 1000x600 with 1 Axes>"
            ],
            "image/png": "[encoded data removed]"
          },
          "metadata": {}
        }
      ]
    },
    {
      "cell_type": "markdown",
      "source": [
        "TODO In the preproccesing explain why a before b"
      ],
      "metadata": {
        "id": "pzEeo4OH9nVb"
      }
    },
    {
      "cell_type": "markdown",
      "source": [
        "As we can see, all the users listened to more than 30 different songs."
      ],
      "metadata": {
        "id": "eWgzjln4ocFJ"
      }
    },
    {
      "cell_type": "markdown",
      "source": [
        "We can see that there are a lot of songs that have been heard by too few people, so it can be concluded that they are less popular, so it will be more difficult to recommend them in our recommendation system."
      ],
      "metadata": {
        "id": "3Ss-c1wo1G3M"
      }
    },
    {
      "cell_type": "markdown",
      "source": [
        "Generate a rating scale:\n",
        "\n",
        "In order to create a rating system, we will want our data to be restricted to users that have listened to every song at most 5 times. In this way, listen_count can be used as a rating system, with values between 1 and 5.\n",
        "\n",
        "Lets take a look on the relevant data:"
      ],
      "metadata": {
        "id": "4Qy9NauOGjdv"
      }
    },
    {
      "cell_type": "code",
      "source": [
        "def filter_users_by_max_listen_count(df, max_listen_count=5):\n",
        "    # Group the data by 'user_id' and calculate the maximum listen count for each user\n",
        "    max_listen_counts = df.groupby('user_id')['listen_count'].max()\n",
        "\n",
        "    # Filter out the users whose maximum listen count is greater than the specified maximum listen count\n",
        "    relevant_users = max_listen_counts[max_listen_counts <= max_listen_count]\n",
        "\n",
        "    # Filter the original DataFrame to include only the relevant users\n",
        "    filtered_df = df[df['user_id'].isin(relevant_users.index)]\n",
        "\n",
        "    # Count the number of users left after filtering\n",
        "    num_users_left = len(relevant_users)\n",
        "\n",
        "    return filtered_df, num_users_left"
      ],
      "metadata": {
        "id": "TtlwZhcLF3aa"
      },
      "execution_count": 63,
      "outputs": []
    },
    {
      "cell_type": "code",
      "source": [
        "filtered_df, num_users_left = filter_users_by_max_listen_count(df, max_listen_count=5)\n",
        "print(\"Number of users left:\", num_users_left)\n",
        "filtered_df"
      ],
      "metadata": {
        "colab": {
          "base_uri": "https://localhost:8080/",
          "height": 441
        },
        "id": "zY53O7JMF8TJ",
        "outputId": "af05c4a4-2ee3-44a2-c1b3-8d7b53f66912"
      },
      "execution_count": 64,
      "outputs": [
        {
          "output_type": "stream",
          "name": "stdout",
          "text": [
            "Number of users left: 31796\n"
          ]
        },
        {
          "output_type": "execute_result",
          "data": {
            "text/plain": [
              "                                          user_id             song_id  \\\n",
              "45       85c1f87fea955d09b4bec2e36aee110927aedf9a  SODJTHN12AF72A8FCD   \n",
              "46       bd4c6e843f00bd476847fb75c47b4fb430a06856  SOBDRND12A8C13FD08   \n",
              "47       bd4c6e843f00bd476847fb75c47b4fb430a06856  SOCHBAJ12AAF3B3A4F   \n",
              "48       bd4c6e843f00bd476847fb75c47b4fb430a06856  SOCZTMT12AF72A078E   \n",
              "49       bd4c6e843f00bd476847fb75c47b4fb430a06856  SOHRQZQ12A6D4F81D2   \n",
              "...                                           ...                 ...   \n",
              "1999339  260429ae6f56f15bc86230ab45b0ba90baf943f3  SOOULRX12A8C137BFA   \n",
              "1999340  260429ae6f56f15bc86230ab45b0ba90baf943f3  SOQMLOV12A8C142A0C   \n",
              "1999341  260429ae6f56f15bc86230ab45b0ba90baf943f3  SOXLVKQ12A8C1430A7   \n",
              "1999342  260429ae6f56f15bc86230ab45b0ba90baf943f3  SOYEKNS12AF729EE18   \n",
              "1999343  260429ae6f56f15bc86230ab45b0ba90baf943f3  SOZATAA12A8C13FF12   \n",
              "\n",
              "         listen_count               title  \\\n",
              "45                  2   The Best of Times   \n",
              "46                  1           Sun Hands   \n",
              "47                  1         Camera Talk   \n",
              "48                  1               Belle   \n",
              "49                  1           Auto Rock   \n",
              "...               ...                 ...   \n",
              "1999339             1               Fever   \n",
              "1999340             1      I Will Be Here   \n",
              "1999341             1  Got Me Going Crazy   \n",
              "1999342             1             Century   \n",
              "1999343             1     Wake Up America   \n",
              "\n",
              "                                                   release  \\\n",
              "45                                       The Best Of Times   \n",
              "46                                           Gorilla Manor   \n",
              "47                                             Camera Talk   \n",
              "48                                       In Between Dreams   \n",
              "49                                               Mr. Beast   \n",
              "...                                                    ...   \n",
              "1999339  The Fighting Temptations (Music From The Motio...   \n",
              "1999340                    Godskitchen Pure Trance Anthems   \n",
              "1999341                                A Little Bit Longer   \n",
              "1999342                                       Kaleidoscope   \n",
              "1999343                                           Breakout   \n",
              "\n",
              "                          artist_name  year  \n",
              "45                       Sage Francis  2010  \n",
              "46                      Local Natives  2009  \n",
              "47                      Local Natives  2009  \n",
              "48                       Jack Johnson  2005  \n",
              "49                             Mogwai  2006  \n",
              "...                               ...   ...  \n",
              "1999339                       Beyoncé  2003  \n",
              "1999340  Tiësto & Sneaky Sound System     0  \n",
              "1999341                Jonas Brothers  2008  \n",
              "1999342    Tiësto feat. Calvin Harris  2009  \n",
              "1999343                   Miley Cyrus  2008  \n",
              "\n",
              "[502852 rows x 7 columns]"
            ],
            "text/html": [
              "\n",
              "  <div id=\"df-6712754d-e136-4880-a9e1-bd6a6af3e645\" class=\"colab-df-container\">\n",
              "    <div>\n",
              "<style scoped>\n",
              "    .dataframe tbody tr th:only-of-type {\n",
              "        vertical-align: middle;\n",
              "    }\n",
              "\n",
              "    .dataframe tbody tr th {\n",
              "        vertical-align: top;\n",
              "    }\n",
              "\n",
              "    .dataframe thead th {\n",
              "        text-align: right;\n",
              "    }\n",
              "</style>\n",
              "<table border=\"1\" class=\"dataframe\">\n",
              "  <thead>\n",
              "    <tr style=\"text-align: right;\">\n",
              "      <th></th>\n",
              "      <th>user_id</th>\n",
              "      <th>song_id</th>\n",
              "      <th>listen_count</th>\n",
              "      <th>title</th>\n",
              "      <th>release</th>\n",
              "      <th>artist_name</th>\n",
              "      <th>year</th>\n",
              "    </tr>\n",
              "  </thead>\n",
              "  <tbody>\n",
              "    <tr>\n",
              "      <th>45</th>\n",
              "      <td>85c1f87fea955d09b4bec2e36aee110927aedf9a</td>\n",
              "      <td>SODJTHN12AF72A8FCD</td>\n",
              "      <td>2</td>\n",
              "      <td>The Best of Times</td>\n",
              "      <td>The Best Of Times</td>\n",
              "      <td>Sage Francis</td>\n",
              "      <td>2010</td>\n",
              "    </tr>\n",
              "    <tr>\n",
              "      <th>46</th>\n",
              "      <td>bd4c6e843f00bd476847fb75c47b4fb430a06856</td>\n",
              "      <td>SOBDRND12A8C13FD08</td>\n",
              "      <td>1</td>\n",
              "      <td>Sun Hands</td>\n",
              "      <td>Gorilla Manor</td>\n",
              "      <td>Local Natives</td>\n",
              "      <td>2009</td>\n",
              "    </tr>\n",
              "    <tr>\n",
              "      <th>47</th>\n",
              "      <td>bd4c6e843f00bd476847fb75c47b4fb430a06856</td>\n",
              "      <td>SOCHBAJ12AAF3B3A4F</td>\n",
              "      <td>1</td>\n",
              "      <td>Camera Talk</td>\n",
              "      <td>Camera Talk</td>\n",
              "      <td>Local Natives</td>\n",
              "      <td>2009</td>\n",
              "    </tr>\n",
              "    <tr>\n",
              "      <th>48</th>\n",
              "      <td>bd4c6e843f00bd476847fb75c47b4fb430a06856</td>\n",
              "      <td>SOCZTMT12AF72A078E</td>\n",
              "      <td>1</td>\n",
              "      <td>Belle</td>\n",
              "      <td>In Between Dreams</td>\n",
              "      <td>Jack Johnson</td>\n",
              "      <td>2005</td>\n",
              "    </tr>\n",
              "    <tr>\n",
              "      <th>49</th>\n",
              "      <td>bd4c6e843f00bd476847fb75c47b4fb430a06856</td>\n",
              "      <td>SOHRQZQ12A6D4F81D2</td>\n",
              "      <td>1</td>\n",
              "      <td>Auto Rock</td>\n",
              "      <td>Mr. Beast</td>\n",
              "      <td>Mogwai</td>\n",
              "      <td>2006</td>\n",
              "    </tr>\n",
              "    <tr>\n",
              "      <th>...</th>\n",
              "      <td>...</td>\n",
              "      <td>...</td>\n",
              "      <td>...</td>\n",
              "      <td>...</td>\n",
              "      <td>...</td>\n",
              "      <td>...</td>\n",
              "      <td>...</td>\n",
              "    </tr>\n",
              "    <tr>\n",
              "      <th>1999339</th>\n",
              "      <td>260429ae6f56f15bc86230ab45b0ba90baf943f3</td>\n",
              "      <td>SOOULRX12A8C137BFA</td>\n",
              "      <td>1</td>\n",
              "      <td>Fever</td>\n",
              "      <td>The Fighting Temptations (Music From The Motio...</td>\n",
              "      <td>Beyoncé</td>\n",
              "      <td>2003</td>\n",
              "    </tr>\n",
              "    <tr>\n",
              "      <th>1999340</th>\n",
              "      <td>260429ae6f56f15bc86230ab45b0ba90baf943f3</td>\n",
              "      <td>SOQMLOV12A8C142A0C</td>\n",
              "      <td>1</td>\n",
              "      <td>I Will Be Here</td>\n",
              "      <td>Godskitchen Pure Trance Anthems</td>\n",
              "      <td>Tiësto &amp; Sneaky Sound System</td>\n",
              "      <td>0</td>\n",
              "    </tr>\n",
              "    <tr>\n",
              "      <th>1999341</th>\n",
              "      <td>260429ae6f56f15bc86230ab45b0ba90baf943f3</td>\n",
              "      <td>SOXLVKQ12A8C1430A7</td>\n",
              "      <td>1</td>\n",
              "      <td>Got Me Going Crazy</td>\n",
              "      <td>A Little Bit Longer</td>\n",
              "      <td>Jonas Brothers</td>\n",
              "      <td>2008</td>\n",
              "    </tr>\n",
              "    <tr>\n",
              "      <th>1999342</th>\n",
              "      <td>260429ae6f56f15bc86230ab45b0ba90baf943f3</td>\n",
              "      <td>SOYEKNS12AF729EE18</td>\n",
              "      <td>1</td>\n",
              "      <td>Century</td>\n",
              "      <td>Kaleidoscope</td>\n",
              "      <td>Tiësto feat. Calvin Harris</td>\n",
              "      <td>2009</td>\n",
              "    </tr>\n",
              "    <tr>\n",
              "      <th>1999343</th>\n",
              "      <td>260429ae6f56f15bc86230ab45b0ba90baf943f3</td>\n",
              "      <td>SOZATAA12A8C13FF12</td>\n",
              "      <td>1</td>\n",
              "      <td>Wake Up America</td>\n",
              "      <td>Breakout</td>\n",
              "      <td>Miley Cyrus</td>\n",
              "      <td>2008</td>\n",
              "    </tr>\n",
              "  </tbody>\n",
              "</table>\n",
              "<p>502852 rows × 7 columns</p>\n",
              "</div>\n",
              "    <div class=\"colab-df-buttons\">\n",
              "\n",
              "  <div class=\"colab-df-container\">\n",
              "    <button class=\"colab-df-convert\" onclick=\"convertToInteractive('df-6712754d-e136-4880-a9e1-bd6a6af3e645')\"\n",
              "            title=\"Convert this dataframe to an interactive table.\"\n",
              "            style=\"display:none;\">\n",
              "\n",
              "  <svg xmlns=\"http://www.w3.org/2000/svg\" height=\"24px\" viewBox=\"0 -960 960 960\">\n",
              "    <path d=\"M120-120v-720h720v720H120Zm60-500h600v-160H180v160Zm220 220h160v-160H400v160Zm0 220h160v-160H400v160ZM180-400h160v-160H180v160Zm440 0h160v-160H620v160ZM180-180h160v-160H180v160Zm440 0h160v-160H620v160Z\"/>\n",
              "  </svg>\n",
              "    </button>\n",
              "\n",
              "  <style>\n",
              "    .colab-df-container {\n",
              "      display:flex;\n",
              "      gap: 12px;\n",
              "    }\n",
              "\n",
              "    .colab-df-convert {\n",
              "      background-color: #E8F0FE;\n",
              "      border: none;\n",
              "      border-radius: 50%;\n",
              "      cursor: pointer;\n",
              "      display: none;\n",
              "      fill: #1967D2;\n",
              "      height: 32px;\n",
              "      padding: 0 0 0 0;\n",
              "      width: 32px;\n",
              "    }\n",
              "\n",
              "    .colab-df-convert:hover {\n",
              "      background-color: #E2EBFA;\n",
              "      box-shadow: 0px 1px 2px rgba(60, 64, 67, 0.3), 0px 1px 3px 1px rgba(60, 64, 67, 0.15);\n",
              "      fill: #174EA6;\n",
              "    }\n",
              "\n",
              "    .colab-df-buttons div {\n",
              "      margin-bottom: 4px;\n",
              "    }\n",
              "\n",
              "    [theme=dark] .colab-df-convert {\n",
              "      background-color: #3B4455;\n",
              "      fill: #D2E3FC;\n",
              "    }\n",
              "\n",
              "    [theme=dark] .colab-df-convert:hover {\n",
              "      background-color: #434B5C;\n",
              "      box-shadow: 0px 1px 3px 1px rgba(0, 0, 0, 0.15);\n",
              "      filter: drop-shadow(0px 1px 2px rgba(0, 0, 0, 0.3));\n",
              "      fill: #FFFFFF;\n",
              "    }\n",
              "  </style>\n",
              "\n",
              "    <script>\n",
              "      const buttonEl =\n",
              "        document.querySelector('#df-6712754d-e136-4880-a9e1-bd6a6af3e645 button.colab-df-convert');\n",
              "      buttonEl.style.display =\n",
              "        google.colab.kernel.accessAllowed ? 'block' : 'none';\n",
              "\n",
              "      async function convertToInteractive(key) {\n",
              "        const element = document.querySelector('#df-6712754d-e136-4880-a9e1-bd6a6af3e645');\n",
              "        const dataTable =\n",
              "          await google.colab.kernel.invokeFunction('convertToInteractive',\n",
              "                                                    [key], {});\n",
              "        if (!dataTable) return;\n",
              "\n",
              "        const docLinkHtml = 'Like what you see? Visit the ' +\n",
              "          '<a target=\"_blank\" href=https://colab.research.google.com/notebooks/data_table.ipynb>data table notebook</a>'\n",
              "          + ' to learn more about interactive tables.';\n",
              "        element.innerHTML = '';\n",
              "        dataTable['output_type'] = 'display_data';\n",
              "        await google.colab.output.renderOutput(dataTable, element);\n",
              "        const docLink = document.createElement('div');\n",
              "        docLink.innerHTML = docLinkHtml;\n",
              "        element.appendChild(docLink);\n",
              "      }\n",
              "    </script>\n",
              "  </div>\n",
              "\n",
              "\n",
              "<div id=\"df-66d3516a-4686-41ba-9a1d-3d1d0516f814\">\n",
              "  <button class=\"colab-df-quickchart\" onclick=\"quickchart('df-66d3516a-4686-41ba-9a1d-3d1d0516f814')\"\n",
              "            title=\"Suggest charts\"\n",
              "            style=\"display:none;\">\n",
              "\n",
              "<svg xmlns=\"http://www.w3.org/2000/svg\" height=\"24px\"viewBox=\"0 0 24 24\"\n",
              "     width=\"24px\">\n",
              "    <g>\n",
              "        <path d=\"M19 3H5c-1.1 0-2 .9-2 2v14c0 1.1.9 2 2 2h14c1.1 0 2-.9 2-2V5c0-1.1-.9-2-2-2zM9 17H7v-7h2v7zm4 0h-2V7h2v10zm4 0h-2v-4h2v4z\"/>\n",
              "    </g>\n",
              "</svg>\n",
              "  </button>\n",
              "\n",
              "<style>\n",
              "  .colab-df-quickchart {\n",
              "      --bg-color: #E8F0FE;\n",
              "      --fill-color: #1967D2;\n",
              "      --hover-bg-color: #E2EBFA;\n",
              "      --hover-fill-color: #174EA6;\n",
              "      --disabled-fill-color: #AAA;\n",
              "      --disabled-bg-color: #DDD;\n",
              "  }\n",
              "\n",
              "  [theme=dark] .colab-df-quickchart {\n",
              "      --bg-color: #3B4455;\n",
              "      --fill-color: #D2E3FC;\n",
              "      --hover-bg-color: #434B5C;\n",
              "      --hover-fill-color: #FFFFFF;\n",
              "      --disabled-bg-color: #3B4455;\n",
              "      --disabled-fill-color: #666;\n",
              "  }\n",
              "\n",
              "  .colab-df-quickchart {\n",
              "    background-color: var(--bg-color);\n",
              "    border: none;\n",
              "    border-radius: 50%;\n",
              "    cursor: pointer;\n",
              "    display: none;\n",
              "    fill: var(--fill-color);\n",
              "    height: 32px;\n",
              "    padding: 0;\n",
              "    width: 32px;\n",
              "  }\n",
              "\n",
              "  .colab-df-quickchart:hover {\n",
              "    background-color: var(--hover-bg-color);\n",
              "    box-shadow: 0 1px 2px rgba(60, 64, 67, 0.3), 0 1px 3px 1px rgba(60, 64, 67, 0.15);\n",
              "    fill: var(--button-hover-fill-color);\n",
              "  }\n",
              "\n",
              "  .colab-df-quickchart-complete:disabled,\n",
              "  .colab-df-quickchart-complete:disabled:hover {\n",
              "    background-color: var(--disabled-bg-color);\n",
              "    fill: var(--disabled-fill-color);\n",
              "    box-shadow: none;\n",
              "  }\n",
              "\n",
              "  .colab-df-spinner {\n",
              "    border: 2px solid var(--fill-color);\n",
              "    border-color: transparent;\n",
              "    border-bottom-color: var(--fill-color);\n",
              "    animation:\n",
              "      spin 1s steps(1) infinite;\n",
              "  }\n",
              "\n",
              "  @keyframes spin {\n",
              "    0% {\n",
              "      border-color: transparent;\n",
              "      border-bottom-color: var(--fill-color);\n",
              "      border-left-color: var(--fill-color);\n",
              "    }\n",
              "    20% {\n",
              "      border-color: transparent;\n",
              "      border-left-color: var(--fill-color);\n",
              "      border-top-color: var(--fill-color);\n",
              "    }\n",
              "    30% {\n",
              "      border-color: transparent;\n",
              "      border-left-color: var(--fill-color);\n",
              "      border-top-color: var(--fill-color);\n",
              "      border-right-color: var(--fill-color);\n",
              "    }\n",
              "    40% {\n",
              "      border-color: transparent;\n",
              "      border-right-color: var(--fill-color);\n",
              "      border-top-color: var(--fill-color);\n",
              "    }\n",
              "    60% {\n",
              "      border-color: transparent;\n",
              "      border-right-color: var(--fill-color);\n",
              "    }\n",
              "    80% {\n",
              "      border-color: transparent;\n",
              "      border-right-color: var(--fill-color);\n",
              "      border-bottom-color: var(--fill-color);\n",
              "    }\n",
              "    90% {\n",
              "      border-color: transparent;\n",
              "      border-bottom-color: var(--fill-color);\n",
              "    }\n",
              "  }\n",
              "</style>\n",
              "\n",
              "  <script>\n",
              "    async function quickchart(key) {\n",
              "      const quickchartButtonEl =\n",
              "        document.querySelector('#' + key + ' button');\n",
              "      quickchartButtonEl.disabled = true;  // To prevent multiple clicks.\n",
              "      quickchartButtonEl.classList.add('colab-df-spinner');\n",
              "      try {\n",
              "        const charts = await google.colab.kernel.invokeFunction(\n",
              "            'suggestCharts', [key], {});\n",
              "      } catch (error) {\n",
              "        console.error('Error during call to suggestCharts:', error);\n",
              "      }\n",
              "      quickchartButtonEl.classList.remove('colab-df-spinner');\n",
              "      quickchartButtonEl.classList.add('colab-df-quickchart-complete');\n",
              "    }\n",
              "    (() => {\n",
              "      let quickchartButtonEl =\n",
              "        document.querySelector('#df-66d3516a-4686-41ba-9a1d-3d1d0516f814 button');\n",
              "      quickchartButtonEl.style.display =\n",
              "        google.colab.kernel.accessAllowed ? 'block' : 'none';\n",
              "    })();\n",
              "  </script>\n",
              "</div>\n",
              "    </div>\n",
              "  </div>\n"
            ],
            "application/vnd.google.colaboratory.intrinsic+json": {
              "type": "dataframe",
              "variable_name": "filtered_df"
            }
          },
          "metadata": {},
          "execution_count": 64
        }
      ]
    },
    {
      "cell_type": "markdown",
      "source": [
        "TODO To make a research why 1-5 and to show some data and plots about it"
      ],
      "metadata": {
        "id": "1W7f7a40_c1H"
      }
    },
    {
      "cell_type": "markdown",
      "source": [
        "Seems that we left with almost half of the data and with 31796 relevant users - enough data to work with.<br>\n",
        "We will deal with all of that later.."
      ],
      "metadata": {
        "id": "ypEXbGGXHTq4"
      }
    },
    {
      "cell_type": "markdown",
      "source": [
        "# Preprocessing"
      ],
      "metadata": {
        "id": "8iVqCeAMimBE"
      }
    },
    {
      "cell_type": "code",
      "source": [
        "# Apply a label-encoding for user_id and song_id attributes.\n",
        "from sklearn.preprocessing import LabelEncoder\n",
        "label_encoder = LabelEncoder()\n",
        "combined_df['user_id'] = label_encoder.fit_transform(combined_df['user_id'])\n",
        "combined_df['song_id'] = label_encoder.fit_transform(combined_df['song_id'])"
      ],
      "metadata": {
        "id": "DAJ29GdSjikl"
      },
      "execution_count": 65,
      "outputs": []
    },
    {
      "cell_type": "code",
      "source": [
        "combined_df"
      ],
      "metadata": {
        "colab": {
          "base_uri": "https://localhost:8080/",
          "height": 424
        },
        "id": "3ArqXB2LxJVJ",
        "outputId": "bf3e3276-1ced-4e82-b641-0e3dda2c483e"
      },
      "execution_count": 66,
      "outputs": [
        {
          "output_type": "execute_result",
          "data": {
            "text/plain": [
              "         user_id  song_id  listen_count                           title  \\\n",
              "0          54961      153             1                        The Cove   \n",
              "1          54961      413             2                 Entre Dos Aguas   \n",
              "2          54961      736             1                        Stronger   \n",
              "3          54961      750             1                  Constellations   \n",
              "4          54961     1188             1                    Learn To Fly   \n",
              "...          ...      ...           ...                             ...   \n",
              "1999995    64590     3660             2       Ignorance (Album Version)   \n",
              "1999996    64590     3736             4          Two Is Better Than One   \n",
              "1999997    64590     3744             3  What I've Done (Album Version)   \n",
              "1999998    64590     3893             1                              Up   \n",
              "1999999    64590     3963             1      Soil_ Soil (Album Version)   \n",
              "\n",
              "                               release  \\\n",
              "0                   Thicker Than Water   \n",
              "1                  Flamenco Para Niños   \n",
              "2                           Graduation   \n",
              "3                    In Between Dreams   \n",
              "4        There Is Nothing Left To Lose   \n",
              "...                                ...   \n",
              "1999995                      Ignorance   \n",
              "1999996                     Love Drunk   \n",
              "1999997                 What I've Done   \n",
              "1999998                      My Worlds   \n",
              "1999999                        The Con   \n",
              "\n",
              "                                    artist_name  year  \n",
              "0                                  Jack Johnson     0  \n",
              "1                                 Paco De Lucia  1976  \n",
              "2                                    Kanye West  2007  \n",
              "3                                  Jack Johnson  2005  \n",
              "4                                  Foo Fighters  1999  \n",
              "...                                         ...   ...  \n",
              "1999995                                Paramore     0  \n",
              "1999996  Boys Like Girls featuring Taylor Swift  2009  \n",
              "1999997                             Linkin Park  2007  \n",
              "1999998                           Justin Bieber  2010  \n",
              "1999999                          Tegan And Sara  2007  \n",
              "\n",
              "[2000000 rows x 7 columns]"
            ],
            "text/html": [
              "\n",
              "  <div id=\"df-50fd9c1b-6831-48b9-8a75-33efbb9f6c3e\" class=\"colab-df-container\">\n",
              "    <div>\n",
              "<style scoped>\n",
              "    .dataframe tbody tr th:only-of-type {\n",
              "        vertical-align: middle;\n",
              "    }\n",
              "\n",
              "    .dataframe tbody tr th {\n",
              "        vertical-align: top;\n",
              "    }\n",
              "\n",
              "    .dataframe thead th {\n",
              "        text-align: right;\n",
              "    }\n",
              "</style>\n",
              "<table border=\"1\" class=\"dataframe\">\n",
              "  <thead>\n",
              "    <tr style=\"text-align: right;\">\n",
              "      <th></th>\n",
              "      <th>user_id</th>\n",
              "      <th>song_id</th>\n",
              "      <th>listen_count</th>\n",
              "      <th>title</th>\n",
              "      <th>release</th>\n",
              "      <th>artist_name</th>\n",
              "      <th>year</th>\n",
              "    </tr>\n",
              "  </thead>\n",
              "  <tbody>\n",
              "    <tr>\n",
              "      <th>0</th>\n",
              "      <td>54961</td>\n",
              "      <td>153</td>\n",
              "      <td>1</td>\n",
              "      <td>The Cove</td>\n",
              "      <td>Thicker Than Water</td>\n",
              "      <td>Jack Johnson</td>\n",
              "      <td>0</td>\n",
              "    </tr>\n",
              "    <tr>\n",
              "      <th>1</th>\n",
              "      <td>54961</td>\n",
              "      <td>413</td>\n",
              "      <td>2</td>\n",
              "      <td>Entre Dos Aguas</td>\n",
              "      <td>Flamenco Para Niños</td>\n",
              "      <td>Paco De Lucia</td>\n",
              "      <td>1976</td>\n",
              "    </tr>\n",
              "    <tr>\n",
              "      <th>2</th>\n",
              "      <td>54961</td>\n",
              "      <td>736</td>\n",
              "      <td>1</td>\n",
              "      <td>Stronger</td>\n",
              "      <td>Graduation</td>\n",
              "      <td>Kanye West</td>\n",
              "      <td>2007</td>\n",
              "    </tr>\n",
              "    <tr>\n",
              "      <th>3</th>\n",
              "      <td>54961</td>\n",
              "      <td>750</td>\n",
              "      <td>1</td>\n",
              "      <td>Constellations</td>\n",
              "      <td>In Between Dreams</td>\n",
              "      <td>Jack Johnson</td>\n",
              "      <td>2005</td>\n",
              "    </tr>\n",
              "    <tr>\n",
              "      <th>4</th>\n",
              "      <td>54961</td>\n",
              "      <td>1188</td>\n",
              "      <td>1</td>\n",
              "      <td>Learn To Fly</td>\n",
              "      <td>There Is Nothing Left To Lose</td>\n",
              "      <td>Foo Fighters</td>\n",
              "      <td>1999</td>\n",
              "    </tr>\n",
              "    <tr>\n",
              "      <th>...</th>\n",
              "      <td>...</td>\n",
              "      <td>...</td>\n",
              "      <td>...</td>\n",
              "      <td>...</td>\n",
              "      <td>...</td>\n",
              "      <td>...</td>\n",
              "      <td>...</td>\n",
              "    </tr>\n",
              "    <tr>\n",
              "      <th>1999995</th>\n",
              "      <td>64590</td>\n",
              "      <td>3660</td>\n",
              "      <td>2</td>\n",
              "      <td>Ignorance (Album Version)</td>\n",
              "      <td>Ignorance</td>\n",
              "      <td>Paramore</td>\n",
              "      <td>0</td>\n",
              "    </tr>\n",
              "    <tr>\n",
              "      <th>1999996</th>\n",
              "      <td>64590</td>\n",
              "      <td>3736</td>\n",
              "      <td>4</td>\n",
              "      <td>Two Is Better Than One</td>\n",
              "      <td>Love Drunk</td>\n",
              "      <td>Boys Like Girls featuring Taylor Swift</td>\n",
              "      <td>2009</td>\n",
              "    </tr>\n",
              "    <tr>\n",
              "      <th>1999997</th>\n",
              "      <td>64590</td>\n",
              "      <td>3744</td>\n",
              "      <td>3</td>\n",
              "      <td>What I've Done (Album Version)</td>\n",
              "      <td>What I've Done</td>\n",
              "      <td>Linkin Park</td>\n",
              "      <td>2007</td>\n",
              "    </tr>\n",
              "    <tr>\n",
              "      <th>1999998</th>\n",
              "      <td>64590</td>\n",
              "      <td>3893</td>\n",
              "      <td>1</td>\n",
              "      <td>Up</td>\n",
              "      <td>My Worlds</td>\n",
              "      <td>Justin Bieber</td>\n",
              "      <td>2010</td>\n",
              "    </tr>\n",
              "    <tr>\n",
              "      <th>1999999</th>\n",
              "      <td>64590</td>\n",
              "      <td>3963</td>\n",
              "      <td>1</td>\n",
              "      <td>Soil_ Soil (Album Version)</td>\n",
              "      <td>The Con</td>\n",
              "      <td>Tegan And Sara</td>\n",
              "      <td>2007</td>\n",
              "    </tr>\n",
              "  </tbody>\n",
              "</table>\n",
              "<p>2000000 rows × 7 columns</p>\n",
              "</div>\n",
              "    <div class=\"colab-df-buttons\">\n",
              "\n",
              "  <div class=\"colab-df-container\">\n",
              "    <button class=\"colab-df-convert\" onclick=\"convertToInteractive('df-50fd9c1b-6831-48b9-8a75-33efbb9f6c3e')\"\n",
              "            title=\"Convert this dataframe to an interactive table.\"\n",
              "            style=\"display:none;\">\n",
              "\n",
              "  <svg xmlns=\"http://www.w3.org/2000/svg\" height=\"24px\" viewBox=\"0 -960 960 960\">\n",
              "    <path d=\"M120-120v-720h720v720H120Zm60-500h600v-160H180v160Zm220 220h160v-160H400v160Zm0 220h160v-160H400v160ZM180-400h160v-160H180v160Zm440 0h160v-160H620v160ZM180-180h160v-160H180v160Zm440 0h160v-160H620v160Z\"/>\n",
              "  </svg>\n",
              "    </button>\n",
              "\n",
              "  <style>\n",
              "    .colab-df-container {\n",
              "      display:flex;\n",
              "      gap: 12px;\n",
              "    }\n",
              "\n",
              "    .colab-df-convert {\n",
              "      background-color: #E8F0FE;\n",
              "      border: none;\n",
              "      border-radius: 50%;\n",
              "      cursor: pointer;\n",
              "      display: none;\n",
              "      fill: #1967D2;\n",
              "      height: 32px;\n",
              "      padding: 0 0 0 0;\n",
              "      width: 32px;\n",
              "    }\n",
              "\n",
              "    .colab-df-convert:hover {\n",
              "      background-color: #E2EBFA;\n",
              "      box-shadow: 0px 1px 2px rgba(60, 64, 67, 0.3), 0px 1px 3px 1px rgba(60, 64, 67, 0.15);\n",
              "      fill: #174EA6;\n",
              "    }\n",
              "\n",
              "    .colab-df-buttons div {\n",
              "      margin-bottom: 4px;\n",
              "    }\n",
              "\n",
              "    [theme=dark] .colab-df-convert {\n",
              "      background-color: #3B4455;\n",
              "      fill: #D2E3FC;\n",
              "    }\n",
              "\n",
              "    [theme=dark] .colab-df-convert:hover {\n",
              "      background-color: #434B5C;\n",
              "      box-shadow: 0px 1px 3px 1px rgba(0, 0, 0, 0.15);\n",
              "      filter: drop-shadow(0px 1px 2px rgba(0, 0, 0, 0.3));\n",
              "      fill: #FFFFFF;\n",
              "    }\n",
              "  </style>\n",
              "\n",
              "    <script>\n",
              "      const buttonEl =\n",
              "        document.querySelector('#df-50fd9c1b-6831-48b9-8a75-33efbb9f6c3e button.colab-df-convert');\n",
              "      buttonEl.style.display =\n",
              "        google.colab.kernel.accessAllowed ? 'block' : 'none';\n",
              "\n",
              "      async function convertToInteractive(key) {\n",
              "        const element = document.querySelector('#df-50fd9c1b-6831-48b9-8a75-33efbb9f6c3e');\n",
              "        const dataTable =\n",
              "          await google.colab.kernel.invokeFunction('convertToInteractive',\n",
              "                                                    [key], {});\n",
              "        if (!dataTable) return;\n",
              "\n",
              "        const docLinkHtml = 'Like what you see? Visit the ' +\n",
              "          '<a target=\"_blank\" href=https://colab.research.google.com/notebooks/data_table.ipynb>data table notebook</a>'\n",
              "          + ' to learn more about interactive tables.';\n",
              "        element.innerHTML = '';\n",
              "        dataTable['output_type'] = 'display_data';\n",
              "        await google.colab.output.renderOutput(dataTable, element);\n",
              "        const docLink = document.createElement('div');\n",
              "        docLink.innerHTML = docLinkHtml;\n",
              "        element.appendChild(docLink);\n",
              "      }\n",
              "    </script>\n",
              "  </div>\n",
              "\n",
              "\n",
              "<div id=\"df-7e942060-4cb5-446e-b08a-96831cfedcb5\">\n",
              "  <button class=\"colab-df-quickchart\" onclick=\"quickchart('df-7e942060-4cb5-446e-b08a-96831cfedcb5')\"\n",
              "            title=\"Suggest charts\"\n",
              "            style=\"display:none;\">\n",
              "\n",
              "<svg xmlns=\"http://www.w3.org/2000/svg\" height=\"24px\"viewBox=\"0 0 24 24\"\n",
              "     width=\"24px\">\n",
              "    <g>\n",
              "        <path d=\"M19 3H5c-1.1 0-2 .9-2 2v14c0 1.1.9 2 2 2h14c1.1 0 2-.9 2-2V5c0-1.1-.9-2-2-2zM9 17H7v-7h2v7zm4 0h-2V7h2v10zm4 0h-2v-4h2v4z\"/>\n",
              "    </g>\n",
              "</svg>\n",
              "  </button>\n",
              "\n",
              "<style>\n",
              "  .colab-df-quickchart {\n",
              "      --bg-color: #E8F0FE;\n",
              "      --fill-color: #1967D2;\n",
              "      --hover-bg-color: #E2EBFA;\n",
              "      --hover-fill-color: #174EA6;\n",
              "      --disabled-fill-color: #AAA;\n",
              "      --disabled-bg-color: #DDD;\n",
              "  }\n",
              "\n",
              "  [theme=dark] .colab-df-quickchart {\n",
              "      --bg-color: #3B4455;\n",
              "      --fill-color: #D2E3FC;\n",
              "      --hover-bg-color: #434B5C;\n",
              "      --hover-fill-color: #FFFFFF;\n",
              "      --disabled-bg-color: #3B4455;\n",
              "      --disabled-fill-color: #666;\n",
              "  }\n",
              "\n",
              "  .colab-df-quickchart {\n",
              "    background-color: var(--bg-color);\n",
              "    border: none;\n",
              "    border-radius: 50%;\n",
              "    cursor: pointer;\n",
              "    display: none;\n",
              "    fill: var(--fill-color);\n",
              "    height: 32px;\n",
              "    padding: 0;\n",
              "    width: 32px;\n",
              "  }\n",
              "\n",
              "  .colab-df-quickchart:hover {\n",
              "    background-color: var(--hover-bg-color);\n",
              "    box-shadow: 0 1px 2px rgba(60, 64, 67, 0.3), 0 1px 3px 1px rgba(60, 64, 67, 0.15);\n",
              "    fill: var(--button-hover-fill-color);\n",
              "  }\n",
              "\n",
              "  .colab-df-quickchart-complete:disabled,\n",
              "  .colab-df-quickchart-complete:disabled:hover {\n",
              "    background-color: var(--disabled-bg-color);\n",
              "    fill: var(--disabled-fill-color);\n",
              "    box-shadow: none;\n",
              "  }\n",
              "\n",
              "  .colab-df-spinner {\n",
              "    border: 2px solid var(--fill-color);\n",
              "    border-color: transparent;\n",
              "    border-bottom-color: var(--fill-color);\n",
              "    animation:\n",
              "      spin 1s steps(1) infinite;\n",
              "  }\n",
              "\n",
              "  @keyframes spin {\n",
              "    0% {\n",
              "      border-color: transparent;\n",
              "      border-bottom-color: var(--fill-color);\n",
              "      border-left-color: var(--fill-color);\n",
              "    }\n",
              "    20% {\n",
              "      border-color: transparent;\n",
              "      border-left-color: var(--fill-color);\n",
              "      border-top-color: var(--fill-color);\n",
              "    }\n",
              "    30% {\n",
              "      border-color: transparent;\n",
              "      border-left-color: var(--fill-color);\n",
              "      border-top-color: var(--fill-color);\n",
              "      border-right-color: var(--fill-color);\n",
              "    }\n",
              "    40% {\n",
              "      border-color: transparent;\n",
              "      border-right-color: var(--fill-color);\n",
              "      border-top-color: var(--fill-color);\n",
              "    }\n",
              "    60% {\n",
              "      border-color: transparent;\n",
              "      border-right-color: var(--fill-color);\n",
              "    }\n",
              "    80% {\n",
              "      border-color: transparent;\n",
              "      border-right-color: var(--fill-color);\n",
              "      border-bottom-color: var(--fill-color);\n",
              "    }\n",
              "    90% {\n",
              "      border-color: transparent;\n",
              "      border-bottom-color: var(--fill-color);\n",
              "    }\n",
              "  }\n",
              "</style>\n",
              "\n",
              "  <script>\n",
              "    async function quickchart(key) {\n",
              "      const quickchartButtonEl =\n",
              "        document.querySelector('#' + key + ' button');\n",
              "      quickchartButtonEl.disabled = true;  // To prevent multiple clicks.\n",
              "      quickchartButtonEl.classList.add('colab-df-spinner');\n",
              "      try {\n",
              "        const charts = await google.colab.kernel.invokeFunction(\n",
              "            'suggestCharts', [key], {});\n",
              "      } catch (error) {\n",
              "        console.error('Error during call to suggestCharts:', error);\n",
              "      }\n",
              "      quickchartButtonEl.classList.remove('colab-df-spinner');\n",
              "      quickchartButtonEl.classList.add('colab-df-quickchart-complete');\n",
              "    }\n",
              "    (() => {\n",
              "      let quickchartButtonEl =\n",
              "        document.querySelector('#df-7e942060-4cb5-446e-b08a-96831cfedcb5 button');\n",
              "      quickchartButtonEl.style.display =\n",
              "        google.colab.kernel.accessAllowed ? 'block' : 'none';\n",
              "    })();\n",
              "  </script>\n",
              "</div>\n",
              "    </div>\n",
              "  </div>\n"
            ],
            "application/vnd.google.colaboratory.intrinsic+json": {
              "type": "dataframe",
              "variable_name": "combined_df"
            }
          },
          "metadata": {},
          "execution_count": 66
        }
      ]
    },
    {
      "cell_type": "code",
      "source": [
        "# Group data on user_id, and count how many different songs each user has listened to.\n",
        "group_users = combined_df.groupby('user_id').count().reset_index(names=['user_id'])\n",
        "# Drop the users that have listened to less than 90 songs.\n",
        "combined_df = combined_df.loc[~combined_df['user_id'].isin(group_users[group_users['listen_count'] < 90]['user_id'])]"
      ],
      "metadata": {
        "id": "IgL3c_bWxfVR"
      },
      "execution_count": 67,
      "outputs": []
    },
    {
      "cell_type": "code",
      "source": [
        "# Group data on song_id, and count how many different users listened to each song.\n",
        "group_songs = combined_df.groupby('song_id').count().reset_index(names=['song_id'])\n",
        "# Drop the songs that have been listened to by less than 120 users.\n",
        "combined_df = combined_df.loc[~combined_df['song_id'].isin(group_songs[group_songs['listen_count'] < 120]['song_id'])]"
      ],
      "metadata": {
        "id": "Wj4U95PRyGcl"
      },
      "execution_count": 68,
      "outputs": []
    },
    {
      "cell_type": "code",
      "source": [
        "# Drop records with play_count more than(>) 5\n",
        "combined_df = combined_df[combined_df.listen_count <= 5]"
      ],
      "metadata": {
        "id": "gwY7zAooyUGi"
      },
      "execution_count": 69,
      "outputs": []
    },
    {
      "cell_type": "code",
      "source": [
        "# Dropping all the records that have the `year = 0`.\n",
        "df_final = combined_df[combined_df['year'] > 0]"
      ],
      "metadata": {
        "id": "or0DCYsvybIF"
      },
      "execution_count": 70,
      "outputs": []
    },
    {
      "cell_type": "markdown",
      "source": [
        "TODO Fix df"
      ],
      "metadata": {
        "id": "cob80_TgBe0y"
      }
    },
    {
      "cell_type": "code",
      "source": [
        "#df_final.reset_index(inplace=True)"
      ],
      "metadata": {
        "id": "wwnYq-fpIYEq"
      },
      "execution_count": null,
      "outputs": []
    },
    {
      "cell_type": "code",
      "source": [
        "#df_final"
      ],
      "metadata": {
        "colab": {
          "base_uri": "https://localhost:8080/",
          "height": 424
        },
        "id": "WArV-NZxIZVo",
        "outputId": "e1a8d01b-8d37-432a-a7ab-bdc6c1ecb009"
      },
      "execution_count": null,
      "outputs": [
        {
          "output_type": "execute_result",
          "data": {
            "text/plain": [
              "         index  user_id  song_id  listen_count  \\\n",
              "0          200     6958      447             1   \n",
              "1          202     6958      512             1   \n",
              "2          203     6958      549             1   \n",
              "3          204     6958      703             1   \n",
              "4          205     6958      719             1   \n",
              "...        ...      ...      ...           ...   \n",
              "97222  1999731    47786     9081             2   \n",
              "97223  1999736    47786     9186             1   \n",
              "97224  1999745    47786     9351             2   \n",
              "97225  1999755    47786     9543             1   \n",
              "97226  1999765    47786     9847             1   \n",
              "\n",
              "                                 title                release  \\\n",
              "0                   Daisy And Prudence           Distillation   \n",
              "1      The Ballad of Michael Valentine                Sawdust   \n",
              "2            I Stand Corrected (Album)        Vampire Weekend   \n",
              "3                They Might Follow You            Tiny Vipers   \n",
              "4                           Monkey Man   You Know I'm No Good   \n",
              "...                                ...                    ...   \n",
              "97222                      Take Me Out            Take Me Out   \n",
              "97223            Bitter Sweet Symphony  Bitter Sweet Symphony   \n",
              "97224       The Police And The Private            Live It Out   \n",
              "97225                     Just Friends          Back To Black   \n",
              "97226             He Can Only Hold Her          Back To Black   \n",
              "\n",
              "           artist_name  year  \n",
              "0         Erin McKeown  2000  \n",
              "1          The Killers  2004  \n",
              "2      Vampire Weekend  2007  \n",
              "3          Tiny Vipers  2007  \n",
              "4        Amy Winehouse  2007  \n",
              "...                ...   ...  \n",
              "97222  Franz Ferdinand  2003  \n",
              "97223        The Verve  1997  \n",
              "97224           Metric  2005  \n",
              "97225    Amy Winehouse  2006  \n",
              "97226    Amy Winehouse  2006  \n",
              "\n",
              "[97227 rows x 8 columns]"
            ],
            "text/html": [
              "\n",
              "  <div id=\"df-6ded1c3a-f78b-46ff-927e-a9d3d531bd43\" class=\"colab-df-container\">\n",
              "    <div>\n",
              "<style scoped>\n",
              "    .dataframe tbody tr th:only-of-type {\n",
              "        vertical-align: middle;\n",
              "    }\n",
              "\n",
              "    .dataframe tbody tr th {\n",
              "        vertical-align: top;\n",
              "    }\n",
              "\n",
              "    .dataframe thead th {\n",
              "        text-align: right;\n",
              "    }\n",
              "</style>\n",
              "<table border=\"1\" class=\"dataframe\">\n",
              "  <thead>\n",
              "    <tr style=\"text-align: right;\">\n",
              "      <th></th>\n",
              "      <th>index</th>\n",
              "      <th>user_id</th>\n",
              "      <th>song_id</th>\n",
              "      <th>listen_count</th>\n",
              "      <th>title</th>\n",
              "      <th>release</th>\n",
              "      <th>artist_name</th>\n",
              "      <th>year</th>\n",
              "    </tr>\n",
              "  </thead>\n",
              "  <tbody>\n",
              "    <tr>\n",
              "      <th>0</th>\n",
              "      <td>200</td>\n",
              "      <td>6958</td>\n",
              "      <td>447</td>\n",
              "      <td>1</td>\n",
              "      <td>Daisy And Prudence</td>\n",
              "      <td>Distillation</td>\n",
              "      <td>Erin McKeown</td>\n",
              "      <td>2000</td>\n",
              "    </tr>\n",
              "    <tr>\n",
              "      <th>1</th>\n",
              "      <td>202</td>\n",
              "      <td>6958</td>\n",
              "      <td>512</td>\n",
              "      <td>1</td>\n",
              "      <td>The Ballad of Michael Valentine</td>\n",
              "      <td>Sawdust</td>\n",
              "      <td>The Killers</td>\n",
              "      <td>2004</td>\n",
              "    </tr>\n",
              "    <tr>\n",
              "      <th>2</th>\n",
              "      <td>203</td>\n",
              "      <td>6958</td>\n",
              "      <td>549</td>\n",
              "      <td>1</td>\n",
              "      <td>I Stand Corrected (Album)</td>\n",
              "      <td>Vampire Weekend</td>\n",
              "      <td>Vampire Weekend</td>\n",
              "      <td>2007</td>\n",
              "    </tr>\n",
              "    <tr>\n",
              "      <th>3</th>\n",
              "      <td>204</td>\n",
              "      <td>6958</td>\n",
              "      <td>703</td>\n",
              "      <td>1</td>\n",
              "      <td>They Might Follow You</td>\n",
              "      <td>Tiny Vipers</td>\n",
              "      <td>Tiny Vipers</td>\n",
              "      <td>2007</td>\n",
              "    </tr>\n",
              "    <tr>\n",
              "      <th>4</th>\n",
              "      <td>205</td>\n",
              "      <td>6958</td>\n",
              "      <td>719</td>\n",
              "      <td>1</td>\n",
              "      <td>Monkey Man</td>\n",
              "      <td>You Know I'm No Good</td>\n",
              "      <td>Amy Winehouse</td>\n",
              "      <td>2007</td>\n",
              "    </tr>\n",
              "    <tr>\n",
              "      <th>...</th>\n",
              "      <td>...</td>\n",
              "      <td>...</td>\n",
              "      <td>...</td>\n",
              "      <td>...</td>\n",
              "      <td>...</td>\n",
              "      <td>...</td>\n",
              "      <td>...</td>\n",
              "      <td>...</td>\n",
              "    </tr>\n",
              "    <tr>\n",
              "      <th>97222</th>\n",
              "      <td>1999731</td>\n",
              "      <td>47786</td>\n",
              "      <td>9081</td>\n",
              "      <td>2</td>\n",
              "      <td>Take Me Out</td>\n",
              "      <td>Take Me Out</td>\n",
              "      <td>Franz Ferdinand</td>\n",
              "      <td>2003</td>\n",
              "    </tr>\n",
              "    <tr>\n",
              "      <th>97223</th>\n",
              "      <td>1999736</td>\n",
              "      <td>47786</td>\n",
              "      <td>9186</td>\n",
              "      <td>1</td>\n",
              "      <td>Bitter Sweet Symphony</td>\n",
              "      <td>Bitter Sweet Symphony</td>\n",
              "      <td>The Verve</td>\n",
              "      <td>1997</td>\n",
              "    </tr>\n",
              "    <tr>\n",
              "      <th>97224</th>\n",
              "      <td>1999745</td>\n",
              "      <td>47786</td>\n",
              "      <td>9351</td>\n",
              "      <td>2</td>\n",
              "      <td>The Police And The Private</td>\n",
              "      <td>Live It Out</td>\n",
              "      <td>Metric</td>\n",
              "      <td>2005</td>\n",
              "    </tr>\n",
              "    <tr>\n",
              "      <th>97225</th>\n",
              "      <td>1999755</td>\n",
              "      <td>47786</td>\n",
              "      <td>9543</td>\n",
              "      <td>1</td>\n",
              "      <td>Just Friends</td>\n",
              "      <td>Back To Black</td>\n",
              "      <td>Amy Winehouse</td>\n",
              "      <td>2006</td>\n",
              "    </tr>\n",
              "    <tr>\n",
              "      <th>97226</th>\n",
              "      <td>1999765</td>\n",
              "      <td>47786</td>\n",
              "      <td>9847</td>\n",
              "      <td>1</td>\n",
              "      <td>He Can Only Hold Her</td>\n",
              "      <td>Back To Black</td>\n",
              "      <td>Amy Winehouse</td>\n",
              "      <td>2006</td>\n",
              "    </tr>\n",
              "  </tbody>\n",
              "</table>\n",
              "<p>97227 rows × 8 columns</p>\n",
              "</div>\n",
              "    <div class=\"colab-df-buttons\">\n",
              "\n",
              "  <div class=\"colab-df-container\">\n",
              "    <button class=\"colab-df-convert\" onclick=\"convertToInteractive('df-6ded1c3a-f78b-46ff-927e-a9d3d531bd43')\"\n",
              "            title=\"Convert this dataframe to an interactive table.\"\n",
              "            style=\"display:none;\">\n",
              "\n",
              "  <svg xmlns=\"http://www.w3.org/2000/svg\" height=\"24px\" viewBox=\"0 -960 960 960\">\n",
              "    <path d=\"M120-120v-720h720v720H120Zm60-500h600v-160H180v160Zm220 220h160v-160H400v160Zm0 220h160v-160H400v160ZM180-400h160v-160H180v160Zm440 0h160v-160H620v160ZM180-180h160v-160H180v160Zm440 0h160v-160H620v160Z\"/>\n",
              "  </svg>\n",
              "    </button>\n",
              "\n",
              "  <style>\n",
              "    .colab-df-container {\n",
              "      display:flex;\n",
              "      gap: 12px;\n",
              "    }\n",
              "\n",
              "    .colab-df-convert {\n",
              "      background-color: #E8F0FE;\n",
              "      border: none;\n",
              "      border-radius: 50%;\n",
              "      cursor: pointer;\n",
              "      display: none;\n",
              "      fill: #1967D2;\n",
              "      height: 32px;\n",
              "      padding: 0 0 0 0;\n",
              "      width: 32px;\n",
              "    }\n",
              "\n",
              "    .colab-df-convert:hover {\n",
              "      background-color: #E2EBFA;\n",
              "      box-shadow: 0px 1px 2px rgba(60, 64, 67, 0.3), 0px 1px 3px 1px rgba(60, 64, 67, 0.15);\n",
              "      fill: #174EA6;\n",
              "    }\n",
              "\n",
              "    .colab-df-buttons div {\n",
              "      margin-bottom: 4px;\n",
              "    }\n",
              "\n",
              "    [theme=dark] .colab-df-convert {\n",
              "      background-color: #3B4455;\n",
              "      fill: #D2E3FC;\n",
              "    }\n",
              "\n",
              "    [theme=dark] .colab-df-convert:hover {\n",
              "      background-color: #434B5C;\n",
              "      box-shadow: 0px 1px 3px 1px rgba(0, 0, 0, 0.15);\n",
              "      filter: drop-shadow(0px 1px 2px rgba(0, 0, 0, 0.3));\n",
              "      fill: #FFFFFF;\n",
              "    }\n",
              "  </style>\n",
              "\n",
              "    <script>\n",
              "      const buttonEl =\n",
              "        document.querySelector('#df-6ded1c3a-f78b-46ff-927e-a9d3d531bd43 button.colab-df-convert');\n",
              "      buttonEl.style.display =\n",
              "        google.colab.kernel.accessAllowed ? 'block' : 'none';\n",
              "\n",
              "      async function convertToInteractive(key) {\n",
              "        const element = document.querySelector('#df-6ded1c3a-f78b-46ff-927e-a9d3d531bd43');\n",
              "        const dataTable =\n",
              "          await google.colab.kernel.invokeFunction('convertToInteractive',\n",
              "                                                    [key], {});\n",
              "        if (!dataTable) return;\n",
              "\n",
              "        const docLinkHtml = 'Like what you see? Visit the ' +\n",
              "          '<a target=\"_blank\" href=https://colab.research.google.com/notebooks/data_table.ipynb>data table notebook</a>'\n",
              "          + ' to learn more about interactive tables.';\n",
              "        element.innerHTML = '';\n",
              "        dataTable['output_type'] = 'display_data';\n",
              "        await google.colab.output.renderOutput(dataTable, element);\n",
              "        const docLink = document.createElement('div');\n",
              "        docLink.innerHTML = docLinkHtml;\n",
              "        element.appendChild(docLink);\n",
              "      }\n",
              "    </script>\n",
              "  </div>\n",
              "\n",
              "\n",
              "<div id=\"df-51e974f9-8464-4bcd-94ae-d06a090da1b1\">\n",
              "  <button class=\"colab-df-quickchart\" onclick=\"quickchart('df-51e974f9-8464-4bcd-94ae-d06a090da1b1')\"\n",
              "            title=\"Suggest charts\"\n",
              "            style=\"display:none;\">\n",
              "\n",
              "<svg xmlns=\"http://www.w3.org/2000/svg\" height=\"24px\"viewBox=\"0 0 24 24\"\n",
              "     width=\"24px\">\n",
              "    <g>\n",
              "        <path d=\"M19 3H5c-1.1 0-2 .9-2 2v14c0 1.1.9 2 2 2h14c1.1 0 2-.9 2-2V5c0-1.1-.9-2-2-2zM9 17H7v-7h2v7zm4 0h-2V7h2v10zm4 0h-2v-4h2v4z\"/>\n",
              "    </g>\n",
              "</svg>\n",
              "  </button>\n",
              "\n",
              "<style>\n",
              "  .colab-df-quickchart {\n",
              "      --bg-color: #E8F0FE;\n",
              "      --fill-color: #1967D2;\n",
              "      --hover-bg-color: #E2EBFA;\n",
              "      --hover-fill-color: #174EA6;\n",
              "      --disabled-fill-color: #AAA;\n",
              "      --disabled-bg-color: #DDD;\n",
              "  }\n",
              "\n",
              "  [theme=dark] .colab-df-quickchart {\n",
              "      --bg-color: #3B4455;\n",
              "      --fill-color: #D2E3FC;\n",
              "      --hover-bg-color: #434B5C;\n",
              "      --hover-fill-color: #FFFFFF;\n",
              "      --disabled-bg-color: #3B4455;\n",
              "      --disabled-fill-color: #666;\n",
              "  }\n",
              "\n",
              "  .colab-df-quickchart {\n",
              "    background-color: var(--bg-color);\n",
              "    border: none;\n",
              "    border-radius: 50%;\n",
              "    cursor: pointer;\n",
              "    display: none;\n",
              "    fill: var(--fill-color);\n",
              "    height: 32px;\n",
              "    padding: 0;\n",
              "    width: 32px;\n",
              "  }\n",
              "\n",
              "  .colab-df-quickchart:hover {\n",
              "    background-color: var(--hover-bg-color);\n",
              "    box-shadow: 0 1px 2px rgba(60, 64, 67, 0.3), 0 1px 3px 1px rgba(60, 64, 67, 0.15);\n",
              "    fill: var(--button-hover-fill-color);\n",
              "  }\n",
              "\n",
              "  .colab-df-quickchart-complete:disabled,\n",
              "  .colab-df-quickchart-complete:disabled:hover {\n",
              "    background-color: var(--disabled-bg-color);\n",
              "    fill: var(--disabled-fill-color);\n",
              "    box-shadow: none;\n",
              "  }\n",
              "\n",
              "  .colab-df-spinner {\n",
              "    border: 2px solid var(--fill-color);\n",
              "    border-color: transparent;\n",
              "    border-bottom-color: var(--fill-color);\n",
              "    animation:\n",
              "      spin 1s steps(1) infinite;\n",
              "  }\n",
              "\n",
              "  @keyframes spin {\n",
              "    0% {\n",
              "      border-color: transparent;\n",
              "      border-bottom-color: var(--fill-color);\n",
              "      border-left-color: var(--fill-color);\n",
              "    }\n",
              "    20% {\n",
              "      border-color: transparent;\n",
              "      border-left-color: var(--fill-color);\n",
              "      border-top-color: var(--fill-color);\n",
              "    }\n",
              "    30% {\n",
              "      border-color: transparent;\n",
              "      border-left-color: var(--fill-color);\n",
              "      border-top-color: var(--fill-color);\n",
              "      border-right-color: var(--fill-color);\n",
              "    }\n",
              "    40% {\n",
              "      border-color: transparent;\n",
              "      border-right-color: var(--fill-color);\n",
              "      border-top-color: var(--fill-color);\n",
              "    }\n",
              "    60% {\n",
              "      border-color: transparent;\n",
              "      border-right-color: var(--fill-color);\n",
              "    }\n",
              "    80% {\n",
              "      border-color: transparent;\n",
              "      border-right-color: var(--fill-color);\n",
              "      border-bottom-color: var(--fill-color);\n",
              "    }\n",
              "    90% {\n",
              "      border-color: transparent;\n",
              "      border-bottom-color: var(--fill-color);\n",
              "    }\n",
              "  }\n",
              "</style>\n",
              "\n",
              "  <script>\n",
              "    async function quickchart(key) {\n",
              "      const quickchartButtonEl =\n",
              "        document.querySelector('#' + key + ' button');\n",
              "      quickchartButtonEl.disabled = true;  // To prevent multiple clicks.\n",
              "      quickchartButtonEl.classList.add('colab-df-spinner');\n",
              "      try {\n",
              "        const charts = await google.colab.kernel.invokeFunction(\n",
              "            'suggestCharts', [key], {});\n",
              "      } catch (error) {\n",
              "        console.error('Error during call to suggestCharts:', error);\n",
              "      }\n",
              "      quickchartButtonEl.classList.remove('colab-df-spinner');\n",
              "      quickchartButtonEl.classList.add('colab-df-quickchart-complete');\n",
              "    }\n",
              "    (() => {\n",
              "      let quickchartButtonEl =\n",
              "        document.querySelector('#df-51e974f9-8464-4bcd-94ae-d06a090da1b1 button');\n",
              "      quickchartButtonEl.style.display =\n",
              "        google.colab.kernel.accessAllowed ? 'block' : 'none';\n",
              "    })();\n",
              "  </script>\n",
              "</div>\n",
              "    </div>\n",
              "  </div>\n"
            ],
            "application/vnd.google.colaboratory.intrinsic+json": {
              "type": "dataframe",
              "variable_name": "df_final",
              "summary": "{\n  \"name\": \"df_final\",\n  \"rows\": 97227,\n  \"fields\": [\n    {\n      \"column\": \"index\",\n      \"properties\": {\n        \"dtype\": \"number\",\n        \"std\": 575885,\n        \"min\": 200,\n        \"max\": 1999765,\n        \"num_unique_values\": 97227,\n        \"samples\": [\n          1960615,\n          237053,\n          1414670\n        ],\n        \"semantic_type\": \"\",\n        \"description\": \"\"\n      }\n    },\n    {\n      \"column\": \"user_id\",\n      \"properties\": {\n        \"dtype\": \"number\",\n        \"std\": 22015,\n        \"min\": 11,\n        \"max\": 76347,\n        \"num_unique_values\": 3154,\n        \"samples\": [\n          10943,\n          28088,\n          31194\n        ],\n        \"semantic_type\": \"\",\n        \"description\": \"\"\n      }\n    },\n    {\n      \"column\": \"song_id\",\n      \"properties\": {\n        \"dtype\": \"number\",\n        \"std\": 2889,\n        \"min\": 21,\n        \"max\": 9989,\n        \"num_unique_values\": 478,\n        \"samples\": [\n          8702,\n          9065,\n          5570\n        ],\n        \"semantic_type\": \"\",\n        \"description\": \"\"\n      }\n    },\n    {\n      \"column\": \"listen_count\",\n      \"properties\": {\n        \"dtype\": \"number\",\n        \"std\": 1,\n        \"min\": 1,\n        \"max\": 5,\n        \"num_unique_values\": 5,\n        \"samples\": [\n          5,\n          3,\n          2\n        ],\n        \"semantic_type\": \"\",\n        \"description\": \"\"\n      }\n    },\n    {\n      \"column\": \"title\",\n      \"properties\": {\n        \"dtype\": \"category\",\n        \"num_unique_values\": 476,\n        \"samples\": [\n          \"Street Justice\",\n          \"Balloons (Single version)\",\n          \"Say It Ain't So\"\n        ],\n        \"semantic_type\": \"\",\n        \"description\": \"\"\n      }\n    },\n    {\n      \"column\": \"release\",\n      \"properties\": {\n        \"dtype\": \"category\",\n        \"num_unique_values\": 308,\n        \"samples\": [\n          \"More Creedence Gold\",\n          \"Fantasies\",\n          \"Don't Panic\"\n        ],\n        \"semantic_type\": \"\",\n        \"description\": \"\"\n      }\n    },\n    {\n      \"column\": \"artist_name\",\n      \"properties\": {\n        \"dtype\": \"category\",\n        \"num_unique_values\": 185,\n        \"samples\": [\n          \"Coldplay\",\n          \"Justin Timberlake;Justin Timberlake featuring will.i.am\",\n          \"Pavement\"\n        ],\n        \"semantic_type\": \"\",\n        \"description\": \"\"\n      }\n    },\n    {\n      \"column\": \"year\",\n      \"properties\": {\n        \"dtype\": \"number\",\n        \"std\": 7,\n        \"min\": 1969,\n        \"max\": 2010,\n        \"num_unique_values\": 36,\n        \"samples\": [\n          1978,\n          1982,\n          1983\n        ],\n        \"semantic_type\": \"\",\n        \"description\": \"\"\n      }\n    }\n  ]\n}"
            }
          },
          "metadata": {},
          "execution_count": 82
        }
      ]
    },
    {
      "cell_type": "markdown",
      "source": [
        "# TODO - ToDel - Full function section\n"
      ],
      "metadata": {
        "id": "y_4W_frl0COw"
      }
    },
    {
      "cell_type": "markdown",
      "source": [
        "TODO - this section we be redone (We will probably remove it and put it somewhere else with changes in functions. Some are not relevant)!!!!!"
      ],
      "metadata": {
        "id": "DLPUrcXoKdxs"
      }
    },
    {
      "cell_type": "markdown",
      "source": [
        "https://github.com/rctruta/music_recommendation_system/blob/main/music_recommendation_system_final_submission.ipynb"
      ],
      "metadata": {
        "id": "MU_i5SN_0IRm"
      }
    },
    {
      "cell_type": "code",
      "source": [
        "# # ========== Function precision_recall_at_k ==========\n",
        "# def precision_recall_at_k(model, k=10, threshold=1, verbose=True):\n",
        "#     \"\"\"\n",
        "#     A function to calculate rmse, precision, recall, and F1_score, at k.\n",
        "#     This function is adapted from the one in the Surprise library.\n",
        "#     Params:\n",
        "#       model: the model to be used for predictions\n",
        "#       k: the number of relevant items to be considered (top k)\n",
        "#       threshold: the minimum value that a rating should satisfy to be relevant\n",
        "#       verbose: Bool, determines the way to display the results\n",
        "#     Returns:\n",
        "#       [rmse, recall, precision, f1_score]\n",
        "#         verbose=True: displays the list containing the 4 metrics\n",
        "#         verbose=False: returns a list with the 4 metrics.\n",
        "#           This is useful when experimenting with various values for (k, threshold).\n",
        "\n",
        "#     \"\"\"\n",
        "\n",
        "#     # First map the predictions to each user.\n",
        "#     user_est_true = defaultdict(list)\n",
        "\n",
        "#     # Making predictions on the test data.\n",
        "#     predictions = model.test(testset)\n",
        "\n",
        "#     for uid, _, true_r, est, _ in predictions:\n",
        "#         user_est_true[uid].append((est, true_r))\n",
        "\n",
        "#     precisions = dict()\n",
        "#     recalls = dict()\n",
        "#     for uid, user_ratings in user_est_true.items():\n",
        "\n",
        "#         # Sort user play counts by estimated value.\n",
        "#         user_ratings.sort(key=lambda x : x[0], reverse=True)\n",
        "\n",
        "#         # Number of relevant items\n",
        "#         n_rel = sum((true_r >= threshold) for (_, true_r) in user_ratings)\n",
        "\n",
        "#         # Number of recommended items in top k\n",
        "#         n_rec_k = sum((est >= threshold) for (est, _) in user_ratings[ : k])\n",
        "\n",
        "#         # Number of relevant and recommended items in top k\n",
        "#         n_rel_and_rec_k = sum(((true_r >= threshold) and (est >= threshold))\n",
        "#                               for (est, true_r) in user_ratings[ : k])\n",
        "\n",
        "#         # Precision@K: Proportion of recommended items that are relevant\n",
        "#         # When n_rec_k is 0, Precision is undefined. Here, we set Precision to 0 when n_rec_k is 0\n",
        "\n",
        "#         precisions[uid] = n_rel_and_rec_k / n_rec_k if n_rec_k != 0 else 0\n",
        "\n",
        "#         # Recall@K: Proportion of relevant items that are recommended\n",
        "#         # When n_rel is 0, Recall is undefined. Here, we set Recall to 0 when n_rel is 0\n",
        "\n",
        "#         recalls[uid] = n_rel_and_rec_k / n_rel if n_rel != 0 else 0\n",
        "\n",
        "#     # Mean of all the predicted precisions are calculated\n",
        "#     precision = round((sum(prec for prec in precisions.values()) / len(precisions)), 3)\n",
        "\n",
        "#     # Mean of all the predicted recalls are calculated\n",
        "#     recall = round((sum(rec for rec in recalls.values()) / len(recalls)), 3)\n",
        "\n",
        "#     rmse = round(accuracy.rmse(predictions, verbose=False), 3)\n",
        "\n",
        "#     f1_score = round((2 * precision * recall) / (precision + recall), 3)\n",
        "\n",
        "#     if verbose:\n",
        "#         return print(clr.S+'rmse: {}, recall: {}, precision: {}, f1_score: {}'.format(rmse, recall, precision, f1_score)+clr.E)\n",
        "#     else:\n",
        "#         return [rmse, recall, precision, f1_score]\n",
        "\n",
        "# # ========== Function get_songs_played_by_user ==========\n",
        "# def get_songs_played_by_user(user, data):\n",
        "#     \"\"\"\n",
        "#     Returns all the songs played by a user.\n",
        "#     Params:\n",
        "#         user: user_id\n",
        "#         data: the dataframe with the data\n",
        "#     Returns:\n",
        "#         An array with all the song_ids of the songs user_id listened to.\n",
        "#     TODO: it can be easily updated to generalize the interaction between a user and items.\n",
        "#     Add an additional param item='song_id', and change the return condition.\n",
        "#     \"\"\"\n",
        "#     return data[data['user_id'] == user]['song_id'].unique()\n",
        "\n",
        "# # ========== Function get_songs_not_played_by_user ==========\n",
        "# def get_songs_not_played_by_user(user, data):\n",
        "#     \"\"\"\n",
        "#     Returns all the songs not played by a user.\n",
        "#     Params:\n",
        "#         user: user_id\n",
        "#         data: the dataframe with the data\n",
        "#     Returns:\n",
        "#         An array with all the song_ids of the songs user_id had not listened to.\n",
        "#     TODO: it can be easily updated to generalize the interaction between a user and items.\n",
        "#     Add an additional param item='song_id', and change the return condition.\n",
        "#     \"\"\"\n",
        "#     return data[~data['song_id'].isin(get_songs_played_by_user(user))]['song_id'].unique()\n",
        "\n",
        "# # ========== Function played_count_predict ==========\n",
        "# def play_count_predict(algo, user, song, r_ui=None):\n",
        "#     \"\"\"\n",
        "#     A function that uses algo, to predict the rating for a song, by user.\n",
        "#     Args:\n",
        "#         algo: the algorithm used for prediction\n",
        "#         user: the user_id\n",
        "#         song: the song_id\n",
        "#         r_ui: play_count, if it exists\n",
        "#     Returns:\n",
        "#         A formatted display of the results of the prediction method.\n",
        "#     \"\"\"\n",
        "\n",
        "#     r_ui = algo.predict(user, song, r_ui=r_ui).r_ui\n",
        "#     est = round(algo.predict(user, song).est, 2)\n",
        "#     return print(clr.S+'Displaying the predictions for user {} and song {}.\\n\\n- Real prediction: {},\\n- Estimated prediction: {}.'\n",
        "#                  .format(user, song, r_ui, est)+clr.E)\n",
        "\n",
        "# # ========== Function display_best_params ==========\n",
        "# def display_best_params(model):\n",
        "#     \"\"\"\n",
        "#     Function to display the best RMSE and values of the hyper-parameters, following a Grid/Randomized search.\n",
        "#     Args:\n",
        "#         model: the model used\n",
        "#     Returns:\n",
        "#     \"\"\"\n",
        "#     print(clr.S+'RMSE of the best option: {}'.format(round(model.best_score['rmse'], 3))+clr.E)\n",
        "#     print(clr.S+'The hyperparameters of the best option: {}'.format(model.best_params['rmse'])+clr.E)\n",
        "\n",
        "# # ========== Function get_recommendations ==========\n",
        "# def get_recommendations(data, user, n, algo):\n",
        "#     \"\"\"\n",
        "#     Function to get the top_n recommendations for a user.\n",
        "#     Params:\n",
        "#         data: the DataFrame with user-item information\n",
        "#         user: the ID of the user for which we generate recommendations\n",
        "#         n: the upper limit of the recommendations we are making\n",
        "#         algo: the algorithm used for recommendations\n",
        "#     Returns:\n",
        "#         A list of the top_n items recommended to the user.\n",
        "#     \"\"\"\n",
        "#     # Creating an empty list to store the recommended song IDs.\n",
        "#     recommendations = []\n",
        "\n",
        "#     # Creating an user-item interactions matrix.\n",
        "#     user_item_interactions_matrix = data.pivot(index='user_id', columns='song_id', values='play_count')\n",
        "\n",
        "#     # Extracting those song IDs that the user_id has not listened to yet.\n",
        "#     non_listened_songs = user_item_interactions_matrix.loc[user][user_item_interactions_matrix.loc[user].isnull()].index.tolist()\n",
        "\n",
        "#     # Looping through each of the song IDs that user_id has not listened to yet.\n",
        "#     for item_id in non_listened_songs:\n",
        "\n",
        "#         # Predicting the play_count for those songs not listened to by this user.\n",
        "#         est = round(algo.predict(user, item_id).est, 2)\n",
        "\n",
        "#         # Appending the predicted play_counts.\n",
        "#         recommendations.append((item_id, est))\n",
        "\n",
        "#     # Sorting the predicted play_counts in descending order.\n",
        "#     recommendations.sort(key = lambda x: x[1], reverse=True)\n",
        "\n",
        "#     # Returing top n highest predicted play_counts for this user.\n",
        "#     return recommendations[:n]\n",
        "\n",
        "# # ========== Function get_users_who_played_song ==========\n",
        "# def get_users_who_played_song(song, data):\n",
        "#     \"\"\"\n",
        "#     data=df_final\n",
        "#     Returns all the users who listened to the song.\n",
        "#     Params:\n",
        "#         song: song_id\n",
        "#         data: the dataframe with the data\n",
        "#     Returns:\n",
        "#         An array with all the user_ids of the users who listened to the song.\n",
        "#     TODO: it can be easily updated to generalize the interaction between a user and items.\n",
        "#     Add an additional param item='user_id', and change the return condition.\n",
        "#     \"\"\"\n",
        "#     return data[data['song_id'] == song]['user_id'].unique()\n",
        "\n",
        "# # ========== Function get_users_who_did_not_played_song ==========\n",
        "# def get_users_who_did_not_played_song(song, data):\n",
        "#     \"\"\"\n",
        "#     Returns all the users who did not listened to the song.\n",
        "#     Params:\n",
        "#         song: song_id\n",
        "#         data: the dataframe with the data\n",
        "#     Returns:\n",
        "#         An array with all the user_ids of the users who had not listened to the song.\n",
        "#     TODO: it can be easily updated to generalize the interaction between a user and items.\n",
        "#     Add an additional param item='user_id', and change the return condition.\n",
        "#     \"\"\"\n",
        "#     return data[~data['user_id'].isin(get_users_who_played_song(song, data=data))]['user_id'].unique()\n",
        "\n",
        "# # ========== Function =========="
      ],
      "metadata": {
        "id": "N-ovf2aW0GHQ"
      },
      "execution_count": null,
      "outputs": []
    },
    {
      "cell_type": "markdown",
      "source": [
        "# Recommendation system models & algorithms workflow"
      ],
      "metadata": {
        "id": "ZkALY4u6kidY"
      }
    },
    {
      "cell_type": "markdown",
      "source": [
        "TODO: ADD THW WORKFLOW"
      ],
      "metadata": {
        "id": "csqNADwTVOR-"
      }
    },
    {
      "cell_type": "markdown",
      "source": [
        "We will use a few diffrent approach, trying a few models for Recoomendation System and then will compare between them.\n",
        " The models we will use :    \n",
        " 1. Rank - Based (Popularity) Model  \n",
        " 2.  "
      ],
      "metadata": {
        "id": "RL8Xc5knuSlG"
      }
    },
    {
      "cell_type": "markdown",
      "source": [
        "# Importing recommendation system package\n",
        "\n",
        "* **Surprise** - Surprise is one of the “scikit-based Python” libraries to develop recommender systems using explicit rating data. This package allows building and evaluating recommender systems, offering a range of collaborative filtering algorithms and evaluation metrics. Surprise provides several algorithms to develop collaborative filtering recommender systems, starting from memory-based method (i.e. K-Nearest Neighbors or KNN) to model-based method (i.e. Singular Value Decomposition or SVD).\n",
        "\n",
        "TODO explain more"
      ],
      "metadata": {
        "id": "s7fshDnT5DId"
      }
    },
    {
      "cell_type": "code",
      "execution_count": 71,
      "metadata": {
        "colab": {
          "base_uri": "https://localhost:8080/"
        },
        "id": "aKLrKn8IfGjk",
        "outputId": "b222c793-cf25-44b2-f30b-516674696fbc"
      },
      "outputs": [
        {
          "output_type": "stream",
          "name": "stdout",
          "text": [
            "Collecting surprise\n",
            "  Downloading surprise-0.1-py2.py3-none-any.whl (1.8 kB)\n",
            "Collecting scikit-surprise (from surprise)\n",
            "  Downloading scikit-surprise-1.1.3.tar.gz (771 kB)\n",
            "\u001b[2K     \u001b[90m━━━━━━━━━━━━━━━━━━━━━━━━━━━━━━━━━━━━━━━━\u001b[0m \u001b[32m772.0/772.0 kB\u001b[0m \u001b[31m6.0 MB/s\u001b[0m eta \u001b[36m0:00:00\u001b[0m\n",
            "\u001b[?25h  Preparing metadata (setup.py) ... \u001b[?25l\u001b[?25hdone\n",
            "Requirement already satisfied: joblib>=1.0.0 in /usr/local/lib/python3.10/dist-packages (from scikit-surprise->surprise) (1.3.2)\n",
            "Requirement already satisfied: numpy>=1.17.3 in /usr/local/lib/python3.10/dist-packages (from scikit-surprise->surprise) (1.25.2)\n",
            "Requirement already satisfied: scipy>=1.3.2 in /usr/local/lib/python3.10/dist-packages (from scikit-surprise->surprise) (1.11.4)\n",
            "Building wheels for collected packages: scikit-surprise\n",
            "  Building wheel for scikit-surprise (setup.py) ... \u001b[?25l\u001b[?25hdone\n",
            "  Created wheel for scikit-surprise: filename=scikit_surprise-1.1.3-cp310-cp310-linux_x86_64.whl size=3162737 sha256=6120e1fc611551d06f59ed948b48577e71e2eebdcc3a1e2db73184213f249e8f\n",
            "  Stored in directory: /root/.cache/pip/wheels/a5/ca/a8/4e28def53797fdc4363ca4af740db15a9c2f1595ebc51fb445\n",
            "Successfully built scikit-surprise\n",
            "Installing collected packages: scikit-surprise, surprise\n",
            "Successfully installed scikit-surprise-1.1.3 surprise-0.1\n"
          ]
        }
      ],
      "source": [
        "# Install the surprise package using pip. Uncomment and run the below code to do the same\n",
        "\n",
        "!pip install surprise"
      ]
    },
    {
      "cell_type": "code",
      "source": [
        "# Import the necessary libraries\n",
        "\n",
        "# To compute the accuracy of models\n",
        "from surprise import accuracy\n",
        "\n",
        "# This class is used to parse a file containing play_counts, data should be in structure - user; item; play_count\n",
        "from surprise.reader import Reader\n",
        "\n",
        "# Class for loading datasets\n",
        "from surprise.dataset import Dataset\n",
        "\n",
        "# For tuning model hyperparameters\n",
        "from surprise.model_selection import GridSearchCV, RandomizedSearchCV\n",
        "\n",
        "# For splitting the data in train and test dataset\n",
        "from surprise.model_selection import train_test_split\n",
        "\n",
        "# For implementing similarity-based recommendation system\n",
        "from surprise.prediction_algorithms.knns import KNNBasic\n",
        "\n",
        "# For implementing matrix factorization based recommendation system\n",
        "from surprise.prediction_algorithms.matrix_factorization import SVD\n",
        "\n",
        "# For implementing KFold cross-validation\n",
        "from surprise.model_selection import KFold\n",
        "\n",
        "# For implementing clustering-based recommendation system\n",
        "from surprise import CoClustering"
      ],
      "metadata": {
        "id": "JJCkLo8vDcBz"
      },
      "execution_count": 72,
      "outputs": []
    },
    {
      "cell_type": "markdown",
      "source": [
        "# Rank-based (Popularity)"
      ],
      "metadata": {
        "id": "T2_JBRavnciT"
      }
    },
    {
      "cell_type": "markdown",
      "source": [
        "* In this model, songs that are frequently listened to or have high listen counts are ranked higher and recommended to users.\n",
        "\n",
        "* This model does not take into account the individual preferences or tastes of users. Instead, it focuses on recommending songs that are popular among a large group of users.\n",
        "\n",
        "* Here there is no need for train-test splitting because rank-based recommendation systems typically do not involve complex model training or parameter optimization. Instead, they rely on simple ranking or popularity metrics to provide recommendations.\n"
      ],
      "metadata": {
        "id": "8pk6u6IPvQSu"
      }
    },
    {
      "cell_type": "code",
      "source": [
        "# Calculating the average of listen_count :\n",
        "avg_count = df_final.groupby('song_id')['listen_count'].mean()\n",
        "# Calculating the frequency each song was listened\n",
        "sum_count = df_final.groupby('song_id')['listen_count'].sum()"
      ],
      "metadata": {
        "id": "mD9qqvBr26Kd"
      },
      "execution_count": 173,
      "outputs": []
    },
    {
      "cell_type": "code",
      "source": [
        "# Creating dataframe with : avg_count and sum_count\n",
        "rb_popular = pd.DataFrame({'avg_count': avg_count,'sum_count': sum_count})\n",
        "# Descending order, by the average counts a song was listened.\n",
        "rb_popular = rb_popular.sort_values(by='avg_count', ascending=False)\n",
        "# Reset index to turn \"song_id\" into a column\n",
        "rb_popular.reset_index(inplace=True)\n",
        "# Let us see the first five records of the rb_popular dataset\n",
        "rb_popular.head()"
      ],
      "metadata": {
        "id": "hq6HHi7o2_Ip",
        "outputId": "94280f37-1719-4f17-c09c-19706026369d",
        "colab": {
          "base_uri": "https://localhost:8080/",
          "height": 206
        }
      },
      "execution_count": 174,
      "outputs": [
        {
          "output_type": "execute_result",
          "data": {
            "text/plain": [
              "   song_id  avg_count  sum_count\n",
              "0     7224   3.373832        361\n",
              "1     8324   2.625000        252\n",
              "2     9942   2.486667        373\n",
              "3     5531   2.309061       1427\n",
              "4     5653   2.296296        248"
            ],
            "text/html": [
              "\n",
              "  <div id=\"df-0a86d39e-74c1-4e86-ac93-aece20817081\" class=\"colab-df-container\">\n",
              "    <div>\n",
              "<style scoped>\n",
              "    .dataframe tbody tr th:only-of-type {\n",
              "        vertical-align: middle;\n",
              "    }\n",
              "\n",
              "    .dataframe tbody tr th {\n",
              "        vertical-align: top;\n",
              "    }\n",
              "\n",
              "    .dataframe thead th {\n",
              "        text-align: right;\n",
              "    }\n",
              "</style>\n",
              "<table border=\"1\" class=\"dataframe\">\n",
              "  <thead>\n",
              "    <tr style=\"text-align: right;\">\n",
              "      <th></th>\n",
              "      <th>song_id</th>\n",
              "      <th>avg_count</th>\n",
              "      <th>sum_count</th>\n",
              "    </tr>\n",
              "  </thead>\n",
              "  <tbody>\n",
              "    <tr>\n",
              "      <th>0</th>\n",
              "      <td>7224</td>\n",
              "      <td>3.373832</td>\n",
              "      <td>361</td>\n",
              "    </tr>\n",
              "    <tr>\n",
              "      <th>1</th>\n",
              "      <td>8324</td>\n",
              "      <td>2.625000</td>\n",
              "      <td>252</td>\n",
              "    </tr>\n",
              "    <tr>\n",
              "      <th>2</th>\n",
              "      <td>9942</td>\n",
              "      <td>2.486667</td>\n",
              "      <td>373</td>\n",
              "    </tr>\n",
              "    <tr>\n",
              "      <th>3</th>\n",
              "      <td>5531</td>\n",
              "      <td>2.309061</td>\n",
              "      <td>1427</td>\n",
              "    </tr>\n",
              "    <tr>\n",
              "      <th>4</th>\n",
              "      <td>5653</td>\n",
              "      <td>2.296296</td>\n",
              "      <td>248</td>\n",
              "    </tr>\n",
              "  </tbody>\n",
              "</table>\n",
              "</div>\n",
              "    <div class=\"colab-df-buttons\">\n",
              "\n",
              "  <div class=\"colab-df-container\">\n",
              "    <button class=\"colab-df-convert\" onclick=\"convertToInteractive('df-0a86d39e-74c1-4e86-ac93-aece20817081')\"\n",
              "            title=\"Convert this dataframe to an interactive table.\"\n",
              "            style=\"display:none;\">\n",
              "\n",
              "  <svg xmlns=\"http://www.w3.org/2000/svg\" height=\"24px\" viewBox=\"0 -960 960 960\">\n",
              "    <path d=\"M120-120v-720h720v720H120Zm60-500h600v-160H180v160Zm220 220h160v-160H400v160Zm0 220h160v-160H400v160ZM180-400h160v-160H180v160Zm440 0h160v-160H620v160ZM180-180h160v-160H180v160Zm440 0h160v-160H620v160Z\"/>\n",
              "  </svg>\n",
              "    </button>\n",
              "\n",
              "  <style>\n",
              "    .colab-df-container {\n",
              "      display:flex;\n",
              "      gap: 12px;\n",
              "    }\n",
              "\n",
              "    .colab-df-convert {\n",
              "      background-color: #E8F0FE;\n",
              "      border: none;\n",
              "      border-radius: 50%;\n",
              "      cursor: pointer;\n",
              "      display: none;\n",
              "      fill: #1967D2;\n",
              "      height: 32px;\n",
              "      padding: 0 0 0 0;\n",
              "      width: 32px;\n",
              "    }\n",
              "\n",
              "    .colab-df-convert:hover {\n",
              "      background-color: #E2EBFA;\n",
              "      box-shadow: 0px 1px 2px rgba(60, 64, 67, 0.3), 0px 1px 3px 1px rgba(60, 64, 67, 0.15);\n",
              "      fill: #174EA6;\n",
              "    }\n",
              "\n",
              "    .colab-df-buttons div {\n",
              "      margin-bottom: 4px;\n",
              "    }\n",
              "\n",
              "    [theme=dark] .colab-df-convert {\n",
              "      background-color: #3B4455;\n",
              "      fill: #D2E3FC;\n",
              "    }\n",
              "\n",
              "    [theme=dark] .colab-df-convert:hover {\n",
              "      background-color: #434B5C;\n",
              "      box-shadow: 0px 1px 3px 1px rgba(0, 0, 0, 0.15);\n",
              "      filter: drop-shadow(0px 1px 2px rgba(0, 0, 0, 0.3));\n",
              "      fill: #FFFFFF;\n",
              "    }\n",
              "  </style>\n",
              "\n",
              "    <script>\n",
              "      const buttonEl =\n",
              "        document.querySelector('#df-0a86d39e-74c1-4e86-ac93-aece20817081 button.colab-df-convert');\n",
              "      buttonEl.style.display =\n",
              "        google.colab.kernel.accessAllowed ? 'block' : 'none';\n",
              "\n",
              "      async function convertToInteractive(key) {\n",
              "        const element = document.querySelector('#df-0a86d39e-74c1-4e86-ac93-aece20817081');\n",
              "        const dataTable =\n",
              "          await google.colab.kernel.invokeFunction('convertToInteractive',\n",
              "                                                    [key], {});\n",
              "        if (!dataTable) return;\n",
              "\n",
              "        const docLinkHtml = 'Like what you see? Visit the ' +\n",
              "          '<a target=\"_blank\" href=https://colab.research.google.com/notebooks/data_table.ipynb>data table notebook</a>'\n",
              "          + ' to learn more about interactive tables.';\n",
              "        element.innerHTML = '';\n",
              "        dataTable['output_type'] = 'display_data';\n",
              "        await google.colab.output.renderOutput(dataTable, element);\n",
              "        const docLink = document.createElement('div');\n",
              "        docLink.innerHTML = docLinkHtml;\n",
              "        element.appendChild(docLink);\n",
              "      }\n",
              "    </script>\n",
              "  </div>\n",
              "\n",
              "\n",
              "<div id=\"df-8de1b225-36a6-4eb1-a99f-a7742fc78e70\">\n",
              "  <button class=\"colab-df-quickchart\" onclick=\"quickchart('df-8de1b225-36a6-4eb1-a99f-a7742fc78e70')\"\n",
              "            title=\"Suggest charts\"\n",
              "            style=\"display:none;\">\n",
              "\n",
              "<svg xmlns=\"http://www.w3.org/2000/svg\" height=\"24px\"viewBox=\"0 0 24 24\"\n",
              "     width=\"24px\">\n",
              "    <g>\n",
              "        <path d=\"M19 3H5c-1.1 0-2 .9-2 2v14c0 1.1.9 2 2 2h14c1.1 0 2-.9 2-2V5c0-1.1-.9-2-2-2zM9 17H7v-7h2v7zm4 0h-2V7h2v10zm4 0h-2v-4h2v4z\"/>\n",
              "    </g>\n",
              "</svg>\n",
              "  </button>\n",
              "\n",
              "<style>\n",
              "  .colab-df-quickchart {\n",
              "      --bg-color: #E8F0FE;\n",
              "      --fill-color: #1967D2;\n",
              "      --hover-bg-color: #E2EBFA;\n",
              "      --hover-fill-color: #174EA6;\n",
              "      --disabled-fill-color: #AAA;\n",
              "      --disabled-bg-color: #DDD;\n",
              "  }\n",
              "\n",
              "  [theme=dark] .colab-df-quickchart {\n",
              "      --bg-color: #3B4455;\n",
              "      --fill-color: #D2E3FC;\n",
              "      --hover-bg-color: #434B5C;\n",
              "      --hover-fill-color: #FFFFFF;\n",
              "      --disabled-bg-color: #3B4455;\n",
              "      --disabled-fill-color: #666;\n",
              "  }\n",
              "\n",
              "  .colab-df-quickchart {\n",
              "    background-color: var(--bg-color);\n",
              "    border: none;\n",
              "    border-radius: 50%;\n",
              "    cursor: pointer;\n",
              "    display: none;\n",
              "    fill: var(--fill-color);\n",
              "    height: 32px;\n",
              "    padding: 0;\n",
              "    width: 32px;\n",
              "  }\n",
              "\n",
              "  .colab-df-quickchart:hover {\n",
              "    background-color: var(--hover-bg-color);\n",
              "    box-shadow: 0 1px 2px rgba(60, 64, 67, 0.3), 0 1px 3px 1px rgba(60, 64, 67, 0.15);\n",
              "    fill: var(--button-hover-fill-color);\n",
              "  }\n",
              "\n",
              "  .colab-df-quickchart-complete:disabled,\n",
              "  .colab-df-quickchart-complete:disabled:hover {\n",
              "    background-color: var(--disabled-bg-color);\n",
              "    fill: var(--disabled-fill-color);\n",
              "    box-shadow: none;\n",
              "  }\n",
              "\n",
              "  .colab-df-spinner {\n",
              "    border: 2px solid var(--fill-color);\n",
              "    border-color: transparent;\n",
              "    border-bottom-color: var(--fill-color);\n",
              "    animation:\n",
              "      spin 1s steps(1) infinite;\n",
              "  }\n",
              "\n",
              "  @keyframes spin {\n",
              "    0% {\n",
              "      border-color: transparent;\n",
              "      border-bottom-color: var(--fill-color);\n",
              "      border-left-color: var(--fill-color);\n",
              "    }\n",
              "    20% {\n",
              "      border-color: transparent;\n",
              "      border-left-color: var(--fill-color);\n",
              "      border-top-color: var(--fill-color);\n",
              "    }\n",
              "    30% {\n",
              "      border-color: transparent;\n",
              "      border-left-color: var(--fill-color);\n",
              "      border-top-color: var(--fill-color);\n",
              "      border-right-color: var(--fill-color);\n",
              "    }\n",
              "    40% {\n",
              "      border-color: transparent;\n",
              "      border-right-color: var(--fill-color);\n",
              "      border-top-color: var(--fill-color);\n",
              "    }\n",
              "    60% {\n",
              "      border-color: transparent;\n",
              "      border-right-color: var(--fill-color);\n",
              "    }\n",
              "    80% {\n",
              "      border-color: transparent;\n",
              "      border-right-color: var(--fill-color);\n",
              "      border-bottom-color: var(--fill-color);\n",
              "    }\n",
              "    90% {\n",
              "      border-color: transparent;\n",
              "      border-bottom-color: var(--fill-color);\n",
              "    }\n",
              "  }\n",
              "</style>\n",
              "\n",
              "  <script>\n",
              "    async function quickchart(key) {\n",
              "      const quickchartButtonEl =\n",
              "        document.querySelector('#' + key + ' button');\n",
              "      quickchartButtonEl.disabled = true;  // To prevent multiple clicks.\n",
              "      quickchartButtonEl.classList.add('colab-df-spinner');\n",
              "      try {\n",
              "        const charts = await google.colab.kernel.invokeFunction(\n",
              "            'suggestCharts', [key], {});\n",
              "      } catch (error) {\n",
              "        console.error('Error during call to suggestCharts:', error);\n",
              "      }\n",
              "      quickchartButtonEl.classList.remove('colab-df-spinner');\n",
              "      quickchartButtonEl.classList.add('colab-df-quickchart-complete');\n",
              "    }\n",
              "    (() => {\n",
              "      let quickchartButtonEl =\n",
              "        document.querySelector('#df-8de1b225-36a6-4eb1-a99f-a7742fc78e70 button');\n",
              "      quickchartButtonEl.style.display =\n",
              "        google.colab.kernel.accessAllowed ? 'block' : 'none';\n",
              "    })();\n",
              "  </script>\n",
              "</div>\n",
              "    </div>\n",
              "  </div>\n"
            ],
            "application/vnd.google.colaboratory.intrinsic+json": {
              "type": "dataframe",
              "variable_name": "rb_popular",
              "summary": "{\n  \"name\": \"rb_popular\",\n  \"rows\": 478,\n  \"fields\": [\n    {\n      \"column\": \"song_id\",\n      \"properties\": {\n        \"dtype\": \"number\",\n        \"std\": 2886,\n        \"min\": 21,\n        \"max\": 9989,\n        \"num_unique_values\": 478,\n        \"samples\": [\n          2501,\n          4152,\n          3857\n        ],\n        \"semantic_type\": \"\",\n        \"description\": \"\"\n      }\n    },\n    {\n      \"column\": \"avg_count\",\n      \"properties\": {\n        \"dtype\": \"number\",\n        \"std\": 0.21091980206792701,\n        \"min\": 1.238709677419355,\n        \"max\": 3.3738317757009346,\n        \"num_unique_values\": 458,\n        \"samples\": [\n          1.5318181818181817,\n          1.9210526315789473,\n          1.4893617021276595\n        ],\n        \"semantic_type\": \"\",\n        \"description\": \"\"\n      }\n    },\n    {\n      \"column\": \"sum_count\",\n      \"properties\": {\n        \"dtype\": \"number\",\n        \"std\": 218,\n        \"min\": 155,\n        \"max\": 1463,\n        \"num_unique_values\": 287,\n        \"samples\": [\n          367,\n          268,\n          296\n        ],\n        \"semantic_type\": \"\",\n        \"description\": \"\"\n      }\n    }\n  ]\n}"
            }
          },
          "metadata": {},
          "execution_count": 174
        }
      ]
    },
    {
      "cell_type": "code",
      "source": [
        "rb_popular.describe(include='all')"
      ],
      "metadata": {
        "id": "y_dVjz3m3hw5",
        "outputId": "9ce9412d-95f2-423e-9f0a-a49cfe3a41f3",
        "colab": {
          "base_uri": "https://localhost:8080/",
          "height": 300
        }
      },
      "execution_count": 175,
      "outputs": [
        {
          "output_type": "execute_result",
          "data": {
            "text/plain": [
              "           song_id   avg_count    sum_count\n",
              "count   478.000000  478.000000   478.000000\n",
              "mean   4929.552301    1.638275   341.083682\n",
              "std    2886.522231    0.210920   218.353466\n",
              "min      21.000000    1.238710   155.000000\n",
              "25%    2392.500000    1.486484   205.250000\n",
              "50%    5098.000000    1.613600   248.500000\n",
              "75%    7448.500000    1.744960   389.750000\n",
              "max    9989.000000    3.373832  1463.000000"
            ],
            "text/html": [
              "\n",
              "  <div id=\"df-3c743f78-db1d-46f0-a2cc-ac9d0b6eed04\" class=\"colab-df-container\">\n",
              "    <div>\n",
              "<style scoped>\n",
              "    .dataframe tbody tr th:only-of-type {\n",
              "        vertical-align: middle;\n",
              "    }\n",
              "\n",
              "    .dataframe tbody tr th {\n",
              "        vertical-align: top;\n",
              "    }\n",
              "\n",
              "    .dataframe thead th {\n",
              "        text-align: right;\n",
              "    }\n",
              "</style>\n",
              "<table border=\"1\" class=\"dataframe\">\n",
              "  <thead>\n",
              "    <tr style=\"text-align: right;\">\n",
              "      <th></th>\n",
              "      <th>song_id</th>\n",
              "      <th>avg_count</th>\n",
              "      <th>sum_count</th>\n",
              "    </tr>\n",
              "  </thead>\n",
              "  <tbody>\n",
              "    <tr>\n",
              "      <th>count</th>\n",
              "      <td>478.000000</td>\n",
              "      <td>478.000000</td>\n",
              "      <td>478.000000</td>\n",
              "    </tr>\n",
              "    <tr>\n",
              "      <th>mean</th>\n",
              "      <td>4929.552301</td>\n",
              "      <td>1.638275</td>\n",
              "      <td>341.083682</td>\n",
              "    </tr>\n",
              "    <tr>\n",
              "      <th>std</th>\n",
              "      <td>2886.522231</td>\n",
              "      <td>0.210920</td>\n",
              "      <td>218.353466</td>\n",
              "    </tr>\n",
              "    <tr>\n",
              "      <th>min</th>\n",
              "      <td>21.000000</td>\n",
              "      <td>1.238710</td>\n",
              "      <td>155.000000</td>\n",
              "    </tr>\n",
              "    <tr>\n",
              "      <th>25%</th>\n",
              "      <td>2392.500000</td>\n",
              "      <td>1.486484</td>\n",
              "      <td>205.250000</td>\n",
              "    </tr>\n",
              "    <tr>\n",
              "      <th>50%</th>\n",
              "      <td>5098.000000</td>\n",
              "      <td>1.613600</td>\n",
              "      <td>248.500000</td>\n",
              "    </tr>\n",
              "    <tr>\n",
              "      <th>75%</th>\n",
              "      <td>7448.500000</td>\n",
              "      <td>1.744960</td>\n",
              "      <td>389.750000</td>\n",
              "    </tr>\n",
              "    <tr>\n",
              "      <th>max</th>\n",
              "      <td>9989.000000</td>\n",
              "      <td>3.373832</td>\n",
              "      <td>1463.000000</td>\n",
              "    </tr>\n",
              "  </tbody>\n",
              "</table>\n",
              "</div>\n",
              "    <div class=\"colab-df-buttons\">\n",
              "\n",
              "  <div class=\"colab-df-container\">\n",
              "    <button class=\"colab-df-convert\" onclick=\"convertToInteractive('df-3c743f78-db1d-46f0-a2cc-ac9d0b6eed04')\"\n",
              "            title=\"Convert this dataframe to an interactive table.\"\n",
              "            style=\"display:none;\">\n",
              "\n",
              "  <svg xmlns=\"http://www.w3.org/2000/svg\" height=\"24px\" viewBox=\"0 -960 960 960\">\n",
              "    <path d=\"M120-120v-720h720v720H120Zm60-500h600v-160H180v160Zm220 220h160v-160H400v160Zm0 220h160v-160H400v160ZM180-400h160v-160H180v160Zm440 0h160v-160H620v160ZM180-180h160v-160H180v160Zm440 0h160v-160H620v160Z\"/>\n",
              "  </svg>\n",
              "    </button>\n",
              "\n",
              "  <style>\n",
              "    .colab-df-container {\n",
              "      display:flex;\n",
              "      gap: 12px;\n",
              "    }\n",
              "\n",
              "    .colab-df-convert {\n",
              "      background-color: #E8F0FE;\n",
              "      border: none;\n",
              "      border-radius: 50%;\n",
              "      cursor: pointer;\n",
              "      display: none;\n",
              "      fill: #1967D2;\n",
              "      height: 32px;\n",
              "      padding: 0 0 0 0;\n",
              "      width: 32px;\n",
              "    }\n",
              "\n",
              "    .colab-df-convert:hover {\n",
              "      background-color: #E2EBFA;\n",
              "      box-shadow: 0px 1px 2px rgba(60, 64, 67, 0.3), 0px 1px 3px 1px rgba(60, 64, 67, 0.15);\n",
              "      fill: #174EA6;\n",
              "    }\n",
              "\n",
              "    .colab-df-buttons div {\n",
              "      margin-bottom: 4px;\n",
              "    }\n",
              "\n",
              "    [theme=dark] .colab-df-convert {\n",
              "      background-color: #3B4455;\n",
              "      fill: #D2E3FC;\n",
              "    }\n",
              "\n",
              "    [theme=dark] .colab-df-convert:hover {\n",
              "      background-color: #434B5C;\n",
              "      box-shadow: 0px 1px 3px 1px rgba(0, 0, 0, 0.15);\n",
              "      filter: drop-shadow(0px 1px 2px rgba(0, 0, 0, 0.3));\n",
              "      fill: #FFFFFF;\n",
              "    }\n",
              "  </style>\n",
              "\n",
              "    <script>\n",
              "      const buttonEl =\n",
              "        document.querySelector('#df-3c743f78-db1d-46f0-a2cc-ac9d0b6eed04 button.colab-df-convert');\n",
              "      buttonEl.style.display =\n",
              "        google.colab.kernel.accessAllowed ? 'block' : 'none';\n",
              "\n",
              "      async function convertToInteractive(key) {\n",
              "        const element = document.querySelector('#df-3c743f78-db1d-46f0-a2cc-ac9d0b6eed04');\n",
              "        const dataTable =\n",
              "          await google.colab.kernel.invokeFunction('convertToInteractive',\n",
              "                                                    [key], {});\n",
              "        if (!dataTable) return;\n",
              "\n",
              "        const docLinkHtml = 'Like what you see? Visit the ' +\n",
              "          '<a target=\"_blank\" href=https://colab.research.google.com/notebooks/data_table.ipynb>data table notebook</a>'\n",
              "          + ' to learn more about interactive tables.';\n",
              "        element.innerHTML = '';\n",
              "        dataTable['output_type'] = 'display_data';\n",
              "        await google.colab.output.renderOutput(dataTable, element);\n",
              "        const docLink = document.createElement('div');\n",
              "        docLink.innerHTML = docLinkHtml;\n",
              "        element.appendChild(docLink);\n",
              "      }\n",
              "    </script>\n",
              "  </div>\n",
              "\n",
              "\n",
              "<div id=\"df-327d1c20-01ec-4705-afaa-42230d680c87\">\n",
              "  <button class=\"colab-df-quickchart\" onclick=\"quickchart('df-327d1c20-01ec-4705-afaa-42230d680c87')\"\n",
              "            title=\"Suggest charts\"\n",
              "            style=\"display:none;\">\n",
              "\n",
              "<svg xmlns=\"http://www.w3.org/2000/svg\" height=\"24px\"viewBox=\"0 0 24 24\"\n",
              "     width=\"24px\">\n",
              "    <g>\n",
              "        <path d=\"M19 3H5c-1.1 0-2 .9-2 2v14c0 1.1.9 2 2 2h14c1.1 0 2-.9 2-2V5c0-1.1-.9-2-2-2zM9 17H7v-7h2v7zm4 0h-2V7h2v10zm4 0h-2v-4h2v4z\"/>\n",
              "    </g>\n",
              "</svg>\n",
              "  </button>\n",
              "\n",
              "<style>\n",
              "  .colab-df-quickchart {\n",
              "      --bg-color: #E8F0FE;\n",
              "      --fill-color: #1967D2;\n",
              "      --hover-bg-color: #E2EBFA;\n",
              "      --hover-fill-color: #174EA6;\n",
              "      --disabled-fill-color: #AAA;\n",
              "      --disabled-bg-color: #DDD;\n",
              "  }\n",
              "\n",
              "  [theme=dark] .colab-df-quickchart {\n",
              "      --bg-color: #3B4455;\n",
              "      --fill-color: #D2E3FC;\n",
              "      --hover-bg-color: #434B5C;\n",
              "      --hover-fill-color: #FFFFFF;\n",
              "      --disabled-bg-color: #3B4455;\n",
              "      --disabled-fill-color: #666;\n",
              "  }\n",
              "\n",
              "  .colab-df-quickchart {\n",
              "    background-color: var(--bg-color);\n",
              "    border: none;\n",
              "    border-radius: 50%;\n",
              "    cursor: pointer;\n",
              "    display: none;\n",
              "    fill: var(--fill-color);\n",
              "    height: 32px;\n",
              "    padding: 0;\n",
              "    width: 32px;\n",
              "  }\n",
              "\n",
              "  .colab-df-quickchart:hover {\n",
              "    background-color: var(--hover-bg-color);\n",
              "    box-shadow: 0 1px 2px rgba(60, 64, 67, 0.3), 0 1px 3px 1px rgba(60, 64, 67, 0.15);\n",
              "    fill: var(--button-hover-fill-color);\n",
              "  }\n",
              "\n",
              "  .colab-df-quickchart-complete:disabled,\n",
              "  .colab-df-quickchart-complete:disabled:hover {\n",
              "    background-color: var(--disabled-bg-color);\n",
              "    fill: var(--disabled-fill-color);\n",
              "    box-shadow: none;\n",
              "  }\n",
              "\n",
              "  .colab-df-spinner {\n",
              "    border: 2px solid var(--fill-color);\n",
              "    border-color: transparent;\n",
              "    border-bottom-color: var(--fill-color);\n",
              "    animation:\n",
              "      spin 1s steps(1) infinite;\n",
              "  }\n",
              "\n",
              "  @keyframes spin {\n",
              "    0% {\n",
              "      border-color: transparent;\n",
              "      border-bottom-color: var(--fill-color);\n",
              "      border-left-color: var(--fill-color);\n",
              "    }\n",
              "    20% {\n",
              "      border-color: transparent;\n",
              "      border-left-color: var(--fill-color);\n",
              "      border-top-color: var(--fill-color);\n",
              "    }\n",
              "    30% {\n",
              "      border-color: transparent;\n",
              "      border-left-color: var(--fill-color);\n",
              "      border-top-color: var(--fill-color);\n",
              "      border-right-color: var(--fill-color);\n",
              "    }\n",
              "    40% {\n",
              "      border-color: transparent;\n",
              "      border-right-color: var(--fill-color);\n",
              "      border-top-color: var(--fill-color);\n",
              "    }\n",
              "    60% {\n",
              "      border-color: transparent;\n",
              "      border-right-color: var(--fill-color);\n",
              "    }\n",
              "    80% {\n",
              "      border-color: transparent;\n",
              "      border-right-color: var(--fill-color);\n",
              "      border-bottom-color: var(--fill-color);\n",
              "    }\n",
              "    90% {\n",
              "      border-color: transparent;\n",
              "      border-bottom-color: var(--fill-color);\n",
              "    }\n",
              "  }\n",
              "</style>\n",
              "\n",
              "  <script>\n",
              "    async function quickchart(key) {\n",
              "      const quickchartButtonEl =\n",
              "        document.querySelector('#' + key + ' button');\n",
              "      quickchartButtonEl.disabled = true;  // To prevent multiple clicks.\n",
              "      quickchartButtonEl.classList.add('colab-df-spinner');\n",
              "      try {\n",
              "        const charts = await google.colab.kernel.invokeFunction(\n",
              "            'suggestCharts', [key], {});\n",
              "      } catch (error) {\n",
              "        console.error('Error during call to suggestCharts:', error);\n",
              "      }\n",
              "      quickchartButtonEl.classList.remove('colab-df-spinner');\n",
              "      quickchartButtonEl.classList.add('colab-df-quickchart-complete');\n",
              "    }\n",
              "    (() => {\n",
              "      let quickchartButtonEl =\n",
              "        document.querySelector('#df-327d1c20-01ec-4705-afaa-42230d680c87 button');\n",
              "      quickchartButtonEl.style.display =\n",
              "        google.colab.kernel.accessAllowed ? 'block' : 'none';\n",
              "    })();\n",
              "  </script>\n",
              "</div>\n",
              "    </div>\n",
              "  </div>\n"
            ],
            "application/vnd.google.colaboratory.intrinsic+json": {
              "type": "dataframe",
              "summary": "{\n  \"name\": \"rb_popular\",\n  \"rows\": 8,\n  \"fields\": [\n    {\n      \"column\": \"song_id\",\n      \"properties\": {\n        \"dtype\": \"number\",\n        \"std\": 3416.297169149159,\n        \"min\": 21.0,\n        \"max\": 9989.0,\n        \"num_unique_values\": 8,\n        \"samples\": [\n          4929.55230125523,\n          5098.0,\n          478.0\n        ],\n        \"semantic_type\": \"\",\n        \"description\": \"\"\n      }\n    },\n    {\n      \"column\": \"avg_count\",\n      \"properties\": {\n        \"dtype\": \"number\",\n        \"std\": 168.42966449022668,\n        \"min\": 0.21091980206792701,\n        \"max\": 478.0,\n        \"num_unique_values\": 8,\n        \"samples\": [\n          1.6382747906765485,\n          1.613600105478278,\n          478.0\n        ],\n        \"semantic_type\": \"\",\n        \"description\": \"\"\n      }\n    },\n    {\n      \"column\": \"sum_count\",\n      \"properties\": {\n        \"dtype\": \"number\",\n        \"std\": 428.01185622385094,\n        \"min\": 155.0,\n        \"max\": 1463.0,\n        \"num_unique_values\": 8,\n        \"samples\": [\n          341.0836820083682,\n          248.5,\n          478.0\n        ],\n        \"semantic_type\": \"\",\n        \"description\": \"\"\n      }\n    }\n  ]\n}"
            }
          },
          "metadata": {},
          "execution_count": 175
        }
      ]
    },
    {
      "cell_type": "markdown",
      "source": [
        "Let's define a function that findss the top n songs for a recommendation based on their average listen counts. <br> Additionally, we'll include a threshold for the minimum number of listen counts a song must have to be considered for recommendation."
      ],
      "metadata": {
        "id": "Lqragcc_3oh3"
      }
    },
    {
      "cell_type": "code",
      "source": [
        "# Creating a function that finds the top n songs based on their highest average listen count and minimum interactions.\n",
        "# Find the top *n* songs that have _at least_ *min_interaction*s (>= min_interaction).\n",
        "# We set the default value for min_interaction to be 200, which is > min(listen_freq).- TODO to change ti the right variable\n",
        "\n",
        "def top_n_songs(rb_popular, n, min_interaction=200):\n",
        "\n",
        "    # Finding songs with minimum number of interactions\n",
        "    recommendations = rb_popular[rb_popular['sum_count'] >= min_interaction]\n",
        "\n",
        "    # Sorting songs based by their average listen_count\n",
        "    recommendations = recommendations.sort_values(by='avg_count', ascending=False)\n",
        "\n",
        "    # Return the top n songs\n",
        "    return recommendations.index[:n]"
      ],
      "metadata": {
        "id": "N6nEFznH3pDl"
      },
      "execution_count": 176,
      "outputs": []
    },
    {
      "cell_type": "code",
      "source": [
        "# Recommending the 'TOP 10 SONGS' using the function defined above\n",
        "\n",
        "list(top_n_songs(rb_popular, 10))\n",
        "\n",
        "rb_popular.loc[top_n_songs(rb_popular, 10)]"
      ],
      "metadata": {
        "id": "QmdQ7sV33pkA",
        "outputId": "89906994-277c-4622-808d-b78093559cc7",
        "colab": {
          "base_uri": "https://localhost:8080/",
          "height": 363
        }
      },
      "execution_count": 177,
      "outputs": [
        {
          "output_type": "execute_result",
          "data": {
            "text/plain": [
              "   song_id  avg_count  sum_count\n",
              "0     7224   3.373832        361\n",
              "1     8324   2.625000        252\n",
              "2     9942   2.486667        373\n",
              "3     5531   2.309061       1427\n",
              "4     5653   2.296296        248\n",
              "5     8483   2.235772        275\n",
              "6      657   2.218543        335\n",
              "7      614   2.217158        827\n",
              "8     4831   2.206186        214\n",
              "9     6860   2.171598        367"
            ],
            "text/html": [
              "\n",
              "  <div id=\"df-7975431a-d41b-415f-ab39-d9981d178e54\" class=\"colab-df-container\">\n",
              "    <div>\n",
              "<style scoped>\n",
              "    .dataframe tbody tr th:only-of-type {\n",
              "        vertical-align: middle;\n",
              "    }\n",
              "\n",
              "    .dataframe tbody tr th {\n",
              "        vertical-align: top;\n",
              "    }\n",
              "\n",
              "    .dataframe thead th {\n",
              "        text-align: right;\n",
              "    }\n",
              "</style>\n",
              "<table border=\"1\" class=\"dataframe\">\n",
              "  <thead>\n",
              "    <tr style=\"text-align: right;\">\n",
              "      <th></th>\n",
              "      <th>song_id</th>\n",
              "      <th>avg_count</th>\n",
              "      <th>sum_count</th>\n",
              "    </tr>\n",
              "  </thead>\n",
              "  <tbody>\n",
              "    <tr>\n",
              "      <th>0</th>\n",
              "      <td>7224</td>\n",
              "      <td>3.373832</td>\n",
              "      <td>361</td>\n",
              "    </tr>\n",
              "    <tr>\n",
              "      <th>1</th>\n",
              "      <td>8324</td>\n",
              "      <td>2.625000</td>\n",
              "      <td>252</td>\n",
              "    </tr>\n",
              "    <tr>\n",
              "      <th>2</th>\n",
              "      <td>9942</td>\n",
              "      <td>2.486667</td>\n",
              "      <td>373</td>\n",
              "    </tr>\n",
              "    <tr>\n",
              "      <th>3</th>\n",
              "      <td>5531</td>\n",
              "      <td>2.309061</td>\n",
              "      <td>1427</td>\n",
              "    </tr>\n",
              "    <tr>\n",
              "      <th>4</th>\n",
              "      <td>5653</td>\n",
              "      <td>2.296296</td>\n",
              "      <td>248</td>\n",
              "    </tr>\n",
              "    <tr>\n",
              "      <th>5</th>\n",
              "      <td>8483</td>\n",
              "      <td>2.235772</td>\n",
              "      <td>275</td>\n",
              "    </tr>\n",
              "    <tr>\n",
              "      <th>6</th>\n",
              "      <td>657</td>\n",
              "      <td>2.218543</td>\n",
              "      <td>335</td>\n",
              "    </tr>\n",
              "    <tr>\n",
              "      <th>7</th>\n",
              "      <td>614</td>\n",
              "      <td>2.217158</td>\n",
              "      <td>827</td>\n",
              "    </tr>\n",
              "    <tr>\n",
              "      <th>8</th>\n",
              "      <td>4831</td>\n",
              "      <td>2.206186</td>\n",
              "      <td>214</td>\n",
              "    </tr>\n",
              "    <tr>\n",
              "      <th>9</th>\n",
              "      <td>6860</td>\n",
              "      <td>2.171598</td>\n",
              "      <td>367</td>\n",
              "    </tr>\n",
              "  </tbody>\n",
              "</table>\n",
              "</div>\n",
              "    <div class=\"colab-df-buttons\">\n",
              "\n",
              "  <div class=\"colab-df-container\">\n",
              "    <button class=\"colab-df-convert\" onclick=\"convertToInteractive('df-7975431a-d41b-415f-ab39-d9981d178e54')\"\n",
              "            title=\"Convert this dataframe to an interactive table.\"\n",
              "            style=\"display:none;\">\n",
              "\n",
              "  <svg xmlns=\"http://www.w3.org/2000/svg\" height=\"24px\" viewBox=\"0 -960 960 960\">\n",
              "    <path d=\"M120-120v-720h720v720H120Zm60-500h600v-160H180v160Zm220 220h160v-160H400v160Zm0 220h160v-160H400v160ZM180-400h160v-160H180v160Zm440 0h160v-160H620v160ZM180-180h160v-160H180v160Zm440 0h160v-160H620v160Z\"/>\n",
              "  </svg>\n",
              "    </button>\n",
              "\n",
              "  <style>\n",
              "    .colab-df-container {\n",
              "      display:flex;\n",
              "      gap: 12px;\n",
              "    }\n",
              "\n",
              "    .colab-df-convert {\n",
              "      background-color: #E8F0FE;\n",
              "      border: none;\n",
              "      border-radius: 50%;\n",
              "      cursor: pointer;\n",
              "      display: none;\n",
              "      fill: #1967D2;\n",
              "      height: 32px;\n",
              "      padding: 0 0 0 0;\n",
              "      width: 32px;\n",
              "    }\n",
              "\n",
              "    .colab-df-convert:hover {\n",
              "      background-color: #E2EBFA;\n",
              "      box-shadow: 0px 1px 2px rgba(60, 64, 67, 0.3), 0px 1px 3px 1px rgba(60, 64, 67, 0.15);\n",
              "      fill: #174EA6;\n",
              "    }\n",
              "\n",
              "    .colab-df-buttons div {\n",
              "      margin-bottom: 4px;\n",
              "    }\n",
              "\n",
              "    [theme=dark] .colab-df-convert {\n",
              "      background-color: #3B4455;\n",
              "      fill: #D2E3FC;\n",
              "    }\n",
              "\n",
              "    [theme=dark] .colab-df-convert:hover {\n",
              "      background-color: #434B5C;\n",
              "      box-shadow: 0px 1px 3px 1px rgba(0, 0, 0, 0.15);\n",
              "      filter: drop-shadow(0px 1px 2px rgba(0, 0, 0, 0.3));\n",
              "      fill: #FFFFFF;\n",
              "    }\n",
              "  </style>\n",
              "\n",
              "    <script>\n",
              "      const buttonEl =\n",
              "        document.querySelector('#df-7975431a-d41b-415f-ab39-d9981d178e54 button.colab-df-convert');\n",
              "      buttonEl.style.display =\n",
              "        google.colab.kernel.accessAllowed ? 'block' : 'none';\n",
              "\n",
              "      async function convertToInteractive(key) {\n",
              "        const element = document.querySelector('#df-7975431a-d41b-415f-ab39-d9981d178e54');\n",
              "        const dataTable =\n",
              "          await google.colab.kernel.invokeFunction('convertToInteractive',\n",
              "                                                    [key], {});\n",
              "        if (!dataTable) return;\n",
              "\n",
              "        const docLinkHtml = 'Like what you see? Visit the ' +\n",
              "          '<a target=\"_blank\" href=https://colab.research.google.com/notebooks/data_table.ipynb>data table notebook</a>'\n",
              "          + ' to learn more about interactive tables.';\n",
              "        element.innerHTML = '';\n",
              "        dataTable['output_type'] = 'display_data';\n",
              "        await google.colab.output.renderOutput(dataTable, element);\n",
              "        const docLink = document.createElement('div');\n",
              "        docLink.innerHTML = docLinkHtml;\n",
              "        element.appendChild(docLink);\n",
              "      }\n",
              "    </script>\n",
              "  </div>\n",
              "\n",
              "\n",
              "<div id=\"df-8eb31b85-b07f-4e8d-89d5-a391f80bde80\">\n",
              "  <button class=\"colab-df-quickchart\" onclick=\"quickchart('df-8eb31b85-b07f-4e8d-89d5-a391f80bde80')\"\n",
              "            title=\"Suggest charts\"\n",
              "            style=\"display:none;\">\n",
              "\n",
              "<svg xmlns=\"http://www.w3.org/2000/svg\" height=\"24px\"viewBox=\"0 0 24 24\"\n",
              "     width=\"24px\">\n",
              "    <g>\n",
              "        <path d=\"M19 3H5c-1.1 0-2 .9-2 2v14c0 1.1.9 2 2 2h14c1.1 0 2-.9 2-2V5c0-1.1-.9-2-2-2zM9 17H7v-7h2v7zm4 0h-2V7h2v10zm4 0h-2v-4h2v4z\"/>\n",
              "    </g>\n",
              "</svg>\n",
              "  </button>\n",
              "\n",
              "<style>\n",
              "  .colab-df-quickchart {\n",
              "      --bg-color: #E8F0FE;\n",
              "      --fill-color: #1967D2;\n",
              "      --hover-bg-color: #E2EBFA;\n",
              "      --hover-fill-color: #174EA6;\n",
              "      --disabled-fill-color: #AAA;\n",
              "      --disabled-bg-color: #DDD;\n",
              "  }\n",
              "\n",
              "  [theme=dark] .colab-df-quickchart {\n",
              "      --bg-color: #3B4455;\n",
              "      --fill-color: #D2E3FC;\n",
              "      --hover-bg-color: #434B5C;\n",
              "      --hover-fill-color: #FFFFFF;\n",
              "      --disabled-bg-color: #3B4455;\n",
              "      --disabled-fill-color: #666;\n",
              "  }\n",
              "\n",
              "  .colab-df-quickchart {\n",
              "    background-color: var(--bg-color);\n",
              "    border: none;\n",
              "    border-radius: 50%;\n",
              "    cursor: pointer;\n",
              "    display: none;\n",
              "    fill: var(--fill-color);\n",
              "    height: 32px;\n",
              "    padding: 0;\n",
              "    width: 32px;\n",
              "  }\n",
              "\n",
              "  .colab-df-quickchart:hover {\n",
              "    background-color: var(--hover-bg-color);\n",
              "    box-shadow: 0 1px 2px rgba(60, 64, 67, 0.3), 0 1px 3px 1px rgba(60, 64, 67, 0.15);\n",
              "    fill: var(--button-hover-fill-color);\n",
              "  }\n",
              "\n",
              "  .colab-df-quickchart-complete:disabled,\n",
              "  .colab-df-quickchart-complete:disabled:hover {\n",
              "    background-color: var(--disabled-bg-color);\n",
              "    fill: var(--disabled-fill-color);\n",
              "    box-shadow: none;\n",
              "  }\n",
              "\n",
              "  .colab-df-spinner {\n",
              "    border: 2px solid var(--fill-color);\n",
              "    border-color: transparent;\n",
              "    border-bottom-color: var(--fill-color);\n",
              "    animation:\n",
              "      spin 1s steps(1) infinite;\n",
              "  }\n",
              "\n",
              "  @keyframes spin {\n",
              "    0% {\n",
              "      border-color: transparent;\n",
              "      border-bottom-color: var(--fill-color);\n",
              "      border-left-color: var(--fill-color);\n",
              "    }\n",
              "    20% {\n",
              "      border-color: transparent;\n",
              "      border-left-color: var(--fill-color);\n",
              "      border-top-color: var(--fill-color);\n",
              "    }\n",
              "    30% {\n",
              "      border-color: transparent;\n",
              "      border-left-color: var(--fill-color);\n",
              "      border-top-color: var(--fill-color);\n",
              "      border-right-color: var(--fill-color);\n",
              "    }\n",
              "    40% {\n",
              "      border-color: transparent;\n",
              "      border-right-color: var(--fill-color);\n",
              "      border-top-color: var(--fill-color);\n",
              "    }\n",
              "    60% {\n",
              "      border-color: transparent;\n",
              "      border-right-color: var(--fill-color);\n",
              "    }\n",
              "    80% {\n",
              "      border-color: transparent;\n",
              "      border-right-color: var(--fill-color);\n",
              "      border-bottom-color: var(--fill-color);\n",
              "    }\n",
              "    90% {\n",
              "      border-color: transparent;\n",
              "      border-bottom-color: var(--fill-color);\n",
              "    }\n",
              "  }\n",
              "</style>\n",
              "\n",
              "  <script>\n",
              "    async function quickchart(key) {\n",
              "      const quickchartButtonEl =\n",
              "        document.querySelector('#' + key + ' button');\n",
              "      quickchartButtonEl.disabled = true;  // To prevent multiple clicks.\n",
              "      quickchartButtonEl.classList.add('colab-df-spinner');\n",
              "      try {\n",
              "        const charts = await google.colab.kernel.invokeFunction(\n",
              "            'suggestCharts', [key], {});\n",
              "      } catch (error) {\n",
              "        console.error('Error during call to suggestCharts:', error);\n",
              "      }\n",
              "      quickchartButtonEl.classList.remove('colab-df-spinner');\n",
              "      quickchartButtonEl.classList.add('colab-df-quickchart-complete');\n",
              "    }\n",
              "    (() => {\n",
              "      let quickchartButtonEl =\n",
              "        document.querySelector('#df-8eb31b85-b07f-4e8d-89d5-a391f80bde80 button');\n",
              "      quickchartButtonEl.style.display =\n",
              "        google.colab.kernel.accessAllowed ? 'block' : 'none';\n",
              "    })();\n",
              "  </script>\n",
              "</div>\n",
              "    </div>\n",
              "  </div>\n"
            ],
            "application/vnd.google.colaboratory.intrinsic+json": {
              "type": "dataframe",
              "summary": "{\n  \"name\": \"rb_popular\",\n  \"rows\": 10,\n  \"fields\": [\n    {\n      \"column\": \"song_id\",\n      \"properties\": {\n        \"dtype\": \"number\",\n        \"std\": 3131,\n        \"min\": 614,\n        \"max\": 9942,\n        \"num_unique_values\": 10,\n        \"samples\": [\n          4831,\n          8324,\n          8483\n        ],\n        \"semantic_type\": \"\",\n        \"description\": \"\"\n      }\n    },\n    {\n      \"column\": \"avg_count\",\n      \"properties\": {\n        \"dtype\": \"number\",\n        \"std\": 0.36615201705793965,\n        \"min\": 2.171597633136095,\n        \"max\": 3.3738317757009346,\n        \"num_unique_values\": 10,\n        \"samples\": [\n          2.2061855670103094,\n          2.625,\n          2.2357723577235773\n        ],\n        \"semantic_type\": \"\",\n        \"description\": \"\"\n      }\n    },\n    {\n      \"column\": \"sum_count\",\n      \"properties\": {\n        \"dtype\": \"number\",\n        \"std\": 379,\n        \"min\": 214,\n        \"max\": 1427,\n        \"num_unique_values\": 10,\n        \"samples\": [\n          214,\n          252,\n          275\n        ],\n        \"semantic_type\": \"\",\n        \"description\": \"\"\n      }\n    }\n  ]\n}"
            }
          },
          "metadata": {},
          "execution_count": 177
        }
      ]
    },
    {
      "cell_type": "code",
      "source": [
        "# Check if 'song_id' is already the index and if not - Reset the index so that song_id becomes the index\n",
        "if 'song_id' in df_final.columns:\n",
        "    # Reset the index so that song_id becomes the index\n",
        "    df_final.set_index('song_id', inplace=True)\n",
        "\n",
        "# Find the indices of the top 10 songs\n",
        "top_n_song_indices = top_n_songs(rb_popular, 10)\n",
        "\n",
        "# Get the rows corresponding to the top 10 songs from df_final and drop duplicate songs\n",
        "top_n_songs_df = df_final.loc[top_n_song_indices].drop_duplicates(subset=['title'])\n",
        "\n",
        "# Print the top 10 unique songs with all their information except 'user_id' and listen_count\n",
        "top_n_songs_df[['title', 'release', 'artist_name', 'year']]"
      ],
      "metadata": {
        "id": "G9enKwu31Zy8",
        "outputId": "640ad084-f426-4c6f-a8f9-5df3c3dea4db",
        "colab": {
          "base_uri": "https://localhost:8080/",
          "height": 356
        }
      },
      "execution_count": 178,
      "outputs": [
        {
          "output_type": "error",
          "ename": "KeyError",
          "evalue": "\"None of [Int64Index([0, 1, 2, 3, 4, 5, 6, 7, 8, 9], dtype='int64', name='song_id')] are in the [index]\"",
          "traceback": [
            "\u001b[0;31m---------------------------------------------------------------------------\u001b[0m",
            "\u001b[0;31mKeyError\u001b[0m                                  Traceback (most recent call last)",
            "\u001b[0;32m<ipython-input-178-92978a13c222>\u001b[0m in \u001b[0;36m<cell line: 10>\u001b[0;34m()\u001b[0m\n\u001b[1;32m      8\u001b[0m \u001b[0;34m\u001b[0m\u001b[0m\n\u001b[1;32m      9\u001b[0m \u001b[0;31m# Get the rows corresponding to the top 10 songs from df_final and drop duplicate songs\u001b[0m\u001b[0;34m\u001b[0m\u001b[0;34m\u001b[0m\u001b[0m\n\u001b[0;32m---> 10\u001b[0;31m \u001b[0mtop_n_songs_df\u001b[0m \u001b[0;34m=\u001b[0m \u001b[0mdf_final\u001b[0m\u001b[0;34m.\u001b[0m\u001b[0mloc\u001b[0m\u001b[0;34m[\u001b[0m\u001b[0mtop_n_song_indices\u001b[0m\u001b[0;34m]\u001b[0m\u001b[0;34m.\u001b[0m\u001b[0mdrop_duplicates\u001b[0m\u001b[0;34m(\u001b[0m\u001b[0msubset\u001b[0m\u001b[0;34m=\u001b[0m\u001b[0;34m[\u001b[0m\u001b[0;34m'title'\u001b[0m\u001b[0;34m]\u001b[0m\u001b[0;34m)\u001b[0m\u001b[0;34m\u001b[0m\u001b[0;34m\u001b[0m\u001b[0m\n\u001b[0m\u001b[1;32m     11\u001b[0m \u001b[0;34m\u001b[0m\u001b[0m\n\u001b[1;32m     12\u001b[0m \u001b[0;31m# Print the top 10 unique songs with all their information except 'user_id' and listen_count\u001b[0m\u001b[0;34m\u001b[0m\u001b[0;34m\u001b[0m\u001b[0m\n",
            "\u001b[0;32m/usr/local/lib/python3.10/dist-packages/pandas/core/indexing.py\u001b[0m in \u001b[0;36m__getitem__\u001b[0;34m(self, key)\u001b[0m\n\u001b[1;32m   1071\u001b[0m \u001b[0;34m\u001b[0m\u001b[0m\n\u001b[1;32m   1072\u001b[0m             \u001b[0mmaybe_callable\u001b[0m \u001b[0;34m=\u001b[0m \u001b[0mcom\u001b[0m\u001b[0;34m.\u001b[0m\u001b[0mapply_if_callable\u001b[0m\u001b[0;34m(\u001b[0m\u001b[0mkey\u001b[0m\u001b[0;34m,\u001b[0m \u001b[0mself\u001b[0m\u001b[0;34m.\u001b[0m\u001b[0mobj\u001b[0m\u001b[0;34m)\u001b[0m\u001b[0;34m\u001b[0m\u001b[0;34m\u001b[0m\u001b[0m\n\u001b[0;32m-> 1073\u001b[0;31m             \u001b[0;32mreturn\u001b[0m \u001b[0mself\u001b[0m\u001b[0;34m.\u001b[0m\u001b[0m_getitem_axis\u001b[0m\u001b[0;34m(\u001b[0m\u001b[0mmaybe_callable\u001b[0m\u001b[0;34m,\u001b[0m \u001b[0maxis\u001b[0m\u001b[0;34m=\u001b[0m\u001b[0maxis\u001b[0m\u001b[0;34m)\u001b[0m\u001b[0;34m\u001b[0m\u001b[0;34m\u001b[0m\u001b[0m\n\u001b[0m\u001b[1;32m   1074\u001b[0m \u001b[0;34m\u001b[0m\u001b[0m\n\u001b[1;32m   1075\u001b[0m     \u001b[0;32mdef\u001b[0m \u001b[0m_is_scalar_access\u001b[0m\u001b[0;34m(\u001b[0m\u001b[0mself\u001b[0m\u001b[0;34m,\u001b[0m \u001b[0mkey\u001b[0m\u001b[0;34m:\u001b[0m \u001b[0mtuple\u001b[0m\u001b[0;34m)\u001b[0m\u001b[0;34m:\u001b[0m\u001b[0;34m\u001b[0m\u001b[0;34m\u001b[0m\u001b[0m\n",
            "\u001b[0;32m/usr/local/lib/python3.10/dist-packages/pandas/core/indexing.py\u001b[0m in \u001b[0;36m_getitem_axis\u001b[0;34m(self, key, axis)\u001b[0m\n\u001b[1;32m   1299\u001b[0m                     \u001b[0;32mraise\u001b[0m \u001b[0mValueError\u001b[0m\u001b[0;34m(\u001b[0m\u001b[0;34m\"Cannot index with multidimensional key\"\u001b[0m\u001b[0;34m)\u001b[0m\u001b[0;34m\u001b[0m\u001b[0;34m\u001b[0m\u001b[0m\n\u001b[1;32m   1300\u001b[0m \u001b[0;34m\u001b[0m\u001b[0m\n\u001b[0;32m-> 1301\u001b[0;31m                 \u001b[0;32mreturn\u001b[0m \u001b[0mself\u001b[0m\u001b[0;34m.\u001b[0m\u001b[0m_getitem_iterable\u001b[0m\u001b[0;34m(\u001b[0m\u001b[0mkey\u001b[0m\u001b[0;34m,\u001b[0m \u001b[0maxis\u001b[0m\u001b[0;34m=\u001b[0m\u001b[0maxis\u001b[0m\u001b[0;34m)\u001b[0m\u001b[0;34m\u001b[0m\u001b[0;34m\u001b[0m\u001b[0m\n\u001b[0m\u001b[1;32m   1302\u001b[0m \u001b[0;34m\u001b[0m\u001b[0m\n\u001b[1;32m   1303\u001b[0m             \u001b[0;31m# nested tuple slicing\u001b[0m\u001b[0;34m\u001b[0m\u001b[0;34m\u001b[0m\u001b[0m\n",
            "\u001b[0;32m/usr/local/lib/python3.10/dist-packages/pandas/core/indexing.py\u001b[0m in \u001b[0;36m_getitem_iterable\u001b[0;34m(self, key, axis)\u001b[0m\n\u001b[1;32m   1237\u001b[0m \u001b[0;34m\u001b[0m\u001b[0m\n\u001b[1;32m   1238\u001b[0m         \u001b[0;31m# A collection of keys\u001b[0m\u001b[0;34m\u001b[0m\u001b[0;34m\u001b[0m\u001b[0m\n\u001b[0;32m-> 1239\u001b[0;31m         \u001b[0mkeyarr\u001b[0m\u001b[0;34m,\u001b[0m \u001b[0mindexer\u001b[0m \u001b[0;34m=\u001b[0m \u001b[0mself\u001b[0m\u001b[0;34m.\u001b[0m\u001b[0m_get_listlike_indexer\u001b[0m\u001b[0;34m(\u001b[0m\u001b[0mkey\u001b[0m\u001b[0;34m,\u001b[0m \u001b[0maxis\u001b[0m\u001b[0;34m)\u001b[0m\u001b[0;34m\u001b[0m\u001b[0;34m\u001b[0m\u001b[0m\n\u001b[0m\u001b[1;32m   1240\u001b[0m         return self.obj._reindex_with_indexers(\n\u001b[1;32m   1241\u001b[0m             \u001b[0;34m{\u001b[0m\u001b[0maxis\u001b[0m\u001b[0;34m:\u001b[0m \u001b[0;34m[\u001b[0m\u001b[0mkeyarr\u001b[0m\u001b[0;34m,\u001b[0m \u001b[0mindexer\u001b[0m\u001b[0;34m]\u001b[0m\u001b[0;34m}\u001b[0m\u001b[0;34m,\u001b[0m \u001b[0mcopy\u001b[0m\u001b[0;34m=\u001b[0m\u001b[0;32mTrue\u001b[0m\u001b[0;34m,\u001b[0m \u001b[0mallow_dups\u001b[0m\u001b[0;34m=\u001b[0m\u001b[0;32mTrue\u001b[0m\u001b[0;34m\u001b[0m\u001b[0;34m\u001b[0m\u001b[0m\n",
            "\u001b[0;32m/usr/local/lib/python3.10/dist-packages/pandas/core/indexing.py\u001b[0m in \u001b[0;36m_get_listlike_indexer\u001b[0;34m(self, key, axis)\u001b[0m\n\u001b[1;32m   1430\u001b[0m         \u001b[0maxis_name\u001b[0m \u001b[0;34m=\u001b[0m \u001b[0mself\u001b[0m\u001b[0;34m.\u001b[0m\u001b[0mobj\u001b[0m\u001b[0;34m.\u001b[0m\u001b[0m_get_axis_name\u001b[0m\u001b[0;34m(\u001b[0m\u001b[0maxis\u001b[0m\u001b[0;34m)\u001b[0m\u001b[0;34m\u001b[0m\u001b[0;34m\u001b[0m\u001b[0m\n\u001b[1;32m   1431\u001b[0m \u001b[0;34m\u001b[0m\u001b[0m\n\u001b[0;32m-> 1432\u001b[0;31m         \u001b[0mkeyarr\u001b[0m\u001b[0;34m,\u001b[0m \u001b[0mindexer\u001b[0m \u001b[0;34m=\u001b[0m \u001b[0max\u001b[0m\u001b[0;34m.\u001b[0m\u001b[0m_get_indexer_strict\u001b[0m\u001b[0;34m(\u001b[0m\u001b[0mkey\u001b[0m\u001b[0;34m,\u001b[0m \u001b[0maxis_name\u001b[0m\u001b[0;34m)\u001b[0m\u001b[0;34m\u001b[0m\u001b[0;34m\u001b[0m\u001b[0m\n\u001b[0m\u001b[1;32m   1433\u001b[0m \u001b[0;34m\u001b[0m\u001b[0m\n\u001b[1;32m   1434\u001b[0m         \u001b[0;32mreturn\u001b[0m \u001b[0mkeyarr\u001b[0m\u001b[0;34m,\u001b[0m \u001b[0mindexer\u001b[0m\u001b[0;34m\u001b[0m\u001b[0;34m\u001b[0m\u001b[0m\n",
            "\u001b[0;32m/usr/local/lib/python3.10/dist-packages/pandas/core/indexes/base.py\u001b[0m in \u001b[0;36m_get_indexer_strict\u001b[0;34m(self, key, axis_name)\u001b[0m\n\u001b[1;32m   6068\u001b[0m             \u001b[0mkeyarr\u001b[0m\u001b[0;34m,\u001b[0m \u001b[0mindexer\u001b[0m\u001b[0;34m,\u001b[0m \u001b[0mnew_indexer\u001b[0m \u001b[0;34m=\u001b[0m \u001b[0mself\u001b[0m\u001b[0;34m.\u001b[0m\u001b[0m_reindex_non_unique\u001b[0m\u001b[0;34m(\u001b[0m\u001b[0mkeyarr\u001b[0m\u001b[0;34m)\u001b[0m\u001b[0;34m\u001b[0m\u001b[0;34m\u001b[0m\u001b[0m\n\u001b[1;32m   6069\u001b[0m \u001b[0;34m\u001b[0m\u001b[0m\n\u001b[0;32m-> 6070\u001b[0;31m         \u001b[0mself\u001b[0m\u001b[0;34m.\u001b[0m\u001b[0m_raise_if_missing\u001b[0m\u001b[0;34m(\u001b[0m\u001b[0mkeyarr\u001b[0m\u001b[0;34m,\u001b[0m \u001b[0mindexer\u001b[0m\u001b[0;34m,\u001b[0m \u001b[0maxis_name\u001b[0m\u001b[0;34m)\u001b[0m\u001b[0;34m\u001b[0m\u001b[0;34m\u001b[0m\u001b[0m\n\u001b[0m\u001b[1;32m   6071\u001b[0m \u001b[0;34m\u001b[0m\u001b[0m\n\u001b[1;32m   6072\u001b[0m         \u001b[0mkeyarr\u001b[0m \u001b[0;34m=\u001b[0m \u001b[0mself\u001b[0m\u001b[0;34m.\u001b[0m\u001b[0mtake\u001b[0m\u001b[0;34m(\u001b[0m\u001b[0mindexer\u001b[0m\u001b[0;34m)\u001b[0m\u001b[0;34m\u001b[0m\u001b[0;34m\u001b[0m\u001b[0m\n",
            "\u001b[0;32m/usr/local/lib/python3.10/dist-packages/pandas/core/indexes/base.py\u001b[0m in \u001b[0;36m_raise_if_missing\u001b[0;34m(self, key, indexer, axis_name)\u001b[0m\n\u001b[1;32m   6128\u001b[0m                 \u001b[0;32mif\u001b[0m \u001b[0muse_interval_msg\u001b[0m\u001b[0;34m:\u001b[0m\u001b[0;34m\u001b[0m\u001b[0;34m\u001b[0m\u001b[0m\n\u001b[1;32m   6129\u001b[0m                     \u001b[0mkey\u001b[0m \u001b[0;34m=\u001b[0m \u001b[0mlist\u001b[0m\u001b[0;34m(\u001b[0m\u001b[0mkey\u001b[0m\u001b[0;34m)\u001b[0m\u001b[0;34m\u001b[0m\u001b[0;34m\u001b[0m\u001b[0m\n\u001b[0;32m-> 6130\u001b[0;31m                 \u001b[0;32mraise\u001b[0m \u001b[0mKeyError\u001b[0m\u001b[0;34m(\u001b[0m\u001b[0;34mf\"None of [{key}] are in the [{axis_name}]\"\u001b[0m\u001b[0;34m)\u001b[0m\u001b[0;34m\u001b[0m\u001b[0;34m\u001b[0m\u001b[0m\n\u001b[0m\u001b[1;32m   6131\u001b[0m \u001b[0;34m\u001b[0m\u001b[0m\n\u001b[1;32m   6132\u001b[0m             \u001b[0mnot_found\u001b[0m \u001b[0;34m=\u001b[0m \u001b[0mlist\u001b[0m\u001b[0;34m(\u001b[0m\u001b[0mensure_index\u001b[0m\u001b[0;34m(\u001b[0m\u001b[0mkey\u001b[0m\u001b[0;34m)\u001b[0m\u001b[0;34m[\u001b[0m\u001b[0mmissing_mask\u001b[0m\u001b[0;34m.\u001b[0m\u001b[0mnonzero\u001b[0m\u001b[0;34m(\u001b[0m\u001b[0;34m)\u001b[0m\u001b[0;34m[\u001b[0m\u001b[0;36m0\u001b[0m\u001b[0;34m]\u001b[0m\u001b[0;34m]\u001b[0m\u001b[0;34m.\u001b[0m\u001b[0munique\u001b[0m\u001b[0;34m(\u001b[0m\u001b[0;34m)\u001b[0m\u001b[0;34m)\u001b[0m\u001b[0;34m\u001b[0m\u001b[0;34m\u001b[0m\u001b[0m\n",
            "\u001b[0;31mKeyError\u001b[0m: \"None of [Int64Index([0, 1, 2, 3, 4, 5, 6, 7, 8, 9], dtype='int64', name='song_id')] are in the [index]\""
          ]
        }
      ]
    },
    {
      "cell_type": "code",
      "source": [
        "# Merge the two DataFrames on 'rb_popular'\n",
        "top_10_info = pd.merge(top_n_songs_df[['title', 'release', 'artist_name', 'year']], rb_popular.loc[top_n_songs(rb_popular, 10)], left_index=True, right_index=True)\n",
        "\n",
        "# Display the combined information\n",
        "top_10_info"
      ],
      "metadata": {
        "id": "-dd3C6OO9H2P",
        "outputId": "7472da51-29a9-4b09-e8d5-7fb23fd5489e",
        "colab": {
          "base_uri": "https://localhost:8080/",
          "height": 53
        }
      },
      "execution_count": 179,
      "outputs": [
        {
          "output_type": "execute_result",
          "data": {
            "text/plain": [
              "Empty DataFrame\n",
              "Columns: [title, release, artist_name, year, song_id, avg_count, sum_count]\n",
              "Index: []"
            ],
            "text/html": [
              "\n",
              "  <div id=\"df-d3bc28b4-7dd2-4f21-a6f0-b6ac6bed5e27\" class=\"colab-df-container\">\n",
              "    <div>\n",
              "<style scoped>\n",
              "    .dataframe tbody tr th:only-of-type {\n",
              "        vertical-align: middle;\n",
              "    }\n",
              "\n",
              "    .dataframe tbody tr th {\n",
              "        vertical-align: top;\n",
              "    }\n",
              "\n",
              "    .dataframe thead th {\n",
              "        text-align: right;\n",
              "    }\n",
              "</style>\n",
              "<table border=\"1\" class=\"dataframe\">\n",
              "  <thead>\n",
              "    <tr style=\"text-align: right;\">\n",
              "      <th></th>\n",
              "      <th>title</th>\n",
              "      <th>release</th>\n",
              "      <th>artist_name</th>\n",
              "      <th>year</th>\n",
              "      <th>song_id</th>\n",
              "      <th>avg_count</th>\n",
              "      <th>sum_count</th>\n",
              "    </tr>\n",
              "  </thead>\n",
              "  <tbody>\n",
              "  </tbody>\n",
              "</table>\n",
              "</div>\n",
              "    <div class=\"colab-df-buttons\">\n",
              "\n",
              "  <div class=\"colab-df-container\">\n",
              "    <button class=\"colab-df-convert\" onclick=\"convertToInteractive('df-d3bc28b4-7dd2-4f21-a6f0-b6ac6bed5e27')\"\n",
              "            title=\"Convert this dataframe to an interactive table.\"\n",
              "            style=\"display:none;\">\n",
              "\n",
              "  <svg xmlns=\"http://www.w3.org/2000/svg\" height=\"24px\" viewBox=\"0 -960 960 960\">\n",
              "    <path d=\"M120-120v-720h720v720H120Zm60-500h600v-160H180v160Zm220 220h160v-160H400v160Zm0 220h160v-160H400v160ZM180-400h160v-160H180v160Zm440 0h160v-160H620v160ZM180-180h160v-160H180v160Zm440 0h160v-160H620v160Z\"/>\n",
              "  </svg>\n",
              "    </button>\n",
              "\n",
              "  <style>\n",
              "    .colab-df-container {\n",
              "      display:flex;\n",
              "      gap: 12px;\n",
              "    }\n",
              "\n",
              "    .colab-df-convert {\n",
              "      background-color: #E8F0FE;\n",
              "      border: none;\n",
              "      border-radius: 50%;\n",
              "      cursor: pointer;\n",
              "      display: none;\n",
              "      fill: #1967D2;\n",
              "      height: 32px;\n",
              "      padding: 0 0 0 0;\n",
              "      width: 32px;\n",
              "    }\n",
              "\n",
              "    .colab-df-convert:hover {\n",
              "      background-color: #E2EBFA;\n",
              "      box-shadow: 0px 1px 2px rgba(60, 64, 67, 0.3), 0px 1px 3px 1px rgba(60, 64, 67, 0.15);\n",
              "      fill: #174EA6;\n",
              "    }\n",
              "\n",
              "    .colab-df-buttons div {\n",
              "      margin-bottom: 4px;\n",
              "    }\n",
              "\n",
              "    [theme=dark] .colab-df-convert {\n",
              "      background-color: #3B4455;\n",
              "      fill: #D2E3FC;\n",
              "    }\n",
              "\n",
              "    [theme=dark] .colab-df-convert:hover {\n",
              "      background-color: #434B5C;\n",
              "      box-shadow: 0px 1px 3px 1px rgba(0, 0, 0, 0.15);\n",
              "      filter: drop-shadow(0px 1px 2px rgba(0, 0, 0, 0.3));\n",
              "      fill: #FFFFFF;\n",
              "    }\n",
              "  </style>\n",
              "\n",
              "    <script>\n",
              "      const buttonEl =\n",
              "        document.querySelector('#df-d3bc28b4-7dd2-4f21-a6f0-b6ac6bed5e27 button.colab-df-convert');\n",
              "      buttonEl.style.display =\n",
              "        google.colab.kernel.accessAllowed ? 'block' : 'none';\n",
              "\n",
              "      async function convertToInteractive(key) {\n",
              "        const element = document.querySelector('#df-d3bc28b4-7dd2-4f21-a6f0-b6ac6bed5e27');\n",
              "        const dataTable =\n",
              "          await google.colab.kernel.invokeFunction('convertToInteractive',\n",
              "                                                    [key], {});\n",
              "        if (!dataTable) return;\n",
              "\n",
              "        const docLinkHtml = 'Like what you see? Visit the ' +\n",
              "          '<a target=\"_blank\" href=https://colab.research.google.com/notebooks/data_table.ipynb>data table notebook</a>'\n",
              "          + ' to learn more about interactive tables.';\n",
              "        element.innerHTML = '';\n",
              "        dataTable['output_type'] = 'display_data';\n",
              "        await google.colab.output.renderOutput(dataTable, element);\n",
              "        const docLink = document.createElement('div');\n",
              "        docLink.innerHTML = docLinkHtml;\n",
              "        element.appendChild(docLink);\n",
              "      }\n",
              "    </script>\n",
              "  </div>\n",
              "\n",
              "    </div>\n",
              "  </div>\n"
            ],
            "application/vnd.google.colaboratory.intrinsic+json": {
              "type": "dataframe",
              "variable_name": "top_10_info",
              "repr_error": "Out of range float values are not JSON compliant: nan"
            }
          },
          "metadata": {},
          "execution_count": 179
        }
      ]
    },
    {
      "cell_type": "markdown",
      "source": [
        "Seems like there is a mix of different release years, and popularity levels among the songs. <br> For example, \"Victoria (LP Version)\" by Old 97's is from 2006 and has an average listen count of 3.37, indicating it is quite popular. <br> And \"Heaven Must Be Missing An Angel\" by Tavares is from 1979 with a lower average listen count of 2.21, showing that older songs can still be popular among listeners. <br> This suggests that music preferences are diverse and not solely based on release year or genre."
      ],
      "metadata": {
        "id": "xr-71H-D9uQv"
      }
    },
    {
      "cell_type": "code",
      "source": [
        "# Plotting the TOP 10 SONGS\n",
        "\n",
        "# X-axis (Release Year): Each point on the x-axis represents the release year of a song.\n",
        "\n",
        "# Y-axis (Average Listen Count): The y-axis shows the average listen count for each song.\n",
        "\n",
        "# Point Size: The size of each point is determined by the total listen count of the song.\n",
        "# Larger points indicate songs that have been listened to more frequently.\n",
        "\n",
        "# Color: The color of each point also represents the total listen count,\n",
        "# with darker colors indicating songs with higher total listen counts.\n",
        "\n",
        "plt.figure(figsize=(12, 8))\n",
        "plt.scatter(top_10_info['year'], top_10_info['avg_count'], s=top_10_info['sum_count']*10, alpha=0.5, cmap='viridis')\n",
        "plt.title('Average Listen Count vs. Release Year of Top 10 Songs')\n",
        "plt.xlabel('Release Year')\n",
        "plt.ylabel('Average Listen Count')\n",
        "plt.colorbar(label='Total Listen Count')\n",
        "plt.show()\n"
      ],
      "metadata": {
        "id": "dBKVyD9aAT6N",
        "outputId": "0e2c434f-a7c7-4808-efef-6657aa34ccf9",
        "colab": {
          "base_uri": "https://localhost:8080/",
          "height": 718
        }
      },
      "execution_count": null,
      "outputs": [
        {
          "output_type": "display_data",
          "data": {
            "text/plain": [
              "<Figure size 1200x800 with 2 Axes>"
            ],
            "image/png": "[encoded data removed]"
          },
          "metadata": {}
        }
      ]
    },
    {
      "cell_type": "markdown",
      "source": [
        "# Preparing the data for modeling\n"
      ],
      "metadata": {
        "id": "TMGhhINR5oO9"
      }
    },
    {
      "cell_type": "markdown",
      "source": [
        "Here we want to make sure that our data is arranged properly:"
      ],
      "metadata": {
        "id": "sQQXsCy3Up7W"
      }
    },
    {
      "cell_type": "code",
      "source": [
        "df_final.reset_index(inplace=True)"
      ],
      "metadata": {
        "id": "x5A9nZMqL4xT"
      },
      "execution_count": 73,
      "outputs": []
    },
    {
      "cell_type": "code",
      "source": [
        "df_final"
      ],
      "metadata": {
        "colab": {
          "base_uri": "https://localhost:8080/",
          "height": 424
        },
        "outputId": "1e87c684-146f-4840-9097-908b2606b15f",
        "id": "XsHp0B3LL4xT"
      },
      "execution_count": 74,
      "outputs": [
        {
          "output_type": "execute_result",
          "data": {
            "text/plain": [
              "         index  user_id  song_id  listen_count  \\\n",
              "0          200     6958      447             1   \n",
              "1          202     6958      512             1   \n",
              "2          203     6958      549             1   \n",
              "3          204     6958      703             1   \n",
              "4          205     6958      719             1   \n",
              "...        ...      ...      ...           ...   \n",
              "97222  1999731    47786     9081             2   \n",
              "97223  1999736    47786     9186             1   \n",
              "97224  1999745    47786     9351             2   \n",
              "97225  1999755    47786     9543             1   \n",
              "97226  1999765    47786     9847             1   \n",
              "\n",
              "                                 title                release  \\\n",
              "0                   Daisy And Prudence           Distillation   \n",
              "1      The Ballad of Michael Valentine                Sawdust   \n",
              "2            I Stand Corrected (Album)        Vampire Weekend   \n",
              "3                They Might Follow You            Tiny Vipers   \n",
              "4                           Monkey Man   You Know I'm No Good   \n",
              "...                                ...                    ...   \n",
              "97222                      Take Me Out            Take Me Out   \n",
              "97223            Bitter Sweet Symphony  Bitter Sweet Symphony   \n",
              "97224       The Police And The Private            Live It Out   \n",
              "97225                     Just Friends          Back To Black   \n",
              "97226             He Can Only Hold Her          Back To Black   \n",
              "\n",
              "           artist_name  year  \n",
              "0         Erin McKeown  2000  \n",
              "1          The Killers  2004  \n",
              "2      Vampire Weekend  2007  \n",
              "3          Tiny Vipers  2007  \n",
              "4        Amy Winehouse  2007  \n",
              "...                ...   ...  \n",
              "97222  Franz Ferdinand  2003  \n",
              "97223        The Verve  1997  \n",
              "97224           Metric  2005  \n",
              "97225    Amy Winehouse  2006  \n",
              "97226    Amy Winehouse  2006  \n",
              "\n",
              "[97227 rows x 8 columns]"
            ],
            "text/html": [
              "\n",
              "  <div id=\"df-a72577a6-0dc7-43e2-94f1-921d1db286b0\" class=\"colab-df-container\">\n",
              "    <div>\n",
              "<style scoped>\n",
              "    .dataframe tbody tr th:only-of-type {\n",
              "        vertical-align: middle;\n",
              "    }\n",
              "\n",
              "    .dataframe tbody tr th {\n",
              "        vertical-align: top;\n",
              "    }\n",
              "\n",
              "    .dataframe thead th {\n",
              "        text-align: right;\n",
              "    }\n",
              "</style>\n",
              "<table border=\"1\" class=\"dataframe\">\n",
              "  <thead>\n",
              "    <tr style=\"text-align: right;\">\n",
              "      <th></th>\n",
              "      <th>index</th>\n",
              "      <th>user_id</th>\n",
              "      <th>song_id</th>\n",
              "      <th>listen_count</th>\n",
              "      <th>title</th>\n",
              "      <th>release</th>\n",
              "      <th>artist_name</th>\n",
              "      <th>year</th>\n",
              "    </tr>\n",
              "  </thead>\n",
              "  <tbody>\n",
              "    <tr>\n",
              "      <th>0</th>\n",
              "      <td>200</td>\n",
              "      <td>6958</td>\n",
              "      <td>447</td>\n",
              "      <td>1</td>\n",
              "      <td>Daisy And Prudence</td>\n",
              "      <td>Distillation</td>\n",
              "      <td>Erin McKeown</td>\n",
              "      <td>2000</td>\n",
              "    </tr>\n",
              "    <tr>\n",
              "      <th>1</th>\n",
              "      <td>202</td>\n",
              "      <td>6958</td>\n",
              "      <td>512</td>\n",
              "      <td>1</td>\n",
              "      <td>The Ballad of Michael Valentine</td>\n",
              "      <td>Sawdust</td>\n",
              "      <td>The Killers</td>\n",
              "      <td>2004</td>\n",
              "    </tr>\n",
              "    <tr>\n",
              "      <th>2</th>\n",
              "      <td>203</td>\n",
              "      <td>6958</td>\n",
              "      <td>549</td>\n",
              "      <td>1</td>\n",
              "      <td>I Stand Corrected (Album)</td>\n",
              "      <td>Vampire Weekend</td>\n",
              "      <td>Vampire Weekend</td>\n",
              "      <td>2007</td>\n",
              "    </tr>\n",
              "    <tr>\n",
              "      <th>3</th>\n",
              "      <td>204</td>\n",
              "      <td>6958</td>\n",
              "      <td>703</td>\n",
              "      <td>1</td>\n",
              "      <td>They Might Follow You</td>\n",
              "      <td>Tiny Vipers</td>\n",
              "      <td>Tiny Vipers</td>\n",
              "      <td>2007</td>\n",
              "    </tr>\n",
              "    <tr>\n",
              "      <th>4</th>\n",
              "      <td>205</td>\n",
              "      <td>6958</td>\n",
              "      <td>719</td>\n",
              "      <td>1</td>\n",
              "      <td>Monkey Man</td>\n",
              "      <td>You Know I'm No Good</td>\n",
              "      <td>Amy Winehouse</td>\n",
              "      <td>2007</td>\n",
              "    </tr>\n",
              "    <tr>\n",
              "      <th>...</th>\n",
              "      <td>...</td>\n",
              "      <td>...</td>\n",
              "      <td>...</td>\n",
              "      <td>...</td>\n",
              "      <td>...</td>\n",
              "      <td>...</td>\n",
              "      <td>...</td>\n",
              "      <td>...</td>\n",
              "    </tr>\n",
              "    <tr>\n",
              "      <th>97222</th>\n",
              "      <td>1999731</td>\n",
              "      <td>47786</td>\n",
              "      <td>9081</td>\n",
              "      <td>2</td>\n",
              "      <td>Take Me Out</td>\n",
              "      <td>Take Me Out</td>\n",
              "      <td>Franz Ferdinand</td>\n",
              "      <td>2003</td>\n",
              "    </tr>\n",
              "    <tr>\n",
              "      <th>97223</th>\n",
              "      <td>1999736</td>\n",
              "      <td>47786</td>\n",
              "      <td>9186</td>\n",
              "      <td>1</td>\n",
              "      <td>Bitter Sweet Symphony</td>\n",
              "      <td>Bitter Sweet Symphony</td>\n",
              "      <td>The Verve</td>\n",
              "      <td>1997</td>\n",
              "    </tr>\n",
              "    <tr>\n",
              "      <th>97224</th>\n",
              "      <td>1999745</td>\n",
              "      <td>47786</td>\n",
              "      <td>9351</td>\n",
              "      <td>2</td>\n",
              "      <td>The Police And The Private</td>\n",
              "      <td>Live It Out</td>\n",
              "      <td>Metric</td>\n",
              "      <td>2005</td>\n",
              "    </tr>\n",
              "    <tr>\n",
              "      <th>97225</th>\n",
              "      <td>1999755</td>\n",
              "      <td>47786</td>\n",
              "      <td>9543</td>\n",
              "      <td>1</td>\n",
              "      <td>Just Friends</td>\n",
              "      <td>Back To Black</td>\n",
              "      <td>Amy Winehouse</td>\n",
              "      <td>2006</td>\n",
              "    </tr>\n",
              "    <tr>\n",
              "      <th>97226</th>\n",
              "      <td>1999765</td>\n",
              "      <td>47786</td>\n",
              "      <td>9847</td>\n",
              "      <td>1</td>\n",
              "      <td>He Can Only Hold Her</td>\n",
              "      <td>Back To Black</td>\n",
              "      <td>Amy Winehouse</td>\n",
              "      <td>2006</td>\n",
              "    </tr>\n",
              "  </tbody>\n",
              "</table>\n",
              "<p>97227 rows × 8 columns</p>\n",
              "</div>\n",
              "    <div class=\"colab-df-buttons\">\n",
              "\n",
              "  <div class=\"colab-df-container\">\n",
              "    <button class=\"colab-df-convert\" onclick=\"convertToInteractive('df-a72577a6-0dc7-43e2-94f1-921d1db286b0')\"\n",
              "            title=\"Convert this dataframe to an interactive table.\"\n",
              "            style=\"display:none;\">\n",
              "\n",
              "  <svg xmlns=\"http://www.w3.org/2000/svg\" height=\"24px\" viewBox=\"0 -960 960 960\">\n",
              "    <path d=\"M120-120v-720h720v720H120Zm60-500h600v-160H180v160Zm220 220h160v-160H400v160Zm0 220h160v-160H400v160ZM180-400h160v-160H180v160Zm440 0h160v-160H620v160ZM180-180h160v-160H180v160Zm440 0h160v-160H620v160Z\"/>\n",
              "  </svg>\n",
              "    </button>\n",
              "\n",
              "  <style>\n",
              "    .colab-df-container {\n",
              "      display:flex;\n",
              "      gap: 12px;\n",
              "    }\n",
              "\n",
              "    .colab-df-convert {\n",
              "      background-color: #E8F0FE;\n",
              "      border: none;\n",
              "      border-radius: 50%;\n",
              "      cursor: pointer;\n",
              "      display: none;\n",
              "      fill: #1967D2;\n",
              "      height: 32px;\n",
              "      padding: 0 0 0 0;\n",
              "      width: 32px;\n",
              "    }\n",
              "\n",
              "    .colab-df-convert:hover {\n",
              "      background-color: #E2EBFA;\n",
              "      box-shadow: 0px 1px 2px rgba(60, 64, 67, 0.3), 0px 1px 3px 1px rgba(60, 64, 67, 0.15);\n",
              "      fill: #174EA6;\n",
              "    }\n",
              "\n",
              "    .colab-df-buttons div {\n",
              "      margin-bottom: 4px;\n",
              "    }\n",
              "\n",
              "    [theme=dark] .colab-df-convert {\n",
              "      background-color: #3B4455;\n",
              "      fill: #D2E3FC;\n",
              "    }\n",
              "\n",
              "    [theme=dark] .colab-df-convert:hover {\n",
              "      background-color: #434B5C;\n",
              "      box-shadow: 0px 1px 3px 1px rgba(0, 0, 0, 0.15);\n",
              "      filter: drop-shadow(0px 1px 2px rgba(0, 0, 0, 0.3));\n",
              "      fill: #FFFFFF;\n",
              "    }\n",
              "  </style>\n",
              "\n",
              "    <script>\n",
              "      const buttonEl =\n",
              "        document.querySelector('#df-a72577a6-0dc7-43e2-94f1-921d1db286b0 button.colab-df-convert');\n",
              "      buttonEl.style.display =\n",
              "        google.colab.kernel.accessAllowed ? 'block' : 'none';\n",
              "\n",
              "      async function convertToInteractive(key) {\n",
              "        const element = document.querySelector('#df-a72577a6-0dc7-43e2-94f1-921d1db286b0');\n",
              "        const dataTable =\n",
              "          await google.colab.kernel.invokeFunction('convertToInteractive',\n",
              "                                                    [key], {});\n",
              "        if (!dataTable) return;\n",
              "\n",
              "        const docLinkHtml = 'Like what you see? Visit the ' +\n",
              "          '<a target=\"_blank\" href=https://colab.research.google.com/notebooks/data_table.ipynb>data table notebook</a>'\n",
              "          + ' to learn more about interactive tables.';\n",
              "        element.innerHTML = '';\n",
              "        dataTable['output_type'] = 'display_data';\n",
              "        await google.colab.output.renderOutput(dataTable, element);\n",
              "        const docLink = document.createElement('div');\n",
              "        docLink.innerHTML = docLinkHtml;\n",
              "        element.appendChild(docLink);\n",
              "      }\n",
              "    </script>\n",
              "  </div>\n",
              "\n",
              "\n",
              "<div id=\"df-18af80e8-e13e-4565-8ae7-068850a69aaa\">\n",
              "  <button class=\"colab-df-quickchart\" onclick=\"quickchart('df-18af80e8-e13e-4565-8ae7-068850a69aaa')\"\n",
              "            title=\"Suggest charts\"\n",
              "            style=\"display:none;\">\n",
              "\n",
              "<svg xmlns=\"http://www.w3.org/2000/svg\" height=\"24px\"viewBox=\"0 0 24 24\"\n",
              "     width=\"24px\">\n",
              "    <g>\n",
              "        <path d=\"M19 3H5c-1.1 0-2 .9-2 2v14c0 1.1.9 2 2 2h14c1.1 0 2-.9 2-2V5c0-1.1-.9-2-2-2zM9 17H7v-7h2v7zm4 0h-2V7h2v10zm4 0h-2v-4h2v4z\"/>\n",
              "    </g>\n",
              "</svg>\n",
              "  </button>\n",
              "\n",
              "<style>\n",
              "  .colab-df-quickchart {\n",
              "      --bg-color: #E8F0FE;\n",
              "      --fill-color: #1967D2;\n",
              "      --hover-bg-color: #E2EBFA;\n",
              "      --hover-fill-color: #174EA6;\n",
              "      --disabled-fill-color: #AAA;\n",
              "      --disabled-bg-color: #DDD;\n",
              "  }\n",
              "\n",
              "  [theme=dark] .colab-df-quickchart {\n",
              "      --bg-color: #3B4455;\n",
              "      --fill-color: #D2E3FC;\n",
              "      --hover-bg-color: #434B5C;\n",
              "      --hover-fill-color: #FFFFFF;\n",
              "      --disabled-bg-color: #3B4455;\n",
              "      --disabled-fill-color: #666;\n",
              "  }\n",
              "\n",
              "  .colab-df-quickchart {\n",
              "    background-color: var(--bg-color);\n",
              "    border: none;\n",
              "    border-radius: 50%;\n",
              "    cursor: pointer;\n",
              "    display: none;\n",
              "    fill: var(--fill-color);\n",
              "    height: 32px;\n",
              "    padding: 0;\n",
              "    width: 32px;\n",
              "  }\n",
              "\n",
              "  .colab-df-quickchart:hover {\n",
              "    background-color: var(--hover-bg-color);\n",
              "    box-shadow: 0 1px 2px rgba(60, 64, 67, 0.3), 0 1px 3px 1px rgba(60, 64, 67, 0.15);\n",
              "    fill: var(--button-hover-fill-color);\n",
              "  }\n",
              "\n",
              "  .colab-df-quickchart-complete:disabled,\n",
              "  .colab-df-quickchart-complete:disabled:hover {\n",
              "    background-color: var(--disabled-bg-color);\n",
              "    fill: var(--disabled-fill-color);\n",
              "    box-shadow: none;\n",
              "  }\n",
              "\n",
              "  .colab-df-spinner {\n",
              "    border: 2px solid var(--fill-color);\n",
              "    border-color: transparent;\n",
              "    border-bottom-color: var(--fill-color);\n",
              "    animation:\n",
              "      spin 1s steps(1) infinite;\n",
              "  }\n",
              "\n",
              "  @keyframes spin {\n",
              "    0% {\n",
              "      border-color: transparent;\n",
              "      border-bottom-color: var(--fill-color);\n",
              "      border-left-color: var(--fill-color);\n",
              "    }\n",
              "    20% {\n",
              "      border-color: transparent;\n",
              "      border-left-color: var(--fill-color);\n",
              "      border-top-color: var(--fill-color);\n",
              "    }\n",
              "    30% {\n",
              "      border-color: transparent;\n",
              "      border-left-color: var(--fill-color);\n",
              "      border-top-color: var(--fill-color);\n",
              "      border-right-color: var(--fill-color);\n",
              "    }\n",
              "    40% {\n",
              "      border-color: transparent;\n",
              "      border-right-color: var(--fill-color);\n",
              "      border-top-color: var(--fill-color);\n",
              "    }\n",
              "    60% {\n",
              "      border-color: transparent;\n",
              "      border-right-color: var(--fill-color);\n",
              "    }\n",
              "    80% {\n",
              "      border-color: transparent;\n",
              "      border-right-color: var(--fill-color);\n",
              "      border-bottom-color: var(--fill-color);\n",
              "    }\n",
              "    90% {\n",
              "      border-color: transparent;\n",
              "      border-bottom-color: var(--fill-color);\n",
              "    }\n",
              "  }\n",
              "</style>\n",
              "\n",
              "  <script>\n",
              "    async function quickchart(key) {\n",
              "      const quickchartButtonEl =\n",
              "        document.querySelector('#' + key + ' button');\n",
              "      quickchartButtonEl.disabled = true;  // To prevent multiple clicks.\n",
              "      quickchartButtonEl.classList.add('colab-df-spinner');\n",
              "      try {\n",
              "        const charts = await google.colab.kernel.invokeFunction(\n",
              "            'suggestCharts', [key], {});\n",
              "      } catch (error) {\n",
              "        console.error('Error during call to suggestCharts:', error);\n",
              "      }\n",
              "      quickchartButtonEl.classList.remove('colab-df-spinner');\n",
              "      quickchartButtonEl.classList.add('colab-df-quickchart-complete');\n",
              "    }\n",
              "    (() => {\n",
              "      let quickchartButtonEl =\n",
              "        document.querySelector('#df-18af80e8-e13e-4565-8ae7-068850a69aaa button');\n",
              "      quickchartButtonEl.style.display =\n",
              "        google.colab.kernel.accessAllowed ? 'block' : 'none';\n",
              "    })();\n",
              "  </script>\n",
              "</div>\n",
              "    </div>\n",
              "  </div>\n"
            ],
            "application/vnd.google.colaboratory.intrinsic+json": {
              "type": "dataframe",
              "variable_name": "df_final",
              "summary": "{\n  \"name\": \"df_final\",\n  \"rows\": 97227,\n  \"fields\": [\n    {\n      \"column\": \"index\",\n      \"properties\": {\n        \"dtype\": \"number\",\n        \"std\": 575885,\n        \"min\": 200,\n        \"max\": 1999765,\n        \"num_unique_values\": 97227,\n        \"samples\": [\n          1960615,\n          237053,\n          1414670\n        ],\n        \"semantic_type\": \"\",\n        \"description\": \"\"\n      }\n    },\n    {\n      \"column\": \"user_id\",\n      \"properties\": {\n        \"dtype\": \"number\",\n        \"std\": 22015,\n        \"min\": 11,\n        \"max\": 76347,\n        \"num_unique_values\": 3154,\n        \"samples\": [\n          10943,\n          28088,\n          31194\n        ],\n        \"semantic_type\": \"\",\n        \"description\": \"\"\n      }\n    },\n    {\n      \"column\": \"song_id\",\n      \"properties\": {\n        \"dtype\": \"number\",\n        \"std\": 2889,\n        \"min\": 21,\n        \"max\": 9989,\n        \"num_unique_values\": 478,\n        \"samples\": [\n          8702,\n          9065,\n          5570\n        ],\n        \"semantic_type\": \"\",\n        \"description\": \"\"\n      }\n    },\n    {\n      \"column\": \"listen_count\",\n      \"properties\": {\n        \"dtype\": \"number\",\n        \"std\": 1,\n        \"min\": 1,\n        \"max\": 5,\n        \"num_unique_values\": 5,\n        \"samples\": [\n          5,\n          3,\n          2\n        ],\n        \"semantic_type\": \"\",\n        \"description\": \"\"\n      }\n    },\n    {\n      \"column\": \"title\",\n      \"properties\": {\n        \"dtype\": \"category\",\n        \"num_unique_values\": 476,\n        \"samples\": [\n          \"Street Justice\",\n          \"Balloons (Single version)\",\n          \"Say It Ain't So\"\n        ],\n        \"semantic_type\": \"\",\n        \"description\": \"\"\n      }\n    },\n    {\n      \"column\": \"release\",\n      \"properties\": {\n        \"dtype\": \"category\",\n        \"num_unique_values\": 308,\n        \"samples\": [\n          \"More Creedence Gold\",\n          \"Fantasies\",\n          \"Don't Panic\"\n        ],\n        \"semantic_type\": \"\",\n        \"description\": \"\"\n      }\n    },\n    {\n      \"column\": \"artist_name\",\n      \"properties\": {\n        \"dtype\": \"category\",\n        \"num_unique_values\": 185,\n        \"samples\": [\n          \"Coldplay\",\n          \"Justin Timberlake;Justin Timberlake featuring will.i.am\",\n          \"Pavement\"\n        ],\n        \"semantic_type\": \"\",\n        \"description\": \"\"\n      }\n    },\n    {\n      \"column\": \"year\",\n      \"properties\": {\n        \"dtype\": \"number\",\n        \"std\": 7,\n        \"min\": 1969,\n        \"max\": 2010,\n        \"num_unique_values\": 36,\n        \"samples\": [\n          1978,\n          1982,\n          1983\n        ],\n        \"semantic_type\": \"\",\n        \"description\": \"\"\n      }\n    }\n  ]\n}"
            }
          },
          "metadata": {},
          "execution_count": 74
        }
      ]
    },
    {
      "cell_type": "markdown",
      "source": [
        "*   **Reader** - class in the Surprise package is used to parse raw data files or dataframes into a format suitable for collaborative filtering algorithms, specifying the expected rating scale of the data.\n",
        "*    **Generate a rating scale** - In order to create a semblance of a rating system, we have restricted our data to users that have listened to a song at most 5 times. In this way, listen_count can be used as a rating system, with values between 1 and 5.\n",
        "*    **data** - we will convert our dataset into a Dataset object from the Surprise library, and use the Reader object to be able to parse the DataFrame. The oder should be: user ID, item ID, and rating (This is also the  relevant dataset).\n",
        "*    **Splitting the data** - class in the Surprise package that randomly dividing the interactions (in the data) while preserving the user-item relationships."
      ],
      "metadata": {
        "id": "6X8cnj4eUh3E"
      }
    },
    {
      "cell_type": "code",
      "source": [
        "# Instantiating Reader scale with expected rating scale\n",
        "reader = Reader(rating_scale = (1,5))\n",
        "\n",
        "# Loading the relevant dataset\n",
        "data = Dataset.load_from_df(df_final[[\"user_id\", \"song_id\", \"listen_count\"]], reader)\n",
        "\n",
        "# Splitting the data into train and test dataset\n",
        "# Take test_size = 0.2, random_state = 42\n",
        "trainset, testset = train_test_split(data, test_size = 0.2, random_state = 42)"
      ],
      "metadata": {
        "id": "390zDtScD6qK"
      },
      "execution_count": 75,
      "outputs": []
    },
    {
      "cell_type": "markdown",
      "source": [
        "# Useful functions"
      ],
      "metadata": {
        "id": "AcKOcVdFdfdv"
      }
    },
    {
      "cell_type": "markdown",
      "source": [
        "1. **precision_recall_at_k**: This is a common metrics that help evaluate the performance of recommender and ranking systems by RMSE, precision@k, recall@k, and F_1 score.\n",
        "* k - represents the number of top recommended songs to consider when evaluating the precision and recall metrics. It determines how many of the top-ranked songs are assessed for their relevance to the user's preferences. (we will choose default of top 10).\n",
        "* threshold - represents the minimum rating (user's listen count) that qualifies it as relevant. It helps distinguish between songs that meet the user's preferences and those that do not. (we will choose default of 1).\n",
        "* RMSE - Root Mean Squared Error measures the average difference between predicted and actual ratings.\n",
        "* precision@k - Precision at k measures the proportion of relevant items among the top k recommendations.<br>\n",
        "  * Precision@k = Number of relevant items recommended in top k / k\n",
        "* recall@k - Recall at k measures the proportion of relevant items captured within the top k recommendations. <br>\n",
        "  * Recall@k = Number of relevant items recommended in top k / Total number of relevant items\n",
        "* F_1 score - The harmonic mean of precision and recall, providing a balanced measure of the system's performance. <br>\n",
        "  * F1 = (2×Precision×Recall) / (Precision+Recall)\n",
        "* Output - The function provides a comprehensive evaluation of the system's effectiveness through these metrics.<br><br>\n",
        "* \"Relevant items\" refer to items that are considered valuable or appropriate for a particular user. Here, it could be songs that the user has rated highly or listened to frequently."
      ],
      "metadata": {
        "id": "wrt1RuV6e96B"
      }
    },
    {
      "cell_type": "code",
      "source": [
        "# The function to calulate the RMSE, precision@k, recall@k, and F_1 score\n",
        "def precision_recall_at_k(testset, model, k = 10, threshold = 1):\n",
        "    \"\"\"Return precision and recall at k metrics for each user\"\"\"\n",
        "\n",
        "    # First map the predictions to each user.\n",
        "    user_est_true = defaultdict(list)\n",
        "\n",
        "    # Making predictions on the test data\n",
        "    predictions=model.test(testset)\n",
        "\n",
        "    for uid, _, true_r, est, _ in predictions:\n",
        "        user_est_true[uid].append((est, true_r))\n",
        "\n",
        "    precisions = dict()\n",
        "    recalls = dict()\n",
        "    for uid, user_ratings in user_est_true.items():\n",
        "\n",
        "        # Sort user ratings by estimated value\n",
        "        user_ratings.sort(key = lambda x : x[0], reverse = True)\n",
        "\n",
        "        # Number of relevant items\n",
        "        n_rel = sum((true_r >= threshold) for (_, true_r) in user_ratings)\n",
        "\n",
        "        # Number of recommended items in top k\n",
        "        n_rec_k = sum((est >= threshold) for (est, _) in user_ratings[ : k])\n",
        "\n",
        "        # Number of relevant and recommended items in top k\n",
        "        n_rel_and_rec_k = sum(((true_r >= threshold) and (est >= threshold))\n",
        "                              for (est, true_r) in user_ratings[ : k])\n",
        "\n",
        "        # Precision@K: Proportion of recommended items that are relevant\n",
        "        # When n_rec_k is 0, Precision is undefined. We here set Precision to 0 when n_rec_k is 0\n",
        "\n",
        "        precisions[uid] = n_rel_and_rec_k / n_rec_k if n_rec_k != 0 else 0\n",
        "\n",
        "        # Recall@K: Proportion of relevant items that are recommended\n",
        "        # When n_rel is 0, Recall is undefined. We here set Recall to 0 when n_rel is 0\n",
        "\n",
        "        recalls[uid] = n_rel_and_rec_k / n_rel if n_rel != 0 else 0\n",
        "\n",
        "    # Mean of all the predicted precisions are calculated\n",
        "    precision = round((sum(prec for prec in precisions.values()) / len(precisions)), 3)\n",
        "\n",
        "    # Mean of all the predicted recalls are calculated\n",
        "    recall = round((sum(rec for rec in recalls.values()) / len(recalls)), 3)\n",
        "\n",
        "    accuracy.rmse(predictions)\n",
        "\n",
        "    # Command to print the overall precision\n",
        "    print('Precision: ', precision)\n",
        "\n",
        "    # Command to print the overall recall\n",
        "    print('Recall: ', recall)\n",
        "\n",
        "    # Formula to compute the F-1 score\n",
        "    print('F_1 score: ', round((2 * precision * recall) / (precision + recall), 3))"
      ],
      "metadata": {
        "id": "vnjim4Mcdi_P"
      },
      "execution_count": 76,
      "outputs": []
    },
    {
      "cell_type": "markdown",
      "source": [
        "2. **listen_count_predict:**\n",
        "* This function uses the model to predict the rating (listen_count) for a song, by user.\n",
        "* r_ui stands for \"rating user-item\" and is used to evaluate the performance of recommendation algorithms by comparing predicted ratings to actual ratings (it will be the listen_count, if exists)\n",
        "* This function returns a formatted display of the results of the prediction method."
      ],
      "metadata": {
        "id": "9ooPg364aPdz"
      }
    },
    {
      "cell_type": "code",
      "source": [
        "def listen_count_predict(model, user_id, song_id, r_ui=None):\n",
        "    #r_ui = model.predict(user_id, song_id, r_ui=r_ui).r_ui\n",
        "    est = round(model.predict(user_id, song_id).est, 2)\n",
        "    return print(clr.S+'The predictions for user {} and song {} is:\\n\\n- Real prediction: {},\\n- Estimated prediction: {}.'\n",
        "                 .format(user_id, song_id, r_ui, est)+clr.E)"
      ],
      "metadata": {
        "id": "5A_d447SacCv"
      },
      "execution_count": 77,
      "outputs": []
    },
    {
      "cell_type": "markdown",
      "source": [
        "3.  **get_songs_played_by_user**:\n",
        "* This function returns all the songs played by or not played by a user.\n",
        "* played is boolean indicating whether to return songs played by the user (True) or not played (False).\n",
        "*  This function returns an array with all the song_ids of the songs user_id listened to or did not listen to."
      ],
      "metadata": {
        "id": "HpWvLjhLf0bi"
      }
    },
    {
      "cell_type": "code",
      "source": [
        "def get_songs_played_by_user(user_id, data, played=True):\n",
        "  played_songs = data[data['user_id'] == user_id]['song_id'].unique()\n",
        "  if played:\n",
        "    print(clr.S+\"Songs played by user {}:\".format(user_id)+clr.E)\n",
        "    return played_songs\n",
        "  else:\n",
        "    print(clr.S+\"Songs not played by user {}:\".format(user_id)+clr.E)\n",
        "    return data[~data['song_id'].isin(played_songs)]['song_id'].unique()"
      ],
      "metadata": {
        "id": "wda1H_dxkj9u"
      },
      "execution_count": 149,
      "outputs": []
    },
    {
      "cell_type": "markdown",
      "source": [
        "4. **get_users_who_played_or_not_song**:\n",
        "* This function returns all the users who played or did not play a song.\n",
        "* played is boolean indicating whether to return users who played the song (True) or did not play (False).\n",
        "*  This function returns an array with all the user_ids of the users who listened to or did not listen to the song."
      ],
      "metadata": {
        "id": "7ldemNV3lUdm"
      }
    },
    {
      "cell_type": "code",
      "source": [
        "def get_users_who_played_or_not_song(song_id, data, played=True):\n",
        "  users_played = data[data['song_id'] == song_id]['user_id'].unique()\n",
        "  if played:\n",
        "      print(clr.S + \"Users who played song {}:\".format(song_id) + clr.E)\n",
        "      return users_played\n",
        "  else:\n",
        "      return data[~data['user_id'].isin(users_played)]['user_id'].unique()\n",
        "      print(clr.S + \"Users who did not play song {}:\".format(song_id) + clr.E)"
      ],
      "metadata": {
        "id": "BBOa8jk7mVny"
      },
      "execution_count": 153,
      "outputs": []
    },
    {
      "cell_type": "markdown",
      "source": [
        "5. **get_recommendations**:\n",
        "* This function generates recommendations for a given user based on their interactions with songs and returns a list of the top_n items recommended to the user (the default is top 10).\n",
        "* This function generates recommendations for a given user by first identifying the songs the user has not listened to yet, then predicting the play counts for those songs using a provided model, and finally returning the top n recommendations based on the predicted play counts."
      ],
      "metadata": {
        "id": "-2Gtqk6_nmLN"
      }
    },
    {
      "cell_type": "code",
      "source": [
        "def get_recommendations(data, user_id, model, n=10):\n",
        "    # Creating an empty list to store the recommended song IDs.\n",
        "    recommendations = []\n",
        "\n",
        "    # Creating an user-item interactions matrix.\n",
        "    user_item_interactions_matrix = data.pivot(index='user_id', columns='song_id', values='listen_count')\n",
        "\n",
        "    # Extracting those song IDs that the user_id has not listened to yet.\n",
        "    non_listened_songs = get_songs_played_by_user(user_id, data, played=False)\n",
        "\n",
        "    # Looping through each of the song IDs that user_id has not listened to yet.\n",
        "    for item_id in non_listened_songs:\n",
        "\n",
        "        # Predicting the listen_count for those songs not listened to by this user.\n",
        "        est = round(model.predict(user_id, item_id).est, 2)\n",
        "\n",
        "        # Appending the predicted listen_count.\n",
        "        recommendations.append((item_id, est))\n",
        "\n",
        "    # Sorting the predicted listen_count in descending order.\n",
        "    recommendations.sort(key = lambda x: x[1], reverse=True)\n",
        "\n",
        "    # Returing top n highest predicted listen_count for this user.\n",
        "    return recommendations[:n]\n"
      ],
      "metadata": {
        "id": "vgEj3hMhn64H"
      },
      "execution_count": 80,
      "outputs": []
    },
    {
      "cell_type": "markdown",
      "source": [
        "5. **display_best_params**:\n",
        "* This function displays the best RMSE and values of the hyper-parameters, following a Grid-search"
      ],
      "metadata": {
        "id": "NAvWld5dxYqW"
      }
    },
    {
      "cell_type": "code",
      "source": [
        "def display_best_params(model):\n",
        "    print(clr.S+'RMSE of the best option: {}'.format(round(model.best_score['rmse'], 3))+clr.E)\n",
        "    print(clr.S+'The hyperparameters of the best option: {}'.format(model.best_params['rmse'])+clr.E)"
      ],
      "metadata": {
        "id": "Ptdm6HEjxZaB"
      },
      "execution_count": 92,
      "outputs": []
    },
    {
      "cell_type": "markdown",
      "source": [
        "TODO - need to check this!\n",
        "\n",
        "6. **ranking_songs**:\n",
        "* In this function we will  correct the predicted listen_count a quantity 1/np.sqrt(n) is subtracted, Because:\n",
        "  - When recommending a new song and aiming to boost its likelihood of recommendation, we would add the adjustment $\\frac{1}{\\sqrt{n}}$.\n",
        "\n",
        "  - In this scenario, given the maximum listen_count limit of 5 for the songs, we opt to subtract $\\frac{1}{\\sqrt{n}}$. This adjustment ensures more realistic predictions,  while avoiding a listen_count for a song with a value higher than 5.\n",
        "\n",
        "* Also:\n",
        "  - Normalization: The function normalizes predicted play counts by subtracting a term inversely related to the square root of total play frequency. This ensures fair comparison across recommendations.\n",
        "\n",
        "  - Avoiding Overestimation: Subtracting the correction term prevents overestimation of play counts, especially for highly played songs, maintaining realistic recommendations.\n",
        "\n",
        "  - Enhanced Accuracy: The adjustment improves ranking accuracy by considering relative song popularity, leading to more reliable recommendations.\n",
        "\n",
        "  - Balanced Recommendations: It balances promotion of new songs while keeping predictions realistic, offering a diverse set of recommendations without inflating play counts.\n",
        "\n",
        "  - Algorithm Robustness: This correction accounts for play count distribution, ensuring recommendations aren't solely driven by popularity but also by user preferences.\n",
        "\n",
        "\n"
      ],
      "metadata": {
        "id": "V2WBISGFLuxU"
      }
    },
    {
      "cell_type": "code",
      "source": [
        "def ranking_songs(recommendations, final_rating):\n",
        "  # Sort the songs based on play counts\n",
        "  ranked_songs = final_rating.loc[[item[0] for item in recommendations]].sort_values('sum_count', ascending=False)[['sum_count']].reset_index()\n",
        "\n",
        "  # Merge with the recommended songs to get predicted listen_count\n",
        "  ranked_songs = ranked_songs.merge(pd.DataFrame(recommendations, columns=['song_id', 'predicted_listen_count']), on='song_id', how='inner')\n",
        "\n",
        "  # Rank the songs based on corrected listen_counts\n",
        "  ranked_songs['corrected_listen_count'] = round(ranked_songs['predicted_listen_count'] - 1 / np.sqrt(ranked_songs['sum_count']), 2)\n",
        "\n",
        "  # Sort the songs based on corrected listen_counts\n",
        "  ranked_songs = ranked_songs.sort_values('corrected_listen_count', ascending=False)\n",
        "\n",
        "  return ranked_songs"
      ],
      "metadata": {
        "id": "SE7iBeRMLz4k"
      },
      "execution_count": 170,
      "outputs": []
    },
    {
      "cell_type": "markdown",
      "source": [
        "https://github.com/rctruta/music_recommendation_system/blob/main/music_recommendation_system_final_submission.ipynb"
      ],
      "metadata": {
        "id": "Qxnlc5GalUX1"
      }
    },
    {
      "cell_type": "markdown",
      "source": [
        "https://github.com/rctruta/music_recommendation_system/blob/main/music_recommendation_system_final_submission.ipynb"
      ],
      "metadata": {
        "id": "ibwPSS9VlbYH"
      }
    },
    {
      "cell_type": "markdown",
      "source": [
        "# Collaborative-filtering"
      ],
      "metadata": {
        "id": "uZX1s5honcYg"
      }
    },
    {
      "cell_type": "markdown",
      "source": [
        "https://github.com/rctruta/music_recommendation_system/blob/main/music_recommendation_system_final_submission.ipynb"
      ],
      "metadata": {
        "id": "dENK1twA4-gT"
      }
    },
    {
      "cell_type": "markdown",
      "source": [
        "Here we will deal with **Collaborative Filtering** models.<br>\n",
        "**Collaborative Filtering** is a family of algorithms with different ways to find similarities (between users or items) in order to recommend songs to users based on the preferences of other users.<br>\n",
        "In this approach, the similarity is not calculated using factors like the age of users, genre of the song, or any other data about users or songs. It is calculated only on the basis of the number of times user listened to a song. For example, two users can be considered similar if they listend to the same songs despite there being a big difference in their age."
      ],
      "metadata": {
        "id": "C9G41f-e1mJL"
      }
    },
    {
      "cell_type": "markdown",
      "source": [
        "## Similarity/Neighborhood-based"
      ],
      "metadata": {
        "id": "C-AdyyD6ncFC"
      }
    },
    {
      "cell_type": "markdown",
      "source": [
        "Memory-based collaborative relies on the premise that users with similar past preferences will continue to exhibit similar preferences in the future, computing item ratings by considering the ratings of nearby users or items.<br><br>\n",
        "Advantages:<br>\n",
        "* Simplicity: Memory-based approaches are intuitive and easy to implement, making them suitable for handling moderately large datasets quickly\n",
        "* Transparency: Recommendations from Memory-Based systems are straightforward to interpret as they rely on direct interactions between users and items.\n",
        "* Serendipity: Memory-based filtering can offer unexpected recommendations, allowing users to discover potentially fascinating content through shared relationships with others.\n",
        "<br>\n",
        "\n",
        "Disadvantages:<br>\n",
        "* Sparsity and Scalability: As datasets grow, finding reliable neighbors becomes challenging due to decreasing user-item interactions, potentially leading to scalability issues.\n",
        "* Cold Start: Memory-Based systems face difficulties making reliable suggestions when there are insufficient interactions with new users or items.\n",
        "* Limited Representation: Memory-based approaches may yield subpar results as they may not fully capture complex data patterns.\n",
        "\n",
        "<br><br>\n",
        "In collaborative filtering (CF) for music recommendation, the \"user-user\" and \"item-item\" approaches are two common strategies used to find similarities between users or items based on their interactions with the system. Those are the models we will use.\n",
        "<br><br>\n",
        "We'll use KNNBasic for music recommendation because it's simple, transparent, and effective. KNN is a neighborhood-based collaborative filtering algorithm used for recommendation systems. It identifies similar users or items based on past preferences and generates recommendations by considering the ratings of nearby users or items. KNNBasic is particularly suitable for our system as it offers clear recommendations based on raw ratings, making it easy to interpret and implement."
      ],
      "metadata": {
        "id": "FPACN3deHGlv"
      }
    },
    {
      "cell_type": "markdown",
      "source": [
        "### User-User Similarity-Based CF Model"
      ],
      "metadata": {
        "id": "bKs3EB20Z9Cv"
      }
    },
    {
      "cell_type": "markdown",
      "source": [
        "* In the user-user approach, similarities between users are calculated based on their past interactions with items, in this case, the songs they have listened to.\n",
        "* To recommend music to a user, we first identify users who are similar to that user based on the songs they listen to and the number of times they have listened to those songs.\n",
        "* Then, we will recommend music that those similar users have interacted with but the target user has not."
      ],
      "metadata": {
        "id": "fbsdDqj1aPq_"
      }
    },
    {
      "cell_type": "markdown",
      "source": [
        "TODO decide if we want GridSearchCV or RandomizedSearchCV\n",
        "\n",
        "Using **grid search** to tune the user-user similarity model for optimal performance:\n",
        "\n",
        "- We will use grid search cross-validation from the Surprise package in order to determine the optimal values for the hyperparameters.\n",
        "- As a result, the model will be fine-tuned using the obtained parameters to enhance its performance.\n",
        "\n",
        "(user_based is True because it is a user-user model)\n"
      ],
      "metadata": {
        "id": "Tczb2Uy6G7rP"
      }
    },
    {
      "cell_type": "code",
      "source": [
        "param_grid = {'k': [10, 20, 30, 40, 50, 60], 'min_k': [9, 12, 15, 18, 21],\n",
        "              'sim_options': {'name': ['msd', 'cosine', 'pearson', 'pearson_baseline'],\n",
        "                              'user_based': [True]}\n",
        "              }\n",
        "\n",
        "# Performing 3-fold cross-validation to tune the hyperparameters\n",
        "#gs_user_user = RandomizedSearchCV(KNNBasic, param_grid, measures=['rmse'], cv=3, n_jobs=-1)\n",
        "gs_user_user = GridSearchCV(KNNBasic, param_grid, measures=['rmse'], cv=3, n_jobs=-1)\n",
        "\n",
        "# Fitting the data\n",
        "gs_user_user.fit(data)\n",
        "# Display the best parameters\n",
        "display_best_params(gs_user_user)"
      ],
      "metadata": {
        "id": "10HTnCZs_wPs",
        "colab": {
          "base_uri": "https://localhost:8080/"
        },
        "outputId": "e599f93e-d2dc-4f6e-ad6e-bec85c6f4c5f"
      },
      "execution_count": 93,
      "outputs": [
        {
          "output_type": "stream",
          "name": "stdout",
          "text": [
            "\u001b[1m\u001b[92mRMSE of the best option: 1.032\u001b[0m\n",
            "\u001b[1m\u001b[92mThe hyperparameters of the best option: {'k': 40, 'min_k': 15, 'sim_options': {'name': 'pearson_baseline', 'user_based': True}}\u001b[0m\n"
          ]
        }
      ]
    },
    {
      "cell_type": "markdown",
      "source": [
        "- The `GridSearch Cross Validation` algorithm has outputed the following **optimal values** for the hyperparameters:\n",
        "  - `k`: **40**,\n",
        "  - `min_k`: **15**, and\n",
        "  - `sim_options`: **{'name': 'pearson_baseline', 'user_based': True}**.\n"
      ],
      "metadata": {
        "id": "jiXPyxLgAkmW"
      }
    },
    {
      "cell_type": "code",
      "source": [
        "# Train the best model found in the above grid search\n",
        "# Using the optimal similarity measure for user-user based collaborative filtering.\n",
        "sim_options = {'name': 'pearson_baseline',\n",
        "               'k': 40,\n",
        "               'min_k': 15,\n",
        "               'user_based': [True]}\n",
        "\n",
        "# Creating an instance of KNNBasic with optimal hyperparameter values\n",
        "sim_user_user_optimized = KNNBasic(sim_options=sim_options, random_state=1, verbose=False)\n",
        "\n",
        "# Training the algorithm on the train set\n",
        "sim_user_user_optimized.fit(trainset)"
      ],
      "metadata": {
        "id": "aZ2ihRNqAesD",
        "colab": {
          "base_uri": "https://localhost:8080/"
        },
        "outputId": "42592c18-a144-4dda-99d7-c6e4ac4999cf"
      },
      "execution_count": 94,
      "outputs": [
        {
          "output_type": "execute_result",
          "data": {
            "text/plain": [
              "<surprise.prediction_algorithms.knns.KNNBasic at 0x7f61729937c0>"
            ]
          },
          "metadata": {},
          "execution_count": 94
        }
      ]
    },
    {
      "cell_type": "code",
      "source": [
        "# Evaluate the model on the test set\n",
        "precision_recall_at_k(testset, sim_user_user_optimized)"
      ],
      "metadata": {
        "id": "sa8Jn8a8HqVX",
        "colab": {
          "base_uri": "https://localhost:8080/"
        },
        "outputId": "050f8f07-d3dd-4a2a-fbb0-afae6428514d"
      },
      "execution_count": 95,
      "outputs": [
        {
          "output_type": "stream",
          "name": "stdout",
          "text": [
            "RMSE: 1.0410\n",
            "Precision:  1.0\n",
            "Recall:  0.948\n",
            "F_1 score:  0.973\n"
          ]
        }
      ]
    },
    {
      "cell_type": "markdown",
      "source": [
        "Get random user from the test:"
      ],
      "metadata": {
        "id": "9e2_3G2oHyoW"
      }
    },
    {
      "cell_type": "code",
      "source": [
        "df_final.reset_index(inplace=True)\n",
        "df_final"
      ],
      "metadata": {
        "colab": {
          "base_uri": "https://localhost:8080/",
          "height": 424
        },
        "id": "Yp42XefI_1Mr",
        "outputId": "644cc5a0-60ad-46bc-c4e2-1b1358cc565c"
      },
      "execution_count": 101,
      "outputs": [
        {
          "output_type": "execute_result",
          "data": {
            "text/plain": [
              "       song_id    index  user_id  listen_count  \\\n",
              "0          447      200     6958             1   \n",
              "1          512      202     6958             1   \n",
              "2          549      203     6958             1   \n",
              "3          703      204     6958             1   \n",
              "4          719      205     6958             1   \n",
              "...        ...      ...      ...           ...   \n",
              "97222     9081  1999731    47786             2   \n",
              "97223     9186  1999736    47786             1   \n",
              "97224     9351  1999745    47786             2   \n",
              "97225     9543  1999755    47786             1   \n",
              "97226     9847  1999765    47786             1   \n",
              "\n",
              "                                 title                release  \\\n",
              "0                   Daisy And Prudence           Distillation   \n",
              "1      The Ballad of Michael Valentine                Sawdust   \n",
              "2            I Stand Corrected (Album)        Vampire Weekend   \n",
              "3                They Might Follow You            Tiny Vipers   \n",
              "4                           Monkey Man   You Know I'm No Good   \n",
              "...                                ...                    ...   \n",
              "97222                      Take Me Out            Take Me Out   \n",
              "97223            Bitter Sweet Symphony  Bitter Sweet Symphony   \n",
              "97224       The Police And The Private            Live It Out   \n",
              "97225                     Just Friends          Back To Black   \n",
              "97226             He Can Only Hold Her          Back To Black   \n",
              "\n",
              "           artist_name  year  \n",
              "0         Erin McKeown  2000  \n",
              "1          The Killers  2004  \n",
              "2      Vampire Weekend  2007  \n",
              "3          Tiny Vipers  2007  \n",
              "4        Amy Winehouse  2007  \n",
              "...                ...   ...  \n",
              "97222  Franz Ferdinand  2003  \n",
              "97223        The Verve  1997  \n",
              "97224           Metric  2005  \n",
              "97225    Amy Winehouse  2006  \n",
              "97226    Amy Winehouse  2006  \n",
              "\n",
              "[97227 rows x 8 columns]"
            ],
            "text/html": [
              "\n",
              "  <div id=\"df-3b9130cf-e5fd-487c-a26b-7394c97593a4\" class=\"colab-df-container\">\n",
              "    <div>\n",
              "<style scoped>\n",
              "    .dataframe tbody tr th:only-of-type {\n",
              "        vertical-align: middle;\n",
              "    }\n",
              "\n",
              "    .dataframe tbody tr th {\n",
              "        vertical-align: top;\n",
              "    }\n",
              "\n",
              "    .dataframe thead th {\n",
              "        text-align: right;\n",
              "    }\n",
              "</style>\n",
              "<table border=\"1\" class=\"dataframe\">\n",
              "  <thead>\n",
              "    <tr style=\"text-align: right;\">\n",
              "      <th></th>\n",
              "      <th>song_id</th>\n",
              "      <th>index</th>\n",
              "      <th>user_id</th>\n",
              "      <th>listen_count</th>\n",
              "      <th>title</th>\n",
              "      <th>release</th>\n",
              "      <th>artist_name</th>\n",
              "      <th>year</th>\n",
              "    </tr>\n",
              "  </thead>\n",
              "  <tbody>\n",
              "    <tr>\n",
              "      <th>0</th>\n",
              "      <td>447</td>\n",
              "      <td>200</td>\n",
              "      <td>6958</td>\n",
              "      <td>1</td>\n",
              "      <td>Daisy And Prudence</td>\n",
              "      <td>Distillation</td>\n",
              "      <td>Erin McKeown</td>\n",
              "      <td>2000</td>\n",
              "    </tr>\n",
              "    <tr>\n",
              "      <th>1</th>\n",
              "      <td>512</td>\n",
              "      <td>202</td>\n",
              "      <td>6958</td>\n",
              "      <td>1</td>\n",
              "      <td>The Ballad of Michael Valentine</td>\n",
              "      <td>Sawdust</td>\n",
              "      <td>The Killers</td>\n",
              "      <td>2004</td>\n",
              "    </tr>\n",
              "    <tr>\n",
              "      <th>2</th>\n",
              "      <td>549</td>\n",
              "      <td>203</td>\n",
              "      <td>6958</td>\n",
              "      <td>1</td>\n",
              "      <td>I Stand Corrected (Album)</td>\n",
              "      <td>Vampire Weekend</td>\n",
              "      <td>Vampire Weekend</td>\n",
              "      <td>2007</td>\n",
              "    </tr>\n",
              "    <tr>\n",
              "      <th>3</th>\n",
              "      <td>703</td>\n",
              "      <td>204</td>\n",
              "      <td>6958</td>\n",
              "      <td>1</td>\n",
              "      <td>They Might Follow You</td>\n",
              "      <td>Tiny Vipers</td>\n",
              "      <td>Tiny Vipers</td>\n",
              "      <td>2007</td>\n",
              "    </tr>\n",
              "    <tr>\n",
              "      <th>4</th>\n",
              "      <td>719</td>\n",
              "      <td>205</td>\n",
              "      <td>6958</td>\n",
              "      <td>1</td>\n",
              "      <td>Monkey Man</td>\n",
              "      <td>You Know I'm No Good</td>\n",
              "      <td>Amy Winehouse</td>\n",
              "      <td>2007</td>\n",
              "    </tr>\n",
              "    <tr>\n",
              "      <th>...</th>\n",
              "      <td>...</td>\n",
              "      <td>...</td>\n",
              "      <td>...</td>\n",
              "      <td>...</td>\n",
              "      <td>...</td>\n",
              "      <td>...</td>\n",
              "      <td>...</td>\n",
              "      <td>...</td>\n",
              "    </tr>\n",
              "    <tr>\n",
              "      <th>97222</th>\n",
              "      <td>9081</td>\n",
              "      <td>1999731</td>\n",
              "      <td>47786</td>\n",
              "      <td>2</td>\n",
              "      <td>Take Me Out</td>\n",
              "      <td>Take Me Out</td>\n",
              "      <td>Franz Ferdinand</td>\n",
              "      <td>2003</td>\n",
              "    </tr>\n",
              "    <tr>\n",
              "      <th>97223</th>\n",
              "      <td>9186</td>\n",
              "      <td>1999736</td>\n",
              "      <td>47786</td>\n",
              "      <td>1</td>\n",
              "      <td>Bitter Sweet Symphony</td>\n",
              "      <td>Bitter Sweet Symphony</td>\n",
              "      <td>The Verve</td>\n",
              "      <td>1997</td>\n",
              "    </tr>\n",
              "    <tr>\n",
              "      <th>97224</th>\n",
              "      <td>9351</td>\n",
              "      <td>1999745</td>\n",
              "      <td>47786</td>\n",
              "      <td>2</td>\n",
              "      <td>The Police And The Private</td>\n",
              "      <td>Live It Out</td>\n",
              "      <td>Metric</td>\n",
              "      <td>2005</td>\n",
              "    </tr>\n",
              "    <tr>\n",
              "      <th>97225</th>\n",
              "      <td>9543</td>\n",
              "      <td>1999755</td>\n",
              "      <td>47786</td>\n",
              "      <td>1</td>\n",
              "      <td>Just Friends</td>\n",
              "      <td>Back To Black</td>\n",
              "      <td>Amy Winehouse</td>\n",
              "      <td>2006</td>\n",
              "    </tr>\n",
              "    <tr>\n",
              "      <th>97226</th>\n",
              "      <td>9847</td>\n",
              "      <td>1999765</td>\n",
              "      <td>47786</td>\n",
              "      <td>1</td>\n",
              "      <td>He Can Only Hold Her</td>\n",
              "      <td>Back To Black</td>\n",
              "      <td>Amy Winehouse</td>\n",
              "      <td>2006</td>\n",
              "    </tr>\n",
              "  </tbody>\n",
              "</table>\n",
              "<p>97227 rows × 8 columns</p>\n",
              "</div>\n",
              "    <div class=\"colab-df-buttons\">\n",
              "\n",
              "  <div class=\"colab-df-container\">\n",
              "    <button class=\"colab-df-convert\" onclick=\"convertToInteractive('df-3b9130cf-e5fd-487c-a26b-7394c97593a4')\"\n",
              "            title=\"Convert this dataframe to an interactive table.\"\n",
              "            style=\"display:none;\">\n",
              "\n",
              "  <svg xmlns=\"http://www.w3.org/2000/svg\" height=\"24px\" viewBox=\"0 -960 960 960\">\n",
              "    <path d=\"M120-120v-720h720v720H120Zm60-500h600v-160H180v160Zm220 220h160v-160H400v160Zm0 220h160v-160H400v160ZM180-400h160v-160H180v160Zm440 0h160v-160H620v160ZM180-180h160v-160H180v160Zm440 0h160v-160H620v160Z\"/>\n",
              "  </svg>\n",
              "    </button>\n",
              "\n",
              "  <style>\n",
              "    .colab-df-container {\n",
              "      display:flex;\n",
              "      gap: 12px;\n",
              "    }\n",
              "\n",
              "    .colab-df-convert {\n",
              "      background-color: #E8F0FE;\n",
              "      border: none;\n",
              "      border-radius: 50%;\n",
              "      cursor: pointer;\n",
              "      display: none;\n",
              "      fill: #1967D2;\n",
              "      height: 32px;\n",
              "      padding: 0 0 0 0;\n",
              "      width: 32px;\n",
              "    }\n",
              "\n",
              "    .colab-df-convert:hover {\n",
              "      background-color: #E2EBFA;\n",
              "      box-shadow: 0px 1px 2px rgba(60, 64, 67, 0.3), 0px 1px 3px 1px rgba(60, 64, 67, 0.15);\n",
              "      fill: #174EA6;\n",
              "    }\n",
              "\n",
              "    .colab-df-buttons div {\n",
              "      margin-bottom: 4px;\n",
              "    }\n",
              "\n",
              "    [theme=dark] .colab-df-convert {\n",
              "      background-color: #3B4455;\n",
              "      fill: #D2E3FC;\n",
              "    }\n",
              "\n",
              "    [theme=dark] .colab-df-convert:hover {\n",
              "      background-color: #434B5C;\n",
              "      box-shadow: 0px 1px 3px 1px rgba(0, 0, 0, 0.15);\n",
              "      filter: drop-shadow(0px 1px 2px rgba(0, 0, 0, 0.3));\n",
              "      fill: #FFFFFF;\n",
              "    }\n",
              "  </style>\n",
              "\n",
              "    <script>\n",
              "      const buttonEl =\n",
              "        document.querySelector('#df-3b9130cf-e5fd-487c-a26b-7394c97593a4 button.colab-df-convert');\n",
              "      buttonEl.style.display =\n",
              "        google.colab.kernel.accessAllowed ? 'block' : 'none';\n",
              "\n",
              "      async function convertToInteractive(key) {\n",
              "        const element = document.querySelector('#df-3b9130cf-e5fd-487c-a26b-7394c97593a4');\n",
              "        const dataTable =\n",
              "          await google.colab.kernel.invokeFunction('convertToInteractive',\n",
              "                                                    [key], {});\n",
              "        if (!dataTable) return;\n",
              "\n",
              "        const docLinkHtml = 'Like what you see? Visit the ' +\n",
              "          '<a target=\"_blank\" href=https://colab.research.google.com/notebooks/data_table.ipynb>data table notebook</a>'\n",
              "          + ' to learn more about interactive tables.';\n",
              "        element.innerHTML = '';\n",
              "        dataTable['output_type'] = 'display_data';\n",
              "        await google.colab.output.renderOutput(dataTable, element);\n",
              "        const docLink = document.createElement('div');\n",
              "        docLink.innerHTML = docLinkHtml;\n",
              "        element.appendChild(docLink);\n",
              "      }\n",
              "    </script>\n",
              "  </div>\n",
              "\n",
              "\n",
              "<div id=\"df-f7127104-f366-4e3f-b9b8-d7690cd0524f\">\n",
              "  <button class=\"colab-df-quickchart\" onclick=\"quickchart('df-f7127104-f366-4e3f-b9b8-d7690cd0524f')\"\n",
              "            title=\"Suggest charts\"\n",
              "            style=\"display:none;\">\n",
              "\n",
              "<svg xmlns=\"http://www.w3.org/2000/svg\" height=\"24px\"viewBox=\"0 0 24 24\"\n",
              "     width=\"24px\">\n",
              "    <g>\n",
              "        <path d=\"M19 3H5c-1.1 0-2 .9-2 2v14c0 1.1.9 2 2 2h14c1.1 0 2-.9 2-2V5c0-1.1-.9-2-2-2zM9 17H7v-7h2v7zm4 0h-2V7h2v10zm4 0h-2v-4h2v4z\"/>\n",
              "    </g>\n",
              "</svg>\n",
              "  </button>\n",
              "\n",
              "<style>\n",
              "  .colab-df-quickchart {\n",
              "      --bg-color: #E8F0FE;\n",
              "      --fill-color: #1967D2;\n",
              "      --hover-bg-color: #E2EBFA;\n",
              "      --hover-fill-color: #174EA6;\n",
              "      --disabled-fill-color: #AAA;\n",
              "      --disabled-bg-color: #DDD;\n",
              "  }\n",
              "\n",
              "  [theme=dark] .colab-df-quickchart {\n",
              "      --bg-color: #3B4455;\n",
              "      --fill-color: #D2E3FC;\n",
              "      --hover-bg-color: #434B5C;\n",
              "      --hover-fill-color: #FFFFFF;\n",
              "      --disabled-bg-color: #3B4455;\n",
              "      --disabled-fill-color: #666;\n",
              "  }\n",
              "\n",
              "  .colab-df-quickchart {\n",
              "    background-color: var(--bg-color);\n",
              "    border: none;\n",
              "    border-radius: 50%;\n",
              "    cursor: pointer;\n",
              "    display: none;\n",
              "    fill: var(--fill-color);\n",
              "    height: 32px;\n",
              "    padding: 0;\n",
              "    width: 32px;\n",
              "  }\n",
              "\n",
              "  .colab-df-quickchart:hover {\n",
              "    background-color: var(--hover-bg-color);\n",
              "    box-shadow: 0 1px 2px rgba(60, 64, 67, 0.3), 0 1px 3px 1px rgba(60, 64, 67, 0.15);\n",
              "    fill: var(--button-hover-fill-color);\n",
              "  }\n",
              "\n",
              "  .colab-df-quickchart-complete:disabled,\n",
              "  .colab-df-quickchart-complete:disabled:hover {\n",
              "    background-color: var(--disabled-bg-color);\n",
              "    fill: var(--disabled-fill-color);\n",
              "    box-shadow: none;\n",
              "  }\n",
              "\n",
              "  .colab-df-spinner {\n",
              "    border: 2px solid var(--fill-color);\n",
              "    border-color: transparent;\n",
              "    border-bottom-color: var(--fill-color);\n",
              "    animation:\n",
              "      spin 1s steps(1) infinite;\n",
              "  }\n",
              "\n",
              "  @keyframes spin {\n",
              "    0% {\n",
              "      border-color: transparent;\n",
              "      border-bottom-color: var(--fill-color);\n",
              "      border-left-color: var(--fill-color);\n",
              "    }\n",
              "    20% {\n",
              "      border-color: transparent;\n",
              "      border-left-color: var(--fill-color);\n",
              "      border-top-color: var(--fill-color);\n",
              "    }\n",
              "    30% {\n",
              "      border-color: transparent;\n",
              "      border-left-color: var(--fill-color);\n",
              "      border-top-color: var(--fill-color);\n",
              "      border-right-color: var(--fill-color);\n",
              "    }\n",
              "    40% {\n",
              "      border-color: transparent;\n",
              "      border-right-color: var(--fill-color);\n",
              "      border-top-color: var(--fill-color);\n",
              "    }\n",
              "    60% {\n",
              "      border-color: transparent;\n",
              "      border-right-color: var(--fill-color);\n",
              "    }\n",
              "    80% {\n",
              "      border-color: transparent;\n",
              "      border-right-color: var(--fill-color);\n",
              "      border-bottom-color: var(--fill-color);\n",
              "    }\n",
              "    90% {\n",
              "      border-color: transparent;\n",
              "      border-bottom-color: var(--fill-color);\n",
              "    }\n",
              "  }\n",
              "</style>\n",
              "\n",
              "  <script>\n",
              "    async function quickchart(key) {\n",
              "      const quickchartButtonEl =\n",
              "        document.querySelector('#' + key + ' button');\n",
              "      quickchartButtonEl.disabled = true;  // To prevent multiple clicks.\n",
              "      quickchartButtonEl.classList.add('colab-df-spinner');\n",
              "      try {\n",
              "        const charts = await google.colab.kernel.invokeFunction(\n",
              "            'suggestCharts', [key], {});\n",
              "      } catch (error) {\n",
              "        console.error('Error during call to suggestCharts:', error);\n",
              "      }\n",
              "      quickchartButtonEl.classList.remove('colab-df-spinner');\n",
              "      quickchartButtonEl.classList.add('colab-df-quickchart-complete');\n",
              "    }\n",
              "    (() => {\n",
              "      let quickchartButtonEl =\n",
              "        document.querySelector('#df-f7127104-f366-4e3f-b9b8-d7690cd0524f button');\n",
              "      quickchartButtonEl.style.display =\n",
              "        google.colab.kernel.accessAllowed ? 'block' : 'none';\n",
              "    })();\n",
              "  </script>\n",
              "</div>\n",
              "    </div>\n",
              "  </div>\n"
            ],
            "application/vnd.google.colaboratory.intrinsic+json": {
              "type": "dataframe",
              "variable_name": "df_final",
              "summary": "{\n  \"name\": \"df_final\",\n  \"rows\": 97227,\n  \"fields\": [\n    {\n      \"column\": \"song_id\",\n      \"properties\": {\n        \"dtype\": \"number\",\n        \"std\": 2889,\n        \"min\": 21,\n        \"max\": 9989,\n        \"num_unique_values\": 478,\n        \"samples\": [\n          8702,\n          9065,\n          5570\n        ],\n        \"semantic_type\": \"\",\n        \"description\": \"\"\n      }\n    },\n    {\n      \"column\": \"index\",\n      \"properties\": {\n        \"dtype\": \"number\",\n        \"std\": 575885,\n        \"min\": 200,\n        \"max\": 1999765,\n        \"num_unique_values\": 97227,\n        \"samples\": [\n          1960615,\n          237053,\n          1414670\n        ],\n        \"semantic_type\": \"\",\n        \"description\": \"\"\n      }\n    },\n    {\n      \"column\": \"user_id\",\n      \"properties\": {\n        \"dtype\": \"number\",\n        \"std\": 22015,\n        \"min\": 11,\n        \"max\": 76347,\n        \"num_unique_values\": 3154,\n        \"samples\": [\n          10943,\n          28088,\n          31194\n        ],\n        \"semantic_type\": \"\",\n        \"description\": \"\"\n      }\n    },\n    {\n      \"column\": \"listen_count\",\n      \"properties\": {\n        \"dtype\": \"number\",\n        \"std\": 1,\n        \"min\": 1,\n        \"max\": 5,\n        \"num_unique_values\": 5,\n        \"samples\": [\n          5,\n          3,\n          2\n        ],\n        \"semantic_type\": \"\",\n        \"description\": \"\"\n      }\n    },\n    {\n      \"column\": \"title\",\n      \"properties\": {\n        \"dtype\": \"category\",\n        \"num_unique_values\": 476,\n        \"samples\": [\n          \"Street Justice\",\n          \"Balloons (Single version)\",\n          \"Say It Ain't So\"\n        ],\n        \"semantic_type\": \"\",\n        \"description\": \"\"\n      }\n    },\n    {\n      \"column\": \"release\",\n      \"properties\": {\n        \"dtype\": \"category\",\n        \"num_unique_values\": 308,\n        \"samples\": [\n          \"More Creedence Gold\",\n          \"Fantasies\",\n          \"Don't Panic\"\n        ],\n        \"semantic_type\": \"\",\n        \"description\": \"\"\n      }\n    },\n    {\n      \"column\": \"artist_name\",\n      \"properties\": {\n        \"dtype\": \"category\",\n        \"num_unique_values\": 185,\n        \"samples\": [\n          \"Coldplay\",\n          \"Justin Timberlake;Justin Timberlake featuring will.i.am\",\n          \"Pavement\"\n        ],\n        \"semantic_type\": \"\",\n        \"description\": \"\"\n      }\n    },\n    {\n      \"column\": \"year\",\n      \"properties\": {\n        \"dtype\": \"number\",\n        \"std\": 7,\n        \"min\": 1969,\n        \"max\": 2010,\n        \"num_unique_values\": 36,\n        \"samples\": [\n          1978,\n          1982,\n          1983\n        ],\n        \"semantic_type\": \"\",\n        \"description\": \"\"\n      }\n    }\n  ]\n}"
            }
          },
          "metadata": {},
          "execution_count": 101
        }
      ]
    },
    {
      "cell_type": "code",
      "source": [
        "# Extract user IDs from the test set\n",
        "user_ids = set([user_id for user_id, _, _ in testset])\n",
        "\n",
        "# Choose a random user ID\n",
        "random_user_id = random.choice(list(user_ids))\n",
        "random_user_id"
      ],
      "metadata": {
        "colab": {
          "base_uri": "https://localhost:8080/"
        },
        "id": "ZoAhqbSTfxXE",
        "outputId": "719855e0-6742-47b9-d46b-189e656806f1"
      },
      "execution_count": 102,
      "outputs": [
        {
          "output_type": "execute_result",
          "data": {
            "text/plain": [
              "67708"
            ]
          },
          "metadata": {},
          "execution_count": 102
        }
      ]
    },
    {
      "cell_type": "code",
      "source": [
        "# Displaying the corresponding songs, that user listened to.\n",
        "songs_played_by_user = get_songs_played_by_user(random_user_id, df_final, True)\n",
        "songs_played_by_user"
      ],
      "metadata": {
        "colab": {
          "base_uri": "https://localhost:8080/"
        },
        "id": "x-N5XnX8gKaY",
        "outputId": "6054eb6c-33e5-48f5-dfea-069827f7d843"
      },
      "execution_count": 150,
      "outputs": [
        {
          "output_type": "stream",
          "name": "stdout",
          "text": [
            "\u001b[1m\u001b[92mSongs played by user 67708:\u001b[0m\n"
          ]
        },
        {
          "output_type": "execute_result",
          "data": {
            "text/plain": [
              "array([ 118,  952, 1161, 1286, 1407, 1597, 1674, 1911, 2672, 2852, 3181,\n",
              "       3429, 4160, 4270, 4301, 4554, 4806, 5272, 5757, 6175, 7259, 7326,\n",
              "       7791, 7977, 8092, 8481, 8582])"
            ]
          },
          "metadata": {},
          "execution_count": 150
        }
      ]
    },
    {
      "cell_type": "code",
      "source": [
        "# Displaying the corresponding songs, that user listened to.\n",
        "played = False\n",
        "songs_not_played_by_user = get_songs_played_by_user(random_user_id, df_final, False)\n",
        "songs_not_played_by_user"
      ],
      "metadata": {
        "colab": {
          "base_uri": "https://localhost:8080/"
        },
        "id": "c3RWcLuBi2B6",
        "outputId": "d3e9a6da-8e97-4aad-b73d-6112db97391e"
      },
      "execution_count": 151,
      "outputs": [
        {
          "output_type": "stream",
          "name": "stdout",
          "text": [
            "\u001b[1m\u001b[92mSongs not played by user 67708:\u001b[0m\n"
          ]
        },
        {
          "output_type": "execute_result",
          "data": {
            "text/plain": [
              "array([ 447,  512,  549,  703,  719, 1050, 1480, 1671, 1752, 1756, 1787,\n",
              "       2107, 2289, 2304, 2425, 2501, 2701, 2898, 2994, 3491, 3551, 3718,\n",
              "       3801, 3907, 5193, 5340, 5441, 5566, 5894, 6305, 7738, 8037, 8425,\n",
              "       9065, 9351,   97,  139,  693,  765, 1118, 1406, 1461, 1519, 1682,\n",
              "       1696, 1907, 1983, 2187, 2234, 2389, 2557, 3232, 3356, 3518, 3548,\n",
              "       3655, 4152, 4298, 4377, 4510, 4522, 4545, 4724, 4954, 5023, 5158,\n",
              "       5223, 5248, 5345, 5417, 5457, 5877, 6079, 6121, 6148, 6191, 6232,\n",
              "       6293, 6350, 6500, 6572, 6618, 6636, 6709, 6770, 6959, 6964, 7210,\n",
              "       7331, 7399, 7469, 7721, 7878, 8086, 8247, 8265, 8299, 8434, 8612,\n",
              "       8973, 9055, 9292, 9436, 9476, 9702, 9771, 9989, 1084, 5367, 7030,\n",
              "       7780, 8190,  334,  674, 1217, 1348, 1767, 2210, 2850, 2859, 3602,\n",
              "       3658, 3690, 3770, 3870, 4273, 4448, 5570, 5901, 6189, 6726, 6798,\n",
              "       7103, 7416, 7636, 7796, 7980, 8599, 8762, 8772, 9095, 9162, 9186,\n",
              "       9487, 9676, 9847,   52,  310,  396,  630,  733,  916, 1281, 1354,\n",
              "       1828, 1948, 2091, 2098, 2276, 2403, 2610, 2616, 2686, 2734, 2842,\n",
              "       2926, 3165, 3207, 3241, 3310, 3346, 3462, 4192, 4289, 4639, 4719,\n",
              "       4727, 5138, 5221, 5291, 5375, 5697, 5728, 5879, 5943, 5978, 6201,\n",
              "       6451, 6525, 6682, 6735, 7028, 7321, 7338, 7343, 7470, 7921, 8099,\n",
              "       8577, 8654, 8698, 9019, 9262, 9386, 9387, 9391, 9724, 9931,   62,\n",
              "        317,  809, 2115, 4327, 4564, 4831, 6042, 6684, 7295, 7444, 7682,\n",
              "       8224,  591,  731, 1044, 2514, 5826, 5916, 6878, 1765, 5823, 7387,\n",
              "       7875, 7900, 8094, 9335,  198,  248,  318, 1141, 1262, 1472, 2615,\n",
              "       2747, 3699, 3752, 4178, 4232, 4262, 4371, 4873, 4949, 4973, 5692,\n",
              "       5999, 7509, 7663, 7688, 7737, 8304, 8392, 8656, 8735, 9960,   22,\n",
              "        788,  913, 1516, 2248, 2777, 3220, 3315, 4058, 4761, 4975, 5650,\n",
              "       5991, 6001, 7196, 7393, 7519, 7525, 7628, 8256, 9076, 9678, 4739,\n",
              "       5101, 6630, 6825,  194,  657,  965, 2500, 3744, 5400, 5843, 6226,\n",
              "       6270, 8915, 9981,   93,  736, 2048, 2217, 2539, 5300, 8378,  771,\n",
              "       1936, 2716, 3534, 5095, 5715, 6885, 8624, 9913, 2914, 3857, 5607,\n",
              "       7881, 1811, 2527, 3357,  918, 1634, 1678, 3003, 3101, 3661, 7562,\n",
              "       8178, 8704, 9767, 1188, 3455, 4631, 7057, 8494,   21,  750, 1223,\n",
              "       2960, 5531, 5653, 6339, 7212, 7969, 1344, 1455, 1994, 2989, 3057,\n",
              "       5385, 5886, 7910, 8272, 5049, 8831, 4366, 5645,  473, 4134, 6378,\n",
              "       9081,  154,  276,  412, 2019, 5706, 6817, 7260, 8782, 9517,  393,\n",
              "       3564, 4462, 4811, 6716, 7913, 8610, 8814, 9942, 3362, 4596, 7023,\n",
              "       3380, 9026, 2442, 3038, 4333, 6860, 7131, 2192, 7889,  961, 1089,\n",
              "       2428, 5616, 6084, 7450,  145,  614, 7222,  910, 6222, 1659, 1739,\n",
              "       5287, 6469, 7496, 7989, 9249, 1689, 6944, 8411, 8818, 9352,  483,\n",
              "        757, 8387, 8839, 5363, 2869, 4725, 7224, 8324, 6448, 9184, 9543,\n",
              "       6482, 9048,  990, 9708, 8863, 8882, 5210,  498, 3076, 8483, 1571,\n",
              "       7575, 1295, 8702, 3951, 8635, 9160, 6056, 2786,  229, 2161, 1536])"
            ]
          },
          "metadata": {},
          "execution_count": 151
        }
      ]
    },
    {
      "cell_type": "markdown",
      "source": [
        "Get random songs from the songs user listen and have not listen:"
      ],
      "metadata": {
        "id": "6r_S_ctfEYX4"
      }
    },
    {
      "cell_type": "code",
      "source": [
        "# Get a random song ID from songs_not_played_by_user\n",
        "not_listen_song_id = np.random.choice(songs_not_played_by_user)\n",
        "\n",
        "# Get a random song from songs_played_by_user\n",
        "listen_song_id = np.random.choice(songs_played_by_user)\n",
        "\n",
        "print(\"Random song not played by the user:\", not_listen_song_id)\n",
        "print(\"Random song played by the user:\", listen_song_id)"
      ],
      "metadata": {
        "colab": {
          "base_uri": "https://localhost:8080/"
        },
        "id": "qJEmdLzHEh9B",
        "outputId": "c87f0afc-8ed8-4788-da24-3ab41c9c5050"
      },
      "execution_count": 154,
      "outputs": [
        {
          "output_type": "stream",
          "name": "stdout",
          "text": [
            "Random song not played by the user: 9184\n",
            "Random song played by the user: 8481\n"
          ]
        }
      ]
    },
    {
      "cell_type": "markdown",
      "source": [
        "Get users rating (listen_count) of the song he listen (listen_song_id):"
      ],
      "metadata": {
        "id": "h7gSdo1mHhDc"
      }
    },
    {
      "cell_type": "code",
      "source": [
        "desired_row = df_final[(df_final['user_id'] == random_user_id) & (df_final['song_id'] == listen_song_id)]\n",
        "desired_row"
      ],
      "metadata": {
        "colab": {
          "base_uri": "https://localhost:8080/",
          "height": 81
        },
        "id": "k-in4AuPkNtC",
        "outputId": "e3f61909-07b1-4099-c59e-3c23b759c29a"
      },
      "execution_count": 155,
      "outputs": [
        {
          "output_type": "execute_result",
          "data": {
            "text/plain": [
              "       song_id    index  user_id  listen_count                title  \\\n",
              "64276     8481  1317355    67708             1  Party In The U.S.A.   \n",
              "\n",
              "                   release  artist_name  year  \n",
              "64276  Party In The U.S.A.  Miley Cyrus  2009  "
            ],
            "text/html": [
              "\n",
              "  <div id=\"df-b362911d-4bd1-47fe-b287-d1f63bd016ca\" class=\"colab-df-container\">\n",
              "    <div>\n",
              "<style scoped>\n",
              "    .dataframe tbody tr th:only-of-type {\n",
              "        vertical-align: middle;\n",
              "    }\n",
              "\n",
              "    .dataframe tbody tr th {\n",
              "        vertical-align: top;\n",
              "    }\n",
              "\n",
              "    .dataframe thead th {\n",
              "        text-align: right;\n",
              "    }\n",
              "</style>\n",
              "<table border=\"1\" class=\"dataframe\">\n",
              "  <thead>\n",
              "    <tr style=\"text-align: right;\">\n",
              "      <th></th>\n",
              "      <th>song_id</th>\n",
              "      <th>index</th>\n",
              "      <th>user_id</th>\n",
              "      <th>listen_count</th>\n",
              "      <th>title</th>\n",
              "      <th>release</th>\n",
              "      <th>artist_name</th>\n",
              "      <th>year</th>\n",
              "    </tr>\n",
              "  </thead>\n",
              "  <tbody>\n",
              "    <tr>\n",
              "      <th>64276</th>\n",
              "      <td>8481</td>\n",
              "      <td>1317355</td>\n",
              "      <td>67708</td>\n",
              "      <td>1</td>\n",
              "      <td>Party In The U.S.A.</td>\n",
              "      <td>Party In The U.S.A.</td>\n",
              "      <td>Miley Cyrus</td>\n",
              "      <td>2009</td>\n",
              "    </tr>\n",
              "  </tbody>\n",
              "</table>\n",
              "</div>\n",
              "    <div class=\"colab-df-buttons\">\n",
              "\n",
              "  <div class=\"colab-df-container\">\n",
              "    <button class=\"colab-df-convert\" onclick=\"convertToInteractive('df-b362911d-4bd1-47fe-b287-d1f63bd016ca')\"\n",
              "            title=\"Convert this dataframe to an interactive table.\"\n",
              "            style=\"display:none;\">\n",
              "\n",
              "  <svg xmlns=\"http://www.w3.org/2000/svg\" height=\"24px\" viewBox=\"0 -960 960 960\">\n",
              "    <path d=\"M120-120v-720h720v720H120Zm60-500h600v-160H180v160Zm220 220h160v-160H400v160Zm0 220h160v-160H400v160ZM180-400h160v-160H180v160Zm440 0h160v-160H620v160ZM180-180h160v-160H180v160Zm440 0h160v-160H620v160Z\"/>\n",
              "  </svg>\n",
              "    </button>\n",
              "\n",
              "  <style>\n",
              "    .colab-df-container {\n",
              "      display:flex;\n",
              "      gap: 12px;\n",
              "    }\n",
              "\n",
              "    .colab-df-convert {\n",
              "      background-color: #E8F0FE;\n",
              "      border: none;\n",
              "      border-radius: 50%;\n",
              "      cursor: pointer;\n",
              "      display: none;\n",
              "      fill: #1967D2;\n",
              "      height: 32px;\n",
              "      padding: 0 0 0 0;\n",
              "      width: 32px;\n",
              "    }\n",
              "\n",
              "    .colab-df-convert:hover {\n",
              "      background-color: #E2EBFA;\n",
              "      box-shadow: 0px 1px 2px rgba(60, 64, 67, 0.3), 0px 1px 3px 1px rgba(60, 64, 67, 0.15);\n",
              "      fill: #174EA6;\n",
              "    }\n",
              "\n",
              "    .colab-df-buttons div {\n",
              "      margin-bottom: 4px;\n",
              "    }\n",
              "\n",
              "    [theme=dark] .colab-df-convert {\n",
              "      background-color: #3B4455;\n",
              "      fill: #D2E3FC;\n",
              "    }\n",
              "\n",
              "    [theme=dark] .colab-df-convert:hover {\n",
              "      background-color: #434B5C;\n",
              "      box-shadow: 0px 1px 3px 1px rgba(0, 0, 0, 0.15);\n",
              "      filter: drop-shadow(0px 1px 2px rgba(0, 0, 0, 0.3));\n",
              "      fill: #FFFFFF;\n",
              "    }\n",
              "  </style>\n",
              "\n",
              "    <script>\n",
              "      const buttonEl =\n",
              "        document.querySelector('#df-b362911d-4bd1-47fe-b287-d1f63bd016ca button.colab-df-convert');\n",
              "      buttonEl.style.display =\n",
              "        google.colab.kernel.accessAllowed ? 'block' : 'none';\n",
              "\n",
              "      async function convertToInteractive(key) {\n",
              "        const element = document.querySelector('#df-b362911d-4bd1-47fe-b287-d1f63bd016ca');\n",
              "        const dataTable =\n",
              "          await google.colab.kernel.invokeFunction('convertToInteractive',\n",
              "                                                    [key], {});\n",
              "        if (!dataTable) return;\n",
              "\n",
              "        const docLinkHtml = 'Like what you see? Visit the ' +\n",
              "          '<a target=\"_blank\" href=https://colab.research.google.com/notebooks/data_table.ipynb>data table notebook</a>'\n",
              "          + ' to learn more about interactive tables.';\n",
              "        element.innerHTML = '';\n",
              "        dataTable['output_type'] = 'display_data';\n",
              "        await google.colab.output.renderOutput(dataTable, element);\n",
              "        const docLink = document.createElement('div');\n",
              "        docLink.innerHTML = docLinkHtml;\n",
              "        element.appendChild(docLink);\n",
              "      }\n",
              "    </script>\n",
              "  </div>\n",
              "\n",
              "    </div>\n",
              "  </div>\n"
            ],
            "application/vnd.google.colaboratory.intrinsic+json": {
              "type": "dataframe",
              "variable_name": "desired_row",
              "summary": "{\n  \"name\": \"desired_row\",\n  \"rows\": 1,\n  \"fields\": [\n    {\n      \"column\": \"song_id\",\n      \"properties\": {\n        \"dtype\": \"number\",\n        \"std\": null,\n        \"min\": 8481,\n        \"max\": 8481,\n        \"num_unique_values\": 1,\n        \"samples\": [\n          8481\n        ],\n        \"semantic_type\": \"\",\n        \"description\": \"\"\n      }\n    },\n    {\n      \"column\": \"index\",\n      \"properties\": {\n        \"dtype\": \"number\",\n        \"std\": null,\n        \"min\": 1317355,\n        \"max\": 1317355,\n        \"num_unique_values\": 1,\n        \"samples\": [\n          1317355\n        ],\n        \"semantic_type\": \"\",\n        \"description\": \"\"\n      }\n    },\n    {\n      \"column\": \"user_id\",\n      \"properties\": {\n        \"dtype\": \"number\",\n        \"std\": null,\n        \"min\": 67708,\n        \"max\": 67708,\n        \"num_unique_values\": 1,\n        \"samples\": [\n          67708\n        ],\n        \"semantic_type\": \"\",\n        \"description\": \"\"\n      }\n    },\n    {\n      \"column\": \"listen_count\",\n      \"properties\": {\n        \"dtype\": \"number\",\n        \"std\": null,\n        \"min\": 1,\n        \"max\": 1,\n        \"num_unique_values\": 1,\n        \"samples\": [\n          1\n        ],\n        \"semantic_type\": \"\",\n        \"description\": \"\"\n      }\n    },\n    {\n      \"column\": \"title\",\n      \"properties\": {\n        \"dtype\": \"string\",\n        \"num_unique_values\": 1,\n        \"samples\": [\n          \"Party In The U.S.A.\"\n        ],\n        \"semantic_type\": \"\",\n        \"description\": \"\"\n      }\n    },\n    {\n      \"column\": \"release\",\n      \"properties\": {\n        \"dtype\": \"string\",\n        \"num_unique_values\": 1,\n        \"samples\": [\n          \"Party In The U.S.A.\"\n        ],\n        \"semantic_type\": \"\",\n        \"description\": \"\"\n      }\n    },\n    {\n      \"column\": \"artist_name\",\n      \"properties\": {\n        \"dtype\": \"string\",\n        \"num_unique_values\": 1,\n        \"samples\": [\n          \"Miley Cyrus\"\n        ],\n        \"semantic_type\": \"\",\n        \"description\": \"\"\n      }\n    },\n    {\n      \"column\": \"year\",\n      \"properties\": {\n        \"dtype\": \"number\",\n        \"std\": null,\n        \"min\": 2009,\n        \"max\": 2009,\n        \"num_unique_values\": 1,\n        \"samples\": [\n          2009\n        ],\n        \"semantic_type\": \"\",\n        \"description\": \"\"\n      }\n    }\n  ]\n}"
            }
          },
          "metadata": {},
          "execution_count": 155
        }
      ]
    },
    {
      "cell_type": "code",
      "source": [
        "rating_user = desired_row['listen_count'].values[0]\n",
        "rating_user"
      ],
      "metadata": {
        "colab": {
          "base_uri": "https://localhost:8080/"
        },
        "id": "0EjOuehj2wpK",
        "outputId": "422f8053-8430-49c8-ce80-395ce692a961"
      },
      "execution_count": 157,
      "outputs": [
        {
          "output_type": "execute_result",
          "data": {
            "text/plain": [
              "1"
            ]
          },
          "metadata": {},
          "execution_count": 157
        }
      ]
    },
    {
      "cell_type": "markdown",
      "source": [
        "We will test the performance of our model on the random user we sampled from our test data:\n",
        "\n",
        "* random_user_id\n",
        "\n",
        "* not_listen_song_id - It's a song the user hasn't listen, let's see what rating the model predicts for it\n",
        "\n",
        "* listen_song_id - It's a song that the user listen (with rating rating_user), we'll see what rating the model predicts for him and how wrong he was in relation to the given rating\n",
        "\n",
        "* Getting his top 10 songs recommendations"
      ],
      "metadata": {
        "id": "ocdth9N3jHJI"
      }
    },
    {
      "cell_type": "code",
      "source": [
        "# Predicting listen_count for the sample user with a listened song.\n",
        "listen_count_predict(sim_user_user_optimized, random_user_id, not_listen_song_id)"
      ],
      "metadata": {
        "colab": {
          "base_uri": "https://localhost:8080/"
        },
        "id": "Y8FUuL34jvkI",
        "outputId": "37e7834c-78c7-4da3-9c84-c00fda5911f5"
      },
      "execution_count": 159,
      "outputs": [
        {
          "output_type": "stream",
          "name": "stdout",
          "text": [
            "\u001b[1m\u001b[92mThe predictions for user 67708 and song 9184 is:\n",
            "\n",
            "- Real prediction: None,\n",
            "- Estimated prediction: 1.4.\u001b[0m\n"
          ]
        }
      ]
    },
    {
      "cell_type": "code",
      "source": [
        "# Predicting play_count for a sample user with a listened song.\n",
        "listen_count_predict(sim_user_user_optimized, random_user_id, listen_song_id, rating_user)"
      ],
      "metadata": {
        "colab": {
          "base_uri": "https://localhost:8080/"
        },
        "id": "cux-lhN7j-8A",
        "outputId": "cfdf3b58-e0b2-4f96-a54e-99323a068c0e"
      },
      "execution_count": 160,
      "outputs": [
        {
          "output_type": "stream",
          "name": "stdout",
          "text": [
            "\u001b[1m\u001b[92mThe predictions for user 67708 and song 8481 is:\n",
            "\n",
            "- Real prediction: 1,\n",
            "- Estimated prediction: 1.48.\u001b[0m\n"
          ]
        }
      ]
    },
    {
      "cell_type": "code",
      "source": [
        "# Make top 10 recommendations for any user_id with a similarity-based recommendation engine\n",
        "recommendations = get_recommendations(df_final, random_user_id, sim_user_user_optimized)\n",
        "recommendations"
      ],
      "metadata": {
        "colab": {
          "base_uri": "https://localhost:8080/"
        },
        "id": "EM7PUSs6lTju",
        "outputId": "f6b8e469-351c-4f02-93f8-a3fce7b6995a"
      },
      "execution_count": 161,
      "outputs": [
        {
          "output_type": "stream",
          "name": "stdout",
          "text": [
            "\u001b[1m\u001b[92mSongs not played by user 67708:\u001b[0m\n"
          ]
        },
        {
          "output_type": "execute_result",
          "data": {
            "text/plain": [
              "[(5531, 3.16),\n",
              " (7224, 2.91),\n",
              " (4448, 2.9),\n",
              " (2914, 2.69),\n",
              " (8483, 2.49),\n",
              " (3699, 2.43),\n",
              " (2527, 2.41),\n",
              " (8324, 2.41),\n",
              " (8304, 2.38),\n",
              " (6860, 2.37)]"
            ]
          },
          "metadata": {},
          "execution_count": 161
        }
      ]
    },
    {
      "cell_type": "code",
      "source": [
        "pd.DataFrame(recommendations, columns=['song_id', 'predicted_listen_count'])"
      ],
      "metadata": {
        "colab": {
          "base_uri": "https://localhost:8080/",
          "height": 363
        },
        "id": "02sr7kUmll2z",
        "outputId": "6780b8ac-6ac8-480c-bf86-dfe6d3355eda"
      },
      "execution_count": 163,
      "outputs": [
        {
          "output_type": "execute_result",
          "data": {
            "text/plain": [
              "   song_id  predicted_listen_count\n",
              "0     5531                    3.16\n",
              "1     7224                    2.91\n",
              "2     4448                    2.90\n",
              "3     2914                    2.69\n",
              "4     8483                    2.49\n",
              "5     3699                    2.43\n",
              "6     2527                    2.41\n",
              "7     8324                    2.41\n",
              "8     8304                    2.38\n",
              "9     6860                    2.37"
            ],
            "text/html": [
              "\n",
              "  <div id=\"df-a7bc0ae8-ef32-4c6b-8e18-39e3f467adbe\" class=\"colab-df-container\">\n",
              "    <div>\n",
              "<style scoped>\n",
              "    .dataframe tbody tr th:only-of-type {\n",
              "        vertical-align: middle;\n",
              "    }\n",
              "\n",
              "    .dataframe tbody tr th {\n",
              "        vertical-align: top;\n",
              "    }\n",
              "\n",
              "    .dataframe thead th {\n",
              "        text-align: right;\n",
              "    }\n",
              "</style>\n",
              "<table border=\"1\" class=\"dataframe\">\n",
              "  <thead>\n",
              "    <tr style=\"text-align: right;\">\n",
              "      <th></th>\n",
              "      <th>song_id</th>\n",
              "      <th>predicted_listen_count</th>\n",
              "    </tr>\n",
              "  </thead>\n",
              "  <tbody>\n",
              "    <tr>\n",
              "      <th>0</th>\n",
              "      <td>5531</td>\n",
              "      <td>3.16</td>\n",
              "    </tr>\n",
              "    <tr>\n",
              "      <th>1</th>\n",
              "      <td>7224</td>\n",
              "      <td>2.91</td>\n",
              "    </tr>\n",
              "    <tr>\n",
              "      <th>2</th>\n",
              "      <td>4448</td>\n",
              "      <td>2.90</td>\n",
              "    </tr>\n",
              "    <tr>\n",
              "      <th>3</th>\n",
              "      <td>2914</td>\n",
              "      <td>2.69</td>\n",
              "    </tr>\n",
              "    <tr>\n",
              "      <th>4</th>\n",
              "      <td>8483</td>\n",
              "      <td>2.49</td>\n",
              "    </tr>\n",
              "    <tr>\n",
              "      <th>5</th>\n",
              "      <td>3699</td>\n",
              "      <td>2.43</td>\n",
              "    </tr>\n",
              "    <tr>\n",
              "      <th>6</th>\n",
              "      <td>2527</td>\n",
              "      <td>2.41</td>\n",
              "    </tr>\n",
              "    <tr>\n",
              "      <th>7</th>\n",
              "      <td>8324</td>\n",
              "      <td>2.41</td>\n",
              "    </tr>\n",
              "    <tr>\n",
              "      <th>8</th>\n",
              "      <td>8304</td>\n",
              "      <td>2.38</td>\n",
              "    </tr>\n",
              "    <tr>\n",
              "      <th>9</th>\n",
              "      <td>6860</td>\n",
              "      <td>2.37</td>\n",
              "    </tr>\n",
              "  </tbody>\n",
              "</table>\n",
              "</div>\n",
              "    <div class=\"colab-df-buttons\">\n",
              "\n",
              "  <div class=\"colab-df-container\">\n",
              "    <button class=\"colab-df-convert\" onclick=\"convertToInteractive('df-a7bc0ae8-ef32-4c6b-8e18-39e3f467adbe')\"\n",
              "            title=\"Convert this dataframe to an interactive table.\"\n",
              "            style=\"display:none;\">\n",
              "\n",
              "  <svg xmlns=\"http://www.w3.org/2000/svg\" height=\"24px\" viewBox=\"0 -960 960 960\">\n",
              "    <path d=\"M120-120v-720h720v720H120Zm60-500h600v-160H180v160Zm220 220h160v-160H400v160Zm0 220h160v-160H400v160ZM180-400h160v-160H180v160Zm440 0h160v-160H620v160ZM180-180h160v-160H180v160Zm440 0h160v-160H620v160Z\"/>\n",
              "  </svg>\n",
              "    </button>\n",
              "\n",
              "  <style>\n",
              "    .colab-df-container {\n",
              "      display:flex;\n",
              "      gap: 12px;\n",
              "    }\n",
              "\n",
              "    .colab-df-convert {\n",
              "      background-color: #E8F0FE;\n",
              "      border: none;\n",
              "      border-radius: 50%;\n",
              "      cursor: pointer;\n",
              "      display: none;\n",
              "      fill: #1967D2;\n",
              "      height: 32px;\n",
              "      padding: 0 0 0 0;\n",
              "      width: 32px;\n",
              "    }\n",
              "\n",
              "    .colab-df-convert:hover {\n",
              "      background-color: #E2EBFA;\n",
              "      box-shadow: 0px 1px 2px rgba(60, 64, 67, 0.3), 0px 1px 3px 1px rgba(60, 64, 67, 0.15);\n",
              "      fill: #174EA6;\n",
              "    }\n",
              "\n",
              "    .colab-df-buttons div {\n",
              "      margin-bottom: 4px;\n",
              "    }\n",
              "\n",
              "    [theme=dark] .colab-df-convert {\n",
              "      background-color: #3B4455;\n",
              "      fill: #D2E3FC;\n",
              "    }\n",
              "\n",
              "    [theme=dark] .colab-df-convert:hover {\n",
              "      background-color: #434B5C;\n",
              "      box-shadow: 0px 1px 3px 1px rgba(0, 0, 0, 0.15);\n",
              "      filter: drop-shadow(0px 1px 2px rgba(0, 0, 0, 0.3));\n",
              "      fill: #FFFFFF;\n",
              "    }\n",
              "  </style>\n",
              "\n",
              "    <script>\n",
              "      const buttonEl =\n",
              "        document.querySelector('#df-a7bc0ae8-ef32-4c6b-8e18-39e3f467adbe button.colab-df-convert');\n",
              "      buttonEl.style.display =\n",
              "        google.colab.kernel.accessAllowed ? 'block' : 'none';\n",
              "\n",
              "      async function convertToInteractive(key) {\n",
              "        const element = document.querySelector('#df-a7bc0ae8-ef32-4c6b-8e18-39e3f467adbe');\n",
              "        const dataTable =\n",
              "          await google.colab.kernel.invokeFunction('convertToInteractive',\n",
              "                                                    [key], {});\n",
              "        if (!dataTable) return;\n",
              "\n",
              "        const docLinkHtml = 'Like what you see? Visit the ' +\n",
              "          '<a target=\"_blank\" href=https://colab.research.google.com/notebooks/data_table.ipynb>data table notebook</a>'\n",
              "          + ' to learn more about interactive tables.';\n",
              "        element.innerHTML = '';\n",
              "        dataTable['output_type'] = 'display_data';\n",
              "        await google.colab.output.renderOutput(dataTable, element);\n",
              "        const docLink = document.createElement('div');\n",
              "        docLink.innerHTML = docLinkHtml;\n",
              "        element.appendChild(docLink);\n",
              "      }\n",
              "    </script>\n",
              "  </div>\n",
              "\n",
              "\n",
              "<div id=\"df-ff36a9f7-cf54-4268-a1a7-3f8ef8cbad4d\">\n",
              "  <button class=\"colab-df-quickchart\" onclick=\"quickchart('df-ff36a9f7-cf54-4268-a1a7-3f8ef8cbad4d')\"\n",
              "            title=\"Suggest charts\"\n",
              "            style=\"display:none;\">\n",
              "\n",
              "<svg xmlns=\"http://www.w3.org/2000/svg\" height=\"24px\"viewBox=\"0 0 24 24\"\n",
              "     width=\"24px\">\n",
              "    <g>\n",
              "        <path d=\"M19 3H5c-1.1 0-2 .9-2 2v14c0 1.1.9 2 2 2h14c1.1 0 2-.9 2-2V5c0-1.1-.9-2-2-2zM9 17H7v-7h2v7zm4 0h-2V7h2v10zm4 0h-2v-4h2v4z\"/>\n",
              "    </g>\n",
              "</svg>\n",
              "  </button>\n",
              "\n",
              "<style>\n",
              "  .colab-df-quickchart {\n",
              "      --bg-color: #E8F0FE;\n",
              "      --fill-color: #1967D2;\n",
              "      --hover-bg-color: #E2EBFA;\n",
              "      --hover-fill-color: #174EA6;\n",
              "      --disabled-fill-color: #AAA;\n",
              "      --disabled-bg-color: #DDD;\n",
              "  }\n",
              "\n",
              "  [theme=dark] .colab-df-quickchart {\n",
              "      --bg-color: #3B4455;\n",
              "      --fill-color: #D2E3FC;\n",
              "      --hover-bg-color: #434B5C;\n",
              "      --hover-fill-color: #FFFFFF;\n",
              "      --disabled-bg-color: #3B4455;\n",
              "      --disabled-fill-color: #666;\n",
              "  }\n",
              "\n",
              "  .colab-df-quickchart {\n",
              "    background-color: var(--bg-color);\n",
              "    border: none;\n",
              "    border-radius: 50%;\n",
              "    cursor: pointer;\n",
              "    display: none;\n",
              "    fill: var(--fill-color);\n",
              "    height: 32px;\n",
              "    padding: 0;\n",
              "    width: 32px;\n",
              "  }\n",
              "\n",
              "  .colab-df-quickchart:hover {\n",
              "    background-color: var(--hover-bg-color);\n",
              "    box-shadow: 0 1px 2px rgba(60, 64, 67, 0.3), 0 1px 3px 1px rgba(60, 64, 67, 0.15);\n",
              "    fill: var(--button-hover-fill-color);\n",
              "  }\n",
              "\n",
              "  .colab-df-quickchart-complete:disabled,\n",
              "  .colab-df-quickchart-complete:disabled:hover {\n",
              "    background-color: var(--disabled-bg-color);\n",
              "    fill: var(--disabled-fill-color);\n",
              "    box-shadow: none;\n",
              "  }\n",
              "\n",
              "  .colab-df-spinner {\n",
              "    border: 2px solid var(--fill-color);\n",
              "    border-color: transparent;\n",
              "    border-bottom-color: var(--fill-color);\n",
              "    animation:\n",
              "      spin 1s steps(1) infinite;\n",
              "  }\n",
              "\n",
              "  @keyframes spin {\n",
              "    0% {\n",
              "      border-color: transparent;\n",
              "      border-bottom-color: var(--fill-color);\n",
              "      border-left-color: var(--fill-color);\n",
              "    }\n",
              "    20% {\n",
              "      border-color: transparent;\n",
              "      border-left-color: var(--fill-color);\n",
              "      border-top-color: var(--fill-color);\n",
              "    }\n",
              "    30% {\n",
              "      border-color: transparent;\n",
              "      border-left-color: var(--fill-color);\n",
              "      border-top-color: var(--fill-color);\n",
              "      border-right-color: var(--fill-color);\n",
              "    }\n",
              "    40% {\n",
              "      border-color: transparent;\n",
              "      border-right-color: var(--fill-color);\n",
              "      border-top-color: var(--fill-color);\n",
              "    }\n",
              "    60% {\n",
              "      border-color: transparent;\n",
              "      border-right-color: var(--fill-color);\n",
              "    }\n",
              "    80% {\n",
              "      border-color: transparent;\n",
              "      border-right-color: var(--fill-color);\n",
              "      border-bottom-color: var(--fill-color);\n",
              "    }\n",
              "    90% {\n",
              "      border-color: transparent;\n",
              "      border-bottom-color: var(--fill-color);\n",
              "    }\n",
              "  }\n",
              "</style>\n",
              "\n",
              "  <script>\n",
              "    async function quickchart(key) {\n",
              "      const quickchartButtonEl =\n",
              "        document.querySelector('#' + key + ' button');\n",
              "      quickchartButtonEl.disabled = true;  // To prevent multiple clicks.\n",
              "      quickchartButtonEl.classList.add('colab-df-spinner');\n",
              "      try {\n",
              "        const charts = await google.colab.kernel.invokeFunction(\n",
              "            'suggestCharts', [key], {});\n",
              "      } catch (error) {\n",
              "        console.error('Error during call to suggestCharts:', error);\n",
              "      }\n",
              "      quickchartButtonEl.classList.remove('colab-df-spinner');\n",
              "      quickchartButtonEl.classList.add('colab-df-quickchart-complete');\n",
              "    }\n",
              "    (() => {\n",
              "      let quickchartButtonEl =\n",
              "        document.querySelector('#df-ff36a9f7-cf54-4268-a1a7-3f8ef8cbad4d button');\n",
              "      quickchartButtonEl.style.display =\n",
              "        google.colab.kernel.accessAllowed ? 'block' : 'none';\n",
              "    })();\n",
              "  </script>\n",
              "</div>\n",
              "    </div>\n",
              "  </div>\n"
            ],
            "application/vnd.google.colaboratory.intrinsic+json": {
              "type": "dataframe",
              "summary": "{\n  \"name\": \"pd\",\n  \"rows\": 10,\n  \"fields\": [\n    {\n      \"column\": \"song_id\",\n      \"properties\": {\n        \"dtype\": \"number\",\n        \"std\": 2317,\n        \"min\": 2527,\n        \"max\": 8483,\n        \"num_unique_values\": 10,\n        \"samples\": [\n          8304,\n          7224,\n          3699\n        ],\n        \"semantic_type\": \"\",\n        \"description\": \"\"\n      }\n    },\n    {\n      \"column\": \"predicted_listen_count\",\n      \"properties\": {\n        \"dtype\": \"number\",\n        \"std\": 0.2828525332316392,\n        \"min\": 2.37,\n        \"max\": 3.16,\n        \"num_unique_values\": 9,\n        \"samples\": [\n          2.38,\n          2.91,\n          2.43\n        ],\n        \"semantic_type\": \"\",\n        \"description\": \"\"\n      }\n    }\n  ]\n}"
            }
          },
          "metadata": {},
          "execution_count": 163
        }
      ]
    },
    {
      "cell_type": "markdown",
      "source": [
        "TODO: add an explanation about this part & why we used this function"
      ],
      "metadata": {
        "id": "7niroe5QTLLc"
      }
    },
    {
      "cell_type": "code",
      "source": [
        "df_final[df_final['song_id'] == listen_song_id].sort_values(by='listen_count', ascending=False)"
      ],
      "metadata": {
        "id": "pL2d8qveVzJO",
        "outputId": "52959cca-9377-4c79-e9c1-58005eff3ffb",
        "colab": {
          "base_uri": "https://localhost:8080/",
          "height": 424
        }
      },
      "execution_count": 164,
      "outputs": [
        {
          "output_type": "execute_result",
          "data": {
            "text/plain": [
              "       song_id    index  user_id  listen_count                title  \\\n",
              "70536     8481  1443618    37851             5  Party In The U.S.A.   \n",
              "74059     8481  1519675     9603             5  Party In The U.S.A.   \n",
              "50742     8481  1062202    53767             5  Party In The U.S.A.   \n",
              "41810     8481   871598    13234             5  Party In The U.S.A.   \n",
              "41503     8481   867997    27789             5  Party In The U.S.A.   \n",
              "...        ...      ...      ...           ...                  ...   \n",
              "23652     8481   486695    73003             1  Party In The U.S.A.   \n",
              "62129     8481  1278226     8275             1  Party In The U.S.A.   \n",
              "23299     8481   480070    71041             1  Party In The U.S.A.   \n",
              "62846     8481  1293535    10267             1  Party In The U.S.A.   \n",
              "51440     8481  1071681    48348             1  Party In The U.S.A.   \n",
              "\n",
              "                   release  artist_name  year  \n",
              "70536  Party In The U.S.A.  Miley Cyrus  2009  \n",
              "74059  Party In The U.S.A.  Miley Cyrus  2009  \n",
              "50742  Party In The U.S.A.  Miley Cyrus  2009  \n",
              "41810  Party In The U.S.A.  Miley Cyrus  2009  \n",
              "41503  Party In The U.S.A.  Miley Cyrus  2009  \n",
              "...                    ...          ...   ...  \n",
              "23652  Party In The U.S.A.  Miley Cyrus  2009  \n",
              "62129  Party In The U.S.A.  Miley Cyrus  2009  \n",
              "23299  Party In The U.S.A.  Miley Cyrus  2009  \n",
              "62846  Party In The U.S.A.  Miley Cyrus  2009  \n",
              "51440  Party In The U.S.A.  Miley Cyrus  2009  \n",
              "\n",
              "[441 rows x 8 columns]"
            ],
            "text/html": [
              "\n",
              "  <div id=\"df-d94ef1ca-15cb-42a5-aefd-07255d4962cd\" class=\"colab-df-container\">\n",
              "    <div>\n",
              "<style scoped>\n",
              "    .dataframe tbody tr th:only-of-type {\n",
              "        vertical-align: middle;\n",
              "    }\n",
              "\n",
              "    .dataframe tbody tr th {\n",
              "        vertical-align: top;\n",
              "    }\n",
              "\n",
              "    .dataframe thead th {\n",
              "        text-align: right;\n",
              "    }\n",
              "</style>\n",
              "<table border=\"1\" class=\"dataframe\">\n",
              "  <thead>\n",
              "    <tr style=\"text-align: right;\">\n",
              "      <th></th>\n",
              "      <th>song_id</th>\n",
              "      <th>index</th>\n",
              "      <th>user_id</th>\n",
              "      <th>listen_count</th>\n",
              "      <th>title</th>\n",
              "      <th>release</th>\n",
              "      <th>artist_name</th>\n",
              "      <th>year</th>\n",
              "    </tr>\n",
              "  </thead>\n",
              "  <tbody>\n",
              "    <tr>\n",
              "      <th>70536</th>\n",
              "      <td>8481</td>\n",
              "      <td>1443618</td>\n",
              "      <td>37851</td>\n",
              "      <td>5</td>\n",
              "      <td>Party In The U.S.A.</td>\n",
              "      <td>Party In The U.S.A.</td>\n",
              "      <td>Miley Cyrus</td>\n",
              "      <td>2009</td>\n",
              "    </tr>\n",
              "    <tr>\n",
              "      <th>74059</th>\n",
              "      <td>8481</td>\n",
              "      <td>1519675</td>\n",
              "      <td>9603</td>\n",
              "      <td>5</td>\n",
              "      <td>Party In The U.S.A.</td>\n",
              "      <td>Party In The U.S.A.</td>\n",
              "      <td>Miley Cyrus</td>\n",
              "      <td>2009</td>\n",
              "    </tr>\n",
              "    <tr>\n",
              "      <th>50742</th>\n",
              "      <td>8481</td>\n",
              "      <td>1062202</td>\n",
              "      <td>53767</td>\n",
              "      <td>5</td>\n",
              "      <td>Party In The U.S.A.</td>\n",
              "      <td>Party In The U.S.A.</td>\n",
              "      <td>Miley Cyrus</td>\n",
              "      <td>2009</td>\n",
              "    </tr>\n",
              "    <tr>\n",
              "      <th>41810</th>\n",
              "      <td>8481</td>\n",
              "      <td>871598</td>\n",
              "      <td>13234</td>\n",
              "      <td>5</td>\n",
              "      <td>Party In The U.S.A.</td>\n",
              "      <td>Party In The U.S.A.</td>\n",
              "      <td>Miley Cyrus</td>\n",
              "      <td>2009</td>\n",
              "    </tr>\n",
              "    <tr>\n",
              "      <th>41503</th>\n",
              "      <td>8481</td>\n",
              "      <td>867997</td>\n",
              "      <td>27789</td>\n",
              "      <td>5</td>\n",
              "      <td>Party In The U.S.A.</td>\n",
              "      <td>Party In The U.S.A.</td>\n",
              "      <td>Miley Cyrus</td>\n",
              "      <td>2009</td>\n",
              "    </tr>\n",
              "    <tr>\n",
              "      <th>...</th>\n",
              "      <td>...</td>\n",
              "      <td>...</td>\n",
              "      <td>...</td>\n",
              "      <td>...</td>\n",
              "      <td>...</td>\n",
              "      <td>...</td>\n",
              "      <td>...</td>\n",
              "      <td>...</td>\n",
              "    </tr>\n",
              "    <tr>\n",
              "      <th>23652</th>\n",
              "      <td>8481</td>\n",
              "      <td>486695</td>\n",
              "      <td>73003</td>\n",
              "      <td>1</td>\n",
              "      <td>Party In The U.S.A.</td>\n",
              "      <td>Party In The U.S.A.</td>\n",
              "      <td>Miley Cyrus</td>\n",
              "      <td>2009</td>\n",
              "    </tr>\n",
              "    <tr>\n",
              "      <th>62129</th>\n",
              "      <td>8481</td>\n",
              "      <td>1278226</td>\n",
              "      <td>8275</td>\n",
              "      <td>1</td>\n",
              "      <td>Party In The U.S.A.</td>\n",
              "      <td>Party In The U.S.A.</td>\n",
              "      <td>Miley Cyrus</td>\n",
              "      <td>2009</td>\n",
              "    </tr>\n",
              "    <tr>\n",
              "      <th>23299</th>\n",
              "      <td>8481</td>\n",
              "      <td>480070</td>\n",
              "      <td>71041</td>\n",
              "      <td>1</td>\n",
              "      <td>Party In The U.S.A.</td>\n",
              "      <td>Party In The U.S.A.</td>\n",
              "      <td>Miley Cyrus</td>\n",
              "      <td>2009</td>\n",
              "    </tr>\n",
              "    <tr>\n",
              "      <th>62846</th>\n",
              "      <td>8481</td>\n",
              "      <td>1293535</td>\n",
              "      <td>10267</td>\n",
              "      <td>1</td>\n",
              "      <td>Party In The U.S.A.</td>\n",
              "      <td>Party In The U.S.A.</td>\n",
              "      <td>Miley Cyrus</td>\n",
              "      <td>2009</td>\n",
              "    </tr>\n",
              "    <tr>\n",
              "      <th>51440</th>\n",
              "      <td>8481</td>\n",
              "      <td>1071681</td>\n",
              "      <td>48348</td>\n",
              "      <td>1</td>\n",
              "      <td>Party In The U.S.A.</td>\n",
              "      <td>Party In The U.S.A.</td>\n",
              "      <td>Miley Cyrus</td>\n",
              "      <td>2009</td>\n",
              "    </tr>\n",
              "  </tbody>\n",
              "</table>\n",
              "<p>441 rows × 8 columns</p>\n",
              "</div>\n",
              "    <div class=\"colab-df-buttons\">\n",
              "\n",
              "  <div class=\"colab-df-container\">\n",
              "    <button class=\"colab-df-convert\" onclick=\"convertToInteractive('df-d94ef1ca-15cb-42a5-aefd-07255d4962cd')\"\n",
              "            title=\"Convert this dataframe to an interactive table.\"\n",
              "            style=\"display:none;\">\n",
              "\n",
              "  <svg xmlns=\"http://www.w3.org/2000/svg\" height=\"24px\" viewBox=\"0 -960 960 960\">\n",
              "    <path d=\"M120-120v-720h720v720H120Zm60-500h600v-160H180v160Zm220 220h160v-160H400v160Zm0 220h160v-160H400v160ZM180-400h160v-160H180v160Zm440 0h160v-160H620v160ZM180-180h160v-160H180v160Zm440 0h160v-160H620v160Z\"/>\n",
              "  </svg>\n",
              "    </button>\n",
              "\n",
              "  <style>\n",
              "    .colab-df-container {\n",
              "      display:flex;\n",
              "      gap: 12px;\n",
              "    }\n",
              "\n",
              "    .colab-df-convert {\n",
              "      background-color: #E8F0FE;\n",
              "      border: none;\n",
              "      border-radius: 50%;\n",
              "      cursor: pointer;\n",
              "      display: none;\n",
              "      fill: #1967D2;\n",
              "      height: 32px;\n",
              "      padding: 0 0 0 0;\n",
              "      width: 32px;\n",
              "    }\n",
              "\n",
              "    .colab-df-convert:hover {\n",
              "      background-color: #E2EBFA;\n",
              "      box-shadow: 0px 1px 2px rgba(60, 64, 67, 0.3), 0px 1px 3px 1px rgba(60, 64, 67, 0.15);\n",
              "      fill: #174EA6;\n",
              "    }\n",
              "\n",
              "    .colab-df-buttons div {\n",
              "      margin-bottom: 4px;\n",
              "    }\n",
              "\n",
              "    [theme=dark] .colab-df-convert {\n",
              "      background-color: #3B4455;\n",
              "      fill: #D2E3FC;\n",
              "    }\n",
              "\n",
              "    [theme=dark] .colab-df-convert:hover {\n",
              "      background-color: #434B5C;\n",
              "      box-shadow: 0px 1px 3px 1px rgba(0, 0, 0, 0.15);\n",
              "      filter: drop-shadow(0px 1px 2px rgba(0, 0, 0, 0.3));\n",
              "      fill: #FFFFFF;\n",
              "    }\n",
              "  </style>\n",
              "\n",
              "    <script>\n",
              "      const buttonEl =\n",
              "        document.querySelector('#df-d94ef1ca-15cb-42a5-aefd-07255d4962cd button.colab-df-convert');\n",
              "      buttonEl.style.display =\n",
              "        google.colab.kernel.accessAllowed ? 'block' : 'none';\n",
              "\n",
              "      async function convertToInteractive(key) {\n",
              "        const element = document.querySelector('#df-d94ef1ca-15cb-42a5-aefd-07255d4962cd');\n",
              "        const dataTable =\n",
              "          await google.colab.kernel.invokeFunction('convertToInteractive',\n",
              "                                                    [key], {});\n",
              "        if (!dataTable) return;\n",
              "\n",
              "        const docLinkHtml = 'Like what you see? Visit the ' +\n",
              "          '<a target=\"_blank\" href=https://colab.research.google.com/notebooks/data_table.ipynb>data table notebook</a>'\n",
              "          + ' to learn more about interactive tables.';\n",
              "        element.innerHTML = '';\n",
              "        dataTable['output_type'] = 'display_data';\n",
              "        await google.colab.output.renderOutput(dataTable, element);\n",
              "        const docLink = document.createElement('div');\n",
              "        docLink.innerHTML = docLinkHtml;\n",
              "        element.appendChild(docLink);\n",
              "      }\n",
              "    </script>\n",
              "  </div>\n",
              "\n",
              "\n",
              "<div id=\"df-5a27e773-d938-458a-884f-8bfa391d6108\">\n",
              "  <button class=\"colab-df-quickchart\" onclick=\"quickchart('df-5a27e773-d938-458a-884f-8bfa391d6108')\"\n",
              "            title=\"Suggest charts\"\n",
              "            style=\"display:none;\">\n",
              "\n",
              "<svg xmlns=\"http://www.w3.org/2000/svg\" height=\"24px\"viewBox=\"0 0 24 24\"\n",
              "     width=\"24px\">\n",
              "    <g>\n",
              "        <path d=\"M19 3H5c-1.1 0-2 .9-2 2v14c0 1.1.9 2 2 2h14c1.1 0 2-.9 2-2V5c0-1.1-.9-2-2-2zM9 17H7v-7h2v7zm4 0h-2V7h2v10zm4 0h-2v-4h2v4z\"/>\n",
              "    </g>\n",
              "</svg>\n",
              "  </button>\n",
              "\n",
              "<style>\n",
              "  .colab-df-quickchart {\n",
              "      --bg-color: #E8F0FE;\n",
              "      --fill-color: #1967D2;\n",
              "      --hover-bg-color: #E2EBFA;\n",
              "      --hover-fill-color: #174EA6;\n",
              "      --disabled-fill-color: #AAA;\n",
              "      --disabled-bg-color: #DDD;\n",
              "  }\n",
              "\n",
              "  [theme=dark] .colab-df-quickchart {\n",
              "      --bg-color: #3B4455;\n",
              "      --fill-color: #D2E3FC;\n",
              "      --hover-bg-color: #434B5C;\n",
              "      --hover-fill-color: #FFFFFF;\n",
              "      --disabled-bg-color: #3B4455;\n",
              "      --disabled-fill-color: #666;\n",
              "  }\n",
              "\n",
              "  .colab-df-quickchart {\n",
              "    background-color: var(--bg-color);\n",
              "    border: none;\n",
              "    border-radius: 50%;\n",
              "    cursor: pointer;\n",
              "    display: none;\n",
              "    fill: var(--fill-color);\n",
              "    height: 32px;\n",
              "    padding: 0;\n",
              "    width: 32px;\n",
              "  }\n",
              "\n",
              "  .colab-df-quickchart:hover {\n",
              "    background-color: var(--hover-bg-color);\n",
              "    box-shadow: 0 1px 2px rgba(60, 64, 67, 0.3), 0 1px 3px 1px rgba(60, 64, 67, 0.15);\n",
              "    fill: var(--button-hover-fill-color);\n",
              "  }\n",
              "\n",
              "  .colab-df-quickchart-complete:disabled,\n",
              "  .colab-df-quickchart-complete:disabled:hover {\n",
              "    background-color: var(--disabled-bg-color);\n",
              "    fill: var(--disabled-fill-color);\n",
              "    box-shadow: none;\n",
              "  }\n",
              "\n",
              "  .colab-df-spinner {\n",
              "    border: 2px solid var(--fill-color);\n",
              "    border-color: transparent;\n",
              "    border-bottom-color: var(--fill-color);\n",
              "    animation:\n",
              "      spin 1s steps(1) infinite;\n",
              "  }\n",
              "\n",
              "  @keyframes spin {\n",
              "    0% {\n",
              "      border-color: transparent;\n",
              "      border-bottom-color: var(--fill-color);\n",
              "      border-left-color: var(--fill-color);\n",
              "    }\n",
              "    20% {\n",
              "      border-color: transparent;\n",
              "      border-left-color: var(--fill-color);\n",
              "      border-top-color: var(--fill-color);\n",
              "    }\n",
              "    30% {\n",
              "      border-color: transparent;\n",
              "      border-left-color: var(--fill-color);\n",
              "      border-top-color: var(--fill-color);\n",
              "      border-right-color: var(--fill-color);\n",
              "    }\n",
              "    40% {\n",
              "      border-color: transparent;\n",
              "      border-right-color: var(--fill-color);\n",
              "      border-top-color: var(--fill-color);\n",
              "    }\n",
              "    60% {\n",
              "      border-color: transparent;\n",
              "      border-right-color: var(--fill-color);\n",
              "    }\n",
              "    80% {\n",
              "      border-color: transparent;\n",
              "      border-right-color: var(--fill-color);\n",
              "      border-bottom-color: var(--fill-color);\n",
              "    }\n",
              "    90% {\n",
              "      border-color: transparent;\n",
              "      border-bottom-color: var(--fill-color);\n",
              "    }\n",
              "  }\n",
              "</style>\n",
              "\n",
              "  <script>\n",
              "    async function quickchart(key) {\n",
              "      const quickchartButtonEl =\n",
              "        document.querySelector('#' + key + ' button');\n",
              "      quickchartButtonEl.disabled = true;  // To prevent multiple clicks.\n",
              "      quickchartButtonEl.classList.add('colab-df-spinner');\n",
              "      try {\n",
              "        const charts = await google.colab.kernel.invokeFunction(\n",
              "            'suggestCharts', [key], {});\n",
              "      } catch (error) {\n",
              "        console.error('Error during call to suggestCharts:', error);\n",
              "      }\n",
              "      quickchartButtonEl.classList.remove('colab-df-spinner');\n",
              "      quickchartButtonEl.classList.add('colab-df-quickchart-complete');\n",
              "    }\n",
              "    (() => {\n",
              "      let quickchartButtonEl =\n",
              "        document.querySelector('#df-5a27e773-d938-458a-884f-8bfa391d6108 button');\n",
              "      quickchartButtonEl.style.display =\n",
              "        google.colab.kernel.accessAllowed ? 'block' : 'none';\n",
              "    })();\n",
              "  </script>\n",
              "</div>\n",
              "    </div>\n",
              "  </div>\n"
            ],
            "application/vnd.google.colaboratory.intrinsic+json": {
              "type": "dataframe",
              "summary": "{\n  \"name\": \"df_final[df_final['song_id'] == listen_song_id]\",\n  \"rows\": 441,\n  \"fields\": [\n    {\n      \"column\": \"song_id\",\n      \"properties\": {\n        \"dtype\": \"number\",\n        \"std\": 0,\n        \"min\": 8481,\n        \"max\": 8481,\n        \"num_unique_values\": 1,\n        \"samples\": [\n          8481\n        ],\n        \"semantic_type\": \"\",\n        \"description\": \"\"\n      }\n    },\n    {\n      \"column\": \"index\",\n      \"properties\": {\n        \"dtype\": \"number\",\n        \"std\": 582983,\n        \"min\": 998,\n        \"max\": 1988870,\n        \"num_unique_values\": 441,\n        \"samples\": [\n          1768834\n        ],\n        \"semantic_type\": \"\",\n        \"description\": \"\"\n      }\n    },\n    {\n      \"column\": \"user_id\",\n      \"properties\": {\n        \"dtype\": \"number\",\n        \"std\": 22755,\n        \"min\": 154,\n        \"max\": 76287,\n        \"num_unique_values\": 441,\n        \"samples\": [\n          21508\n        ],\n        \"semantic_type\": \"\",\n        \"description\": \"\"\n      }\n    },\n    {\n      \"column\": \"listen_count\",\n      \"properties\": {\n        \"dtype\": \"number\",\n        \"std\": 1,\n        \"min\": 1,\n        \"max\": 5,\n        \"num_unique_values\": 5,\n        \"samples\": [\n          4\n        ],\n        \"semantic_type\": \"\",\n        \"description\": \"\"\n      }\n    },\n    {\n      \"column\": \"title\",\n      \"properties\": {\n        \"dtype\": \"category\",\n        \"num_unique_values\": 1,\n        \"samples\": [\n          \"Party In The U.S.A.\"\n        ],\n        \"semantic_type\": \"\",\n        \"description\": \"\"\n      }\n    },\n    {\n      \"column\": \"release\",\n      \"properties\": {\n        \"dtype\": \"category\",\n        \"num_unique_values\": 1,\n        \"samples\": [\n          \"Party In The U.S.A.\"\n        ],\n        \"semantic_type\": \"\",\n        \"description\": \"\"\n      }\n    },\n    {\n      \"column\": \"artist_name\",\n      \"properties\": {\n        \"dtype\": \"category\",\n        \"num_unique_values\": 1,\n        \"samples\": [\n          \"Miley Cyrus\"\n        ],\n        \"semantic_type\": \"\",\n        \"description\": \"\"\n      }\n    },\n    {\n      \"column\": \"year\",\n      \"properties\": {\n        \"dtype\": \"number\",\n        \"std\": 0,\n        \"min\": 2009,\n        \"max\": 2009,\n        \"num_unique_values\": 1,\n        \"samples\": [\n          2009\n        ],\n        \"semantic_type\": \"\",\n        \"description\": \"\"\n      }\n    }\n  ]\n}"
            }
          },
          "metadata": {},
          "execution_count": 164
        }
      ]
    },
    {
      "cell_type": "code",
      "source": [
        "rb_popular[rb_popular['song_id'] == listen_song_id]"
      ],
      "metadata": {
        "id": "wCjOd5p3V1iJ",
        "outputId": "5502e196-2cf4-43df-9c99-eddf99de6984",
        "colab": {
          "base_uri": "https://localhost:8080/",
          "height": 81
        }
      },
      "execution_count": 168,
      "outputs": [
        {
          "output_type": "execute_result",
          "data": {
            "text/plain": [
              "    song_id  avg_count  sum_count\n",
              "64     8481     1.8322        808"
            ],
            "text/html": [
              "\n",
              "  <div id=\"df-b29ed1a3-63a0-4568-9fec-63b1df885e11\" class=\"colab-df-container\">\n",
              "    <div>\n",
              "<style scoped>\n",
              "    .dataframe tbody tr th:only-of-type {\n",
              "        vertical-align: middle;\n",
              "    }\n",
              "\n",
              "    .dataframe tbody tr th {\n",
              "        vertical-align: top;\n",
              "    }\n",
              "\n",
              "    .dataframe thead th {\n",
              "        text-align: right;\n",
              "    }\n",
              "</style>\n",
              "<table border=\"1\" class=\"dataframe\">\n",
              "  <thead>\n",
              "    <tr style=\"text-align: right;\">\n",
              "      <th></th>\n",
              "      <th>song_id</th>\n",
              "      <th>avg_count</th>\n",
              "      <th>sum_count</th>\n",
              "    </tr>\n",
              "  </thead>\n",
              "  <tbody>\n",
              "    <tr>\n",
              "      <th>64</th>\n",
              "      <td>8481</td>\n",
              "      <td>1.8322</td>\n",
              "      <td>808</td>\n",
              "    </tr>\n",
              "  </tbody>\n",
              "</table>\n",
              "</div>\n",
              "    <div class=\"colab-df-buttons\">\n",
              "\n",
              "  <div class=\"colab-df-container\">\n",
              "    <button class=\"colab-df-convert\" onclick=\"convertToInteractive('df-b29ed1a3-63a0-4568-9fec-63b1df885e11')\"\n",
              "            title=\"Convert this dataframe to an interactive table.\"\n",
              "            style=\"display:none;\">\n",
              "\n",
              "  <svg xmlns=\"http://www.w3.org/2000/svg\" height=\"24px\" viewBox=\"0 -960 960 960\">\n",
              "    <path d=\"M120-120v-720h720v720H120Zm60-500h600v-160H180v160Zm220 220h160v-160H400v160Zm0 220h160v-160H400v160ZM180-400h160v-160H180v160Zm440 0h160v-160H620v160ZM180-180h160v-160H180v160Zm440 0h160v-160H620v160Z\"/>\n",
              "  </svg>\n",
              "    </button>\n",
              "\n",
              "  <style>\n",
              "    .colab-df-container {\n",
              "      display:flex;\n",
              "      gap: 12px;\n",
              "    }\n",
              "\n",
              "    .colab-df-convert {\n",
              "      background-color: #E8F0FE;\n",
              "      border: none;\n",
              "      border-radius: 50%;\n",
              "      cursor: pointer;\n",
              "      display: none;\n",
              "      fill: #1967D2;\n",
              "      height: 32px;\n",
              "      padding: 0 0 0 0;\n",
              "      width: 32px;\n",
              "    }\n",
              "\n",
              "    .colab-df-convert:hover {\n",
              "      background-color: #E2EBFA;\n",
              "      box-shadow: 0px 1px 2px rgba(60, 64, 67, 0.3), 0px 1px 3px 1px rgba(60, 64, 67, 0.15);\n",
              "      fill: #174EA6;\n",
              "    }\n",
              "\n",
              "    .colab-df-buttons div {\n",
              "      margin-bottom: 4px;\n",
              "    }\n",
              "\n",
              "    [theme=dark] .colab-df-convert {\n",
              "      background-color: #3B4455;\n",
              "      fill: #D2E3FC;\n",
              "    }\n",
              "\n",
              "    [theme=dark] .colab-df-convert:hover {\n",
              "      background-color: #434B5C;\n",
              "      box-shadow: 0px 1px 3px 1px rgba(0, 0, 0, 0.15);\n",
              "      filter: drop-shadow(0px 1px 2px rgba(0, 0, 0, 0.3));\n",
              "      fill: #FFFFFF;\n",
              "    }\n",
              "  </style>\n",
              "\n",
              "    <script>\n",
              "      const buttonEl =\n",
              "        document.querySelector('#df-b29ed1a3-63a0-4568-9fec-63b1df885e11 button.colab-df-convert');\n",
              "      buttonEl.style.display =\n",
              "        google.colab.kernel.accessAllowed ? 'block' : 'none';\n",
              "\n",
              "      async function convertToInteractive(key) {\n",
              "        const element = document.querySelector('#df-b29ed1a3-63a0-4568-9fec-63b1df885e11');\n",
              "        const dataTable =\n",
              "          await google.colab.kernel.invokeFunction('convertToInteractive',\n",
              "                                                    [key], {});\n",
              "        if (!dataTable) return;\n",
              "\n",
              "        const docLinkHtml = 'Like what you see? Visit the ' +\n",
              "          '<a target=\"_blank\" href=https://colab.research.google.com/notebooks/data_table.ipynb>data table notebook</a>'\n",
              "          + ' to learn more about interactive tables.';\n",
              "        element.innerHTML = '';\n",
              "        dataTable['output_type'] = 'display_data';\n",
              "        await google.colab.output.renderOutput(dataTable, element);\n",
              "        const docLink = document.createElement('div');\n",
              "        docLink.innerHTML = docLinkHtml;\n",
              "        element.appendChild(docLink);\n",
              "      }\n",
              "    </script>\n",
              "  </div>\n",
              "\n",
              "    </div>\n",
              "  </div>\n"
            ],
            "application/vnd.google.colaboratory.intrinsic+json": {
              "type": "dataframe",
              "summary": "{\n  \"name\": \"rb_popular[rb_popular['song_id'] == listen_song_id]\",\n  \"rows\": 1,\n  \"fields\": [\n    {\n      \"column\": \"song_id\",\n      \"properties\": {\n        \"dtype\": \"number\",\n        \"std\": null,\n        \"min\": 8481,\n        \"max\": 8481,\n        \"num_unique_values\": 1,\n        \"samples\": [\n          8481\n        ],\n        \"semantic_type\": \"\",\n        \"description\": \"\"\n      }\n    },\n    {\n      \"column\": \"avg_count\",\n      \"properties\": {\n        \"dtype\": \"number\",\n        \"std\": null,\n        \"min\": 1.8321995464852607,\n        \"max\": 1.8321995464852607,\n        \"num_unique_values\": 1,\n        \"samples\": [\n          1.8321995464852607\n        ],\n        \"semantic_type\": \"\",\n        \"description\": \"\"\n      }\n    },\n    {\n      \"column\": \"sum_count\",\n      \"properties\": {\n        \"dtype\": \"number\",\n        \"std\": null,\n        \"min\": 808,\n        \"max\": 808,\n        \"num_unique_values\": 1,\n        \"samples\": [\n          808\n        ],\n        \"semantic_type\": \"\",\n        \"description\": \"\"\n      }\n    }\n  ]\n}"
            }
          },
          "metadata": {},
          "execution_count": 168
        }
      ]
    },
    {
      "cell_type": "code",
      "source": [
        "# Applying the ranking_songs function\n",
        "ranking_songs(recommendations, rb_popular)"
      ],
      "metadata": {
        "id": "ZC5KTDUWTUfb",
        "outputId": "62095f11-5eb7-4340-fc91-138e17b862f3",
        "colab": {
          "base_uri": "https://localhost:8080/",
          "height": 304
        }
      },
      "execution_count": 172,
      "outputs": [
        {
          "output_type": "error",
          "ename": "KeyError",
          "evalue": "\"None of [Int64Index([5531, 7224, 4448, 2914, 8483, 3699, 2527, 8324, 8304, 6860], dtype='int64')] are in the [index]\"",
          "traceback": [
            "\u001b[0;31m---------------------------------------------------------------------------\u001b[0m",
            "\u001b[0;31mKeyError\u001b[0m                                  Traceback (most recent call last)",
            "\u001b[0;32m<ipython-input-172-0bbdd759feef>\u001b[0m in \u001b[0;36m<cell line: 2>\u001b[0;34m()\u001b[0m\n\u001b[1;32m      1\u001b[0m \u001b[0;31m# Applying the ranking_songs function\u001b[0m\u001b[0;34m\u001b[0m\u001b[0;34m\u001b[0m\u001b[0m\n\u001b[0;32m----> 2\u001b[0;31m \u001b[0mranking_songs\u001b[0m\u001b[0;34m(\u001b[0m\u001b[0mrecommendations\u001b[0m\u001b[0;34m,\u001b[0m \u001b[0mrb_popular\u001b[0m\u001b[0;34m)\u001b[0m\u001b[0;34m\u001b[0m\u001b[0;34m\u001b[0m\u001b[0m\n\u001b[0m",
            "\u001b[0;32m<ipython-input-170-06746acab019>\u001b[0m in \u001b[0;36mranking_songs\u001b[0;34m(recommendations, final_rating)\u001b[0m\n\u001b[1;32m      1\u001b[0m \u001b[0;32mdef\u001b[0m \u001b[0mranking_songs\u001b[0m\u001b[0;34m(\u001b[0m\u001b[0mrecommendations\u001b[0m\u001b[0;34m,\u001b[0m \u001b[0mfinal_rating\u001b[0m\u001b[0;34m)\u001b[0m\u001b[0;34m:\u001b[0m\u001b[0;34m\u001b[0m\u001b[0;34m\u001b[0m\u001b[0m\n\u001b[1;32m      2\u001b[0m   \u001b[0;31m# Sort the songs based on play counts\u001b[0m\u001b[0;34m\u001b[0m\u001b[0;34m\u001b[0m\u001b[0m\n\u001b[0;32m----> 3\u001b[0;31m   \u001b[0mranked_songs\u001b[0m \u001b[0;34m=\u001b[0m \u001b[0mfinal_rating\u001b[0m\u001b[0;34m.\u001b[0m\u001b[0mloc\u001b[0m\u001b[0;34m[\u001b[0m\u001b[0;34m[\u001b[0m\u001b[0mitem\u001b[0m\u001b[0;34m[\u001b[0m\u001b[0;36m0\u001b[0m\u001b[0;34m]\u001b[0m \u001b[0;32mfor\u001b[0m \u001b[0mitem\u001b[0m \u001b[0;32min\u001b[0m \u001b[0mrecommendations\u001b[0m\u001b[0;34m]\u001b[0m\u001b[0;34m]\u001b[0m\u001b[0;34m.\u001b[0m\u001b[0msort_values\u001b[0m\u001b[0;34m(\u001b[0m\u001b[0;34m'sum_count'\u001b[0m\u001b[0;34m,\u001b[0m \u001b[0mascending\u001b[0m\u001b[0;34m=\u001b[0m\u001b[0;32mFalse\u001b[0m\u001b[0;34m)\u001b[0m\u001b[0;34m[\u001b[0m\u001b[0;34m[\u001b[0m\u001b[0;34m'sum_count'\u001b[0m\u001b[0;34m]\u001b[0m\u001b[0;34m]\u001b[0m\u001b[0;34m.\u001b[0m\u001b[0mreset_index\u001b[0m\u001b[0;34m(\u001b[0m\u001b[0;34m)\u001b[0m\u001b[0;34m\u001b[0m\u001b[0;34m\u001b[0m\u001b[0m\n\u001b[0m\u001b[1;32m      4\u001b[0m \u001b[0;34m\u001b[0m\u001b[0m\n\u001b[1;32m      5\u001b[0m   \u001b[0;31m# Merge with the recommended songs to get predicted listen_count\u001b[0m\u001b[0;34m\u001b[0m\u001b[0;34m\u001b[0m\u001b[0m\n",
            "\u001b[0;32m/usr/local/lib/python3.10/dist-packages/pandas/core/indexing.py\u001b[0m in \u001b[0;36m__getitem__\u001b[0;34m(self, key)\u001b[0m\n\u001b[1;32m   1071\u001b[0m \u001b[0;34m\u001b[0m\u001b[0m\n\u001b[1;32m   1072\u001b[0m             \u001b[0mmaybe_callable\u001b[0m \u001b[0;34m=\u001b[0m \u001b[0mcom\u001b[0m\u001b[0;34m.\u001b[0m\u001b[0mapply_if_callable\u001b[0m\u001b[0;34m(\u001b[0m\u001b[0mkey\u001b[0m\u001b[0;34m,\u001b[0m \u001b[0mself\u001b[0m\u001b[0;34m.\u001b[0m\u001b[0mobj\u001b[0m\u001b[0;34m)\u001b[0m\u001b[0;34m\u001b[0m\u001b[0;34m\u001b[0m\u001b[0m\n\u001b[0;32m-> 1073\u001b[0;31m             \u001b[0;32mreturn\u001b[0m \u001b[0mself\u001b[0m\u001b[0;34m.\u001b[0m\u001b[0m_getitem_axis\u001b[0m\u001b[0;34m(\u001b[0m\u001b[0mmaybe_callable\u001b[0m\u001b[0;34m,\u001b[0m \u001b[0maxis\u001b[0m\u001b[0;34m=\u001b[0m\u001b[0maxis\u001b[0m\u001b[0;34m)\u001b[0m\u001b[0;34m\u001b[0m\u001b[0;34m\u001b[0m\u001b[0m\n\u001b[0m\u001b[1;32m   1074\u001b[0m \u001b[0;34m\u001b[0m\u001b[0m\n\u001b[1;32m   1075\u001b[0m     \u001b[0;32mdef\u001b[0m \u001b[0m_is_scalar_access\u001b[0m\u001b[0;34m(\u001b[0m\u001b[0mself\u001b[0m\u001b[0;34m,\u001b[0m \u001b[0mkey\u001b[0m\u001b[0;34m:\u001b[0m \u001b[0mtuple\u001b[0m\u001b[0;34m)\u001b[0m\u001b[0;34m:\u001b[0m\u001b[0;34m\u001b[0m\u001b[0;34m\u001b[0m\u001b[0m\n",
            "\u001b[0;32m/usr/local/lib/python3.10/dist-packages/pandas/core/indexing.py\u001b[0m in \u001b[0;36m_getitem_axis\u001b[0;34m(self, key, axis)\u001b[0m\n\u001b[1;32m   1299\u001b[0m                     \u001b[0;32mraise\u001b[0m \u001b[0mValueError\u001b[0m\u001b[0;34m(\u001b[0m\u001b[0;34m\"Cannot index with multidimensional key\"\u001b[0m\u001b[0;34m)\u001b[0m\u001b[0;34m\u001b[0m\u001b[0;34m\u001b[0m\u001b[0m\n\u001b[1;32m   1300\u001b[0m \u001b[0;34m\u001b[0m\u001b[0m\n\u001b[0;32m-> 1301\u001b[0;31m                 \u001b[0;32mreturn\u001b[0m \u001b[0mself\u001b[0m\u001b[0;34m.\u001b[0m\u001b[0m_getitem_iterable\u001b[0m\u001b[0;34m(\u001b[0m\u001b[0mkey\u001b[0m\u001b[0;34m,\u001b[0m \u001b[0maxis\u001b[0m\u001b[0;34m=\u001b[0m\u001b[0maxis\u001b[0m\u001b[0;34m)\u001b[0m\u001b[0;34m\u001b[0m\u001b[0;34m\u001b[0m\u001b[0m\n\u001b[0m\u001b[1;32m   1302\u001b[0m \u001b[0;34m\u001b[0m\u001b[0m\n\u001b[1;32m   1303\u001b[0m             \u001b[0;31m# nested tuple slicing\u001b[0m\u001b[0;34m\u001b[0m\u001b[0;34m\u001b[0m\u001b[0m\n",
            "\u001b[0;32m/usr/local/lib/python3.10/dist-packages/pandas/core/indexing.py\u001b[0m in \u001b[0;36m_getitem_iterable\u001b[0;34m(self, key, axis)\u001b[0m\n\u001b[1;32m   1237\u001b[0m \u001b[0;34m\u001b[0m\u001b[0m\n\u001b[1;32m   1238\u001b[0m         \u001b[0;31m# A collection of keys\u001b[0m\u001b[0;34m\u001b[0m\u001b[0;34m\u001b[0m\u001b[0m\n\u001b[0;32m-> 1239\u001b[0;31m         \u001b[0mkeyarr\u001b[0m\u001b[0;34m,\u001b[0m \u001b[0mindexer\u001b[0m \u001b[0;34m=\u001b[0m \u001b[0mself\u001b[0m\u001b[0;34m.\u001b[0m\u001b[0m_get_listlike_indexer\u001b[0m\u001b[0;34m(\u001b[0m\u001b[0mkey\u001b[0m\u001b[0;34m,\u001b[0m \u001b[0maxis\u001b[0m\u001b[0;34m)\u001b[0m\u001b[0;34m\u001b[0m\u001b[0;34m\u001b[0m\u001b[0m\n\u001b[0m\u001b[1;32m   1240\u001b[0m         return self.obj._reindex_with_indexers(\n\u001b[1;32m   1241\u001b[0m             \u001b[0;34m{\u001b[0m\u001b[0maxis\u001b[0m\u001b[0;34m:\u001b[0m \u001b[0;34m[\u001b[0m\u001b[0mkeyarr\u001b[0m\u001b[0;34m,\u001b[0m \u001b[0mindexer\u001b[0m\u001b[0;34m]\u001b[0m\u001b[0;34m}\u001b[0m\u001b[0;34m,\u001b[0m \u001b[0mcopy\u001b[0m\u001b[0;34m=\u001b[0m\u001b[0;32mTrue\u001b[0m\u001b[0;34m,\u001b[0m \u001b[0mallow_dups\u001b[0m\u001b[0;34m=\u001b[0m\u001b[0;32mTrue\u001b[0m\u001b[0;34m\u001b[0m\u001b[0;34m\u001b[0m\u001b[0m\n",
            "\u001b[0;32m/usr/local/lib/python3.10/dist-packages/pandas/core/indexing.py\u001b[0m in \u001b[0;36m_get_listlike_indexer\u001b[0;34m(self, key, axis)\u001b[0m\n\u001b[1;32m   1430\u001b[0m         \u001b[0maxis_name\u001b[0m \u001b[0;34m=\u001b[0m \u001b[0mself\u001b[0m\u001b[0;34m.\u001b[0m\u001b[0mobj\u001b[0m\u001b[0;34m.\u001b[0m\u001b[0m_get_axis_name\u001b[0m\u001b[0;34m(\u001b[0m\u001b[0maxis\u001b[0m\u001b[0;34m)\u001b[0m\u001b[0;34m\u001b[0m\u001b[0;34m\u001b[0m\u001b[0m\n\u001b[1;32m   1431\u001b[0m \u001b[0;34m\u001b[0m\u001b[0m\n\u001b[0;32m-> 1432\u001b[0;31m         \u001b[0mkeyarr\u001b[0m\u001b[0;34m,\u001b[0m \u001b[0mindexer\u001b[0m \u001b[0;34m=\u001b[0m \u001b[0max\u001b[0m\u001b[0;34m.\u001b[0m\u001b[0m_get_indexer_strict\u001b[0m\u001b[0;34m(\u001b[0m\u001b[0mkey\u001b[0m\u001b[0;34m,\u001b[0m \u001b[0maxis_name\u001b[0m\u001b[0;34m)\u001b[0m\u001b[0;34m\u001b[0m\u001b[0;34m\u001b[0m\u001b[0m\n\u001b[0m\u001b[1;32m   1433\u001b[0m \u001b[0;34m\u001b[0m\u001b[0m\n\u001b[1;32m   1434\u001b[0m         \u001b[0;32mreturn\u001b[0m \u001b[0mkeyarr\u001b[0m\u001b[0;34m,\u001b[0m \u001b[0mindexer\u001b[0m\u001b[0;34m\u001b[0m\u001b[0;34m\u001b[0m\u001b[0m\n",
            "\u001b[0;32m/usr/local/lib/python3.10/dist-packages/pandas/core/indexes/base.py\u001b[0m in \u001b[0;36m_get_indexer_strict\u001b[0;34m(self, key, axis_name)\u001b[0m\n\u001b[1;32m   6068\u001b[0m             \u001b[0mkeyarr\u001b[0m\u001b[0;34m,\u001b[0m \u001b[0mindexer\u001b[0m\u001b[0;34m,\u001b[0m \u001b[0mnew_indexer\u001b[0m \u001b[0;34m=\u001b[0m \u001b[0mself\u001b[0m\u001b[0;34m.\u001b[0m\u001b[0m_reindex_non_unique\u001b[0m\u001b[0;34m(\u001b[0m\u001b[0mkeyarr\u001b[0m\u001b[0;34m)\u001b[0m\u001b[0;34m\u001b[0m\u001b[0;34m\u001b[0m\u001b[0m\n\u001b[1;32m   6069\u001b[0m \u001b[0;34m\u001b[0m\u001b[0m\n\u001b[0;32m-> 6070\u001b[0;31m         \u001b[0mself\u001b[0m\u001b[0;34m.\u001b[0m\u001b[0m_raise_if_missing\u001b[0m\u001b[0;34m(\u001b[0m\u001b[0mkeyarr\u001b[0m\u001b[0;34m,\u001b[0m \u001b[0mindexer\u001b[0m\u001b[0;34m,\u001b[0m \u001b[0maxis_name\u001b[0m\u001b[0;34m)\u001b[0m\u001b[0;34m\u001b[0m\u001b[0;34m\u001b[0m\u001b[0m\n\u001b[0m\u001b[1;32m   6071\u001b[0m \u001b[0;34m\u001b[0m\u001b[0m\n\u001b[1;32m   6072\u001b[0m         \u001b[0mkeyarr\u001b[0m \u001b[0;34m=\u001b[0m \u001b[0mself\u001b[0m\u001b[0;34m.\u001b[0m\u001b[0mtake\u001b[0m\u001b[0;34m(\u001b[0m\u001b[0mindexer\u001b[0m\u001b[0;34m)\u001b[0m\u001b[0;34m\u001b[0m\u001b[0;34m\u001b[0m\u001b[0m\n",
            "\u001b[0;32m/usr/local/lib/python3.10/dist-packages/pandas/core/indexes/base.py\u001b[0m in \u001b[0;36m_raise_if_missing\u001b[0;34m(self, key, indexer, axis_name)\u001b[0m\n\u001b[1;32m   6128\u001b[0m                 \u001b[0;32mif\u001b[0m \u001b[0muse_interval_msg\u001b[0m\u001b[0;34m:\u001b[0m\u001b[0;34m\u001b[0m\u001b[0;34m\u001b[0m\u001b[0m\n\u001b[1;32m   6129\u001b[0m                     \u001b[0mkey\u001b[0m \u001b[0;34m=\u001b[0m \u001b[0mlist\u001b[0m\u001b[0;34m(\u001b[0m\u001b[0mkey\u001b[0m\u001b[0;34m)\u001b[0m\u001b[0;34m\u001b[0m\u001b[0;34m\u001b[0m\u001b[0m\n\u001b[0;32m-> 6130\u001b[0;31m                 \u001b[0;32mraise\u001b[0m \u001b[0mKeyError\u001b[0m\u001b[0;34m(\u001b[0m\u001b[0;34mf\"None of [{key}] are in the [{axis_name}]\"\u001b[0m\u001b[0;34m)\u001b[0m\u001b[0;34m\u001b[0m\u001b[0;34m\u001b[0m\u001b[0m\n\u001b[0m\u001b[1;32m   6131\u001b[0m \u001b[0;34m\u001b[0m\u001b[0m\n\u001b[1;32m   6132\u001b[0m             \u001b[0mnot_found\u001b[0m \u001b[0;34m=\u001b[0m \u001b[0mlist\u001b[0m\u001b[0;34m(\u001b[0m\u001b[0mensure_index\u001b[0m\u001b[0;34m(\u001b[0m\u001b[0mkey\u001b[0m\u001b[0;34m)\u001b[0m\u001b[0;34m[\u001b[0m\u001b[0mmissing_mask\u001b[0m\u001b[0;34m.\u001b[0m\u001b[0mnonzero\u001b[0m\u001b[0;34m(\u001b[0m\u001b[0;34m)\u001b[0m\u001b[0;34m[\u001b[0m\u001b[0;36m0\u001b[0m\u001b[0;34m]\u001b[0m\u001b[0;34m]\u001b[0m\u001b[0;34m.\u001b[0m\u001b[0munique\u001b[0m\u001b[0;34m(\u001b[0m\u001b[0;34m)\u001b[0m\u001b[0;34m)\u001b[0m\u001b[0;34m\u001b[0m\u001b[0;34m\u001b[0m\u001b[0m\n",
            "\u001b[0;31mKeyError\u001b[0m: \"None of [Int64Index([5531, 7224, 4448, 2914, 8483, 3699, 2527, 8324, 8304, 6860], dtype='int64')] are in the [index]\""
          ]
        }
      ]
    },
    {
      "cell_type": "markdown",
      "source": [
        "TODO: to add conclusions"
      ],
      "metadata": {
        "id": "ZhHR0rPOKSoW"
      }
    },
    {
      "cell_type": "markdown",
      "source": [
        "### Item-item Similarity-Based CF Model"
      ],
      "metadata": {
        "id": "sQlfGaUoBDt8"
      }
    },
    {
      "cell_type": "markdown",
      "source": [
        "* In the item-item approach, similarities between items are calculated based on the users' interactions with those items, in this case, the songs they have listened to.\n",
        "* To recommend music to a user, we first identify items (songs) that are similar to the items the user has interacted with based on the users' past interactions.\n",
        "* Then, we will recommend similar items (songs) to the ones the user has interacted with, leveraging the similarity between items rather than between users. This approach is effective when users' tastes are diverse and item similarities are meaningful."
      ],
      "metadata": {
        "id": "XRH_PiAxqw_Q"
      }
    },
    {
      "cell_type": "markdown",
      "source": [
        "Also here, we will use grid search cross-validation from the Surprise package, and then use the parameters obtained and tune the model, in order to improve the model's performance.\n",
        "\n",
        "(user_based is False because it is a user-user model)"
      ],
      "metadata": {
        "id": "WVPSY7fDriKT"
      }
    },
    {
      "cell_type": "markdown",
      "source": [
        "TODO remove the RandomizedSearchCV"
      ],
      "metadata": {
        "id": "aeXkEIOR0gSG"
      }
    },
    {
      "cell_type": "code",
      "source": [
        "param_grid = {'k': [10, 20, 30, 40, 50, 60],\n",
        "              'min_k': [9, 12, 15, 18, 21],\n",
        "              'sim_options': {'name': ['msd', 'cosine', 'pearson', 'pearson_baseline'],\n",
        "                              'user_based': [False]}\n",
        "              }\n",
        "\n",
        "# Performing 3-fold cross-validation to tune the hyperparameters\n",
        "#gs_item_item = RandomizedSearchCV(KNNBasic, param_grid, measures = ['rmse'], cv = 3, n_jobs = -1)\n",
        "gs_item_item = GridSearchCV(KNNBasic, param_grid, measures = ['rmse'], cv = 3, n_jobs = -1)\n",
        "\n",
        "# Fitting the data\n",
        "gs_item_item.fit(data)\n",
        "# Display the best parameters\n",
        "display_best_params(gs_item_item)"
      ],
      "metadata": {
        "id": "toaLhYCIz-pS"
      },
      "execution_count": null,
      "outputs": []
    },
    {
      "cell_type": "markdown",
      "metadata": {
        "id": "xVe5Lp6enukL"
      },
      "source": [
        "- The `Randomized GridSearch Cross Validation` algorithm has outputed the following **optimal values** for the hyperparameters:\n",
        "  - `k`: **30**,\n",
        "  - `min_k`: **9**, and\n",
        "  - `sim_options`: **{'name': 'pearson_baseline', 'user_based': False}**."
      ]
    },
    {
      "cell_type": "code",
      "execution_count": null,
      "metadata": {
        "id": "dSeiM1qeTsnt"
      },
      "outputs": [],
      "source": [
        "# Train the best model found in the above grid search\n",
        "# Using the optimal similarity measure for item-item based collaborative filtering\n",
        "sim_options = {'name': 'pearson_baseline',\n",
        "               'k': 30,\n",
        "               'min_k': 9,\n",
        "               'user_based': False}\n",
        "\n",
        "# Creating an instance of KNNBasic with optimal hyperparameter values\n",
        "sim_item_item_optimized = KNNBasic(sim_options=sim_options, random_state=1, verbose=False)\n",
        "\n",
        "# Training the algorithm on the train set\n",
        "sim_item_item_optimized.fit(trainset)"
      ]
    },
    {
      "cell_type": "code",
      "source": [
        "# Evaluate the model on the test set\n",
        "precision_recall_at_k(testset, sim_item_item_optimized)"
      ],
      "metadata": {
        "id": "v-pTiM1T05UV"
      },
      "execution_count": null,
      "outputs": []
    },
    {
      "cell_type": "markdown",
      "source": [
        "We will use the random_user_id, random_user_song_id and rating_user we found before, and so we can see the differences between the models:"
      ],
      "metadata": {
        "id": "yD-fWseW0-0Y"
      }
    },
    {
      "cell_type": "code",
      "source": [],
      "metadata": {
        "id": "YmsbHZvA3Erx"
      },
      "execution_count": null,
      "outputs": []
    },
    {
      "cell_type": "markdown",
      "source": [
        "## Model-Based Collaborative Filtering - Matrix Factorization"
      ],
      "metadata": {
        "id": "hH_v8DqpB5r9"
      }
    },
    {
      "cell_type": "code",
      "execution_count": null,
      "metadata": {
        "id": "07-2PT5Ssjqm"
      },
      "outputs": [],
      "source": [
        "# Build baseline model using svd\n",
        "# Using SVD matrix factorization\n",
        "svd = SVD(random_state=1)\n",
        "\n",
        "# Training the algorithm on the train set\n",
        "svd.fit(trainset)\n",
        "\n",
        "# Compute and display the metrics\n",
        "precision_recall_at_k(svd, 10, 1)\n",
        "precision_recall_at_k(svd, 20, 1)\n",
        "precision_recall_at_k(svd, 30, 1)\n",
        "precision_recall_at_k(svd, 40, 1)"
      ]
    },
    {
      "cell_type": "markdown",
      "metadata": {
        "id": "aSgBRcL1xnVC"
      },
      "source": [
        "**Tune the baseline SVD model, and try improving its performance**\n",
        "\n",
        "- We will perform a randomized grid search cross validation, in order to find the best values for the hyperparamenters.\n",
        "- We will then use the parameters obtained, and tune the model, in an effort to improve the model's performance.\n"
      ]
    },
    {
      "cell_type": "code",
      "execution_count": null,
      "metadata": {
        "id": "L5ZroBAb3t0D"
      },
      "outputs": [],
      "source": [
        "# Set the parameter space to tune\n",
        "param_grid = {'n_epochs': [10, 20, 30, 40, 50, 60],\n",
        "              'lr_all': [0.001, 0.005, 0.01],\n",
        "              'reg_all': [0.2, 0.4, 0.6, 0.8]}\n",
        "\n",
        "# Perform a 3-fold grid search cross-validation\n",
        "gs_svd = RandomizedSearchCV(SVD, param_grid, measures = ['rmse'], cv = 3, n_jobs = -1)\n",
        "\n",
        "# Fitting data\n",
        "gs_svd.fit(data)\n",
        "\n",
        "display_best_params(gs_svd)"
      ]
    },
    {
      "cell_type": "markdown",
      "metadata": {
        "id": "gJ3CoEpcnnoZ"
      },
      "source": [
        "\n",
        "- The `Randomized GridSearch Cross Validation` algorithm has outputed the following **optimal values** for the hyperparameters:\n",
        "  - `n_epochs`: **60**,\n",
        "  - `lr_all`: **0.01**, and\n",
        "  - `reg_all`: **0.2**."
      ]
    },
    {
      "cell_type": "code",
      "execution_count": null,
      "metadata": {
        "id": "TA_7xe-nnhuu"
      },
      "outputs": [],
      "source": [
        "# Building the optimized SVD model using optimal hyperparameters\n",
        "\n",
        "svd_optimized = SVD(n_epochs=60, lr_all=0.001, reg_all=0.2, random_state=1)\n",
        "\n",
        "# Train the algorithm on the train set\n",
        "\n",
        "svd_optimized = svd_optimized.fit(trainset)\n",
        "# Compute and display the metrics\n",
        "precision_recall_at_k(svd_optimized, 10, 1)\n",
        "precision_recall_at_k(svd_optimized, 20, 1)\n",
        "precision_recall_at_k(svd_optimized, 30, 1)\n",
        "precision_recall_at_k(svd_optimized, 40, 1)"
      ]
    },
    {
      "cell_type": "markdown",
      "source": [
        "# Cluster-based"
      ],
      "metadata": {
        "id": "ABABIeyTn0F5"
      }
    },
    {
      "cell_type": "markdown",
      "source": [
        "### Build a baseline Cluster-Based model"
      ],
      "metadata": {
        "id": "fe-VMWmeCnOp"
      }
    },
    {
      "cell_type": "code",
      "execution_count": null,
      "metadata": {
        "id": "0c4b20e4"
      },
      "outputs": [],
      "source": [
        "# Make baseline clustering model\n",
        "coCluster = CoClustering(random_state=1)\n",
        "# Training the algorithm on the train set\n",
        "coCluster.fit(trainset)\n",
        "\n",
        "# # Compute and display the metrics\n",
        "precision_recall_at_k(coCluster, 10, 1)\n",
        "precision_recall_at_k(coCluster, 20, 1)\n",
        "precision_recall_at_k(coCluster, 30, 1)\n",
        "precision_recall_at_k(coCluster, 40, 1)"
      ]
    },
    {
      "cell_type": "markdown",
      "metadata": {
        "id": "c2fd66f5"
      },
      "source": [
        "#### **Tune the baseline Cluster-Based model, and try improving its performance**\n",
        "\n",
        "- We will perform a randomized grid search cross validation, in order to find the best values for the hyperparamenters.\n",
        "- We will then use the parameters obtained, and tune the model, in an effort to improve the model's performance.\n"
      ]
    },
    {
      "cell_type": "code",
      "execution_count": null,
      "metadata": {
        "id": "efe7d8e6"
      },
      "outputs": [],
      "source": [
        "# Set the parameter space to tune\n",
        "param_grid = {'n_cltr_u': [4, 5, 6, 7, 8, 9],\n",
        "              'n_cltr_i': [4, 5, 6, 7, 8, 9],\n",
        "              'n_epochs': [10, 20, 30, 40, 50]}\n",
        "# Perform a 3-fold grid search cross-validation\n",
        "gs_cocluster = RandomizedSearchCV(CoClustering, param_grid, measures = ['rmse'], cv = 3, n_jobs = -1)\n",
        "# Fitting the data\n",
        "gs_cocluster.fit(data)\n",
        "display_best_params(gs_cocluster)\n",
        "# Find the best RMSE score\n",
        "#print(round(gs.best_score['rmse'], 3))\n",
        "# Extract the combination of parameters that gave the best RMSE score\n",
        "#print(gs.best_params['rmse'])"
      ]
    },
    {
      "cell_type": "markdown",
      "metadata": {
        "id": "eywpCFPfwSFT"
      },
      "source": [
        "- The `Grid Search Cross Validation` algorithm has outputed the following **optimal values** for the hyperparameters:\n",
        "  - `n_cltr_u`: **4**,\n",
        "  - `n_cltr_i`: **5**, and  \n",
        "  - `n_epochs`: **10**.\n"
      ]
    },
    {
      "cell_type": "code",
      "execution_count": null,
      "metadata": {
        "id": "5a7a8a30"
      },
      "outputs": [],
      "source": [
        "# Train the tuned Coclustering algorithm\n",
        "coCluster_optimized = CoClustering(n_cltr_u=4, n_cltr_i=5, n_epochs=10, random_state=1)\n",
        "coCluster_optimized.fit(trainset)\n",
        "# Use the function precision_recall_at_k to compute precision@k, recall@k, F1-Score, and RMSE\n",
        "precision_recall_at_k(coCluster_optimized, 10, 1)\n",
        "precision_recall_at_k(coCluster_optimized, 20, 1)\n",
        "precision_recall_at_k(coCluster_optimized, 30, 1)\n",
        "precision_recall_at_k(coCluster_optimized, 40, 1)"
      ]
    },
    {
      "cell_type": "markdown",
      "source": [
        "# Content-based"
      ],
      "metadata": {
        "id": "VrodWBIBn197"
      }
    },
    {
      "cell_type": "markdown",
      "metadata": {
        "id": "9aTEqaOjhoEg"
      },
      "source": [
        "**Think About It:** So far we have only used the play_count of songs to find recommendations but we have other information/features on songs as well. Can we take those song features into account?"
      ]
    },
    {
      "cell_type": "code",
      "execution_count": null,
      "metadata": {
        "id": "RhUx2jgp4frC"
      },
      "outputs": [],
      "source": [
        "# Make a copy of the df_final, on which we will perform further analysis and transformations.\n",
        "df_content = df_final"
      ]
    },
    {
      "cell_type": "code",
      "execution_count": null,
      "metadata": {
        "id": "UX826CsjR-F3"
      },
      "outputs": [],
      "source": [
        "# Concatenate the title, release and artist_name columns to create a new column, text.\n",
        "df_content['text'] = df_content[['title', 'release', 'artist_name']].agg(' '.join, axis=1)\n"
      ]
    },
    {
      "cell_type": "code",
      "execution_count": null,
      "metadata": {
        "id": "WdXw4U-wR-F4"
      },
      "outputs": [],
      "source": [
        "# Select the columns 'user_id', 'song_id', 'play_count', 'title', 'text' from df_small data\n",
        "df_content = df_content[['user_id', 'song_id', 'listen_count', 'title', 'text']].reset_index(drop=True)\n",
        "# Drop the duplicates from the title column\n",
        "df_content = df_content.drop_duplicates('title')\n",
        "# Set the title column as the index\n",
        "df_content = df_content.set_index('title')\n",
        "df_content.head()\n"
      ]
    },
    {
      "cell_type": "code",
      "execution_count": null,
      "metadata": {
        "id": "9UINF3Nwvwfr"
      },
      "outputs": [],
      "source": [
        "# Importing the necessary libraries for working with text data\n",
        "import nltk\n",
        "\n",
        "# Download punkt library\n",
        "nltk.download('punkt')\n",
        "\n",
        "# Download stopwords library\n",
        "nltk.download('stopwords')\n",
        "\n",
        "# Download wordnet\n",
        "nltk.download('wordnet')\n",
        "\n",
        "# Import regular expression\n",
        "import re\n",
        "\n",
        "# Import word_tokenizer\n",
        "from nltk import word_tokenize\n",
        "\n",
        "# Import WordNetLemmatizer\n",
        "from nltk.stem import WordNetLemmatizer\n",
        "\n",
        "# Import stopwords\n",
        "from nltk.corpus import stopwords\n",
        "\n",
        "# Import CountVectorizer and TfidfVectorizer\n",
        "from sklearn.feature_extraction.text import CountVectorizer, TfidfVectorizer\n"
      ]
    },
    {
      "cell_type": "code",
      "execution_count": null,
      "metadata": {
        "id": "j5QSSeUvR-F6"
      },
      "outputs": [],
      "source": [
        "# Function for tokenizing the text\n",
        "def tokenize(text):\n",
        "    '''\n",
        "    A function that tokenizes a given text.\n",
        "    A token is a word that is not a stop word.\n",
        "    Params:\n",
        "        text: text to be tokenized\n",
        "    Returns:\n",
        "        A list of the tokens obtained from the text.\n",
        "    '''\n",
        "    # Making each letter as lowercase and removing non-alphabetical text\n",
        "    text = re.sub(r\"[^a-zA-Z]\",\" \", text.lower())\n",
        "\n",
        "    # Extracting each word in the text\n",
        "    tokens = word_tokenize(text)\n",
        "\n",
        "    # Removing stopwords\n",
        "    words = [word for word in tokens if word not in stopwords.words(\"english\")]\n",
        "\n",
        "    # Lemmatize the words\n",
        "    text_lems = [WordNetLemmatizer().lemmatize(lem).strip() for lem in words]\n",
        "\n",
        "    return text_lems"
      ]
    },
    {
      "cell_type": "code",
      "execution_count": null,
      "metadata": {
        "id": "RI_onIGdR-F6"
      },
      "outputs": [],
      "source": [
        "# Create the tfidf vectorizer\n",
        "tfidf = TfidfVectorizer(tokenizer=tokenize)\n",
        "\n",
        "# Fit_transfrom the vectorizer on the text column, convert the output into an array\n",
        "song_tfidf = tfidf.fit_transform(df_content['text'].values).toarray()"
      ]
    },
    {
      "cell_type": "code",
      "execution_count": null,
      "metadata": {
        "id": "fcKrk9-EgHwc"
      },
      "outputs": [],
      "source": [
        "pd.DataFrame(song_tfidf).head()"
      ]
    },
    {
      "cell_type": "code",
      "execution_count": null,
      "metadata": {
        "id": "Beak6ODRR-F7"
      },
      "outputs": [],
      "source": [
        "# Compute the cosine similarity for the tfidf\n",
        "similar_songs = cosine_similarity(song_tfidf, song_tfidf)\n",
        "\n",
        "# Display the similar_songs array\n",
        "similar_songs"
      ]
    },
    {
      "cell_type": "markdown",
      "metadata": {
        "id": "3Jjo3UHKhoEh"
      },
      "source": [
        "#### **Making recommendations based on the title of a song**"
      ]
    },
    {
      "cell_type": "code",
      "execution_count": null,
      "metadata": {
        "id": "upANOISkR-F8"
      },
      "outputs": [],
      "source": [
        "# Function that makes n recommendations to a given title of a song.\n",
        "def recommendations(df, title, similarity_matrix, n=10):\n",
        "    '''\n",
        "    A function that returns a list of songs (titles) similar to a given one.\n",
        "    Params:\n",
        "        df: dataframe with the data\n",
        "        title: the title of the song for which we are computing similar songs\n",
        "        similarity_matrix: the cosine similarity matrix for all song-song\n",
        "        n: the upper limit number of similar songs\n",
        "    Returns:\n",
        "        A list of songs ids, when the title exists in the database.\n",
        "        A message, otherwise.\n",
        "    '''\n",
        "    recommended_songs = []\n",
        "\n",
        "    # Get the index of the song that matches the title\n",
        "    df_idx = pd.Series(df.index)\n",
        "    if title not in df.index:\n",
        "        return print(clr.S+'We appologize, we cannot find {} in our database, and we are unable to make recommendations!'.format(title)+clr.E)\n",
        "    idx = df_idx[df_idx == title].index[0]\n",
        "\n",
        "    # Create a Series with the similarity scores in descending order\n",
        "    sim_scores = pd.Series(similarity_matrix[idx]).sort_values(ascending = False)\n",
        "\n",
        "    # Filter the scores that are equal to 0.0.\n",
        "    # We do not want to recommend a song that has a simmilarity score of 0.0.\n",
        "    # An improvement would be to set a threshold of what constitues a recommendable song.\n",
        "    sim_scores = sim_scores[sim_scores !=0]\n",
        "    # Getting the indexes of the 10 most similar songs\n",
        "    top_n_index = list(sim_scores.iloc[1:n+1].index)\n",
        "\n",
        "    # Populating the list of recommendations with the titles of the best 10 matching songs\n",
        "    for i in top_n_index:\n",
        "        recommended_songs.append(list(df.index)[i])\n",
        "\n",
        "    return recommended_songs"
      ]
    },
    {
      "cell_type": "markdown",
      "source": [
        "# Evaluation metrics"
      ],
      "metadata": {
        "id": "5lX4C4NzlmOK"
      }
    },
    {
      "cell_type": "markdown",
      "source": [
        "https://github.com/rctruta/music_recommendation_system/blob/main/music_recommendation_system_final_submission.ipynb"
      ],
      "metadata": {
        "id": "n7f1w3rwlmDP"
      }
    },
    {
      "cell_type": "code",
      "source": [],
      "metadata": {
        "id": "NKNgKxvOlUrq"
      },
      "execution_count": null,
      "outputs": []
    },
    {
      "cell_type": "markdown",
      "source": [
        "# Showing predictions"
      ],
      "metadata": {
        "id": "taheIRbMoCLN"
      }
    },
    {
      "cell_type": "markdown",
      "source": [
        "# Comparing the models"
      ],
      "metadata": {
        "id": "HJLFpdHpoRGe"
      }
    },
    {
      "cell_type": "markdown",
      "source": [
        "# Final thoughts"
      ],
      "metadata": {
        "id": "rzu6n94-onDL"
      }
    }
  ]
}